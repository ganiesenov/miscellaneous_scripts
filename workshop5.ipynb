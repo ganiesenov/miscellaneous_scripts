{
 "cells": [
  {
   "cell_type": "code",
   "execution_count": 1,
   "id": "fc83251f",
   "metadata": {},
   "outputs": [
    {
     "name": "stdout",
     "output_type": "stream",
     "text": [
      "     country  implied_ppp  actual_rate\n",
      "1  Argentina         0.98         1.00\n",
      "2  Australia         1.18         1.98\n",
      "3     Brazil         1.42         2.19\n",
      "4    Britain         1.28         1.43\n",
      "5     Canada         1.31         1.56\n"
     ]
    }
   ],
   "source": [
    "import pandas as pd\n",
    "import numpy as np\n",
    "import matplotlib.pyplot as plt\n",
    "from scipy import stats\n",
    "\n",
    "data = {\n",
    "    'country': ['United States', 'Argentina', 'Australia', 'Brazil', 'Britain', 'Canada', 'Chile', \n",
    "                'China', 'Czech Rep', 'Denmark', 'Euro area', 'France', 'Germany', 'Italy', 'Spain', \n",
    "                'Hong Kong', 'Hungary', 'Indonesia', 'Japan', 'Malaysia', 'Mexico', 'New Zealand', \n",
    "                'Philippines', 'Poland', 'Russia', 'Singapore', 'South Africa', 'South Korea', \n",
    "                'Sweden', 'Switzerland', 'Taiwan', 'Thailand'],\n",
    "    'implied_ppp': [1, 0.98, 1.18, 1.42, 1.28, 1.31, 496, 3.90, 22.0, 9.74, 0.99, 7.28, 2.01, \n",
    "                   1693, 156, 4.21, 157, 5787, 116, 1.78, 8.62, 1.42, 23.2, 2.32, 13.8, 1.30, \n",
    "                   3.82, 1181, 9.45, 2.48, 27.6, 21.7],\n",
    "    'actual_rate': [1, 1.00, 1.98, 2.19, 1.43, 1.56, 601, 8.28, 39.0, 8.46, 0.88, 7.44, 2.22, \n",
    "                    2193, 189, 7.80, 303, 10855, 124, 3.80, 9.29, 2.47, 50.3, 4.03, 28.9, 1.81, \n",
    "                    8.13, 1325, 10.28, 1.73, 32.9, 45.5]\n",
    "}\n",
    "\n",
    "df = pd.DataFrame(data)\n",
    "\n",
    "\n",
    "df = df[df['country'] != 'United States']\n",
    "\n",
    "\n",
    "print(df.head())\n"
   ]
  },
  {
   "cell_type": "code",
   "execution_count": 2,
   "id": "64d572dc",
   "metadata": {},
   "outputs": [
    {
     "name": "stdout",
     "output_type": "stream",
     "text": [
      "Коэффициент β₁ (intercept): -59.33156236991482\n",
      "Коэффициент β₂ (slope): 1.8146556876190325\n",
      "Коэффициент детерминации (R²): 0.9865994436288275\n",
      "p-значение: 1.0304297651270698e-28\n",
      "Стандартная ошибка: 0.03927228919586127\n"
     ]
    }
   ],
   "source": [
    "\n",
    "\n",
    "\n",
    "# Регрессионный анализ\n",
    "slope, intercept, r_value, p_value, std_err = stats.linregress(df['implied_ppp'], df['actual_rate'])\n",
    "\n",
    "print(f\"Коэффициент β₁ (intercept): {intercept}\")\n",
    "print(f\"Коэффициент β₂ (slope): {slope}\")\n",
    "print(f\"Коэффициент детерминации (R²): {r_value**2}\")\n",
    "print(f\"p-значение: {p_value}\")\n",
    "print(f\"Стандартная ошибка: {std_err}\")\n",
    "\n"
   ]
  },
  {
   "cell_type": "code",
   "execution_count": 3,
   "id": "0ca766d8",
   "metadata": {},
   "outputs": [
    {
     "name": "stdout",
     "output_type": "stream",
     "text": [
      "Тест H₀: β₁ = 0, p-значение: 0.0\n",
      "Коэффициенты из OLS: β₁ = -59.33156236991474, β₂ = 1.8146556876190325\n"
     ]
    }
   ],
   "source": [
    "\n",
    "# Тест на β₁ = 0\n",
    "t_stat_intercept = intercept / std_err\n",
    "p_value_intercept = 2 * (1 - stats.t.cdf(abs(t_stat_intercept), df=len(df)-2))\n",
    "print(f\"Тест H₀: β₁ = 0, p-значение: {p_value_intercept}\")\n",
    "\n",
    "\n",
    "\n",
    "X = df['implied_ppp'].values.reshape(-1, 1)\n",
    "X_with_const = np.hstack((np.ones((X.shape[0], 1)), X)) \n",
    "y = df['actual_rate'].values\n",
    "\n",
    "# Оценка коэффициентов с помощью OLS\n",
    "beta = np.linalg.inv(X_with_const.T @ X_with_const) @ X_with_const.T @ y\n",
    "print(f\"Коэффициенты из OLS: β₁ = {beta[0]}, β₂ = {beta[1]}\")\n"
   ]
  },
  {
   "cell_type": "code",
   "execution_count": 4,
   "id": "f35aedca",
   "metadata": {},
   "outputs": [
    {
     "name": "stdout",
     "output_type": "stream",
     "text": [
      "Тест H₀: β₂ = 1, p-значение: 0.0\n"
     ]
    }
   ],
   "source": [
    "\n",
    "# Остатки\n",
    "residuals = y - X_with_const @ beta\n",
    "\n",
    "# Оценка дисперсии ошибок\n",
    "sigma_squared = np.sum(residuals**2) / (len(df) - 2)\n",
    "\n",
    "# Ковариационная матрица оценок\n",
    "cov_matrix = sigma_squared * np.linalg.inv(X_with_const.T @ X_with_const)\n",
    "\n",
    "# Стандартная ошибка для β₂\n",
    "se_beta2 = np.sqrt(cov_matrix[1, 1])\n",
    "\n",
    "# Тест на β₂ = 1\n",
    "t_stat_slope = (beta[1] - 1) / se_beta2\n",
    "p_value_slope = 2 * (1 - stats.t.cdf(abs(t_stat_slope), df=len(df)-2))\n",
    "print(f\"Тест H₀: β₂ = 1, p-значение: {p_value_slope}\")\n",
    "\n"
   ]
  },
  {
   "cell_type": "code",
   "execution_count": 5,
   "id": "eb0923f8",
   "metadata": {},
   "outputs": [
    {
     "name": "stdout",
     "output_type": "stream",
     "text": [
      "\n",
      "Результаты регрессии без экстремальных выбросов:\n",
      "Коэффициент β₁ (intercept): -0.8272998137908907\n",
      "Коэффициент β₂ (slope): 1.7333287043614787\n",
      "Коэффициент детерминации (R²): 0.891053248539342\n",
      "p-значение: 4.550017931361173e-12\n",
      "Тест H₀: β₁ = 0 (фильтрованные данные), p-значение: 0.561847689183024\n",
      "Тест H₀: β₂ = 1 (фильтрованные данные), p-значение: 1.0453512553132427e-05\n"
     ]
    }
   ],
   "source": [
    "\n",
    "df_filtered = df[(df['implied_ppp'] < 100) & (df['actual_rate'] < 100)]\n",
    "\n",
    "# Повторим регрессионный анализ для фильтрованных данных\n",
    "slope_filtered, intercept_filtered, r_value_filtered, p_value_filtered, std_err_filtered = stats.linregress(\n",
    "    df_filtered['implied_ppp'], df_filtered['actual_rate'])\n",
    "\n",
    "print(\"\\nРезультаты регрессии без экстремальных выбросов:\")\n",
    "print(f\"Коэффициент β₁ (intercept): {intercept_filtered}\")\n",
    "print(f\"Коэффициент β₂ (slope): {slope_filtered}\")\n",
    "print(f\"Коэффициент детерминации (R²): {r_value_filtered**2}\")\n",
    "print(f\"p-значение: {p_value_filtered}\")\n",
    "\n",
    "# Тест на β₁ = 0 и β₂ = 1 для фильтрованных данных\n",
    "X_filtered = df_filtered['implied_ppp'].values.reshape(-1, 1)\n",
    "X_filtered_with_const = np.hstack((np.ones((X_filtered.shape[0], 1)), X_filtered))\n",
    "y_filtered = df_filtered['actual_rate'].values\n",
    "\n",
    "# Оценка коэффициентов с помощью OLS для фильтрованных данных\n",
    "beta_filtered = np.linalg.inv(X_filtered_with_const.T @ X_filtered_with_const) @ X_filtered_with_const.T @ y_filtered\n",
    "residuals_filtered = y_filtered - X_filtered_with_const @ beta_filtered\n",
    "sigma_squared_filtered = np.sum(residuals_filtered**2) / (len(df_filtered) - 2)\n",
    "cov_matrix_filtered = sigma_squared_filtered * np.linalg.inv(X_filtered_with_const.T @ X_filtered_with_const)\n",
    "se_beta1_filtered = np.sqrt(cov_matrix_filtered[0, 0])\n",
    "se_beta2_filtered = np.sqrt(cov_matrix_filtered[1, 1])\n",
    "\n",
    "# Тест на β₁ = 0\n",
    "t_stat_intercept_filtered = beta_filtered[0] / se_beta1_filtered\n",
    "p_value_intercept_filtered = 2 * (1 - stats.t.cdf(abs(t_stat_intercept_filtered), df=len(df_filtered)-2))\n",
    "print(f\"Тест H₀: β₁ = 0 (фильтрованные данные), p-значение: {p_value_intercept_filtered}\")\n",
    "\n",
    "# Тест на β₂ = 1\n",
    "t_stat_slope_filtered = (beta_filtered[1] - 1) / se_beta2_filtered\n",
    "p_value_slope_filtered = 2 * (1 - stats.t.cdf(abs(t_stat_slope_filtered), df=len(df_filtered)-2))\n",
    "print(f\"Тест H₀: β₂ = 1 (фильтрованные данные), p-значение: {p_value_slope_filtered}\")\n"
   ]
  },
  {
   "cell_type": "code",
   "execution_count": 6,
   "id": "0459d810",
   "metadata": {},
   "outputs": [
    {
     "name": "stdout",
     "output_type": "stream",
     "text": [
      "F-статистика для совместной гипотезы β₁ = 0 и β₂ = 1 (фильтрованные данные): 25.261690870152414\n",
      "p-значение для F-теста (фильтрованные данные): 2.0016630538632896e-06\n"
     ]
    }
   ],
   "source": [
    "\n",
    "# Совместный тест (F-тест) для фильтрованных данных\n",
    "# Оценка с ограничениями (β₁ = 0, β₂ = 1)\n",
    "y_restricted_filtered = df_filtered['actual_rate'] - df_filtered['implied_ppp']\n",
    "SSR_restricted_filtered = np.sum(y_restricted_filtered**2)\n",
    "SSR_unrestricted_filtered = np.sum(residuals_filtered**2)\n",
    "q = 2  # Число ограничений\n",
    "k = 2  # Число параметров\n",
    "n_filtered = len(df_filtered)\n",
    "\n",
    "F_stat_filtered = ((SSR_restricted_filtered - SSR_unrestricted_filtered) / q) / (SSR_unrestricted_filtered / (n_filtered - k))\n",
    "p_value_F_filtered = 1 - stats.f.cdf(F_stat_filtered, q, n_filtered-k)\n",
    "\n",
    "print(f\"F-статистика для совместной гипотезы β₁ = 0 и β₂ = 1 (фильтрованные данные): {F_stat_filtered}\")\n",
    "print(f\"p-значение для F-теста (фильтрованные данные): {p_value_F_filtered}\")"
   ]
  }
 ],
 "metadata": {
  "kernelspec": {
   "display_name": "conda-python",
   "language": "python",
   "name": "python3"
  },
  "language_info": {
   "codemirror_mode": {
    "name": "ipython",
    "version": 3
   },
   "file_extension": ".py",
   "mimetype": "text/x-python",
   "name": "python",
   "nbconvert_exporter": "python",
   "pygments_lexer": "ipython3",
   "version": "3.11.8"
  }
 },
 "nbformat": 4,
 "nbformat_minor": 5
}
