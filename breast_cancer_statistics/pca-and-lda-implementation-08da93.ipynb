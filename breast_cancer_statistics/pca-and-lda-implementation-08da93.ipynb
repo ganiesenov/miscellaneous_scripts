{
 "cells": [
  {
   "cell_type": "markdown",
   "metadata": {},
   "source": [
    "<center>\n",
    "<div style=\"color:;\n",
    "           display:fill;\n",
    "           border-radius:5px;\n",
    "           background-color: ;\n",
    "           font-size:120%;\n",
    "           letter-spacing:0.5px\">\n",
    "\n",
    "<h1 style=\"padding: 10px;\n",
    "              color:black;\">PCA and LDA Implementation\n",
    "    \n",
    "</h1>\n",
    "</div>\n",
    "    \n",
    "</center>\n",
    "\n",
    "<center>\n",
    "<div style=\"color:;\n",
    "           display:fill;\n",
    "           border-radius:5px;\n",
    "           background-color: ;\n",
    "           font-size:100%;\n",
    "           letter-spacing:0.5px\">\n",
    "​\n",
    "<h3 style=\"padding: 10px;\n",
    "              color:black;\"> Breast Cancer Wisconsin (Diagnostic) Data Set\n",
    " \n",
    "    \n",
    "</h3>\n",
    "</div>\n",
    "    \n"
   ]
  },
  {
   "cell_type": "markdown",
   "metadata": {},
   "source": [
    "Breast cancer is the most common cancer in women, accounting for **1 in 4 cancers** diagnosed in the U.S. and causing over 40,000 deaths each year. It is also the second leading cause of cancer death in women, after lung cancer. Early detection of breast cancer is key and can help improve the chances of survival. Women should be sure to get regular mammograms and self-exams to detect any changes in their breasts.\n",
    "\n",
    "In 2020, an estimated **276,480 new cases of invasive breast cancer** were diagnosed in women in the United States along with 48,530 new cases of non-invasive (in situ) breast cancer. It is estimated that about 42,170 women will die from this disease in 2020. Additionally, breast cancer accounts for **15% of all cancer deaths** in women. Although it is most common in women, men can also get breast cancer. In 2020, an estimated 2,620 new cases of invasive breast cancer were **diagnosed in men** in the United States, along with 500 new cases of non-invasive (in situ) breast cancer. An estimated 520 men died from this disease.\n",
    "\n",
    "## Problem Statement\n",
    "\n",
    "Based on the data we are going to find out if the cancer is **benign** or **malignant**. We'd use a technique called **Dimensionality Reduction** which would help a ton with our model building and getting a high accuracy. \n",
    "\n"
   ]
  },
  {
   "cell_type": "markdown",
   "metadata": {},
   "source": [
    "<center>\n",
    "<div style=\"color:;\n",
    "           display:fill;\n",
    "           border-radius:5px;\n",
    "           background-color: mediumseagreen;\n",
    "           font-size:50%;\n",
    "           letter-spacing:0.5px\">\n",
    "\n",
    "<h2 style=\"padding: 10px;\n",
    "              color:white;\">Importing Libraries\n",
    "    \n",
    "</h2>\n",
    "</div>"
   ]
  },
  {
   "cell_type": "markdown",
   "metadata": {},
   "source": [
    "We would use python libraries such as **Numpy**, **Pandas** and **Plotly** so let's start off by installing and import the required libraries into our code"
   ]
  },
  {
   "cell_type": "code",
   "execution_count": 1,
   "metadata": {
    "execution": {
     "iopub.execute_input": "2024-02-26T09:38:09.174559Z",
     "iopub.status.busy": "2024-02-26T09:38:09.174187Z",
     "iopub.status.idle": "2024-02-26T09:38:12.906389Z",
     "shell.execute_reply": "2024-02-26T09:38:12.905501Z",
     "shell.execute_reply.started": "2024-02-26T09:38:09.174452Z"
    },
    "trusted": true
   },
   "outputs": [],
   "source": [
    "import warnings\n",
    "warnings.filterwarnings(\"ignore\")\n",
    "import numpy as np\n",
    "import pandas as pd \n",
    "import seaborn as sns\n",
    "from scipy import stats\n",
    "import plotly.express as px\n",
    "import matplotlib.pyplot as plt\n",
    "%matplotlib inline\n",
    "plt.rcParams['font.size'] = 12\n",
    "plt.rcParams['figure.figsize'] = (22,5)\n",
    "plt.rcParams['figure.dpi'] = 100"
   ]
  },
  {
   "cell_type": "code",
   "execution_count": 2,
   "metadata": {
    "execution": {
     "iopub.execute_input": "2024-02-26T09:38:12.908273Z",
     "iopub.status.busy": "2024-02-26T09:38:12.907957Z",
     "iopub.status.idle": "2024-02-26T09:38:12.953154Z",
     "shell.execute_reply": "2024-02-26T09:38:12.952295Z",
     "shell.execute_reply.started": "2024-02-26T09:38:12.908244Z"
    },
    "trusted": true
   },
   "outputs": [],
   "source": [
    "from sklearn.datasets import load_breast_cancer\n",
    "from sklearn.preprocessing import MinMaxScaler\n",
    "from sklearn.model_selection import train_test_split, cross_val_score\n",
    "from sklearn.discriminant_analysis import LinearDiscriminantAnalysis\n",
    "\n",
    "#Models\n",
    "from sklearn.neighbors import KNeighborsClassifier\n",
    "from sklearn.svm import SVC\n",
    "from sklearn.ensemble import GradientBoostingClassifier, RandomForestClassifier\n",
    "from sklearn.tree import DecisionTreeClassifier\n",
    "from sklearn.linear_model import LogisticRegression\n",
    "\n",
    "#Model Performance Evaluators\n",
    "from sklearn.metrics import confusion_matrix, classification_report, roc_curve, roc_auc_score"
   ]
  },
  {
   "cell_type": "markdown",
   "metadata": {},
   "source": [
    "<center>\n",
    "<div style=\"color:;\n",
    "           display:fill;\n",
    "           border-radius:5px;\n",
    "           background-color: mediumseagreen;\n",
    "           font-size:50%;\n",
    "           letter-spacing:0.5px\">\n",
    "\n",
    "<h2 style=\"padding: 10px;\n",
    "              color:white;\">Loading the data\n",
    "    \n",
    "</h2>\n",
    "</div>"
   ]
  },
  {
   "cell_type": "code",
   "execution_count": 5,
   "metadata": {
    "execution": {
     "iopub.execute_input": "2024-02-26T09:38:12.954995Z",
     "iopub.status.busy": "2024-02-26T09:38:12.954449Z",
     "iopub.status.idle": "2024-02-26T09:38:13.011548Z",
     "shell.execute_reply": "2024-02-26T09:38:13.010749Z",
     "shell.execute_reply.started": "2024-02-26T09:38:12.954963Z"
    },
    "trusted": true
   },
   "outputs": [
    {
     "data": {
      "text/html": [
       "<div>\n",
       "<style scoped>\n",
       "    .dataframe tbody tr th:only-of-type {\n",
       "        vertical-align: middle;\n",
       "    }\n",
       "\n",
       "    .dataframe tbody tr th {\n",
       "        vertical-align: top;\n",
       "    }\n",
       "\n",
       "    .dataframe thead th {\n",
       "        text-align: right;\n",
       "    }\n",
       "</style>\n",
       "<table border=\"1\" class=\"dataframe\">\n",
       "  <thead>\n",
       "    <tr style=\"text-align: right;\">\n",
       "      <th></th>\n",
       "      <th>mean radius</th>\n",
       "      <th>mean texture</th>\n",
       "      <th>mean perimeter</th>\n",
       "      <th>mean area</th>\n",
       "      <th>mean smoothness</th>\n",
       "      <th>mean compactness</th>\n",
       "      <th>mean concavity</th>\n",
       "      <th>mean concave points</th>\n",
       "      <th>mean symmetry</th>\n",
       "      <th>mean fractal dimension</th>\n",
       "      <th>...</th>\n",
       "      <th>worst texture</th>\n",
       "      <th>worst perimeter</th>\n",
       "      <th>worst area</th>\n",
       "      <th>worst smoothness</th>\n",
       "      <th>worst compactness</th>\n",
       "      <th>worst concavity</th>\n",
       "      <th>worst concave points</th>\n",
       "      <th>worst symmetry</th>\n",
       "      <th>worst fractal dimension</th>\n",
       "      <th>target</th>\n",
       "    </tr>\n",
       "  </thead>\n",
       "  <tbody>\n",
       "    <tr>\n",
       "      <th>0</th>\n",
       "      <td>17.99</td>\n",
       "      <td>10.38</td>\n",
       "      <td>122.80</td>\n",
       "      <td>1001.0</td>\n",
       "      <td>0.11840</td>\n",
       "      <td>0.27760</td>\n",
       "      <td>0.3001</td>\n",
       "      <td>0.14710</td>\n",
       "      <td>0.2419</td>\n",
       "      <td>0.07871</td>\n",
       "      <td>...</td>\n",
       "      <td>17.33</td>\n",
       "      <td>184.60</td>\n",
       "      <td>2019.0</td>\n",
       "      <td>0.1622</td>\n",
       "      <td>0.6656</td>\n",
       "      <td>0.7119</td>\n",
       "      <td>0.2654</td>\n",
       "      <td>0.4601</td>\n",
       "      <td>0.11890</td>\n",
       "      <td>0</td>\n",
       "    </tr>\n",
       "    <tr>\n",
       "      <th>1</th>\n",
       "      <td>20.57</td>\n",
       "      <td>17.77</td>\n",
       "      <td>132.90</td>\n",
       "      <td>1326.0</td>\n",
       "      <td>0.08474</td>\n",
       "      <td>0.07864</td>\n",
       "      <td>0.0869</td>\n",
       "      <td>0.07017</td>\n",
       "      <td>0.1812</td>\n",
       "      <td>0.05667</td>\n",
       "      <td>...</td>\n",
       "      <td>23.41</td>\n",
       "      <td>158.80</td>\n",
       "      <td>1956.0</td>\n",
       "      <td>0.1238</td>\n",
       "      <td>0.1866</td>\n",
       "      <td>0.2416</td>\n",
       "      <td>0.1860</td>\n",
       "      <td>0.2750</td>\n",
       "      <td>0.08902</td>\n",
       "      <td>0</td>\n",
       "    </tr>\n",
       "    <tr>\n",
       "      <th>2</th>\n",
       "      <td>19.69</td>\n",
       "      <td>21.25</td>\n",
       "      <td>130.00</td>\n",
       "      <td>1203.0</td>\n",
       "      <td>0.10960</td>\n",
       "      <td>0.15990</td>\n",
       "      <td>0.1974</td>\n",
       "      <td>0.12790</td>\n",
       "      <td>0.2069</td>\n",
       "      <td>0.05999</td>\n",
       "      <td>...</td>\n",
       "      <td>25.53</td>\n",
       "      <td>152.50</td>\n",
       "      <td>1709.0</td>\n",
       "      <td>0.1444</td>\n",
       "      <td>0.4245</td>\n",
       "      <td>0.4504</td>\n",
       "      <td>0.2430</td>\n",
       "      <td>0.3613</td>\n",
       "      <td>0.08758</td>\n",
       "      <td>0</td>\n",
       "    </tr>\n",
       "    <tr>\n",
       "      <th>3</th>\n",
       "      <td>11.42</td>\n",
       "      <td>20.38</td>\n",
       "      <td>77.58</td>\n",
       "      <td>386.1</td>\n",
       "      <td>0.14250</td>\n",
       "      <td>0.28390</td>\n",
       "      <td>0.2414</td>\n",
       "      <td>0.10520</td>\n",
       "      <td>0.2597</td>\n",
       "      <td>0.09744</td>\n",
       "      <td>...</td>\n",
       "      <td>26.50</td>\n",
       "      <td>98.87</td>\n",
       "      <td>567.7</td>\n",
       "      <td>0.2098</td>\n",
       "      <td>0.8663</td>\n",
       "      <td>0.6869</td>\n",
       "      <td>0.2575</td>\n",
       "      <td>0.6638</td>\n",
       "      <td>0.17300</td>\n",
       "      <td>0</td>\n",
       "    </tr>\n",
       "    <tr>\n",
       "      <th>4</th>\n",
       "      <td>20.29</td>\n",
       "      <td>14.34</td>\n",
       "      <td>135.10</td>\n",
       "      <td>1297.0</td>\n",
       "      <td>0.10030</td>\n",
       "      <td>0.13280</td>\n",
       "      <td>0.1980</td>\n",
       "      <td>0.10430</td>\n",
       "      <td>0.1809</td>\n",
       "      <td>0.05883</td>\n",
       "      <td>...</td>\n",
       "      <td>16.67</td>\n",
       "      <td>152.20</td>\n",
       "      <td>1575.0</td>\n",
       "      <td>0.1374</td>\n",
       "      <td>0.2050</td>\n",
       "      <td>0.4000</td>\n",
       "      <td>0.1625</td>\n",
       "      <td>0.2364</td>\n",
       "      <td>0.07678</td>\n",
       "      <td>0</td>\n",
       "    </tr>\n",
       "  </tbody>\n",
       "</table>\n",
       "<p>5 rows × 31 columns</p>\n",
       "</div>"
      ],
      "text/plain": [
       "   mean radius  mean texture  mean perimeter  mean area  mean smoothness  \\\n",
       "0        17.99         10.38          122.80     1001.0          0.11840   \n",
       "1        20.57         17.77          132.90     1326.0          0.08474   \n",
       "2        19.69         21.25          130.00     1203.0          0.10960   \n",
       "3        11.42         20.38           77.58      386.1          0.14250   \n",
       "4        20.29         14.34          135.10     1297.0          0.10030   \n",
       "\n",
       "   mean compactness  mean concavity  mean concave points  mean symmetry  \\\n",
       "0           0.27760          0.3001              0.14710         0.2419   \n",
       "1           0.07864          0.0869              0.07017         0.1812   \n",
       "2           0.15990          0.1974              0.12790         0.2069   \n",
       "3           0.28390          0.2414              0.10520         0.2597   \n",
       "4           0.13280          0.1980              0.10430         0.1809   \n",
       "\n",
       "   mean fractal dimension  ...  worst texture  worst perimeter  worst area  \\\n",
       "0                 0.07871  ...          17.33           184.60      2019.0   \n",
       "1                 0.05667  ...          23.41           158.80      1956.0   \n",
       "2                 0.05999  ...          25.53           152.50      1709.0   \n",
       "3                 0.09744  ...          26.50            98.87       567.7   \n",
       "4                 0.05883  ...          16.67           152.20      1575.0   \n",
       "\n",
       "   worst smoothness  worst compactness  worst concavity  worst concave points  \\\n",
       "0            0.1622             0.6656           0.7119                0.2654   \n",
       "1            0.1238             0.1866           0.2416                0.1860   \n",
       "2            0.1444             0.4245           0.4504                0.2430   \n",
       "3            0.2098             0.8663           0.6869                0.2575   \n",
       "4            0.1374             0.2050           0.4000                0.1625   \n",
       "\n",
       "   worst symmetry  worst fractal dimension  target  \n",
       "0          0.4601                  0.11890       0  \n",
       "1          0.2750                  0.08902       0  \n",
       "2          0.3613                  0.08758       0  \n",
       "3          0.6638                  0.17300       0  \n",
       "4          0.2364                  0.07678       0  \n",
       "\n",
       "[5 rows x 31 columns]"
      ]
     },
     "execution_count": 5,
     "metadata": {},
     "output_type": "execute_result"
    }
   ],
   "source": [
    "data = load_breast_cancer()\n",
    "df = pd.DataFrame(data=data.data, columns=data.feature_names)\n",
    "df['target'] = data.target\n",
    "df.head()"
   ]
  },
  {
   "cell_type": "markdown",
   "metadata": {},
   "source": [
    "<center>\n",
    "<div style=\"color:;\n",
    "           display:fill;\n",
    "           border-radius:5px;\n",
    "           background-color: mediumseagreen;\n",
    "           font-size:50%;\n",
    "           letter-spacing:0.5px\">\n",
    "\n",
    "<h2 style=\"padding: 10px;\n",
    "              color:white;\">Exploratory Data Analysis aka EDA\n",
    "    \n",
    "</h2>\n",
    "</div>"
   ]
  },
  {
   "cell_type": "markdown",
   "metadata": {},
   "source": [
    "Let's explore the data by visualizing the distribution of values in some columns of the dataset, and the relationships between \"target\" and other columns. "
   ]
  },
  {
   "cell_type": "code",
   "execution_count": 6,
   "metadata": {
    "execution": {
     "iopub.execute_input": "2024-02-26T09:38:13.013559Z",
     "iopub.status.busy": "2024-02-26T09:38:13.013220Z",
     "iopub.status.idle": "2024-02-26T09:38:13.032908Z",
     "shell.execute_reply": "2024-02-26T09:38:13.032111Z",
     "shell.execute_reply.started": "2024-02-26T09:38:13.013529Z"
    },
    "trusted": true
   },
   "outputs": [
    {
     "name": "stdout",
     "output_type": "stream",
     "text": [
      "<class 'pandas.core.frame.DataFrame'>\n",
      "RangeIndex: 569 entries, 0 to 568\n",
      "Data columns (total 31 columns):\n",
      " #   Column                   Non-Null Count  Dtype  \n",
      "---  ------                   --------------  -----  \n",
      " 0   mean radius              569 non-null    float64\n",
      " 1   mean texture             569 non-null    float64\n",
      " 2   mean perimeter           569 non-null    float64\n",
      " 3   mean area                569 non-null    float64\n",
      " 4   mean smoothness          569 non-null    float64\n",
      " 5   mean compactness         569 non-null    float64\n",
      " 6   mean concavity           569 non-null    float64\n",
      " 7   mean concave points      569 non-null    float64\n",
      " 8   mean symmetry            569 non-null    float64\n",
      " 9   mean fractal dimension   569 non-null    float64\n",
      " 10  radius error             569 non-null    float64\n",
      " 11  texture error            569 non-null    float64\n",
      " 12  perimeter error          569 non-null    float64\n",
      " 13  area error               569 non-null    float64\n",
      " 14  smoothness error         569 non-null    float64\n",
      " 15  compactness error        569 non-null    float64\n",
      " 16  concavity error          569 non-null    float64\n",
      " 17  concave points error     569 non-null    float64\n",
      " 18  symmetry error           569 non-null    float64\n",
      " 19  fractal dimension error  569 non-null    float64\n",
      " 20  worst radius             569 non-null    float64\n",
      " 21  worst texture            569 non-null    float64\n",
      " 22  worst perimeter          569 non-null    float64\n",
      " 23  worst area               569 non-null    float64\n",
      " 24  worst smoothness         569 non-null    float64\n",
      " 25  worst compactness        569 non-null    float64\n",
      " 26  worst concavity          569 non-null    float64\n",
      " 27  worst concave points     569 non-null    float64\n",
      " 28  worst symmetry           569 non-null    float64\n",
      " 29  worst fractal dimension  569 non-null    float64\n",
      " 30  target                   569 non-null    int32  \n",
      "dtypes: float64(30), int32(1)\n",
      "memory usage: 135.7 KB\n"
     ]
    }
   ],
   "source": [
    "df.info()"
   ]
  },
  {
   "cell_type": "code",
   "execution_count": 7,
   "metadata": {
    "execution": {
     "iopub.execute_input": "2024-02-26T09:38:13.034702Z",
     "iopub.status.busy": "2024-02-26T09:38:13.034019Z",
     "iopub.status.idle": "2024-02-26T09:38:13.041442Z",
     "shell.execute_reply": "2024-02-26T09:38:13.040660Z",
     "shell.execute_reply.started": "2024-02-26T09:38:13.034670Z"
    },
    "trusted": true
   },
   "outputs": [
    {
     "data": {
      "text/plain": [
       "float64    30\n",
       "int32       1\n",
       "Name: count, dtype: int64"
      ]
     },
     "execution_count": 7,
     "metadata": {},
     "output_type": "execute_result"
    }
   ],
   "source": [
    "#Value counts of unique data types in our dataframe\n",
    "df.dtypes.value_counts()"
   ]
  },
  {
   "cell_type": "markdown",
   "metadata": {},
   "source": [
    "Looks like all the data is numerical.`float` and `int`. None of the columns contain any missing values, which saves us a fair bit of work!\n",
    "\n",
    "Here are some statistics for the numerical columns:"
   ]
  },
  {
   "cell_type": "code",
   "execution_count": 8,
   "metadata": {
    "execution": {
     "iopub.execute_input": "2024-02-26T09:38:13.042986Z",
     "iopub.status.busy": "2024-02-26T09:38:13.042689Z",
     "iopub.status.idle": "2024-02-26T09:38:13.138701Z",
     "shell.execute_reply": "2024-02-26T09:38:13.137861Z",
     "shell.execute_reply.started": "2024-02-26T09:38:13.042960Z"
    },
    "trusted": true
   },
   "outputs": [
    {
     "data": {
      "text/html": [
       "<div>\n",
       "<style scoped>\n",
       "    .dataframe tbody tr th:only-of-type {\n",
       "        vertical-align: middle;\n",
       "    }\n",
       "\n",
       "    .dataframe tbody tr th {\n",
       "        vertical-align: top;\n",
       "    }\n",
       "\n",
       "    .dataframe thead th {\n",
       "        text-align: right;\n",
       "    }\n",
       "</style>\n",
       "<table border=\"1\" class=\"dataframe\">\n",
       "  <thead>\n",
       "    <tr style=\"text-align: right;\">\n",
       "      <th></th>\n",
       "      <th>count</th>\n",
       "      <th>mean</th>\n",
       "      <th>std</th>\n",
       "      <th>min</th>\n",
       "      <th>25%</th>\n",
       "      <th>50%</th>\n",
       "      <th>75%</th>\n",
       "      <th>max</th>\n",
       "    </tr>\n",
       "  </thead>\n",
       "  <tbody>\n",
       "    <tr>\n",
       "      <th>mean radius</th>\n",
       "      <td>569.0</td>\n",
       "      <td>14.127292</td>\n",
       "      <td>3.524049</td>\n",
       "      <td>6.981000</td>\n",
       "      <td>11.700000</td>\n",
       "      <td>13.370000</td>\n",
       "      <td>15.780000</td>\n",
       "      <td>28.11000</td>\n",
       "    </tr>\n",
       "    <tr>\n",
       "      <th>mean texture</th>\n",
       "      <td>569.0</td>\n",
       "      <td>19.289649</td>\n",
       "      <td>4.301036</td>\n",
       "      <td>9.710000</td>\n",
       "      <td>16.170000</td>\n",
       "      <td>18.840000</td>\n",
       "      <td>21.800000</td>\n",
       "      <td>39.28000</td>\n",
       "    </tr>\n",
       "    <tr>\n",
       "      <th>mean perimeter</th>\n",
       "      <td>569.0</td>\n",
       "      <td>91.969033</td>\n",
       "      <td>24.298981</td>\n",
       "      <td>43.790000</td>\n",
       "      <td>75.170000</td>\n",
       "      <td>86.240000</td>\n",
       "      <td>104.100000</td>\n",
       "      <td>188.50000</td>\n",
       "    </tr>\n",
       "    <tr>\n",
       "      <th>mean area</th>\n",
       "      <td>569.0</td>\n",
       "      <td>654.889104</td>\n",
       "      <td>351.914129</td>\n",
       "      <td>143.500000</td>\n",
       "      <td>420.300000</td>\n",
       "      <td>551.100000</td>\n",
       "      <td>782.700000</td>\n",
       "      <td>2501.00000</td>\n",
       "    </tr>\n",
       "    <tr>\n",
       "      <th>mean smoothness</th>\n",
       "      <td>569.0</td>\n",
       "      <td>0.096360</td>\n",
       "      <td>0.014064</td>\n",
       "      <td>0.052630</td>\n",
       "      <td>0.086370</td>\n",
       "      <td>0.095870</td>\n",
       "      <td>0.105300</td>\n",
       "      <td>0.16340</td>\n",
       "    </tr>\n",
       "    <tr>\n",
       "      <th>mean compactness</th>\n",
       "      <td>569.0</td>\n",
       "      <td>0.104341</td>\n",
       "      <td>0.052813</td>\n",
       "      <td>0.019380</td>\n",
       "      <td>0.064920</td>\n",
       "      <td>0.092630</td>\n",
       "      <td>0.130400</td>\n",
       "      <td>0.34540</td>\n",
       "    </tr>\n",
       "    <tr>\n",
       "      <th>mean concavity</th>\n",
       "      <td>569.0</td>\n",
       "      <td>0.088799</td>\n",
       "      <td>0.079720</td>\n",
       "      <td>0.000000</td>\n",
       "      <td>0.029560</td>\n",
       "      <td>0.061540</td>\n",
       "      <td>0.130700</td>\n",
       "      <td>0.42680</td>\n",
       "    </tr>\n",
       "    <tr>\n",
       "      <th>mean concave points</th>\n",
       "      <td>569.0</td>\n",
       "      <td>0.048919</td>\n",
       "      <td>0.038803</td>\n",
       "      <td>0.000000</td>\n",
       "      <td>0.020310</td>\n",
       "      <td>0.033500</td>\n",
       "      <td>0.074000</td>\n",
       "      <td>0.20120</td>\n",
       "    </tr>\n",
       "    <tr>\n",
       "      <th>mean symmetry</th>\n",
       "      <td>569.0</td>\n",
       "      <td>0.181162</td>\n",
       "      <td>0.027414</td>\n",
       "      <td>0.106000</td>\n",
       "      <td>0.161900</td>\n",
       "      <td>0.179200</td>\n",
       "      <td>0.195700</td>\n",
       "      <td>0.30400</td>\n",
       "    </tr>\n",
       "    <tr>\n",
       "      <th>mean fractal dimension</th>\n",
       "      <td>569.0</td>\n",
       "      <td>0.062798</td>\n",
       "      <td>0.007060</td>\n",
       "      <td>0.049960</td>\n",
       "      <td>0.057700</td>\n",
       "      <td>0.061540</td>\n",
       "      <td>0.066120</td>\n",
       "      <td>0.09744</td>\n",
       "    </tr>\n",
       "    <tr>\n",
       "      <th>radius error</th>\n",
       "      <td>569.0</td>\n",
       "      <td>0.405172</td>\n",
       "      <td>0.277313</td>\n",
       "      <td>0.111500</td>\n",
       "      <td>0.232400</td>\n",
       "      <td>0.324200</td>\n",
       "      <td>0.478900</td>\n",
       "      <td>2.87300</td>\n",
       "    </tr>\n",
       "    <tr>\n",
       "      <th>texture error</th>\n",
       "      <td>569.0</td>\n",
       "      <td>1.216853</td>\n",
       "      <td>0.551648</td>\n",
       "      <td>0.360200</td>\n",
       "      <td>0.833900</td>\n",
       "      <td>1.108000</td>\n",
       "      <td>1.474000</td>\n",
       "      <td>4.88500</td>\n",
       "    </tr>\n",
       "    <tr>\n",
       "      <th>perimeter error</th>\n",
       "      <td>569.0</td>\n",
       "      <td>2.866059</td>\n",
       "      <td>2.021855</td>\n",
       "      <td>0.757000</td>\n",
       "      <td>1.606000</td>\n",
       "      <td>2.287000</td>\n",
       "      <td>3.357000</td>\n",
       "      <td>21.98000</td>\n",
       "    </tr>\n",
       "    <tr>\n",
       "      <th>area error</th>\n",
       "      <td>569.0</td>\n",
       "      <td>40.337079</td>\n",
       "      <td>45.491006</td>\n",
       "      <td>6.802000</td>\n",
       "      <td>17.850000</td>\n",
       "      <td>24.530000</td>\n",
       "      <td>45.190000</td>\n",
       "      <td>542.20000</td>\n",
       "    </tr>\n",
       "    <tr>\n",
       "      <th>smoothness error</th>\n",
       "      <td>569.0</td>\n",
       "      <td>0.007041</td>\n",
       "      <td>0.003003</td>\n",
       "      <td>0.001713</td>\n",
       "      <td>0.005169</td>\n",
       "      <td>0.006380</td>\n",
       "      <td>0.008146</td>\n",
       "      <td>0.03113</td>\n",
       "    </tr>\n",
       "    <tr>\n",
       "      <th>compactness error</th>\n",
       "      <td>569.0</td>\n",
       "      <td>0.025478</td>\n",
       "      <td>0.017908</td>\n",
       "      <td>0.002252</td>\n",
       "      <td>0.013080</td>\n",
       "      <td>0.020450</td>\n",
       "      <td>0.032450</td>\n",
       "      <td>0.13540</td>\n",
       "    </tr>\n",
       "    <tr>\n",
       "      <th>concavity error</th>\n",
       "      <td>569.0</td>\n",
       "      <td>0.031894</td>\n",
       "      <td>0.030186</td>\n",
       "      <td>0.000000</td>\n",
       "      <td>0.015090</td>\n",
       "      <td>0.025890</td>\n",
       "      <td>0.042050</td>\n",
       "      <td>0.39600</td>\n",
       "    </tr>\n",
       "    <tr>\n",
       "      <th>concave points error</th>\n",
       "      <td>569.0</td>\n",
       "      <td>0.011796</td>\n",
       "      <td>0.006170</td>\n",
       "      <td>0.000000</td>\n",
       "      <td>0.007638</td>\n",
       "      <td>0.010930</td>\n",
       "      <td>0.014710</td>\n",
       "      <td>0.05279</td>\n",
       "    </tr>\n",
       "    <tr>\n",
       "      <th>symmetry error</th>\n",
       "      <td>569.0</td>\n",
       "      <td>0.020542</td>\n",
       "      <td>0.008266</td>\n",
       "      <td>0.007882</td>\n",
       "      <td>0.015160</td>\n",
       "      <td>0.018730</td>\n",
       "      <td>0.023480</td>\n",
       "      <td>0.07895</td>\n",
       "    </tr>\n",
       "    <tr>\n",
       "      <th>fractal dimension error</th>\n",
       "      <td>569.0</td>\n",
       "      <td>0.003795</td>\n",
       "      <td>0.002646</td>\n",
       "      <td>0.000895</td>\n",
       "      <td>0.002248</td>\n",
       "      <td>0.003187</td>\n",
       "      <td>0.004558</td>\n",
       "      <td>0.02984</td>\n",
       "    </tr>\n",
       "    <tr>\n",
       "      <th>worst radius</th>\n",
       "      <td>569.0</td>\n",
       "      <td>16.269190</td>\n",
       "      <td>4.833242</td>\n",
       "      <td>7.930000</td>\n",
       "      <td>13.010000</td>\n",
       "      <td>14.970000</td>\n",
       "      <td>18.790000</td>\n",
       "      <td>36.04000</td>\n",
       "    </tr>\n",
       "    <tr>\n",
       "      <th>worst texture</th>\n",
       "      <td>569.0</td>\n",
       "      <td>25.677223</td>\n",
       "      <td>6.146258</td>\n",
       "      <td>12.020000</td>\n",
       "      <td>21.080000</td>\n",
       "      <td>25.410000</td>\n",
       "      <td>29.720000</td>\n",
       "      <td>49.54000</td>\n",
       "    </tr>\n",
       "    <tr>\n",
       "      <th>worst perimeter</th>\n",
       "      <td>569.0</td>\n",
       "      <td>107.261213</td>\n",
       "      <td>33.602542</td>\n",
       "      <td>50.410000</td>\n",
       "      <td>84.110000</td>\n",
       "      <td>97.660000</td>\n",
       "      <td>125.400000</td>\n",
       "      <td>251.20000</td>\n",
       "    </tr>\n",
       "    <tr>\n",
       "      <th>worst area</th>\n",
       "      <td>569.0</td>\n",
       "      <td>880.583128</td>\n",
       "      <td>569.356993</td>\n",
       "      <td>185.200000</td>\n",
       "      <td>515.300000</td>\n",
       "      <td>686.500000</td>\n",
       "      <td>1084.000000</td>\n",
       "      <td>4254.00000</td>\n",
       "    </tr>\n",
       "    <tr>\n",
       "      <th>worst smoothness</th>\n",
       "      <td>569.0</td>\n",
       "      <td>0.132369</td>\n",
       "      <td>0.022832</td>\n",
       "      <td>0.071170</td>\n",
       "      <td>0.116600</td>\n",
       "      <td>0.131300</td>\n",
       "      <td>0.146000</td>\n",
       "      <td>0.22260</td>\n",
       "    </tr>\n",
       "    <tr>\n",
       "      <th>worst compactness</th>\n",
       "      <td>569.0</td>\n",
       "      <td>0.254265</td>\n",
       "      <td>0.157336</td>\n",
       "      <td>0.027290</td>\n",
       "      <td>0.147200</td>\n",
       "      <td>0.211900</td>\n",
       "      <td>0.339100</td>\n",
       "      <td>1.05800</td>\n",
       "    </tr>\n",
       "    <tr>\n",
       "      <th>worst concavity</th>\n",
       "      <td>569.0</td>\n",
       "      <td>0.272188</td>\n",
       "      <td>0.208624</td>\n",
       "      <td>0.000000</td>\n",
       "      <td>0.114500</td>\n",
       "      <td>0.226700</td>\n",
       "      <td>0.382900</td>\n",
       "      <td>1.25200</td>\n",
       "    </tr>\n",
       "    <tr>\n",
       "      <th>worst concave points</th>\n",
       "      <td>569.0</td>\n",
       "      <td>0.114606</td>\n",
       "      <td>0.065732</td>\n",
       "      <td>0.000000</td>\n",
       "      <td>0.064930</td>\n",
       "      <td>0.099930</td>\n",
       "      <td>0.161400</td>\n",
       "      <td>0.29100</td>\n",
       "    </tr>\n",
       "    <tr>\n",
       "      <th>worst symmetry</th>\n",
       "      <td>569.0</td>\n",
       "      <td>0.290076</td>\n",
       "      <td>0.061867</td>\n",
       "      <td>0.156500</td>\n",
       "      <td>0.250400</td>\n",
       "      <td>0.282200</td>\n",
       "      <td>0.317900</td>\n",
       "      <td>0.66380</td>\n",
       "    </tr>\n",
       "    <tr>\n",
       "      <th>worst fractal dimension</th>\n",
       "      <td>569.0</td>\n",
       "      <td>0.083946</td>\n",
       "      <td>0.018061</td>\n",
       "      <td>0.055040</td>\n",
       "      <td>0.071460</td>\n",
       "      <td>0.080040</td>\n",
       "      <td>0.092080</td>\n",
       "      <td>0.20750</td>\n",
       "    </tr>\n",
       "    <tr>\n",
       "      <th>target</th>\n",
       "      <td>569.0</td>\n",
       "      <td>0.627417</td>\n",
       "      <td>0.483918</td>\n",
       "      <td>0.000000</td>\n",
       "      <td>0.000000</td>\n",
       "      <td>1.000000</td>\n",
       "      <td>1.000000</td>\n",
       "      <td>1.00000</td>\n",
       "    </tr>\n",
       "  </tbody>\n",
       "</table>\n",
       "</div>"
      ],
      "text/plain": [
       "                         count        mean         std         min  \\\n",
       "mean radius              569.0   14.127292    3.524049    6.981000   \n",
       "mean texture             569.0   19.289649    4.301036    9.710000   \n",
       "mean perimeter           569.0   91.969033   24.298981   43.790000   \n",
       "mean area                569.0  654.889104  351.914129  143.500000   \n",
       "mean smoothness          569.0    0.096360    0.014064    0.052630   \n",
       "mean compactness         569.0    0.104341    0.052813    0.019380   \n",
       "mean concavity           569.0    0.088799    0.079720    0.000000   \n",
       "mean concave points      569.0    0.048919    0.038803    0.000000   \n",
       "mean symmetry            569.0    0.181162    0.027414    0.106000   \n",
       "mean fractal dimension   569.0    0.062798    0.007060    0.049960   \n",
       "radius error             569.0    0.405172    0.277313    0.111500   \n",
       "texture error            569.0    1.216853    0.551648    0.360200   \n",
       "perimeter error          569.0    2.866059    2.021855    0.757000   \n",
       "area error               569.0   40.337079   45.491006    6.802000   \n",
       "smoothness error         569.0    0.007041    0.003003    0.001713   \n",
       "compactness error        569.0    0.025478    0.017908    0.002252   \n",
       "concavity error          569.0    0.031894    0.030186    0.000000   \n",
       "concave points error     569.0    0.011796    0.006170    0.000000   \n",
       "symmetry error           569.0    0.020542    0.008266    0.007882   \n",
       "fractal dimension error  569.0    0.003795    0.002646    0.000895   \n",
       "worst radius             569.0   16.269190    4.833242    7.930000   \n",
       "worst texture            569.0   25.677223    6.146258   12.020000   \n",
       "worst perimeter          569.0  107.261213   33.602542   50.410000   \n",
       "worst area               569.0  880.583128  569.356993  185.200000   \n",
       "worst smoothness         569.0    0.132369    0.022832    0.071170   \n",
       "worst compactness        569.0    0.254265    0.157336    0.027290   \n",
       "worst concavity          569.0    0.272188    0.208624    0.000000   \n",
       "worst concave points     569.0    0.114606    0.065732    0.000000   \n",
       "worst symmetry           569.0    0.290076    0.061867    0.156500   \n",
       "worst fractal dimension  569.0    0.083946    0.018061    0.055040   \n",
       "target                   569.0    0.627417    0.483918    0.000000   \n",
       "\n",
       "                                25%         50%          75%         max  \n",
       "mean radius               11.700000   13.370000    15.780000    28.11000  \n",
       "mean texture              16.170000   18.840000    21.800000    39.28000  \n",
       "mean perimeter            75.170000   86.240000   104.100000   188.50000  \n",
       "mean area                420.300000  551.100000   782.700000  2501.00000  \n",
       "mean smoothness            0.086370    0.095870     0.105300     0.16340  \n",
       "mean compactness           0.064920    0.092630     0.130400     0.34540  \n",
       "mean concavity             0.029560    0.061540     0.130700     0.42680  \n",
       "mean concave points        0.020310    0.033500     0.074000     0.20120  \n",
       "mean symmetry              0.161900    0.179200     0.195700     0.30400  \n",
       "mean fractal dimension     0.057700    0.061540     0.066120     0.09744  \n",
       "radius error               0.232400    0.324200     0.478900     2.87300  \n",
       "texture error              0.833900    1.108000     1.474000     4.88500  \n",
       "perimeter error            1.606000    2.287000     3.357000    21.98000  \n",
       "area error                17.850000   24.530000    45.190000   542.20000  \n",
       "smoothness error           0.005169    0.006380     0.008146     0.03113  \n",
       "compactness error          0.013080    0.020450     0.032450     0.13540  \n",
       "concavity error            0.015090    0.025890     0.042050     0.39600  \n",
       "concave points error       0.007638    0.010930     0.014710     0.05279  \n",
       "symmetry error             0.015160    0.018730     0.023480     0.07895  \n",
       "fractal dimension error    0.002248    0.003187     0.004558     0.02984  \n",
       "worst radius              13.010000   14.970000    18.790000    36.04000  \n",
       "worst texture             21.080000   25.410000    29.720000    49.54000  \n",
       "worst perimeter           84.110000   97.660000   125.400000   251.20000  \n",
       "worst area               515.300000  686.500000  1084.000000  4254.00000  \n",
       "worst smoothness           0.116600    0.131300     0.146000     0.22260  \n",
       "worst compactness          0.147200    0.211900     0.339100     1.05800  \n",
       "worst concavity            0.114500    0.226700     0.382900     1.25200  \n",
       "worst concave points       0.064930    0.099930     0.161400     0.29100  \n",
       "worst symmetry             0.250400    0.282200     0.317900     0.66380  \n",
       "worst fractal dimension    0.071460    0.080040     0.092080     0.20750  \n",
       "target                     0.000000    1.000000     1.000000     1.00000  "
      ]
     },
     "execution_count": 8,
     "metadata": {},
     "output_type": "execute_result"
    }
   ],
   "source": [
    "df[df.columns].describe().T"
   ]
  },
  {
   "cell_type": "markdown",
   "metadata": {},
   "source": [
    "## What is the distribution of the Target Values?"
   ]
  },
  {
   "cell_type": "code",
   "execution_count": 9,
   "metadata": {
    "execution": {
     "iopub.execute_input": "2024-02-26T09:38:13.140195Z",
     "iopub.status.busy": "2024-02-26T09:38:13.139867Z",
     "iopub.status.idle": "2024-02-26T09:38:13.413730Z",
     "shell.execute_reply": "2024-02-26T09:38:13.412554Z",
     "shell.execute_reply.started": "2024-02-26T09:38:13.140166Z"
    },
    "trusted": true
   },
   "outputs": [
    {
     "ename": "ValueError",
     "evalue": "The following variable cannot be assigned with wide-form data: `hue`",
     "output_type": "error",
     "traceback": [
      "\u001b[1;31m---------------------------------------------------------------------------\u001b[0m",
      "\u001b[1;31mValueError\u001b[0m                                Traceback (most recent call last)",
      "Cell \u001b[1;32mIn[9], line 1\u001b[0m\n\u001b[1;32m----> 1\u001b[0m \u001b[43msns\u001b[49m\u001b[38;5;241;43m.\u001b[39;49m\u001b[43mcountplot\u001b[49m\u001b[43m(\u001b[49m\u001b[43mdf\u001b[49m\u001b[43m[\u001b[49m\u001b[38;5;124;43m'\u001b[39;49m\u001b[38;5;124;43mtarget\u001b[39;49m\u001b[38;5;124;43m'\u001b[39;49m\u001b[43m]\u001b[49m\u001b[43m,\u001b[49m\u001b[43m \u001b[49m\u001b[43mhue\u001b[49m\u001b[38;5;241;43m=\u001b[39;49m\u001b[43mdf\u001b[49m\u001b[38;5;241;43m.\u001b[39;49m\u001b[43mtarget\u001b[49m\u001b[43m,\u001b[49m\u001b[43m \u001b[49m\u001b[43mdodge\u001b[49m\u001b[38;5;241;43m=\u001b[39;49m\u001b[38;5;28;43;01mFalse\u001b[39;49;00m\u001b[43m)\u001b[49m\n\u001b[0;32m      2\u001b[0m plt\u001b[38;5;241m.\u001b[39mgca()\u001b[38;5;241m.\u001b[39mspines[\u001b[38;5;124m'\u001b[39m\u001b[38;5;124mtop\u001b[39m\u001b[38;5;124m'\u001b[39m]\u001b[38;5;241m.\u001b[39mset_visible(\u001b[38;5;28;01mFalse\u001b[39;00m)\n\u001b[0;32m      3\u001b[0m plt\u001b[38;5;241m.\u001b[39mgca()\u001b[38;5;241m.\u001b[39mspines[\u001b[38;5;124m'\u001b[39m\u001b[38;5;124mright\u001b[39m\u001b[38;5;124m'\u001b[39m]\u001b[38;5;241m.\u001b[39mset_visible(\u001b[38;5;28;01mFalse\u001b[39;00m)\n",
      "File \u001b[1;32mc:\\Users\\Gani\\anaconda3\\envs\\conda-python\\Lib\\site-packages\\seaborn\\categorical.py:2631\u001b[0m, in \u001b[0;36mcountplot\u001b[1;34m(data, x, y, hue, order, hue_order, orient, color, palette, saturation, fill, hue_norm, stat, width, dodge, gap, log_scale, native_scale, formatter, legend, ax, **kwargs)\u001b[0m\n\u001b[0;32m   2628\u001b[0m \u001b[38;5;28;01melif\u001b[39;00m x \u001b[38;5;129;01mis\u001b[39;00m \u001b[38;5;129;01mnot\u001b[39;00m \u001b[38;5;28;01mNone\u001b[39;00m \u001b[38;5;129;01mand\u001b[39;00m y \u001b[38;5;129;01mis\u001b[39;00m \u001b[38;5;129;01mnot\u001b[39;00m \u001b[38;5;28;01mNone\u001b[39;00m:\n\u001b[0;32m   2629\u001b[0m     \u001b[38;5;28;01mraise\u001b[39;00m \u001b[38;5;167;01mTypeError\u001b[39;00m(\u001b[38;5;124m\"\u001b[39m\u001b[38;5;124mCannot pass values for both `x` and `y`.\u001b[39m\u001b[38;5;124m\"\u001b[39m)\n\u001b[1;32m-> 2631\u001b[0m p \u001b[38;5;241m=\u001b[39m \u001b[43m_CategoricalAggPlotter\u001b[49m\u001b[43m(\u001b[49m\n\u001b[0;32m   2632\u001b[0m \u001b[43m    \u001b[49m\u001b[43mdata\u001b[49m\u001b[38;5;241;43m=\u001b[39;49m\u001b[43mdata\u001b[49m\u001b[43m,\u001b[49m\n\u001b[0;32m   2633\u001b[0m \u001b[43m    \u001b[49m\u001b[43mvariables\u001b[49m\u001b[38;5;241;43m=\u001b[39;49m\u001b[38;5;28;43mdict\u001b[39;49m\u001b[43m(\u001b[49m\u001b[43mx\u001b[49m\u001b[38;5;241;43m=\u001b[39;49m\u001b[43mx\u001b[49m\u001b[43m,\u001b[49m\u001b[43m \u001b[49m\u001b[43my\u001b[49m\u001b[38;5;241;43m=\u001b[39;49m\u001b[43my\u001b[49m\u001b[43m,\u001b[49m\u001b[43m \u001b[49m\u001b[43mhue\u001b[49m\u001b[38;5;241;43m=\u001b[39;49m\u001b[43mhue\u001b[49m\u001b[43m)\u001b[49m\u001b[43m,\u001b[49m\n\u001b[0;32m   2634\u001b[0m \u001b[43m    \u001b[49m\u001b[43morder\u001b[49m\u001b[38;5;241;43m=\u001b[39;49m\u001b[43morder\u001b[49m\u001b[43m,\u001b[49m\n\u001b[0;32m   2635\u001b[0m \u001b[43m    \u001b[49m\u001b[43morient\u001b[49m\u001b[38;5;241;43m=\u001b[39;49m\u001b[43morient\u001b[49m\u001b[43m,\u001b[49m\n\u001b[0;32m   2636\u001b[0m \u001b[43m    \u001b[49m\u001b[43mcolor\u001b[49m\u001b[38;5;241;43m=\u001b[39;49m\u001b[43mcolor\u001b[49m\u001b[43m,\u001b[49m\n\u001b[0;32m   2637\u001b[0m \u001b[43m    \u001b[49m\u001b[43mlegend\u001b[49m\u001b[38;5;241;43m=\u001b[39;49m\u001b[43mlegend\u001b[49m\u001b[43m,\u001b[49m\n\u001b[0;32m   2638\u001b[0m \u001b[43m\u001b[49m\u001b[43m)\u001b[49m\n\u001b[0;32m   2640\u001b[0m \u001b[38;5;28;01mif\u001b[39;00m ax \u001b[38;5;129;01mis\u001b[39;00m \u001b[38;5;28;01mNone\u001b[39;00m:\n\u001b[0;32m   2641\u001b[0m     ax \u001b[38;5;241m=\u001b[39m plt\u001b[38;5;241m.\u001b[39mgca()\n",
      "File \u001b[1;32mc:\\Users\\Gani\\anaconda3\\envs\\conda-python\\Lib\\site-packages\\seaborn\\categorical.py:67\u001b[0m, in \u001b[0;36m_CategoricalPlotter.__init__\u001b[1;34m(self, data, variables, order, orient, require_numeric, color, legend)\u001b[0m\n\u001b[0;32m     56\u001b[0m \u001b[38;5;28;01mdef\u001b[39;00m \u001b[38;5;21m__init__\u001b[39m(\n\u001b[0;32m     57\u001b[0m     \u001b[38;5;28mself\u001b[39m,\n\u001b[0;32m     58\u001b[0m     data\u001b[38;5;241m=\u001b[39m\u001b[38;5;28;01mNone\u001b[39;00m,\n\u001b[1;32m   (...)\u001b[0m\n\u001b[0;32m     64\u001b[0m     legend\u001b[38;5;241m=\u001b[39m\u001b[38;5;124m\"\u001b[39m\u001b[38;5;124mauto\u001b[39m\u001b[38;5;124m\"\u001b[39m,\n\u001b[0;32m     65\u001b[0m ):\n\u001b[1;32m---> 67\u001b[0m     \u001b[38;5;28;43msuper\u001b[39;49m\u001b[43m(\u001b[49m\u001b[43m)\u001b[49m\u001b[38;5;241;43m.\u001b[39;49m\u001b[38;5;21;43m__init__\u001b[39;49m\u001b[43m(\u001b[49m\u001b[43mdata\u001b[49m\u001b[38;5;241;43m=\u001b[39;49m\u001b[43mdata\u001b[49m\u001b[43m,\u001b[49m\u001b[43m \u001b[49m\u001b[43mvariables\u001b[49m\u001b[38;5;241;43m=\u001b[39;49m\u001b[43mvariables\u001b[49m\u001b[43m)\u001b[49m\n\u001b[0;32m     69\u001b[0m     \u001b[38;5;66;03m# This method takes care of some bookkeeping that is necessary because the\u001b[39;00m\n\u001b[0;32m     70\u001b[0m     \u001b[38;5;66;03m# original categorical plots (prior to the 2021 refactor) had some rules that\u001b[39;00m\n\u001b[0;32m     71\u001b[0m     \u001b[38;5;66;03m# don't fit exactly into VectorPlotter logic. It may be wise to have a second\u001b[39;00m\n\u001b[1;32m   (...)\u001b[0m\n\u001b[0;32m     76\u001b[0m     \u001b[38;5;66;03m# default VectorPlotter rules. If we do decide to make orient part of the\u001b[39;00m\n\u001b[0;32m     77\u001b[0m     \u001b[38;5;66;03m# _base variable assignment, we'll want to figure out how to express that.\u001b[39;00m\n\u001b[0;32m     78\u001b[0m     \u001b[38;5;28;01mif\u001b[39;00m \u001b[38;5;28mself\u001b[39m\u001b[38;5;241m.\u001b[39minput_format \u001b[38;5;241m==\u001b[39m \u001b[38;5;124m\"\u001b[39m\u001b[38;5;124mwide\u001b[39m\u001b[38;5;124m\"\u001b[39m \u001b[38;5;129;01mand\u001b[39;00m orient \u001b[38;5;129;01min\u001b[39;00m [\u001b[38;5;124m\"\u001b[39m\u001b[38;5;124mh\u001b[39m\u001b[38;5;124m\"\u001b[39m, \u001b[38;5;124m\"\u001b[39m\u001b[38;5;124my\u001b[39m\u001b[38;5;124m\"\u001b[39m]:\n",
      "File \u001b[1;32mc:\\Users\\Gani\\anaconda3\\envs\\conda-python\\Lib\\site-packages\\seaborn\\_base.py:634\u001b[0m, in \u001b[0;36mVectorPlotter.__init__\u001b[1;34m(self, data, variables)\u001b[0m\n\u001b[0;32m    629\u001b[0m \u001b[38;5;66;03m# var_ordered is relevant only for categorical axis variables, and may\u001b[39;00m\n\u001b[0;32m    630\u001b[0m \u001b[38;5;66;03m# be better handled by an internal axis information object that tracks\u001b[39;00m\n\u001b[0;32m    631\u001b[0m \u001b[38;5;66;03m# such information and is set up by the scale_* methods. The analogous\u001b[39;00m\n\u001b[0;32m    632\u001b[0m \u001b[38;5;66;03m# information for numeric axes would be information about log scales.\u001b[39;00m\n\u001b[0;32m    633\u001b[0m \u001b[38;5;28mself\u001b[39m\u001b[38;5;241m.\u001b[39m_var_ordered \u001b[38;5;241m=\u001b[39m {\u001b[38;5;124m\"\u001b[39m\u001b[38;5;124mx\u001b[39m\u001b[38;5;124m\"\u001b[39m: \u001b[38;5;28;01mFalse\u001b[39;00m, \u001b[38;5;124m\"\u001b[39m\u001b[38;5;124my\u001b[39m\u001b[38;5;124m\"\u001b[39m: \u001b[38;5;28;01mFalse\u001b[39;00m}  \u001b[38;5;66;03m# alt., used DefaultDict\u001b[39;00m\n\u001b[1;32m--> 634\u001b[0m \u001b[38;5;28;43mself\u001b[39;49m\u001b[38;5;241;43m.\u001b[39;49m\u001b[43massign_variables\u001b[49m\u001b[43m(\u001b[49m\u001b[43mdata\u001b[49m\u001b[43m,\u001b[49m\u001b[43m \u001b[49m\u001b[43mvariables\u001b[49m\u001b[43m)\u001b[49m\n\u001b[0;32m    636\u001b[0m \u001b[38;5;66;03m# TODO Lots of tests assume that these are called to initialize the\u001b[39;00m\n\u001b[0;32m    637\u001b[0m \u001b[38;5;66;03m# mappings to default values on class initialization. I'd prefer to\u001b[39;00m\n\u001b[0;32m    638\u001b[0m \u001b[38;5;66;03m# move away from that and only have a mapping when explicitly called.\u001b[39;00m\n\u001b[0;32m    639\u001b[0m \u001b[38;5;28;01mfor\u001b[39;00m var \u001b[38;5;129;01min\u001b[39;00m [\u001b[38;5;124m\"\u001b[39m\u001b[38;5;124mhue\u001b[39m\u001b[38;5;124m\"\u001b[39m, \u001b[38;5;124m\"\u001b[39m\u001b[38;5;124msize\u001b[39m\u001b[38;5;124m\"\u001b[39m, \u001b[38;5;124m\"\u001b[39m\u001b[38;5;124mstyle\u001b[39m\u001b[38;5;124m\"\u001b[39m]:\n",
      "File \u001b[1;32mc:\\Users\\Gani\\anaconda3\\envs\\conda-python\\Lib\\site-packages\\seaborn\\_base.py:673\u001b[0m, in \u001b[0;36mVectorPlotter.assign_variables\u001b[1;34m(self, data, variables)\u001b[0m\n\u001b[0;32m    671\u001b[0m \u001b[38;5;28;01mif\u001b[39;00m x \u001b[38;5;129;01mis\u001b[39;00m \u001b[38;5;28;01mNone\u001b[39;00m \u001b[38;5;129;01mand\u001b[39;00m y \u001b[38;5;129;01mis\u001b[39;00m \u001b[38;5;28;01mNone\u001b[39;00m:\n\u001b[0;32m    672\u001b[0m     \u001b[38;5;28mself\u001b[39m\u001b[38;5;241m.\u001b[39minput_format \u001b[38;5;241m=\u001b[39m \u001b[38;5;124m\"\u001b[39m\u001b[38;5;124mwide\u001b[39m\u001b[38;5;124m\"\u001b[39m\n\u001b[1;32m--> 673\u001b[0m     frame, names \u001b[38;5;241m=\u001b[39m \u001b[38;5;28;43mself\u001b[39;49m\u001b[38;5;241;43m.\u001b[39;49m\u001b[43m_assign_variables_wideform\u001b[49m\u001b[43m(\u001b[49m\u001b[43mdata\u001b[49m\u001b[43m,\u001b[49m\u001b[43m \u001b[49m\u001b[38;5;241;43m*\u001b[39;49m\u001b[38;5;241;43m*\u001b[39;49m\u001b[43mvariables\u001b[49m\u001b[43m)\u001b[49m\n\u001b[0;32m    674\u001b[0m \u001b[38;5;28;01melse\u001b[39;00m:\n\u001b[0;32m    675\u001b[0m     \u001b[38;5;66;03m# When dealing with long-form input, use the newer PlotData\u001b[39;00m\n\u001b[0;32m    676\u001b[0m     \u001b[38;5;66;03m# object (internal but introduced for the objects interface)\u001b[39;00m\n\u001b[0;32m    677\u001b[0m     \u001b[38;5;66;03m# to centralize / standardize data consumption logic.\u001b[39;00m\n\u001b[0;32m    678\u001b[0m     \u001b[38;5;28mself\u001b[39m\u001b[38;5;241m.\u001b[39minput_format \u001b[38;5;241m=\u001b[39m \u001b[38;5;124m\"\u001b[39m\u001b[38;5;124mlong\u001b[39m\u001b[38;5;124m\"\u001b[39m\n",
      "File \u001b[1;32mc:\\Users\\Gani\\anaconda3\\envs\\conda-python\\Lib\\site-packages\\seaborn\\_base.py:723\u001b[0m, in \u001b[0;36mVectorPlotter._assign_variables_wideform\u001b[1;34m(self, data, **kwargs)\u001b[0m\n\u001b[0;32m    721\u001b[0m     err \u001b[38;5;241m=\u001b[39m \u001b[38;5;124mf\u001b[39m\u001b[38;5;124m\"\u001b[39m\u001b[38;5;124mThe following variable\u001b[39m\u001b[38;5;132;01m{\u001b[39;00ms\u001b[38;5;132;01m}\u001b[39;00m\u001b[38;5;124m cannot be assigned with wide-form data: \u001b[39m\u001b[38;5;124m\"\u001b[39m\n\u001b[0;32m    722\u001b[0m     err \u001b[38;5;241m+\u001b[39m\u001b[38;5;241m=\u001b[39m \u001b[38;5;124m\"\u001b[39m\u001b[38;5;124m, \u001b[39m\u001b[38;5;124m\"\u001b[39m\u001b[38;5;241m.\u001b[39mjoin(\u001b[38;5;124mf\u001b[39m\u001b[38;5;124m\"\u001b[39m\u001b[38;5;124m`\u001b[39m\u001b[38;5;132;01m{\u001b[39;00mv\u001b[38;5;132;01m}\u001b[39;00m\u001b[38;5;124m`\u001b[39m\u001b[38;5;124m\"\u001b[39m \u001b[38;5;28;01mfor\u001b[39;00m v \u001b[38;5;129;01min\u001b[39;00m assigned)\n\u001b[1;32m--> 723\u001b[0m     \u001b[38;5;28;01mraise\u001b[39;00m \u001b[38;5;167;01mValueError\u001b[39;00m(err)\n\u001b[0;32m    725\u001b[0m \u001b[38;5;66;03m# Determine if the data object actually has any data in it\u001b[39;00m\n\u001b[0;32m    726\u001b[0m empty \u001b[38;5;241m=\u001b[39m data \u001b[38;5;129;01mis\u001b[39;00m \u001b[38;5;28;01mNone\u001b[39;00m \u001b[38;5;129;01mor\u001b[39;00m \u001b[38;5;129;01mnot\u001b[39;00m \u001b[38;5;28mlen\u001b[39m(data)\n",
      "\u001b[1;31mValueError\u001b[0m: The following variable cannot be assigned with wide-form data: `hue`"
     ]
    }
   ],
   "source": [
    "sns.countplot(df['target'], hue=df.target, dodge=False)\n",
    "plt.gca().spines['top'].set_visible(False)\n",
    "plt.gca().spines['right'].set_visible(False)\n",
    "plt.legend(['benign', 'malignant'])\n",
    "plt.title('Distribution of Target Values', fontsize=18)\n",
    "plt.show()"
   ]
  },
  {
   "cell_type": "markdown",
   "metadata": {},
   "source": [
    "## Which columns are least related to our target class?"
   ]
  },
  {
   "cell_type": "markdown",
   "metadata": {},
   "source": [
    "To find this out we can use ANOVA. ANOVA is a statistical test used to determine whether there are significant differences between the means of two or more groups. In this case, we can use ANOVA to compare the means of the numerical columns for the two groups of the binary target variable (0 and 1)."
   ]
  },
  {
   "cell_type": "code",
   "execution_count": 8,
   "metadata": {
    "execution": {
     "iopub.execute_input": "2024-02-26T09:38:13.416004Z",
     "iopub.status.busy": "2024-02-26T09:38:13.415478Z",
     "iopub.status.idle": "2024-02-26T09:38:13.461356Z",
     "shell.execute_reply": "2024-02-26T09:38:13.460532Z",
     "shell.execute_reply.started": "2024-02-26T09:38:13.415957Z"
    },
    "trusted": true
   },
   "outputs": [
    {
     "name": "stdout",
     "output_type": "stream",
     "text": [
      "ANOVA statistic: 646.98\n",
      "p-value: 8.46594057226382e-96\n",
      "\u001b[32mReject the null hypothesis: There is a significant relationship between mean radius and target\n",
      "\u001b[0m\n",
      "ANOVA statistic: 118.1\n",
      "p-value: 4.0586360478986136e-25\n",
      "\u001b[32mReject the null hypothesis: There is a significant relationship between mean texture and target\n",
      "\u001b[0m\n",
      "ANOVA statistic: 697.24\n",
      "p-value: 8.43625103617395e-101\n",
      "\u001b[32mReject the null hypothesis: There is a significant relationship between mean perimeter and target\n",
      "\u001b[0m\n",
      "ANOVA statistic: 573.06\n",
      "p-value: 4.7345643103077244e-88\n",
      "\u001b[32mReject the null hypothesis: There is a significant relationship between mean area and target\n",
      "\u001b[0m\n",
      "ANOVA statistic: 83.65\n",
      "p-value: 1.051850359203376e-18\n",
      "\u001b[32mReject the null hypothesis: There is a significant relationship between mean smoothness and target\n",
      "\u001b[0m\n",
      "ANOVA statistic: 313.23\n",
      "p-value: 3.938263105887389e-56\n",
      "\u001b[32mReject the null hypothesis: There is a significant relationship between mean compactness and target\n",
      "\u001b[0m\n",
      "ANOVA statistic: 533.79\n",
      "p-value: 9.966555755074321e-84\n",
      "\u001b[32mReject the null hypothesis: There is a significant relationship between mean concavity and target\n",
      "\u001b[0m\n",
      "ANOVA statistic: 861.68\n",
      "p-value: 7.101150161059154e-116\n",
      "\u001b[32mReject the null hypothesis: There is a significant relationship between mean concave points and target\n",
      "\u001b[0m\n",
      "ANOVA statistic: 69.53\n",
      "p-value: 5.73338402846732e-16\n",
      "\u001b[32mReject the null hypothesis: There is a significant relationship between mean symmetry and target\n",
      "\u001b[0m\n",
      "ANOVA statistic: 0.09\n",
      "p-value: 0.7599368037255626\n",
      "\u001b[31mNo significant relationship between mean fractal dimension and target\n",
      "\u001b[0m\n",
      "ANOVA statistic: 268.84\n",
      "p-value: 9.738948656462521e-50\n",
      "\u001b[32mReject the null hypothesis: There is a significant relationship between radius error and target\n",
      "\u001b[0m\n",
      "ANOVA statistic: 0.04\n",
      "p-value: 0.8433320287670788\n",
      "\u001b[31mNo significant relationship between texture error and target\n",
      "\u001b[0m\n",
      "ANOVA statistic: 253.9\n",
      "p-value: 1.6519051758498877e-47\n",
      "\u001b[32mReject the null hypothesis: There is a significant relationship between perimeter error and target\n",
      "\u001b[0m\n",
      "ANOVA statistic: 243.65\n",
      "p-value: 5.895521392606798e-46\n",
      "\u001b[32mReject the null hypothesis: There is a significant relationship between area error and target\n",
      "\u001b[0m\n",
      "ANOVA statistic: 2.56\n",
      "p-value: 0.11029660865790443\n",
      "\u001b[31mNo significant relationship between smoothness error and target\n",
      "\u001b[0m\n",
      "ANOVA statistic: 53.25\n",
      "p-value: 9.975994654075776e-13\n",
      "\u001b[32mReject the null hypothesis: There is a significant relationship between compactness error and target\n",
      "\u001b[0m\n",
      "ANOVA statistic: 39.01\n",
      "p-value: 8.260176167970819e-10\n",
      "\u001b[32mReject the null hypothesis: There is a significant relationship between concavity error and target\n",
      "\u001b[0m\n",
      "ANOVA statistic: 113.26\n",
      "p-value: 3.072308768818453e-24\n",
      "\u001b[32mReject the null hypothesis: There is a significant relationship between concave points error and target\n",
      "\u001b[0m\n",
      "ANOVA statistic: 0.02\n",
      "p-value: 0.8766418183860331\n",
      "\u001b[31mNo significant relationship between symmetry error and target\n",
      "\u001b[0m\n",
      "ANOVA statistic: 3.47\n",
      "p-value: 0.06307355082240175\n",
      "\u001b[31mNo significant relationship between fractal dimension error and target\n",
      "\u001b[0m\n",
      "ANOVA statistic: 860.78\n",
      "p-value: 8.482291921685478e-116\n",
      "\u001b[32mReject the null hypothesis: There is a significant relationship between worst radius and target\n",
      "\u001b[0m\n",
      "ANOVA statistic: 149.6\n",
      "p-value: 1.0780574879494634e-30\n",
      "\u001b[32mReject the null hypothesis: There is a significant relationship between worst texture and target\n",
      "\u001b[0m\n",
      "ANOVA statistic: 897.94\n",
      "p-value: 5.771397139669512e-119\n",
      "\u001b[32mReject the null hypothesis: There is a significant relationship between worst perimeter and target\n",
      "\u001b[0m\n",
      "ANOVA statistic: 661.6\n",
      "p-value: 2.8288477042872213e-97\n",
      "\u001b[32mReject the null hypothesis: There is a significant relationship between worst area and target\n",
      "\u001b[0m\n",
      "ANOVA statistic: 122.47\n",
      "p-value: 6.575143633985019e-26\n",
      "\u001b[32mReject the null hypothesis: There is a significant relationship between worst smoothness and target\n",
      "\u001b[0m\n",
      "ANOVA statistic: 304.34\n",
      "p-value: 7.069816352539104e-55\n",
      "\u001b[32mReject the null hypothesis: There is a significant relationship between worst compactness and target\n",
      "\u001b[0m\n",
      "ANOVA statistic: 436.69\n",
      "p-value: 2.464663956782974e-72\n",
      "\u001b[32mReject the null hypothesis: There is a significant relationship between worst concavity and target\n",
      "\u001b[0m\n",
      "ANOVA statistic: 964.39\n",
      "p-value: 1.9690997072169153e-124\n",
      "\u001b[32mReject the null hypothesis: There is a significant relationship between worst concave points and target\n",
      "\u001b[0m\n",
      "ANOVA statistic: 118.86\n",
      "p-value: 2.9511205771542106e-25\n",
      "\u001b[32mReject the null hypothesis: There is a significant relationship between worst symmetry and target\n",
      "\u001b[0m\n",
      "ANOVA statistic: 66.44\n",
      "p-value: 2.31643244998312e-15\n",
      "\u001b[32mReject the null hypothesis: There is a significant relationship between worst fractal dimension and target\n",
      "\u001b[0m\n"
     ]
    }
   ],
   "source": [
    "num_cols = list(df.select_dtypes('float64').columns)\n",
    "unrelated_num_cols = []\n",
    "categorical_col = 'target'\n",
    "\n",
    "for i in num_cols:\n",
    "    # Perform Kruskal-Wallis test\n",
    "    grouped_data = [df[i][df[categorical_col] == category] for category in df[categorical_col].unique()]\n",
    "    statistic, p_value = stats.f_oneway(*grouped_data)\n",
    "\n",
    "    # Set the significance level (alpha)\n",
    "    alpha = 0.05\n",
    "\n",
    "    # Print the results with appropriate text color\n",
    "    if p_value < alpha:\n",
    "        print( f\"ANOVA statistic: {round(statistic, 2)}\")\n",
    "        print(f\"p-value: {p_value}\")\n",
    "        print(\"\\033[32m\" + f\"Reject the null hypothesis: There is a significant relationship between {i} and {categorical_col}\")\n",
    "        print(\"\\033[0m\")  # Reset text color to default\n",
    "    else:\n",
    "        print( f\"ANOVA statistic: {round(statistic, 2)}\")\n",
    "        print(f\"p-value: {p_value}\")\n",
    "        print(\"\\033[31m\" + f\"No significant relationship between {i} and {categorical_col}\")\n",
    "        print(\"\\033[0m\")  # Reset text color to default\n",
    "        unrelated_num_cols.append(i)"
   ]
  },
  {
   "cell_type": "code",
   "execution_count": 9,
   "metadata": {
    "execution": {
     "iopub.execute_input": "2024-02-26T09:38:13.462822Z",
     "iopub.status.busy": "2024-02-26T09:38:13.462509Z",
     "iopub.status.idle": "2024-02-26T09:38:13.467356Z",
     "shell.execute_reply": "2024-02-26T09:38:13.466605Z",
     "shell.execute_reply.started": "2024-02-26T09:38:13.462794Z"
    },
    "trusted": true
   },
   "outputs": [
    {
     "name": "stdout",
     "output_type": "stream",
     "text": [
      "The columns that failed the ANOVA test are ['mean fractal dimension', 'texture error', 'smoothness error', 'symmetry error', 'fractal dimension error']. These columns don't help in making predictions.\n"
     ]
    }
   ],
   "source": [
    "print(f'The columns that failed the ANOVA test are {unrelated_num_cols}. These columns don\\'t help in making predictions.')"
   ]
  },
  {
   "cell_type": "markdown",
   "metadata": {},
   "source": [
    "We can drop these columns from our data and then we can use PCA to find which column explain the most variance in our data. By doing this, we will be helping the PCA algorithm computationally."
   ]
  },
  {
   "cell_type": "markdown",
   "metadata": {},
   "source": [
    "## What is the spread of Mean Texture??\n",
    "\n",
    "The texture is an important feature for image analysis techniques that are used to classify tumors and evaluate the presence of cancer. Texture analysis can be used to detect regions of high and low density in an image, which can help to identify the presence and type of tumor."
   ]
  },
  {
   "cell_type": "code",
   "execution_count": 10,
   "metadata": {
    "execution": {
     "iopub.execute_input": "2024-02-26T09:38:13.470276Z",
     "iopub.status.busy": "2024-02-26T09:38:13.469978Z",
     "iopub.status.idle": "2024-02-26T09:38:14.310346Z",
     "shell.execute_reply": "2024-02-26T09:38:14.309518Z",
     "shell.execute_reply.started": "2024-02-26T09:38:13.470249Z"
    },
    "trusted": true
   },
   "outputs": [
    {
     "data": {
      "text/html": [
       "        <script type=\"text/javascript\">\n",
       "        window.PlotlyConfig = {MathJaxConfig: 'local'};\n",
       "        if (window.MathJax && window.MathJax.Hub && window.MathJax.Hub.Config) {window.MathJax.Hub.Config({SVG: {font: \"STIX-Web\"}});}\n",
       "        if (typeof require !== 'undefined') {\n",
       "        require.undef(\"plotly\");\n",
       "        requirejs.config({\n",
       "            paths: {\n",
       "                'plotly': ['https://cdn.plot.ly/plotly-2.12.1.min']\n",
       "            }\n",
       "        });\n",
       "        require(['plotly'], function(Plotly) {\n",
       "            window._Plotly = Plotly;\n",
       "        });\n",
       "        }\n",
       "        </script>\n",
       "        "
      ]
     },
     "metadata": {},
     "output_type": "display_data"
    },
    {
     "data": {
      "text/html": [
       "<div>                            <div id=\"5aff18a3-8198-4b3c-a379-5324a628ed38\" class=\"plotly-graph-div\" style=\"height:525px; width:100%;\"></div>            <script type=\"text/javascript\">                require([\"plotly\"], function(Plotly) {                    window.PLOTLYENV=window.PLOTLYENV || {};                                    if (document.getElementById(\"5aff18a3-8198-4b3c-a379-5324a628ed38\")) {                    Plotly.newPlot(                        \"5aff18a3-8198-4b3c-a379-5324a628ed38\",                        [{\"customdata\":[[0],[0],[0],[0],[0],[0],[0],[0],[0],[0],[0],[0],[0],[0],[0],[0],[0],[0],[0],[1],[1],[1],[0],[0],[0],[0],[0],[0],[0],[0],[0],[0],[0],[0],[0],[0],[0],[1],[0],[0],[0],[0],[0],[0],[0],[0],[1],[0],[1],[1],[1],[1],[1],[0],[0],[1],[0],[0],[1],[1],[1],[1],[0],[1],[0],[0],[1],[1],[1],[1],[0],[1],[0],[0],[1],[0],[1],[0],[0],[1],[1],[1],[0],[0],[1],[0],[0],[0],[1],[1],[1],[0],[1],[1],[0],[0],[1],[1],[1],[0],[0],[1],[1],[1],[1],[0],[1],[1],[0],[1],[1],[1],[1],[1],[1],[1],[1],[0],[0],[0],[1],[0],[0],[1],[1],[1],[0],[0],[1],[0],[1],[0],[0],[1],[0],[0],[1],[1],[0],[1],[1],[0],[1],[1],[1],[1],[0],[1],[1],[1],[1],[1],[1],[1],[1],[1],[0],[1],[1],[1],[1],[0],[0],[1],[0],[1],[1],[0],[0],[1],[1],[0],[0],[1],[1],[1],[1],[0],[1],[1],[0],[0],[0],[1],[0],[1],[0],[1],[1],[1],[0],[1],[1],[0],[0],[1],[0],[0],[0],[0],[1],[0],[0],[0],[1],[0],[1],[0],[1],[1],[0],[1],[0],[0],[0],[0],[1],[1],[0],[0],[1],[1],[1],[0],[1],[1],[1],[1],[1],[0],[0],[1],[1],[0],[1],[1],[0],[0],[1],[0],[1],[1],[1],[1],[0],[1],[1],[1],[1],[1],[0],[1],[0],[0],[0],[0],[0],[0],[0],[0],[0],[0],[0],[0],[0],[0],[1],[1],[1],[1],[1],[1],[0],[1],[0],[1],[1],[0],[1],[1],[0],[1],[0],[0],[1],[1],[1],[1],[1],[1],[1],[1],[1],[1],[1],[1],[1],[0],[1],[1],[0],[1],[0],[1],[1],[1],[1],[1],[1],[1],[1],[1],[1],[1],[1],[1],[1],[0],[1],[1],[1],[0],[1],[0],[1],[1],[1],[1],[0],[0],[0],[1],[1],[1],[1],[0],[1],[0],[1],[0],[1],[1],[1],[0],[1],[1],[1],[1],[1],[1],[1],[0],[0],[0],[1],[1],[1],[1],[1],[1],[1],[1],[1],[1],[1],[0],[0],[1],[0],[0],[0],[1],[0],[0],[1],[1],[1],[1],[1],[0],[1],[1],[1],[1],[1],[0],[1],[1],[1],[0],[1],[1],[0],[0],[1],[1],[1],[1],[1],[1],[0],[1],[1],[1],[1],[1],[1],[1],[0],[1],[1],[1],[1],[1],[0],[1],[1],[0],[1],[1],[1],[1],[1],[1],[1],[1],[1],[1],[1],[1],[0],[1],[0],[0],[1],[0],[1],[1],[1],[1],[1],[0],[1],[1],[0],[1],[0],[1],[1],[0],[1],[0],[1],[1],[1],[1],[1],[1],[1],[1],[0],[0],[1],[1],[1],[1],[1],[1],[0],[1],[1],[1],[1],[1],[1],[1],[1],[1],[1],[0],[1],[1],[1],[1],[1],[1],[1],[0],[1],[0],[1],[1],[0],[1],[1],[1],[1],[1],[0],[0],[1],[0],[1],[0],[1],[1],[1],[1],[1],[0],[1],[1],[0],[1],[0],[1],[0],[0],[1],[1],[1],[0],[1],[1],[1],[1],[1],[1],[1],[1],[1],[1],[1],[0],[1],[0],[0],[1],[1],[1],[1],[1],[1],[1],[1],[1],[1],[1],[1],[1],[1],[1],[1],[1],[1],[1],[1],[1],[1],[1],[1],[1],[0],[0],[0],[0],[0],[0],[1]],\"hovertemplate\":\"Mean Texture=%{marker.size}<br>index=%{y}<br>Target=%{marker.color}<extra></extra>\",\"legendgroup\":\"\",\"marker\":{\"color\":[0,0,0,0,0,0,0,0,0,0,0,0,0,0,0,0,0,0,0,1,1,1,0,0,0,0,0,0,0,0,0,0,0,0,0,0,0,1,0,0,0,0,0,0,0,0,1,0,1,1,1,1,1,0,0,1,0,0,1,1,1,1,0,1,0,0,1,1,1,1,0,1,0,0,1,0,1,0,0,1,1,1,0,0,1,0,0,0,1,1,1,0,1,1,0,0,1,1,1,0,0,1,1,1,1,0,1,1,0,1,1,1,1,1,1,1,1,0,0,0,1,0,0,1,1,1,0,0,1,0,1,0,0,1,0,0,1,1,0,1,1,0,1,1,1,1,0,1,1,1,1,1,1,1,1,1,0,1,1,1,1,0,0,1,0,1,1,0,0,1,1,0,0,1,1,1,1,0,1,1,0,0,0,1,0,1,0,1,1,1,0,1,1,0,0,1,0,0,0,0,1,0,0,0,1,0,1,0,1,1,0,1,0,0,0,0,1,1,0,0,1,1,1,0,1,1,1,1,1,0,0,1,1,0,1,1,0,0,1,0,1,1,1,1,0,1,1,1,1,1,0,1,0,0,0,0,0,0,0,0,0,0,0,0,0,0,1,1,1,1,1,1,0,1,0,1,1,0,1,1,0,1,0,0,1,1,1,1,1,1,1,1,1,1,1,1,1,0,1,1,0,1,0,1,1,1,1,1,1,1,1,1,1,1,1,1,1,0,1,1,1,0,1,0,1,1,1,1,0,0,0,1,1,1,1,0,1,0,1,0,1,1,1,0,1,1,1,1,1,1,1,0,0,0,1,1,1,1,1,1,1,1,1,1,1,0,0,1,0,0,0,1,0,0,1,1,1,1,1,0,1,1,1,1,1,0,1,1,1,0,1,1,0,0,1,1,1,1,1,1,0,1,1,1,1,1,1,1,0,1,1,1,1,1,0,1,1,0,1,1,1,1,1,1,1,1,1,1,1,1,0,1,0,0,1,0,1,1,1,1,1,0,1,1,0,1,0,1,1,0,1,0,1,1,1,1,1,1,1,1,0,0,1,1,1,1,1,1,0,1,1,1,1,1,1,1,1,1,1,0,1,1,1,1,1,1,1,0,1,0,1,1,0,1,1,1,1,1,0,0,1,0,1,0,1,1,1,1,1,0,1,1,0,1,0,1,0,0,1,1,1,0,1,1,1,1,1,1,1,1,1,1,1,0,1,0,0,1,1,1,1,1,1,1,1,1,1,1,1,1,1,1,1,1,1,1,1,1,1,1,1,1,0,0,0,0,0,0,1],\"coloraxis\":\"coloraxis\",\"size\":[10.38,17.77,21.25,20.38,14.34,15.7,19.98,20.83,21.82,24.04,23.24,17.89,24.8,23.95,22.61,27.54,20.13,20.68,22.15,14.36,15.71,12.44,14.26,23.04,21.38,16.4,21.53,20.25,25.27,15.05,25.11,18.7,23.98,26.47,17.88,21.59,21.72,18.42,25.2,20.82,21.58,21.35,24.81,20.28,21.81,17.6,16.84,18.66,14.63,22.3,21.6,16.34,18.24,18.7,22.02,18.75,18.57,21.59,19.31,11.79,14.88,20.98,22.15,13.86,23.84,23.94,21.01,19.04,17.33,16.49,21.31,14.64,24.52,15.79,16.52,19.65,10.94,16.15,23.97,18.0,20.97,15.86,24.91,26.29,15.65,18.52,21.46,24.59,21.8,15.24,24.02,22.76,14.76,18.3,19.83,23.03,17.84,19.94,12.84,19.77,24.98,13.43,20.52,19.4,19.29,15.56,18.33,18.54,19.67,21.26,16.99,20.76,19.65,20.19,15.83,21.53,15.76,16.67,22.91,20.01,10.82,17.12,20.2,10.89,16.39,17.21,24.69,18.91,16.39,25.12,13.29,19.48,21.54,13.93,21.91,22.47,16.67,15.39,17.57,13.39,11.97,18.05,17.31,15.92,14.97,14.65,16.58,18.77,15.18,17.91,20.78,20.7,15.34,13.08,15.34,17.94,20.74,19.46,12.74,12.96,20.18,15.94,18.15,22.22,22.04,19.76,9.71,18.8,24.68,16.95,12.39,19.63,11.89,14.71,15.15,14.45,18.06,20.11,22.22,13.06,21.87,26.57,20.31,14.92,22.41,15.11,18.58,17.19,17.39,15.9,23.12,21.41,18.22,26.86,23.21,16.33,22.29,21.84,22.49,20.22,19.56,19.32,26.67,23.75,18.6,16.68,17.27,20.26,22.54,12.91,22.14,18.94,18.47,25.56,23.81,16.93,18.35,17.48,21.56,32.47,13.16,13.9,17.53,20.25,17.02,13.47,15.46,15.51,23.97,22.33,19.08,27.08,33.81,27.81,15.91,21.25,26.97,21.46,27.85,39.28,15.6,15.04,18.19,23.77,23.5,19.86,17.43,14.11,25.22,14.93,23.56,18.45,19.82,17.08,19.33,17.05,28.77,17.27,23.2,33.56,27.06,23.06,22.13,19.38,22.07,31.12,18.95,21.84,16.21,20.39,16.82,13.04,20.99,15.67,24.48,17.36,14.16,19.98,17.84,15.18,26.6,14.02,18.18,18.77,15.7,18.4,20.76,13.12,19.96,18.89,19.73,19.1,16.02,17.46,13.78,13.27,12.35,18.14,18.17,23.09,18.9,19.89,23.86,18.61,18.16,24.49,15.82,14.4,12.71,13.84,19.11,15.69,13.37,10.72,18.6,16.85,14.08,18.87,18.9,17.0,16.18,19.66,13.32,21.51,15.21,17.3,12.88,17.93,20.71,21.88,15.51,19.35,19.86,14.78,19.02,21.0,14.23,21.43,17.53,24.27,16.54,16.84,14.96,21.68,15.45,14.71,18.9,14.74,16.03,14.96,17.07,19.22,17.46,25.74,14.07,19.07,18.59,16.21,15.49,18.32,18.07,21.57,18.84,18.29,16.95,21.78,26.83,18.02,17.25,21.9,23.29,13.21,15.1,17.35,16.07,16.07,20.22,28.21,15.15,18.83,12.96,14.93,22.72,17.48,13.72,23.29,14.09,16.16,15.5,23.21,12.22,16.84,19.97,22.28,17.72,17.18,18.89,17.46,14.83,17.26,21.02,10.91,18.29,16.17,14.95,18.59,14.86,21.37,20.66,17.92,17.57,16.83,21.68,22.11,29.81,21.17,21.7,21.08,12.17,21.41,19.04,13.98,16.02,19.13,19.12,21.28,14.98,21.98,16.62,17.67,22.53,17.68,19.54,21.97,16.94,19.62,19.54,15.98,19.6,15.66,17.2,25.42,15.79,18.32,16.85,24.89,28.03,17.66,19.34,20.52,21.54,25.0,28.23,13.98,17.15,30.72,29.29,25.25,25.13,28.2,27.15,26.27,26.99,18.36,18.22,20.13,20.74,18.1,23.33,18.18,18.49,28.14,14.93,29.97,15.62,15.73,20.53,16.62,14.59,19.51,18.03,19.24,14.06,17.64,11.28,16.41,16.85,18.82,16.17,20.2,22.44,13.23,20.56,12.83,20.54,20.21,18.17,17.31,17.52,21.24,16.74,24.49,16.32,19.83,12.87,13.14,20.04,17.12,15.7,23.95,14.69,14.7,20.52,13.66,19.07,18.61,20.58,20.26,18.22,16.7,13.9,21.6,19.83,18.68,15.68,13.1,18.75,12.27,13.17,13.44,17.56,20.02,16.33,20.67,17.62,20.86,22.55,24.44,25.49,25.44,14.44,24.99,25.42,28.06,20.7,23.23,16.35,16.58,19.34,24.21,21.48,22.44,29.43,21.94,28.92,27.61,19.59,27.88,22.68,23.93,27.15,29.37,30.62,25.09,22.39,28.25,28.08,29.33,24.54],\"sizemode\":\"area\",\"sizeref\":0.09820000000000001,\"symbol\":\"circle\"},\"mode\":\"markers\",\"name\":\"\",\"orientation\":\"h\",\"showlegend\":false,\"x\":[10.38,17.77,21.25,20.38,14.34,15.7,19.98,20.83,21.82,24.04,23.24,17.89,24.8,23.95,22.61,27.54,20.13,20.68,22.15,14.36,15.71,12.44,14.26,23.04,21.38,16.4,21.53,20.25,25.27,15.05,25.11,18.7,23.98,26.47,17.88,21.59,21.72,18.42,25.2,20.82,21.58,21.35,24.81,20.28,21.81,17.6,16.84,18.66,14.63,22.3,21.6,16.34,18.24,18.7,22.02,18.75,18.57,21.59,19.31,11.79,14.88,20.98,22.15,13.86,23.84,23.94,21.01,19.04,17.33,16.49,21.31,14.64,24.52,15.79,16.52,19.65,10.94,16.15,23.97,18.0,20.97,15.86,24.91,26.29,15.65,18.52,21.46,24.59,21.8,15.24,24.02,22.76,14.76,18.3,19.83,23.03,17.84,19.94,12.84,19.77,24.98,13.43,20.52,19.4,19.29,15.56,18.33,18.54,19.67,21.26,16.99,20.76,19.65,20.19,15.83,21.53,15.76,16.67,22.91,20.01,10.82,17.12,20.2,10.89,16.39,17.21,24.69,18.91,16.39,25.12,13.29,19.48,21.54,13.93,21.91,22.47,16.67,15.39,17.57,13.39,11.97,18.05,17.31,15.92,14.97,14.65,16.58,18.77,15.18,17.91,20.78,20.7,15.34,13.08,15.34,17.94,20.74,19.46,12.74,12.96,20.18,15.94,18.15,22.22,22.04,19.76,9.71,18.8,24.68,16.95,12.39,19.63,11.89,14.71,15.15,14.45,18.06,20.11,22.22,13.06,21.87,26.57,20.31,14.92,22.41,15.11,18.58,17.19,17.39,15.9,23.12,21.41,18.22,26.86,23.21,16.33,22.29,21.84,22.49,20.22,19.56,19.32,26.67,23.75,18.6,16.68,17.27,20.26,22.54,12.91,22.14,18.94,18.47,25.56,23.81,16.93,18.35,17.48,21.56,32.47,13.16,13.9,17.53,20.25,17.02,13.47,15.46,15.51,23.97,22.33,19.08,27.08,33.81,27.81,15.91,21.25,26.97,21.46,27.85,39.28,15.6,15.04,18.19,23.77,23.5,19.86,17.43,14.11,25.22,14.93,23.56,18.45,19.82,17.08,19.33,17.05,28.77,17.27,23.2,33.56,27.06,23.06,22.13,19.38,22.07,31.12,18.95,21.84,16.21,20.39,16.82,13.04,20.99,15.67,24.48,17.36,14.16,19.98,17.84,15.18,26.6,14.02,18.18,18.77,15.7,18.4,20.76,13.12,19.96,18.89,19.73,19.1,16.02,17.46,13.78,13.27,12.35,18.14,18.17,23.09,18.9,19.89,23.86,18.61,18.16,24.49,15.82,14.4,12.71,13.84,19.11,15.69,13.37,10.72,18.6,16.85,14.08,18.87,18.9,17.0,16.18,19.66,13.32,21.51,15.21,17.3,12.88,17.93,20.71,21.88,15.51,19.35,19.86,14.78,19.02,21.0,14.23,21.43,17.53,24.27,16.54,16.84,14.96,21.68,15.45,14.71,18.9,14.74,16.03,14.96,17.07,19.22,17.46,25.74,14.07,19.07,18.59,16.21,15.49,18.32,18.07,21.57,18.84,18.29,16.95,21.78,26.83,18.02,17.25,21.9,23.29,13.21,15.1,17.35,16.07,16.07,20.22,28.21,15.15,18.83,12.96,14.93,22.72,17.48,13.72,23.29,14.09,16.16,15.5,23.21,12.22,16.84,19.97,22.28,17.72,17.18,18.89,17.46,14.83,17.26,21.02,10.91,18.29,16.17,14.95,18.59,14.86,21.37,20.66,17.92,17.57,16.83,21.68,22.11,29.81,21.17,21.7,21.08,12.17,21.41,19.04,13.98,16.02,19.13,19.12,21.28,14.98,21.98,16.62,17.67,22.53,17.68,19.54,21.97,16.94,19.62,19.54,15.98,19.6,15.66,17.2,25.42,15.79,18.32,16.85,24.89,28.03,17.66,19.34,20.52,21.54,25.0,28.23,13.98,17.15,30.72,29.29,25.25,25.13,28.2,27.15,26.27,26.99,18.36,18.22,20.13,20.74,18.1,23.33,18.18,18.49,28.14,14.93,29.97,15.62,15.73,20.53,16.62,14.59,19.51,18.03,19.24,14.06,17.64,11.28,16.41,16.85,18.82,16.17,20.2,22.44,13.23,20.56,12.83,20.54,20.21,18.17,17.31,17.52,21.24,16.74,24.49,16.32,19.83,12.87,13.14,20.04,17.12,15.7,23.95,14.69,14.7,20.52,13.66,19.07,18.61,20.58,20.26,18.22,16.7,13.9,21.6,19.83,18.68,15.68,13.1,18.75,12.27,13.17,13.44,17.56,20.02,16.33,20.67,17.62,20.86,22.55,24.44,25.49,25.44,14.44,24.99,25.42,28.06,20.7,23.23,16.35,16.58,19.34,24.21,21.48,22.44,29.43,21.94,28.92,27.61,19.59,27.88,22.68,23.93,27.15,29.37,30.62,25.09,22.39,28.25,28.08,29.33,24.54],\"xaxis\":\"x\",\"y\":[0,1,2,3,4,5,6,7,8,9,10,11,12,13,14,15,16,17,18,19,20,21,22,23,24,25,26,27,28,29,30,31,32,33,34,35,36,37,38,39,40,41,42,43,44,45,46,47,48,49,50,51,52,53,54,55,56,57,58,59,60,61,62,63,64,65,66,67,68,69,70,71,72,73,74,75,76,77,78,79,80,81,82,83,84,85,86,87,88,89,90,91,92,93,94,95,96,97,98,99,100,101,102,103,104,105,106,107,108,109,110,111,112,113,114,115,116,117,118,119,120,121,122,123,124,125,126,127,128,129,130,131,132,133,134,135,136,137,138,139,140,141,142,143,144,145,146,147,148,149,150,151,152,153,154,155,156,157,158,159,160,161,162,163,164,165,166,167,168,169,170,171,172,173,174,175,176,177,178,179,180,181,182,183,184,185,186,187,188,189,190,191,192,193,194,195,196,197,198,199,200,201,202,203,204,205,206,207,208,209,210,211,212,213,214,215,216,217,218,219,220,221,222,223,224,225,226,227,228,229,230,231,232,233,234,235,236,237,238,239,240,241,242,243,244,245,246,247,248,249,250,251,252,253,254,255,256,257,258,259,260,261,262,263,264,265,266,267,268,269,270,271,272,273,274,275,276,277,278,279,280,281,282,283,284,285,286,287,288,289,290,291,292,293,294,295,296,297,298,299,300,301,302,303,304,305,306,307,308,309,310,311,312,313,314,315,316,317,318,319,320,321,322,323,324,325,326,327,328,329,330,331,332,333,334,335,336,337,338,339,340,341,342,343,344,345,346,347,348,349,350,351,352,353,354,355,356,357,358,359,360,361,362,363,364,365,366,367,368,369,370,371,372,373,374,375,376,377,378,379,380,381,382,383,384,385,386,387,388,389,390,391,392,393,394,395,396,397,398,399,400,401,402,403,404,405,406,407,408,409,410,411,412,413,414,415,416,417,418,419,420,421,422,423,424,425,426,427,428,429,430,431,432,433,434,435,436,437,438,439,440,441,442,443,444,445,446,447,448,449,450,451,452,453,454,455,456,457,458,459,460,461,462,463,464,465,466,467,468,469,470,471,472,473,474,475,476,477,478,479,480,481,482,483,484,485,486,487,488,489,490,491,492,493,494,495,496,497,498,499,500,501,502,503,504,505,506,507,508,509,510,511,512,513,514,515,516,517,518,519,520,521,522,523,524,525,526,527,528,529,530,531,532,533,534,535,536,537,538,539,540,541,542,543,544,545,546,547,548,549,550,551,552,553,554,555,556,557,558,559,560,561,562,563,564,565,566,567,568],\"yaxis\":\"y\",\"type\":\"scatter\"}],                        {\"template\":{\"data\":{\"barpolar\":[{\"marker\":{\"line\":{\"color\":\"white\",\"width\":0.5},\"pattern\":{\"fillmode\":\"overlay\",\"size\":10,\"solidity\":0.2}},\"type\":\"barpolar\"}],\"bar\":[{\"error_x\":{\"color\":\"rgb(36,36,36)\"},\"error_y\":{\"color\":\"rgb(36,36,36)\"},\"marker\":{\"line\":{\"color\":\"white\",\"width\":0.5},\"pattern\":{\"fillmode\":\"overlay\",\"size\":10,\"solidity\":0.2}},\"type\":\"bar\"}],\"carpet\":[{\"aaxis\":{\"endlinecolor\":\"rgb(36,36,36)\",\"gridcolor\":\"white\",\"linecolor\":\"white\",\"minorgridcolor\":\"white\",\"startlinecolor\":\"rgb(36,36,36)\"},\"baxis\":{\"endlinecolor\":\"rgb(36,36,36)\",\"gridcolor\":\"white\",\"linecolor\":\"white\",\"minorgridcolor\":\"white\",\"startlinecolor\":\"rgb(36,36,36)\"},\"type\":\"carpet\"}],\"choropleth\":[{\"colorbar\":{\"outlinewidth\":1,\"tickcolor\":\"rgb(36,36,36)\",\"ticks\":\"outside\"},\"type\":\"choropleth\"}],\"contourcarpet\":[{\"colorbar\":{\"outlinewidth\":1,\"tickcolor\":\"rgb(36,36,36)\",\"ticks\":\"outside\"},\"type\":\"contourcarpet\"}],\"contour\":[{\"colorbar\":{\"outlinewidth\":1,\"tickcolor\":\"rgb(36,36,36)\",\"ticks\":\"outside\"},\"colorscale\":[[0.0,\"#440154\"],[0.1111111111111111,\"#482878\"],[0.2222222222222222,\"#3e4989\"],[0.3333333333333333,\"#31688e\"],[0.4444444444444444,\"#26828e\"],[0.5555555555555556,\"#1f9e89\"],[0.6666666666666666,\"#35b779\"],[0.7777777777777778,\"#6ece58\"],[0.8888888888888888,\"#b5de2b\"],[1.0,\"#fde725\"]],\"type\":\"contour\"}],\"heatmapgl\":[{\"colorbar\":{\"outlinewidth\":1,\"tickcolor\":\"rgb(36,36,36)\",\"ticks\":\"outside\"},\"colorscale\":[[0.0,\"#440154\"],[0.1111111111111111,\"#482878\"],[0.2222222222222222,\"#3e4989\"],[0.3333333333333333,\"#31688e\"],[0.4444444444444444,\"#26828e\"],[0.5555555555555556,\"#1f9e89\"],[0.6666666666666666,\"#35b779\"],[0.7777777777777778,\"#6ece58\"],[0.8888888888888888,\"#b5de2b\"],[1.0,\"#fde725\"]],\"type\":\"heatmapgl\"}],\"heatmap\":[{\"colorbar\":{\"outlinewidth\":1,\"tickcolor\":\"rgb(36,36,36)\",\"ticks\":\"outside\"},\"colorscale\":[[0.0,\"#440154\"],[0.1111111111111111,\"#482878\"],[0.2222222222222222,\"#3e4989\"],[0.3333333333333333,\"#31688e\"],[0.4444444444444444,\"#26828e\"],[0.5555555555555556,\"#1f9e89\"],[0.6666666666666666,\"#35b779\"],[0.7777777777777778,\"#6ece58\"],[0.8888888888888888,\"#b5de2b\"],[1.0,\"#fde725\"]],\"type\":\"heatmap\"}],\"histogram2dcontour\":[{\"colorbar\":{\"outlinewidth\":1,\"tickcolor\":\"rgb(36,36,36)\",\"ticks\":\"outside\"},\"colorscale\":[[0.0,\"#440154\"],[0.1111111111111111,\"#482878\"],[0.2222222222222222,\"#3e4989\"],[0.3333333333333333,\"#31688e\"],[0.4444444444444444,\"#26828e\"],[0.5555555555555556,\"#1f9e89\"],[0.6666666666666666,\"#35b779\"],[0.7777777777777778,\"#6ece58\"],[0.8888888888888888,\"#b5de2b\"],[1.0,\"#fde725\"]],\"type\":\"histogram2dcontour\"}],\"histogram2d\":[{\"colorbar\":{\"outlinewidth\":1,\"tickcolor\":\"rgb(36,36,36)\",\"ticks\":\"outside\"},\"colorscale\":[[0.0,\"#440154\"],[0.1111111111111111,\"#482878\"],[0.2222222222222222,\"#3e4989\"],[0.3333333333333333,\"#31688e\"],[0.4444444444444444,\"#26828e\"],[0.5555555555555556,\"#1f9e89\"],[0.6666666666666666,\"#35b779\"],[0.7777777777777778,\"#6ece58\"],[0.8888888888888888,\"#b5de2b\"],[1.0,\"#fde725\"]],\"type\":\"histogram2d\"}],\"histogram\":[{\"marker\":{\"line\":{\"color\":\"white\",\"width\":0.6}},\"type\":\"histogram\"}],\"mesh3d\":[{\"colorbar\":{\"outlinewidth\":1,\"tickcolor\":\"rgb(36,36,36)\",\"ticks\":\"outside\"},\"type\":\"mesh3d\"}],\"parcoords\":[{\"line\":{\"colorbar\":{\"outlinewidth\":1,\"tickcolor\":\"rgb(36,36,36)\",\"ticks\":\"outside\"}},\"type\":\"parcoords\"}],\"pie\":[{\"automargin\":true,\"type\":\"pie\"}],\"scatter3d\":[{\"line\":{\"colorbar\":{\"outlinewidth\":1,\"tickcolor\":\"rgb(36,36,36)\",\"ticks\":\"outside\"}},\"marker\":{\"colorbar\":{\"outlinewidth\":1,\"tickcolor\":\"rgb(36,36,36)\",\"ticks\":\"outside\"}},\"type\":\"scatter3d\"}],\"scattercarpet\":[{\"marker\":{\"colorbar\":{\"outlinewidth\":1,\"tickcolor\":\"rgb(36,36,36)\",\"ticks\":\"outside\"}},\"type\":\"scattercarpet\"}],\"scattergeo\":[{\"marker\":{\"colorbar\":{\"outlinewidth\":1,\"tickcolor\":\"rgb(36,36,36)\",\"ticks\":\"outside\"}},\"type\":\"scattergeo\"}],\"scattergl\":[{\"marker\":{\"colorbar\":{\"outlinewidth\":1,\"tickcolor\":\"rgb(36,36,36)\",\"ticks\":\"outside\"}},\"type\":\"scattergl\"}],\"scattermapbox\":[{\"marker\":{\"colorbar\":{\"outlinewidth\":1,\"tickcolor\":\"rgb(36,36,36)\",\"ticks\":\"outside\"}},\"type\":\"scattermapbox\"}],\"scatterpolargl\":[{\"marker\":{\"colorbar\":{\"outlinewidth\":1,\"tickcolor\":\"rgb(36,36,36)\",\"ticks\":\"outside\"}},\"type\":\"scatterpolargl\"}],\"scatterpolar\":[{\"marker\":{\"colorbar\":{\"outlinewidth\":1,\"tickcolor\":\"rgb(36,36,36)\",\"ticks\":\"outside\"}},\"type\":\"scatterpolar\"}],\"scatter\":[{\"fillpattern\":{\"fillmode\":\"overlay\",\"size\":10,\"solidity\":0.2},\"type\":\"scatter\"}],\"scatterternary\":[{\"marker\":{\"colorbar\":{\"outlinewidth\":1,\"tickcolor\":\"rgb(36,36,36)\",\"ticks\":\"outside\"}},\"type\":\"scatterternary\"}],\"surface\":[{\"colorbar\":{\"outlinewidth\":1,\"tickcolor\":\"rgb(36,36,36)\",\"ticks\":\"outside\"},\"colorscale\":[[0.0,\"#440154\"],[0.1111111111111111,\"#482878\"],[0.2222222222222222,\"#3e4989\"],[0.3333333333333333,\"#31688e\"],[0.4444444444444444,\"#26828e\"],[0.5555555555555556,\"#1f9e89\"],[0.6666666666666666,\"#35b779\"],[0.7777777777777778,\"#6ece58\"],[0.8888888888888888,\"#b5de2b\"],[1.0,\"#fde725\"]],\"type\":\"surface\"}],\"table\":[{\"cells\":{\"fill\":{\"color\":\"rgb(237,237,237)\"},\"line\":{\"color\":\"white\"}},\"header\":{\"fill\":{\"color\":\"rgb(217,217,217)\"},\"line\":{\"color\":\"white\"}},\"type\":\"table\"}]},\"layout\":{\"annotationdefaults\":{\"arrowhead\":0,\"arrowwidth\":1},\"autotypenumbers\":\"strict\",\"coloraxis\":{\"colorbar\":{\"outlinewidth\":1,\"tickcolor\":\"rgb(36,36,36)\",\"ticks\":\"outside\"}},\"colorscale\":{\"diverging\":[[0.0,\"rgb(103,0,31)\"],[0.1,\"rgb(178,24,43)\"],[0.2,\"rgb(214,96,77)\"],[0.3,\"rgb(244,165,130)\"],[0.4,\"rgb(253,219,199)\"],[0.5,\"rgb(247,247,247)\"],[0.6,\"rgb(209,229,240)\"],[0.7,\"rgb(146,197,222)\"],[0.8,\"rgb(67,147,195)\"],[0.9,\"rgb(33,102,172)\"],[1.0,\"rgb(5,48,97)\"]],\"sequential\":[[0.0,\"#440154\"],[0.1111111111111111,\"#482878\"],[0.2222222222222222,\"#3e4989\"],[0.3333333333333333,\"#31688e\"],[0.4444444444444444,\"#26828e\"],[0.5555555555555556,\"#1f9e89\"],[0.6666666666666666,\"#35b779\"],[0.7777777777777778,\"#6ece58\"],[0.8888888888888888,\"#b5de2b\"],[1.0,\"#fde725\"]],\"sequentialminus\":[[0.0,\"#440154\"],[0.1111111111111111,\"#482878\"],[0.2222222222222222,\"#3e4989\"],[0.3333333333333333,\"#31688e\"],[0.4444444444444444,\"#26828e\"],[0.5555555555555556,\"#1f9e89\"],[0.6666666666666666,\"#35b779\"],[0.7777777777777778,\"#6ece58\"],[0.8888888888888888,\"#b5de2b\"],[1.0,\"#fde725\"]]},\"colorway\":[\"#1F77B4\",\"#FF7F0E\",\"#2CA02C\",\"#D62728\",\"#9467BD\",\"#8C564B\",\"#E377C2\",\"#7F7F7F\",\"#BCBD22\",\"#17BECF\"],\"font\":{\"color\":\"rgb(36,36,36)\"},\"geo\":{\"bgcolor\":\"white\",\"lakecolor\":\"white\",\"landcolor\":\"white\",\"showlakes\":true,\"showland\":true,\"subunitcolor\":\"white\"},\"hoverlabel\":{\"align\":\"left\"},\"hovermode\":\"closest\",\"mapbox\":{\"style\":\"light\"},\"paper_bgcolor\":\"white\",\"plot_bgcolor\":\"white\",\"polar\":{\"angularaxis\":{\"gridcolor\":\"rgb(232,232,232)\",\"linecolor\":\"rgb(36,36,36)\",\"showgrid\":false,\"showline\":true,\"ticks\":\"outside\"},\"bgcolor\":\"white\",\"radialaxis\":{\"gridcolor\":\"rgb(232,232,232)\",\"linecolor\":\"rgb(36,36,36)\",\"showgrid\":false,\"showline\":true,\"ticks\":\"outside\"}},\"scene\":{\"xaxis\":{\"backgroundcolor\":\"white\",\"gridcolor\":\"rgb(232,232,232)\",\"gridwidth\":2,\"linecolor\":\"rgb(36,36,36)\",\"showbackground\":true,\"showgrid\":false,\"showline\":true,\"ticks\":\"outside\",\"zeroline\":false,\"zerolinecolor\":\"rgb(36,36,36)\"},\"yaxis\":{\"backgroundcolor\":\"white\",\"gridcolor\":\"rgb(232,232,232)\",\"gridwidth\":2,\"linecolor\":\"rgb(36,36,36)\",\"showbackground\":true,\"showgrid\":false,\"showline\":true,\"ticks\":\"outside\",\"zeroline\":false,\"zerolinecolor\":\"rgb(36,36,36)\"},\"zaxis\":{\"backgroundcolor\":\"white\",\"gridcolor\":\"rgb(232,232,232)\",\"gridwidth\":2,\"linecolor\":\"rgb(36,36,36)\",\"showbackground\":true,\"showgrid\":false,\"showline\":true,\"ticks\":\"outside\",\"zeroline\":false,\"zerolinecolor\":\"rgb(36,36,36)\"}},\"shapedefaults\":{\"fillcolor\":\"black\",\"line\":{\"width\":0},\"opacity\":0.3},\"ternary\":{\"aaxis\":{\"gridcolor\":\"rgb(232,232,232)\",\"linecolor\":\"rgb(36,36,36)\",\"showgrid\":false,\"showline\":true,\"ticks\":\"outside\"},\"baxis\":{\"gridcolor\":\"rgb(232,232,232)\",\"linecolor\":\"rgb(36,36,36)\",\"showgrid\":false,\"showline\":true,\"ticks\":\"outside\"},\"bgcolor\":\"white\",\"caxis\":{\"gridcolor\":\"rgb(232,232,232)\",\"linecolor\":\"rgb(36,36,36)\",\"showgrid\":false,\"showline\":true,\"ticks\":\"outside\"}},\"title\":{\"x\":0.05},\"xaxis\":{\"automargin\":true,\"gridcolor\":\"rgb(232,232,232)\",\"linecolor\":\"rgb(36,36,36)\",\"showgrid\":false,\"showline\":true,\"ticks\":\"outside\",\"title\":{\"standoff\":15},\"zeroline\":false,\"zerolinecolor\":\"rgb(36,36,36)\"},\"yaxis\":{\"automargin\":true,\"gridcolor\":\"rgb(232,232,232)\",\"linecolor\":\"rgb(36,36,36)\",\"showgrid\":false,\"showline\":true,\"ticks\":\"outside\",\"title\":{\"standoff\":15},\"zeroline\":false,\"zerolinecolor\":\"rgb(36,36,36)\"}}},\"xaxis\":{\"anchor\":\"y\",\"domain\":[0.0,1.0],\"title\":{\"text\":\"Mean Texture\"}},\"yaxis\":{\"anchor\":\"x\",\"domain\":[0.0,1.0],\"title\":{\"text\":\" \"}},\"coloraxis\":{\"colorbar\":{\"title\":{\"text\":\"Target\"}},\"colorscale\":[[0.0,\"#440154\"],[0.1111111111111111,\"#482878\"],[0.2222222222222222,\"#3e4989\"],[0.3333333333333333,\"#31688e\"],[0.4444444444444444,\"#26828e\"],[0.5555555555555556,\"#1f9e89\"],[0.6666666666666666,\"#35b779\"],[0.7777777777777778,\"#6ece58\"],[0.8888888888888888,\"#b5de2b\"],[1.0,\"#fde725\"]]},\"legend\":{\"tracegroupgap\":0,\"itemsizing\":\"constant\"},\"title\":{\"text\":\"Cancer Mean Texture Spread\"}},                        {\"responsive\": true}                    ).then(function(){\n",
       "                            \n",
       "var gd = document.getElementById('5aff18a3-8198-4b3c-a379-5324a628ed38');\n",
       "var x = new MutationObserver(function (mutations, observer) {{\n",
       "        var display = window.getComputedStyle(gd).display;\n",
       "        if (!display || display === 'none') {{\n",
       "            console.log([gd, 'removed!']);\n",
       "            Plotly.purge(gd);\n",
       "            observer.disconnect();\n",
       "        }}\n",
       "}});\n",
       "\n",
       "// Listen for the removal of the full notebook cells\n",
       "var notebookContainer = gd.closest('#notebook-container');\n",
       "if (notebookContainer) {{\n",
       "    x.observe(notebookContainer, {childList: true});\n",
       "}}\n",
       "\n",
       "// Listen for the clearing of the current output cell\n",
       "var outputEl = gd.closest('.output');\n",
       "if (outputEl) {{\n",
       "    x.observe(outputEl, {childList: true});\n",
       "}}\n",
       "\n",
       "                        })                };                });            </script>        </div>"
      ]
     },
     "metadata": {},
     "output_type": "display_data"
    }
   ],
   "source": [
    "fig = px.scatter(df, \n",
    "                 x='mean texture', \n",
    "                 color='target',\n",
    "                 size='mean texture',\n",
    "                 template='simple_white', \n",
    "                 title='Cancer Mean Texture Spread',\n",
    "                 labels={\"mean texture\": \"Mean Texture\", \"target\":\"Target\"},\n",
    "                 hover_data=[\"target\"])\n",
    "\n",
    "fig.update_layout(xaxis_title=\"Mean Texture\",yaxis_title=\" \")\n",
    "\n",
    "fig.show()"
   ]
  },
  {
   "cell_type": "markdown",
   "metadata": {},
   "source": [
    "## What is the spread of Mean Compactness??\n",
    "\n",
    "Compactness is a measure of how densely packed the cells of a tumor are. It is an important factor in determining the prognosis of a cancer patient. Compactness is used to classify tumors into different types, such as solid or non-solid. Solid tumors tend to have higher compactness and can be more difficult to treat. Non-solid tumors tend to be less dense and can often be treated more easily."
   ]
  },
  {
   "cell_type": "code",
   "execution_count": 11,
   "metadata": {
    "execution": {
     "iopub.execute_input": "2024-02-26T09:38:14.312451Z",
     "iopub.status.busy": "2024-02-26T09:38:14.311722Z",
     "iopub.status.idle": "2024-02-26T09:38:14.401678Z",
     "shell.execute_reply": "2024-02-26T09:38:14.400679Z",
     "shell.execute_reply.started": "2024-02-26T09:38:14.312407Z"
    },
    "trusted": true
   },
   "outputs": [
    {
     "data": {
      "text/html": [
       "<div>                            <div id=\"b4da0d10-426c-49e4-ad55-5bb9383d65a3\" class=\"plotly-graph-div\" style=\"height:525px; width:100%;\"></div>            <script type=\"text/javascript\">                require([\"plotly\"], function(Plotly) {                    window.PLOTLYENV=window.PLOTLYENV || {};                                    if (document.getElementById(\"b4da0d10-426c-49e4-ad55-5bb9383d65a3\")) {                    Plotly.newPlot(                        \"b4da0d10-426c-49e4-ad55-5bb9383d65a3\",                        [{\"customdata\":[[0],[0],[0],[0],[0],[0],[0],[0],[0],[0],[0],[0],[0],[0],[0],[0],[0],[0],[0],[1],[1],[1],[0],[0],[0],[0],[0],[0],[0],[0],[0],[0],[0],[0],[0],[0],[0],[1],[0],[0],[0],[0],[0],[0],[0],[0],[1],[0],[1],[1],[1],[1],[1],[0],[0],[1],[0],[0],[1],[1],[1],[1],[0],[1],[0],[0],[1],[1],[1],[1],[0],[1],[0],[0],[1],[0],[1],[0],[0],[1],[1],[1],[0],[0],[1],[0],[0],[0],[1],[1],[1],[0],[1],[1],[0],[0],[1],[1],[1],[0],[0],[1],[1],[1],[1],[0],[1],[1],[0],[1],[1],[1],[1],[1],[1],[1],[1],[0],[0],[0],[1],[0],[0],[1],[1],[1],[0],[0],[1],[0],[1],[0],[0],[1],[0],[0],[1],[1],[0],[1],[1],[0],[1],[1],[1],[1],[0],[1],[1],[1],[1],[1],[1],[1],[1],[1],[0],[1],[1],[1],[1],[0],[0],[1],[0],[1],[1],[0],[0],[1],[1],[0],[0],[1],[1],[1],[1],[0],[1],[1],[0],[0],[0],[1],[0],[1],[0],[1],[1],[1],[0],[1],[1],[0],[0],[1],[0],[0],[0],[0],[1],[0],[0],[0],[1],[0],[1],[0],[1],[1],[0],[1],[0],[0],[0],[0],[1],[1],[0],[0],[1],[1],[1],[0],[1],[1],[1],[1],[1],[0],[0],[1],[1],[0],[1],[1],[0],[0],[1],[0],[1],[1],[1],[1],[0],[1],[1],[1],[1],[1],[0],[1],[0],[0],[0],[0],[0],[0],[0],[0],[0],[0],[0],[0],[0],[0],[1],[1],[1],[1],[1],[1],[0],[1],[0],[1],[1],[0],[1],[1],[0],[1],[0],[0],[1],[1],[1],[1],[1],[1],[1],[1],[1],[1],[1],[1],[1],[0],[1],[1],[0],[1],[0],[1],[1],[1],[1],[1],[1],[1],[1],[1],[1],[1],[1],[1],[1],[0],[1],[1],[1],[0],[1],[0],[1],[1],[1],[1],[0],[0],[0],[1],[1],[1],[1],[0],[1],[0],[1],[0],[1],[1],[1],[0],[1],[1],[1],[1],[1],[1],[1],[0],[0],[0],[1],[1],[1],[1],[1],[1],[1],[1],[1],[1],[1],[0],[0],[1],[0],[0],[0],[1],[0],[0],[1],[1],[1],[1],[1],[0],[1],[1],[1],[1],[1],[0],[1],[1],[1],[0],[1],[1],[0],[0],[1],[1],[1],[1],[1],[1],[0],[1],[1],[1],[1],[1],[1],[1],[0],[1],[1],[1],[1],[1],[0],[1],[1],[0],[1],[1],[1],[1],[1],[1],[1],[1],[1],[1],[1],[1],[0],[1],[0],[0],[1],[0],[1],[1],[1],[1],[1],[0],[1],[1],[0],[1],[0],[1],[1],[0],[1],[0],[1],[1],[1],[1],[1],[1],[1],[1],[0],[0],[1],[1],[1],[1],[1],[1],[0],[1],[1],[1],[1],[1],[1],[1],[1],[1],[1],[0],[1],[1],[1],[1],[1],[1],[1],[0],[1],[0],[1],[1],[0],[1],[1],[1],[1],[1],[0],[0],[1],[0],[1],[0],[1],[1],[1],[1],[1],[0],[1],[1],[0],[1],[0],[1],[0],[0],[1],[1],[1],[0],[1],[1],[1],[1],[1],[1],[1],[1],[1],[1],[1],[0],[1],[0],[0],[1],[1],[1],[1],[1],[1],[1],[1],[1],[1],[1],[1],[1],[1],[1],[1],[1],[1],[1],[1],[1],[1],[1],[1],[1],[0],[0],[0],[0],[0],[0],[1]],\"hovertemplate\":\"Mean Compactness=%{marker.color}<br>index=%{y}<br>target=%{customdata[0]}<extra></extra>\",\"legendgroup\":\"\",\"marker\":{\"color\":[0.2776,0.07864,0.1599,0.2839,0.1328,0.17,0.109,0.1645,0.1932,0.2396,0.06669,0.1292,0.2458,0.1002,0.2293,0.1595,0.072,0.2022,0.1027,0.08129,0.127,0.06492,0.2135,0.1022,0.1457,0.2276,0.1868,0.1066,0.1697,0.1157,0.1887,0.1516,0.1496,0.1719,0.1559,0.1336,0.1098,0.03766,0.05131,0.1255,0.06031,0.1218,0.219,0.1436,0.1047,0.1686,0.05943,0.1231,0.09092,0.07698,0.04966,0.06059,0.04751,0.1485,0.07081,0.05473,0.1267,0.1365,0.03789,0.05272,0.08061,0.08963,0.2008,0.08751,0.1262,0.1479,0.07773,0.04701,0.1413,0.05234,0.1029,0.1531,0.183,0.128,0.06829,0.08424,0.1047,0.2146,0.3454,0.09546,0.09362,0.1535,0.2665,0.1791,0.07165,0.1053,0.09947,0.1206,0.09445,0.1339,0.08606,0.1036,0.05055,0.08165,0.1553,0.1313,0.07057,0.05301,0.07525,0.1141,0.08511,0.07568,0.04038,0.09697,0.08578,0.1765,0.1017,0.06815,0.2768,0.06575,0.08404,0.1209,0.2233,0.1303,0.08201,0.07849,0.1243,0.1649,0.1752,0.06722,0.06685,0.11,0.2867,0.1099,0.07325,0.06136,0.07862,0.08028,0.1807,0.1589,0.09509,0.1223,0.1284,0.09462,0.09709,0.05761,0.06095,0.06889,0.1305,0.1136,0.04102,0.1137,0.09486,0.09509,0.05139,0.1296,0.17,0.1167,0.1021,0.06376,0.07589,0.1305,0.1599,0.05113,0.08498,0.06679,0.1665,0.07223,0.05241,0.03718,0.1141,0.1185,0.1666,0.1015,0.1145,0.05352,0.05736,0.09182,0.1603,0.07885,0.06981,0.06288,0.1555,0.05743,0.04302,0.04276,0.1294,0.1556,0.01938,0.03774,0.1914,0.2832,0.08799,0.08155,0.1052,0.04695,0.08468,0.06141,0.05562,0.07253,0.2413,0.06601,0.02344,0.1353,0.198,0.05366,0.1267,0.08642,0.1428,0.1206,0.08087,0.1198,0.2084,0.1768,0.1058,0.09588,0.07232,0.07304,0.1483,0.0623,0.1348,0.069,0.1516,0.1146,0.1306,0.1517,0.1154,0.05907,0.1306,0.113,0.08711,0.1192,0.08502,0.1204,0.04994,0.07624,0.07722,0.1096,0.07529,0.1799,0.1572,0.03813,0.03574,0.1074,0.04087,0.06945,0.1682,0.08348,0.1039,0.1298,0.0663,0.03393,0.1325,0.06807,0.1558,0.05971,0.04524,0.1346,0.07234,0.07808,0.1606,0.05991,0.1849,0.1041,0.1188,0.1279,0.2063,0.2284,0.3114,0.1639,0.1088,0.0629,0.1273,0.05616,0.08995,0.1143,0.1147,0.08259,0.06219,0.1289,0.02675,0.07608,0.1961,0.04689,0.07027,0.0721,0.03872,0.05884,0.04052,0.07688,0.1453,0.0434,0.1442,0.1802,0.0958,0.04216,0.1011,0.03729,0.1181,0.05008,0.1676,0.09823,0.07943,0.05642,0.08393,0.06221,0.04721,0.05914,0.0522,0.06797,0.1642,0.1014,0.1838,0.06678,0.07694,0.05688,0.05251,0.03116,0.03614,0.03735,0.05253,0.03515,0.07948,0.05969,0.05847,0.03834,0.03212,0.1117,0.1972,0.03454,0.1111,0.08564,0.08834,0.1875,0.06545,0.07664,0.05306,0.03892,0.1319,0.1283,0.1371,0.1125,0.06779,0.04458,0.04202,0.1056,0.09965,0.1402,0.07326,0.1283,0.1139,0.09228,0.09097,0.1339,0.07281,0.09159,0.05794,0.0778,0.05886,0.1206,0.0363,0.2364,0.2363,0.09769,0.06064,0.1038,0.1304,0.05492,0.07698,0.05956,0.0265,0.06373,0.07952,0.08468,0.05696,0.1131,0.1669,0.07175,0.08562,0.1954,0.1497,0.06934,0.1515,0.1076,0.06374,0.1438,0.166,0.04726,0.07548,0.2154,0.1111,0.07079,0.1073,0.1297,0.08575,0.06636,0.07823,0.04831,0.1114,0.1318,0.07542,0.07428,0.1562,0.2087,0.09758,0.05361,0.1147,0.08895,0.04768,0.06232,0.2576,0.05242,0.07899,0.08836,0.04571,0.0746,0.08501,0.08316,0.1304,0.06526,0.05313,0.07804,0.06053,0.1025,0.04605,0.0812,0.06159,0.1571,0.05794,0.05978,0.07722,0.1836,0.1168,0.1147,0.08333,0.03912,0.1013,0.05743,0.03834,0.04522,0.2225,0.1316,0.1489,0.1389,0.07074,0.1133,0.07883,0.05895,0.0633,0.05581,0.1113,0.1109,0.06718,0.04462,0.1232,0.09218,0.1314,0.0889,0.078,0.1175,0.1064,0.09871,0.0645,0.09242,0.0543,0.07426,0.08574,0.05205,0.05073,0.04626,0.111,0.1988,0.05223,0.05855,0.05994,0.1223,0.1089,0.05428,0.2004,0.1483,0.06258,0.06,0.08549,0.03398,0.1069,0.08269,0.1108,0.05319,0.08228,0.1893,0.07838,0.05326,0.1155,0.07957,0.1299,0.1511,0.06698,0.1448,0.09263,0.07112,0.052,0.06217,0.1289,0.04043,0.05275,0.08345,0.1334,0.0763,0.1317,0.1644,0.1364,0.1681,0.1085,0.1275,0.2239,0.2204,0.1152,0.1071,0.06712,0.187,0.09661,0.05016,0.1469,0.08918,0.08597,0.08499,0.1248,0.131,0.1661,0.1117,0.1225,0.2106,0.04413,0.107,0.08419,0.07632,0.1138,0.06307,0.09755,0.09009,0.09713,0.09453,0.07255,0.1313,0.09752,0.1739,0.1154,0.1552,0.04878,0.1199,0.112,0.123,0.07214,0.06877,0.1018,0.06747,0.04994,0.08066,0.0503,0.06602,0.04227,0.08194,0.04234,0.05605,0.05824,0.07658,0.07504,0.04971,0.133,0.1021,0.1126,0.03558,0.2087,0.2236,0.1159,0.1034,0.1023,0.277,0.04362],\"coloraxis\":\"coloraxis\",\"size\":[0.2776,0.07864,0.1599,0.2839,0.1328,0.17,0.109,0.1645,0.1932,0.2396,0.06669,0.1292,0.2458,0.1002,0.2293,0.1595,0.072,0.2022,0.1027,0.08129,0.127,0.06492,0.2135,0.1022,0.1457,0.2276,0.1868,0.1066,0.1697,0.1157,0.1887,0.1516,0.1496,0.1719,0.1559,0.1336,0.1098,0.03766,0.05131,0.1255,0.06031,0.1218,0.219,0.1436,0.1047,0.1686,0.05943,0.1231,0.09092,0.07698,0.04966,0.06059,0.04751,0.1485,0.07081,0.05473,0.1267,0.1365,0.03789,0.05272,0.08061,0.08963,0.2008,0.08751,0.1262,0.1479,0.07773,0.04701,0.1413,0.05234,0.1029,0.1531,0.183,0.128,0.06829,0.08424,0.1047,0.2146,0.3454,0.09546,0.09362,0.1535,0.2665,0.1791,0.07165,0.1053,0.09947,0.1206,0.09445,0.1339,0.08606,0.1036,0.05055,0.08165,0.1553,0.1313,0.07057,0.05301,0.07525,0.1141,0.08511,0.07568,0.04038,0.09697,0.08578,0.1765,0.1017,0.06815,0.2768,0.06575,0.08404,0.1209,0.2233,0.1303,0.08201,0.07849,0.1243,0.1649,0.1752,0.06722,0.06685,0.11,0.2867,0.1099,0.07325,0.06136,0.07862,0.08028,0.1807,0.1589,0.09509,0.1223,0.1284,0.09462,0.09709,0.05761,0.06095,0.06889,0.1305,0.1136,0.04102,0.1137,0.09486,0.09509,0.05139,0.1296,0.17,0.1167,0.1021,0.06376,0.07589,0.1305,0.1599,0.05113,0.08498,0.06679,0.1665,0.07223,0.05241,0.03718,0.1141,0.1185,0.1666,0.1015,0.1145,0.05352,0.05736,0.09182,0.1603,0.07885,0.06981,0.06288,0.1555,0.05743,0.04302,0.04276,0.1294,0.1556,0.01938,0.03774,0.1914,0.2832,0.08799,0.08155,0.1052,0.04695,0.08468,0.06141,0.05562,0.07253,0.2413,0.06601,0.02344,0.1353,0.198,0.05366,0.1267,0.08642,0.1428,0.1206,0.08087,0.1198,0.2084,0.1768,0.1058,0.09588,0.07232,0.07304,0.1483,0.0623,0.1348,0.069,0.1516,0.1146,0.1306,0.1517,0.1154,0.05907,0.1306,0.113,0.08711,0.1192,0.08502,0.1204,0.04994,0.07624,0.07722,0.1096,0.07529,0.1799,0.1572,0.03813,0.03574,0.1074,0.04087,0.06945,0.1682,0.08348,0.1039,0.1298,0.0663,0.03393,0.1325,0.06807,0.1558,0.05971,0.04524,0.1346,0.07234,0.07808,0.1606,0.05991,0.1849,0.1041,0.1188,0.1279,0.2063,0.2284,0.3114,0.1639,0.1088,0.0629,0.1273,0.05616,0.08995,0.1143,0.1147,0.08259,0.06219,0.1289,0.02675,0.07608,0.1961,0.04689,0.07027,0.0721,0.03872,0.05884,0.04052,0.07688,0.1453,0.0434,0.1442,0.1802,0.0958,0.04216,0.1011,0.03729,0.1181,0.05008,0.1676,0.09823,0.07943,0.05642,0.08393,0.06221,0.04721,0.05914,0.0522,0.06797,0.1642,0.1014,0.1838,0.06678,0.07694,0.05688,0.05251,0.03116,0.03614,0.03735,0.05253,0.03515,0.07948,0.05969,0.05847,0.03834,0.03212,0.1117,0.1972,0.03454,0.1111,0.08564,0.08834,0.1875,0.06545,0.07664,0.05306,0.03892,0.1319,0.1283,0.1371,0.1125,0.06779,0.04458,0.04202,0.1056,0.09965,0.1402,0.07326,0.1283,0.1139,0.09228,0.09097,0.1339,0.07281,0.09159,0.05794,0.0778,0.05886,0.1206,0.0363,0.2364,0.2363,0.09769,0.06064,0.1038,0.1304,0.05492,0.07698,0.05956,0.0265,0.06373,0.07952,0.08468,0.05696,0.1131,0.1669,0.07175,0.08562,0.1954,0.1497,0.06934,0.1515,0.1076,0.06374,0.1438,0.166,0.04726,0.07548,0.2154,0.1111,0.07079,0.1073,0.1297,0.08575,0.06636,0.07823,0.04831,0.1114,0.1318,0.07542,0.07428,0.1562,0.2087,0.09758,0.05361,0.1147,0.08895,0.04768,0.06232,0.2576,0.05242,0.07899,0.08836,0.04571,0.0746,0.08501,0.08316,0.1304,0.06526,0.05313,0.07804,0.06053,0.1025,0.04605,0.0812,0.06159,0.1571,0.05794,0.05978,0.07722,0.1836,0.1168,0.1147,0.08333,0.03912,0.1013,0.05743,0.03834,0.04522,0.2225,0.1316,0.1489,0.1389,0.07074,0.1133,0.07883,0.05895,0.0633,0.05581,0.1113,0.1109,0.06718,0.04462,0.1232,0.09218,0.1314,0.0889,0.078,0.1175,0.1064,0.09871,0.0645,0.09242,0.0543,0.07426,0.08574,0.05205,0.05073,0.04626,0.111,0.1988,0.05223,0.05855,0.05994,0.1223,0.1089,0.05428,0.2004,0.1483,0.06258,0.06,0.08549,0.03398,0.1069,0.08269,0.1108,0.05319,0.08228,0.1893,0.07838,0.05326,0.1155,0.07957,0.1299,0.1511,0.06698,0.1448,0.09263,0.07112,0.052,0.06217,0.1289,0.04043,0.05275,0.08345,0.1334,0.0763,0.1317,0.1644,0.1364,0.1681,0.1085,0.1275,0.2239,0.2204,0.1152,0.1071,0.06712,0.187,0.09661,0.05016,0.1469,0.08918,0.08597,0.08499,0.1248,0.131,0.1661,0.1117,0.1225,0.2106,0.04413,0.107,0.08419,0.07632,0.1138,0.06307,0.09755,0.09009,0.09713,0.09453,0.07255,0.1313,0.09752,0.1739,0.1154,0.1552,0.04878,0.1199,0.112,0.123,0.07214,0.06877,0.1018,0.06747,0.04994,0.08066,0.0503,0.06602,0.04227,0.08194,0.04234,0.05605,0.05824,0.07658,0.07504,0.04971,0.133,0.1021,0.1126,0.03558,0.2087,0.2236,0.1159,0.1034,0.1023,0.277,0.04362],\"sizemode\":\"area\",\"sizeref\":0.0008635,\"symbol\":\"circle\"},\"mode\":\"markers\",\"name\":\"\",\"orientation\":\"h\",\"showlegend\":false,\"x\":[0.2776,0.07864,0.1599,0.2839,0.1328,0.17,0.109,0.1645,0.1932,0.2396,0.06669,0.1292,0.2458,0.1002,0.2293,0.1595,0.072,0.2022,0.1027,0.08129,0.127,0.06492,0.2135,0.1022,0.1457,0.2276,0.1868,0.1066,0.1697,0.1157,0.1887,0.1516,0.1496,0.1719,0.1559,0.1336,0.1098,0.03766,0.05131,0.1255,0.06031,0.1218,0.219,0.1436,0.1047,0.1686,0.05943,0.1231,0.09092,0.07698,0.04966,0.06059,0.04751,0.1485,0.07081,0.05473,0.1267,0.1365,0.03789,0.05272,0.08061,0.08963,0.2008,0.08751,0.1262,0.1479,0.07773,0.04701,0.1413,0.05234,0.1029,0.1531,0.183,0.128,0.06829,0.08424,0.1047,0.2146,0.3454,0.09546,0.09362,0.1535,0.2665,0.1791,0.07165,0.1053,0.09947,0.1206,0.09445,0.1339,0.08606,0.1036,0.05055,0.08165,0.1553,0.1313,0.07057,0.05301,0.07525,0.1141,0.08511,0.07568,0.04038,0.09697,0.08578,0.1765,0.1017,0.06815,0.2768,0.06575,0.08404,0.1209,0.2233,0.1303,0.08201,0.07849,0.1243,0.1649,0.1752,0.06722,0.06685,0.11,0.2867,0.1099,0.07325,0.06136,0.07862,0.08028,0.1807,0.1589,0.09509,0.1223,0.1284,0.09462,0.09709,0.05761,0.06095,0.06889,0.1305,0.1136,0.04102,0.1137,0.09486,0.09509,0.05139,0.1296,0.17,0.1167,0.1021,0.06376,0.07589,0.1305,0.1599,0.05113,0.08498,0.06679,0.1665,0.07223,0.05241,0.03718,0.1141,0.1185,0.1666,0.1015,0.1145,0.05352,0.05736,0.09182,0.1603,0.07885,0.06981,0.06288,0.1555,0.05743,0.04302,0.04276,0.1294,0.1556,0.01938,0.03774,0.1914,0.2832,0.08799,0.08155,0.1052,0.04695,0.08468,0.06141,0.05562,0.07253,0.2413,0.06601,0.02344,0.1353,0.198,0.05366,0.1267,0.08642,0.1428,0.1206,0.08087,0.1198,0.2084,0.1768,0.1058,0.09588,0.07232,0.07304,0.1483,0.0623,0.1348,0.069,0.1516,0.1146,0.1306,0.1517,0.1154,0.05907,0.1306,0.113,0.08711,0.1192,0.08502,0.1204,0.04994,0.07624,0.07722,0.1096,0.07529,0.1799,0.1572,0.03813,0.03574,0.1074,0.04087,0.06945,0.1682,0.08348,0.1039,0.1298,0.0663,0.03393,0.1325,0.06807,0.1558,0.05971,0.04524,0.1346,0.07234,0.07808,0.1606,0.05991,0.1849,0.1041,0.1188,0.1279,0.2063,0.2284,0.3114,0.1639,0.1088,0.0629,0.1273,0.05616,0.08995,0.1143,0.1147,0.08259,0.06219,0.1289,0.02675,0.07608,0.1961,0.04689,0.07027,0.0721,0.03872,0.05884,0.04052,0.07688,0.1453,0.0434,0.1442,0.1802,0.0958,0.04216,0.1011,0.03729,0.1181,0.05008,0.1676,0.09823,0.07943,0.05642,0.08393,0.06221,0.04721,0.05914,0.0522,0.06797,0.1642,0.1014,0.1838,0.06678,0.07694,0.05688,0.05251,0.03116,0.03614,0.03735,0.05253,0.03515,0.07948,0.05969,0.05847,0.03834,0.03212,0.1117,0.1972,0.03454,0.1111,0.08564,0.08834,0.1875,0.06545,0.07664,0.05306,0.03892,0.1319,0.1283,0.1371,0.1125,0.06779,0.04458,0.04202,0.1056,0.09965,0.1402,0.07326,0.1283,0.1139,0.09228,0.09097,0.1339,0.07281,0.09159,0.05794,0.0778,0.05886,0.1206,0.0363,0.2364,0.2363,0.09769,0.06064,0.1038,0.1304,0.05492,0.07698,0.05956,0.0265,0.06373,0.07952,0.08468,0.05696,0.1131,0.1669,0.07175,0.08562,0.1954,0.1497,0.06934,0.1515,0.1076,0.06374,0.1438,0.166,0.04726,0.07548,0.2154,0.1111,0.07079,0.1073,0.1297,0.08575,0.06636,0.07823,0.04831,0.1114,0.1318,0.07542,0.07428,0.1562,0.2087,0.09758,0.05361,0.1147,0.08895,0.04768,0.06232,0.2576,0.05242,0.07899,0.08836,0.04571,0.0746,0.08501,0.08316,0.1304,0.06526,0.05313,0.07804,0.06053,0.1025,0.04605,0.0812,0.06159,0.1571,0.05794,0.05978,0.07722,0.1836,0.1168,0.1147,0.08333,0.03912,0.1013,0.05743,0.03834,0.04522,0.2225,0.1316,0.1489,0.1389,0.07074,0.1133,0.07883,0.05895,0.0633,0.05581,0.1113,0.1109,0.06718,0.04462,0.1232,0.09218,0.1314,0.0889,0.078,0.1175,0.1064,0.09871,0.0645,0.09242,0.0543,0.07426,0.08574,0.05205,0.05073,0.04626,0.111,0.1988,0.05223,0.05855,0.05994,0.1223,0.1089,0.05428,0.2004,0.1483,0.06258,0.06,0.08549,0.03398,0.1069,0.08269,0.1108,0.05319,0.08228,0.1893,0.07838,0.05326,0.1155,0.07957,0.1299,0.1511,0.06698,0.1448,0.09263,0.07112,0.052,0.06217,0.1289,0.04043,0.05275,0.08345,0.1334,0.0763,0.1317,0.1644,0.1364,0.1681,0.1085,0.1275,0.2239,0.2204,0.1152,0.1071,0.06712,0.187,0.09661,0.05016,0.1469,0.08918,0.08597,0.08499,0.1248,0.131,0.1661,0.1117,0.1225,0.2106,0.04413,0.107,0.08419,0.07632,0.1138,0.06307,0.09755,0.09009,0.09713,0.09453,0.07255,0.1313,0.09752,0.1739,0.1154,0.1552,0.04878,0.1199,0.112,0.123,0.07214,0.06877,0.1018,0.06747,0.04994,0.08066,0.0503,0.06602,0.04227,0.08194,0.04234,0.05605,0.05824,0.07658,0.07504,0.04971,0.133,0.1021,0.1126,0.03558,0.2087,0.2236,0.1159,0.1034,0.1023,0.277,0.04362],\"xaxis\":\"x\",\"y\":[0,1,2,3,4,5,6,7,8,9,10,11,12,13,14,15,16,17,18,19,20,21,22,23,24,25,26,27,28,29,30,31,32,33,34,35,36,37,38,39,40,41,42,43,44,45,46,47,48,49,50,51,52,53,54,55,56,57,58,59,60,61,62,63,64,65,66,67,68,69,70,71,72,73,74,75,76,77,78,79,80,81,82,83,84,85,86,87,88,89,90,91,92,93,94,95,96,97,98,99,100,101,102,103,104,105,106,107,108,109,110,111,112,113,114,115,116,117,118,119,120,121,122,123,124,125,126,127,128,129,130,131,132,133,134,135,136,137,138,139,140,141,142,143,144,145,146,147,148,149,150,151,152,153,154,155,156,157,158,159,160,161,162,163,164,165,166,167,168,169,170,171,172,173,174,175,176,177,178,179,180,181,182,183,184,185,186,187,188,189,190,191,192,193,194,195,196,197,198,199,200,201,202,203,204,205,206,207,208,209,210,211,212,213,214,215,216,217,218,219,220,221,222,223,224,225,226,227,228,229,230,231,232,233,234,235,236,237,238,239,240,241,242,243,244,245,246,247,248,249,250,251,252,253,254,255,256,257,258,259,260,261,262,263,264,265,266,267,268,269,270,271,272,273,274,275,276,277,278,279,280,281,282,283,284,285,286,287,288,289,290,291,292,293,294,295,296,297,298,299,300,301,302,303,304,305,306,307,308,309,310,311,312,313,314,315,316,317,318,319,320,321,322,323,324,325,326,327,328,329,330,331,332,333,334,335,336,337,338,339,340,341,342,343,344,345,346,347,348,349,350,351,352,353,354,355,356,357,358,359,360,361,362,363,364,365,366,367,368,369,370,371,372,373,374,375,376,377,378,379,380,381,382,383,384,385,386,387,388,389,390,391,392,393,394,395,396,397,398,399,400,401,402,403,404,405,406,407,408,409,410,411,412,413,414,415,416,417,418,419,420,421,422,423,424,425,426,427,428,429,430,431,432,433,434,435,436,437,438,439,440,441,442,443,444,445,446,447,448,449,450,451,452,453,454,455,456,457,458,459,460,461,462,463,464,465,466,467,468,469,470,471,472,473,474,475,476,477,478,479,480,481,482,483,484,485,486,487,488,489,490,491,492,493,494,495,496,497,498,499,500,501,502,503,504,505,506,507,508,509,510,511,512,513,514,515,516,517,518,519,520,521,522,523,524,525,526,527,528,529,530,531,532,533,534,535,536,537,538,539,540,541,542,543,544,545,546,547,548,549,550,551,552,553,554,555,556,557,558,559,560,561,562,563,564,565,566,567,568],\"yaxis\":\"y\",\"type\":\"scatter\"}],                        {\"template\":{\"data\":{\"barpolar\":[{\"marker\":{\"line\":{\"color\":\"white\",\"width\":0.5},\"pattern\":{\"fillmode\":\"overlay\",\"size\":10,\"solidity\":0.2}},\"type\":\"barpolar\"}],\"bar\":[{\"error_x\":{\"color\":\"rgb(36,36,36)\"},\"error_y\":{\"color\":\"rgb(36,36,36)\"},\"marker\":{\"line\":{\"color\":\"white\",\"width\":0.5},\"pattern\":{\"fillmode\":\"overlay\",\"size\":10,\"solidity\":0.2}},\"type\":\"bar\"}],\"carpet\":[{\"aaxis\":{\"endlinecolor\":\"rgb(36,36,36)\",\"gridcolor\":\"white\",\"linecolor\":\"white\",\"minorgridcolor\":\"white\",\"startlinecolor\":\"rgb(36,36,36)\"},\"baxis\":{\"endlinecolor\":\"rgb(36,36,36)\",\"gridcolor\":\"white\",\"linecolor\":\"white\",\"minorgridcolor\":\"white\",\"startlinecolor\":\"rgb(36,36,36)\"},\"type\":\"carpet\"}],\"choropleth\":[{\"colorbar\":{\"outlinewidth\":1,\"tickcolor\":\"rgb(36,36,36)\",\"ticks\":\"outside\"},\"type\":\"choropleth\"}],\"contourcarpet\":[{\"colorbar\":{\"outlinewidth\":1,\"tickcolor\":\"rgb(36,36,36)\",\"ticks\":\"outside\"},\"type\":\"contourcarpet\"}],\"contour\":[{\"colorbar\":{\"outlinewidth\":1,\"tickcolor\":\"rgb(36,36,36)\",\"ticks\":\"outside\"},\"colorscale\":[[0.0,\"#440154\"],[0.1111111111111111,\"#482878\"],[0.2222222222222222,\"#3e4989\"],[0.3333333333333333,\"#31688e\"],[0.4444444444444444,\"#26828e\"],[0.5555555555555556,\"#1f9e89\"],[0.6666666666666666,\"#35b779\"],[0.7777777777777778,\"#6ece58\"],[0.8888888888888888,\"#b5de2b\"],[1.0,\"#fde725\"]],\"type\":\"contour\"}],\"heatmapgl\":[{\"colorbar\":{\"outlinewidth\":1,\"tickcolor\":\"rgb(36,36,36)\",\"ticks\":\"outside\"},\"colorscale\":[[0.0,\"#440154\"],[0.1111111111111111,\"#482878\"],[0.2222222222222222,\"#3e4989\"],[0.3333333333333333,\"#31688e\"],[0.4444444444444444,\"#26828e\"],[0.5555555555555556,\"#1f9e89\"],[0.6666666666666666,\"#35b779\"],[0.7777777777777778,\"#6ece58\"],[0.8888888888888888,\"#b5de2b\"],[1.0,\"#fde725\"]],\"type\":\"heatmapgl\"}],\"heatmap\":[{\"colorbar\":{\"outlinewidth\":1,\"tickcolor\":\"rgb(36,36,36)\",\"ticks\":\"outside\"},\"colorscale\":[[0.0,\"#440154\"],[0.1111111111111111,\"#482878\"],[0.2222222222222222,\"#3e4989\"],[0.3333333333333333,\"#31688e\"],[0.4444444444444444,\"#26828e\"],[0.5555555555555556,\"#1f9e89\"],[0.6666666666666666,\"#35b779\"],[0.7777777777777778,\"#6ece58\"],[0.8888888888888888,\"#b5de2b\"],[1.0,\"#fde725\"]],\"type\":\"heatmap\"}],\"histogram2dcontour\":[{\"colorbar\":{\"outlinewidth\":1,\"tickcolor\":\"rgb(36,36,36)\",\"ticks\":\"outside\"},\"colorscale\":[[0.0,\"#440154\"],[0.1111111111111111,\"#482878\"],[0.2222222222222222,\"#3e4989\"],[0.3333333333333333,\"#31688e\"],[0.4444444444444444,\"#26828e\"],[0.5555555555555556,\"#1f9e89\"],[0.6666666666666666,\"#35b779\"],[0.7777777777777778,\"#6ece58\"],[0.8888888888888888,\"#b5de2b\"],[1.0,\"#fde725\"]],\"type\":\"histogram2dcontour\"}],\"histogram2d\":[{\"colorbar\":{\"outlinewidth\":1,\"tickcolor\":\"rgb(36,36,36)\",\"ticks\":\"outside\"},\"colorscale\":[[0.0,\"#440154\"],[0.1111111111111111,\"#482878\"],[0.2222222222222222,\"#3e4989\"],[0.3333333333333333,\"#31688e\"],[0.4444444444444444,\"#26828e\"],[0.5555555555555556,\"#1f9e89\"],[0.6666666666666666,\"#35b779\"],[0.7777777777777778,\"#6ece58\"],[0.8888888888888888,\"#b5de2b\"],[1.0,\"#fde725\"]],\"type\":\"histogram2d\"}],\"histogram\":[{\"marker\":{\"line\":{\"color\":\"white\",\"width\":0.6}},\"type\":\"histogram\"}],\"mesh3d\":[{\"colorbar\":{\"outlinewidth\":1,\"tickcolor\":\"rgb(36,36,36)\",\"ticks\":\"outside\"},\"type\":\"mesh3d\"}],\"parcoords\":[{\"line\":{\"colorbar\":{\"outlinewidth\":1,\"tickcolor\":\"rgb(36,36,36)\",\"ticks\":\"outside\"}},\"type\":\"parcoords\"}],\"pie\":[{\"automargin\":true,\"type\":\"pie\"}],\"scatter3d\":[{\"line\":{\"colorbar\":{\"outlinewidth\":1,\"tickcolor\":\"rgb(36,36,36)\",\"ticks\":\"outside\"}},\"marker\":{\"colorbar\":{\"outlinewidth\":1,\"tickcolor\":\"rgb(36,36,36)\",\"ticks\":\"outside\"}},\"type\":\"scatter3d\"}],\"scattercarpet\":[{\"marker\":{\"colorbar\":{\"outlinewidth\":1,\"tickcolor\":\"rgb(36,36,36)\",\"ticks\":\"outside\"}},\"type\":\"scattercarpet\"}],\"scattergeo\":[{\"marker\":{\"colorbar\":{\"outlinewidth\":1,\"tickcolor\":\"rgb(36,36,36)\",\"ticks\":\"outside\"}},\"type\":\"scattergeo\"}],\"scattergl\":[{\"marker\":{\"colorbar\":{\"outlinewidth\":1,\"tickcolor\":\"rgb(36,36,36)\",\"ticks\":\"outside\"}},\"type\":\"scattergl\"}],\"scattermapbox\":[{\"marker\":{\"colorbar\":{\"outlinewidth\":1,\"tickcolor\":\"rgb(36,36,36)\",\"ticks\":\"outside\"}},\"type\":\"scattermapbox\"}],\"scatterpolargl\":[{\"marker\":{\"colorbar\":{\"outlinewidth\":1,\"tickcolor\":\"rgb(36,36,36)\",\"ticks\":\"outside\"}},\"type\":\"scatterpolargl\"}],\"scatterpolar\":[{\"marker\":{\"colorbar\":{\"outlinewidth\":1,\"tickcolor\":\"rgb(36,36,36)\",\"ticks\":\"outside\"}},\"type\":\"scatterpolar\"}],\"scatter\":[{\"fillpattern\":{\"fillmode\":\"overlay\",\"size\":10,\"solidity\":0.2},\"type\":\"scatter\"}],\"scatterternary\":[{\"marker\":{\"colorbar\":{\"outlinewidth\":1,\"tickcolor\":\"rgb(36,36,36)\",\"ticks\":\"outside\"}},\"type\":\"scatterternary\"}],\"surface\":[{\"colorbar\":{\"outlinewidth\":1,\"tickcolor\":\"rgb(36,36,36)\",\"ticks\":\"outside\"},\"colorscale\":[[0.0,\"#440154\"],[0.1111111111111111,\"#482878\"],[0.2222222222222222,\"#3e4989\"],[0.3333333333333333,\"#31688e\"],[0.4444444444444444,\"#26828e\"],[0.5555555555555556,\"#1f9e89\"],[0.6666666666666666,\"#35b779\"],[0.7777777777777778,\"#6ece58\"],[0.8888888888888888,\"#b5de2b\"],[1.0,\"#fde725\"]],\"type\":\"surface\"}],\"table\":[{\"cells\":{\"fill\":{\"color\":\"rgb(237,237,237)\"},\"line\":{\"color\":\"white\"}},\"header\":{\"fill\":{\"color\":\"rgb(217,217,217)\"},\"line\":{\"color\":\"white\"}},\"type\":\"table\"}]},\"layout\":{\"annotationdefaults\":{\"arrowhead\":0,\"arrowwidth\":1},\"autotypenumbers\":\"strict\",\"coloraxis\":{\"colorbar\":{\"outlinewidth\":1,\"tickcolor\":\"rgb(36,36,36)\",\"ticks\":\"outside\"}},\"colorscale\":{\"diverging\":[[0.0,\"rgb(103,0,31)\"],[0.1,\"rgb(178,24,43)\"],[0.2,\"rgb(214,96,77)\"],[0.3,\"rgb(244,165,130)\"],[0.4,\"rgb(253,219,199)\"],[0.5,\"rgb(247,247,247)\"],[0.6,\"rgb(209,229,240)\"],[0.7,\"rgb(146,197,222)\"],[0.8,\"rgb(67,147,195)\"],[0.9,\"rgb(33,102,172)\"],[1.0,\"rgb(5,48,97)\"]],\"sequential\":[[0.0,\"#440154\"],[0.1111111111111111,\"#482878\"],[0.2222222222222222,\"#3e4989\"],[0.3333333333333333,\"#31688e\"],[0.4444444444444444,\"#26828e\"],[0.5555555555555556,\"#1f9e89\"],[0.6666666666666666,\"#35b779\"],[0.7777777777777778,\"#6ece58\"],[0.8888888888888888,\"#b5de2b\"],[1.0,\"#fde725\"]],\"sequentialminus\":[[0.0,\"#440154\"],[0.1111111111111111,\"#482878\"],[0.2222222222222222,\"#3e4989\"],[0.3333333333333333,\"#31688e\"],[0.4444444444444444,\"#26828e\"],[0.5555555555555556,\"#1f9e89\"],[0.6666666666666666,\"#35b779\"],[0.7777777777777778,\"#6ece58\"],[0.8888888888888888,\"#b5de2b\"],[1.0,\"#fde725\"]]},\"colorway\":[\"#1F77B4\",\"#FF7F0E\",\"#2CA02C\",\"#D62728\",\"#9467BD\",\"#8C564B\",\"#E377C2\",\"#7F7F7F\",\"#BCBD22\",\"#17BECF\"],\"font\":{\"color\":\"rgb(36,36,36)\"},\"geo\":{\"bgcolor\":\"white\",\"lakecolor\":\"white\",\"landcolor\":\"white\",\"showlakes\":true,\"showland\":true,\"subunitcolor\":\"white\"},\"hoverlabel\":{\"align\":\"left\"},\"hovermode\":\"closest\",\"mapbox\":{\"style\":\"light\"},\"paper_bgcolor\":\"white\",\"plot_bgcolor\":\"white\",\"polar\":{\"angularaxis\":{\"gridcolor\":\"rgb(232,232,232)\",\"linecolor\":\"rgb(36,36,36)\",\"showgrid\":false,\"showline\":true,\"ticks\":\"outside\"},\"bgcolor\":\"white\",\"radialaxis\":{\"gridcolor\":\"rgb(232,232,232)\",\"linecolor\":\"rgb(36,36,36)\",\"showgrid\":false,\"showline\":true,\"ticks\":\"outside\"}},\"scene\":{\"xaxis\":{\"backgroundcolor\":\"white\",\"gridcolor\":\"rgb(232,232,232)\",\"gridwidth\":2,\"linecolor\":\"rgb(36,36,36)\",\"showbackground\":true,\"showgrid\":false,\"showline\":true,\"ticks\":\"outside\",\"zeroline\":false,\"zerolinecolor\":\"rgb(36,36,36)\"},\"yaxis\":{\"backgroundcolor\":\"white\",\"gridcolor\":\"rgb(232,232,232)\",\"gridwidth\":2,\"linecolor\":\"rgb(36,36,36)\",\"showbackground\":true,\"showgrid\":false,\"showline\":true,\"ticks\":\"outside\",\"zeroline\":false,\"zerolinecolor\":\"rgb(36,36,36)\"},\"zaxis\":{\"backgroundcolor\":\"white\",\"gridcolor\":\"rgb(232,232,232)\",\"gridwidth\":2,\"linecolor\":\"rgb(36,36,36)\",\"showbackground\":true,\"showgrid\":false,\"showline\":true,\"ticks\":\"outside\",\"zeroline\":false,\"zerolinecolor\":\"rgb(36,36,36)\"}},\"shapedefaults\":{\"fillcolor\":\"black\",\"line\":{\"width\":0},\"opacity\":0.3},\"ternary\":{\"aaxis\":{\"gridcolor\":\"rgb(232,232,232)\",\"linecolor\":\"rgb(36,36,36)\",\"showgrid\":false,\"showline\":true,\"ticks\":\"outside\"},\"baxis\":{\"gridcolor\":\"rgb(232,232,232)\",\"linecolor\":\"rgb(36,36,36)\",\"showgrid\":false,\"showline\":true,\"ticks\":\"outside\"},\"bgcolor\":\"white\",\"caxis\":{\"gridcolor\":\"rgb(232,232,232)\",\"linecolor\":\"rgb(36,36,36)\",\"showgrid\":false,\"showline\":true,\"ticks\":\"outside\"}},\"title\":{\"x\":0.05},\"xaxis\":{\"automargin\":true,\"gridcolor\":\"rgb(232,232,232)\",\"linecolor\":\"rgb(36,36,36)\",\"showgrid\":false,\"showline\":true,\"ticks\":\"outside\",\"title\":{\"standoff\":15},\"zeroline\":false,\"zerolinecolor\":\"rgb(36,36,36)\"},\"yaxis\":{\"automargin\":true,\"gridcolor\":\"rgb(232,232,232)\",\"linecolor\":\"rgb(36,36,36)\",\"showgrid\":false,\"showline\":true,\"ticks\":\"outside\",\"title\":{\"standoff\":15},\"zeroline\":false,\"zerolinecolor\":\"rgb(36,36,36)\"}}},\"xaxis\":{\"anchor\":\"y\",\"domain\":[0.0,1.0],\"title\":{\"text\":\"Mean Compactness\"}},\"yaxis\":{\"anchor\":\"x\",\"domain\":[0.0,1.0],\"title\":{\"text\":\" \"}},\"coloraxis\":{\"colorbar\":{\"title\":{\"text\":\"Mean Compactness\"}},\"colorscale\":[[0.0,\"#440154\"],[0.1111111111111111,\"#482878\"],[0.2222222222222222,\"#3e4989\"],[0.3333333333333333,\"#31688e\"],[0.4444444444444444,\"#26828e\"],[0.5555555555555556,\"#1f9e89\"],[0.6666666666666666,\"#35b779\"],[0.7777777777777778,\"#6ece58\"],[0.8888888888888888,\"#b5de2b\"],[1.0,\"#fde725\"]]},\"legend\":{\"tracegroupgap\":0,\"itemsizing\":\"constant\"},\"title\":{\"text\":\"Cancer Compactness Mean\"}},                        {\"responsive\": true}                    ).then(function(){\n",
       "                            \n",
       "var gd = document.getElementById('b4da0d10-426c-49e4-ad55-5bb9383d65a3');\n",
       "var x = new MutationObserver(function (mutations, observer) {{\n",
       "        var display = window.getComputedStyle(gd).display;\n",
       "        if (!display || display === 'none') {{\n",
       "            console.log([gd, 'removed!']);\n",
       "            Plotly.purge(gd);\n",
       "            observer.disconnect();\n",
       "        }}\n",
       "}});\n",
       "\n",
       "// Listen for the removal of the full notebook cells\n",
       "var notebookContainer = gd.closest('#notebook-container');\n",
       "if (notebookContainer) {{\n",
       "    x.observe(notebookContainer, {childList: true});\n",
       "}}\n",
       "\n",
       "// Listen for the clearing of the current output cell\n",
       "var outputEl = gd.closest('.output');\n",
       "if (outputEl) {{\n",
       "    x.observe(outputEl, {childList: true});\n",
       "}}\n",
       "\n",
       "                        })                };                });            </script>        </div>"
      ]
     },
     "metadata": {},
     "output_type": "display_data"
    }
   ],
   "source": [
    "fig = px.scatter(df,\n",
    "                 x=\"mean compactness\", \n",
    "                 size=\"mean compactness\",\n",
    "                 color=\"mean compactness\",\n",
    "                  labels={\"mean compactness\": \"Mean Compactness\"},\n",
    "                 hover_data=[\"target\"],\n",
    "                 template='simple_white', \n",
    "                 title=\"Cancer Compactness Mean\")\n",
    "fig.update_layout(xaxis_title=\"Mean Compactness\",yaxis_title=\" \")\n",
    "fig.show()"
   ]
  },
  {
   "cell_type": "markdown",
   "metadata": {},
   "source": [
    "## What is the spread of Symmetry Error??"
   ]
  },
  {
   "cell_type": "markdown",
   "metadata": {},
   "source": [
    "Symmetry error is when there is an uneven or asymmetrical distribution of concave points across the tumor surface. This may indicate that the tumor is not benign, or not completely benign, but rather has malignant areas."
   ]
  },
  {
   "cell_type": "code",
   "execution_count": 12,
   "metadata": {
    "execution": {
     "iopub.execute_input": "2024-02-26T09:38:14.403410Z",
     "iopub.status.busy": "2024-02-26T09:38:14.403033Z",
     "iopub.status.idle": "2024-02-26T09:38:14.539015Z",
     "shell.execute_reply": "2024-02-26T09:38:14.538192Z",
     "shell.execute_reply.started": "2024-02-26T09:38:14.403376Z"
    },
    "trusted": true
   },
   "outputs": [
    {
     "data": {
      "text/html": [
       "<div>                            <div id=\"1b6472de-2802-420c-9c8b-8ad3945462a9\" class=\"plotly-graph-div\" style=\"height:525px; width:100%;\"></div>            <script type=\"text/javascript\">                require([\"plotly\"], function(Plotly) {                    window.PLOTLYENV=window.PLOTLYENV || {};                                    if (document.getElementById(\"1b6472de-2802-420c-9c8b-8ad3945462a9\")) {                    Plotly.newPlot(                        \"1b6472de-2802-420c-9c8b-8ad3945462a9\",                        [{\"customdata\":[[0],[0],[0],[0],[0],[0],[0],[0],[0],[0],[0],[0],[0],[0],[0],[0],[0],[0],[0],[1],[1],[1],[0],[0],[0],[0],[0],[0],[0],[0],[0],[0],[0],[0],[0],[0],[0],[1],[0],[0],[0],[0],[0],[0],[0],[0],[1],[0],[1],[1],[1],[1],[1],[0],[0],[1],[0],[0],[1],[1],[1],[1],[0],[1],[0],[0],[1],[1],[1],[1],[0],[1],[0],[0],[1],[0],[1],[0],[0],[1],[1],[1],[0],[0],[1],[0],[0],[0],[1],[1],[1],[0],[1],[1],[0],[0],[1],[1],[1],[0],[0],[1],[1],[1],[1],[0],[1],[1],[0],[1],[1],[1],[1],[1],[1],[1],[1],[0],[0],[0],[1],[0],[0],[1],[1],[1],[0],[0],[1],[0],[1],[0],[0],[1],[0],[0],[1],[1],[0],[1],[1],[0],[1],[1],[1],[1],[0],[1],[1],[1],[1],[1],[1],[1],[1],[1],[0],[1],[1],[1],[1],[0],[0],[1],[0],[1],[1],[0],[0],[1],[1],[0],[0],[1],[1],[1],[1],[0],[1],[1],[0],[0],[0],[1],[0],[1],[0],[1],[1],[1],[0],[1],[1],[0],[0],[1],[0],[0],[0],[0],[1],[0],[0],[0],[1],[0],[1],[0],[1],[1],[0],[1],[0],[0],[0],[0],[1],[1],[0],[0],[1],[1],[1],[0],[1],[1],[1],[1],[1],[0],[0],[1],[1],[0],[1],[1],[0],[0],[1],[0],[1],[1],[1],[1],[0],[1],[1],[1],[1],[1],[0],[1],[0],[0],[0],[0],[0],[0],[0],[0],[0],[0],[0],[0],[0],[0],[1],[1],[1],[1],[1],[1],[0],[1],[0],[1],[1],[0],[1],[1],[0],[1],[0],[0],[1],[1],[1],[1],[1],[1],[1],[1],[1],[1],[1],[1],[1],[0],[1],[1],[0],[1],[0],[1],[1],[1],[1],[1],[1],[1],[1],[1],[1],[1],[1],[1],[1],[0],[1],[1],[1],[0],[1],[0],[1],[1],[1],[1],[0],[0],[0],[1],[1],[1],[1],[0],[1],[0],[1],[0],[1],[1],[1],[0],[1],[1],[1],[1],[1],[1],[1],[0],[0],[0],[1],[1],[1],[1],[1],[1],[1],[1],[1],[1],[1],[0],[0],[1],[0],[0],[0],[1],[0],[0],[1],[1],[1],[1],[1],[0],[1],[1],[1],[1],[1],[0],[1],[1],[1],[0],[1],[1],[0],[0],[1],[1],[1],[1],[1],[1],[0],[1],[1],[1],[1],[1],[1],[1],[0],[1],[1],[1],[1],[1],[0],[1],[1],[0],[1],[1],[1],[1],[1],[1],[1],[1],[1],[1],[1],[1],[0],[1],[0],[0],[1],[0],[1],[1],[1],[1],[1],[0],[1],[1],[0],[1],[0],[1],[1],[0],[1],[0],[1],[1],[1],[1],[1],[1],[1],[1],[0],[0],[1],[1],[1],[1],[1],[1],[0],[1],[1],[1],[1],[1],[1],[1],[1],[1],[1],[0],[1],[1],[1],[1],[1],[1],[1],[0],[1],[0],[1],[1],[0],[1],[1],[1],[1],[1],[0],[0],[1],[0],[1],[0],[1],[1],[1],[1],[1],[0],[1],[1],[0],[1],[0],[1],[0],[0],[1],[1],[1],[0],[1],[1],[1],[1],[1],[1],[1],[1],[1],[1],[1],[0],[1],[0],[0],[1],[1],[1],[1],[1],[1],[1],[1],[1],[1],[1],[1],[1],[1],[1],[1],[1],[1],[1],[1],[1],[1],[1],[1],[1],[0],[0],[0],[0],[0],[0],[1]],\"hovertemplate\":\"Symmetry Error=%{marker.color}<br>index=%{y}<br>target=%{customdata[0]}<extra></extra>\",\"legendgroup\":\"\",\"marker\":{\"color\":[0.03003,0.01389,0.0225,0.05963,0.01756,0.02165,0.01369,0.01486,0.02143,0.01789,0.0146,0.02008,0.04484,0.02981,0.01961,0.01857,0.0141,0.01689,0.01356,0.0198,0.01678,0.02027,0.03672,0.01083,0.01468,0.02308,0.01454,0.02293,0.01768,0.01925,0.02007,0.02273,0.02102,0.01543,0.01703,0.02789,0.02028,0.02671,0.007882,0.01377,0.0138,0.01357,0.05333,0.01719,0.01113,0.02428,0.02574,0.01743,0.01428,0.01641,0.02406,0.01325,0.01996,0.02674,0.01095,0.03218,0.01852,0.01817,0.0219,0.0209,0.04183,0.03357,0.017,0.04192,0.01635,0.019,0.02279,0.02183,0.04197,0.02254,0.01386,0.02541,0.01527,0.0122,0.01386,0.0155,0.02572,0.02591,0.07895,0.01748,0.01816,0.02134,0.01065,0.03056,0.01972,0.0237,0.02418,0.01964,0.01958,0.02427,0.02085,0.02471,0.01069,0.01884,0.01498,0.02657,0.0222,0.01801,0.01651,0.01462,0.01465,0.02659,0.01447,0.01609,0.0271,0.01547,0.01565,0.01251,0.03112,0.01568,0.03281,0.02144,0.02566,0.02287,0.01708,0.01278,0.02384,0.01602,0.01495,0.05014,0.01344,0.02045,0.04547,0.0191,0.01208,0.01247,0.01323,0.0203,0.02353,0.01578,0.02662,0.01397,0.01535,0.01669,0.01492,0.01647,0.01359,0.01501,0.05168,0.0158,0.02277,0.01875,0.02282,0.02104,0.01671,0.03127,0.05628,0.03356,0.01454,0.01329,0.02951,0.02309,0.03546,0.02388,0.02769,0.01799,0.01778,0.0152,0.01465,0.01637,0.03397,0.03156,0.01686,0.01879,0.01956,0.01924,0.01254,0.02091,0.01145,0.0135,0.01924,0.0152,0.01792,0.03082,0.03265,0.02711,0.0388,0.01682,0.01613,0.01065,0.01575,0.01798,0.01547,0.02165,0.01172,0.02538,0.01069,0.01897,0.03139,0.02025,0.05113,0.03373,0.03799,0.01878,0.02545,0.01853,0.02689,0.0214,0.01415,0.01522,0.01503,0.01594,0.02175,0.01998,0.01782,0.01523,0.0221,0.02294,0.02514,0.009539,0.03176,0.01616,0.04783,0.02175,0.04499,0.01939,0.02793,0.0256,0.01897,0.01332,0.01371,0.01842,0.02637,0.01772,0.01482,0.02266,0.01502,0.01391,0.01365,0.0168,0.01177,0.01537,0.01916,0.01298,0.02383,0.01263,0.0159,0.01341,0.01185,0.01226,0.01898,0.0172,0.01995,0.02598,0.02186,0.03476,0.01962,0.01266,0.02158,0.01677,0.02401,0.02292,0.01467,0.01394,0.01365,0.02062,0.01936,0.01884,0.02337,0.009947,0.01282,0.01411,0.02747,0.01013,0.01144,0.01367,0.03504,0.0203,0.02593,0.02728,0.01536,0.01692,0.01924,0.01798,0.01419,0.02678,0.02358,0.0193,0.01344,0.01528,0.01435,0.02921,0.01623,0.01388,0.01878,0.02571,0.01872,0.01619,0.03418,0.03416,0.04077,0.01522,0.02625,0.01792,0.01374,0.02154,0.02941,0.01575,0.01103,0.03464,0.01884,0.0274,0.02736,0.01791,0.01894,0.03194,0.01344,0.02701,0.0148,0.01422,0.02349,0.01494,0.01731,0.02032,0.06146,0.01393,0.01977,0.01275,0.03491,0.03433,0.02719,0.02193,0.01202,0.02768,0.01333,0.02057,0.01416,0.01466,0.01536,0.04022,0.01467,0.02751,0.04243,0.017,0.01939,0.01829,0.01639,0.02168,0.021,0.01479,0.01873,0.0175,0.02348,0.03756,0.01953,0.03675,0.01982,0.02163,0.01755,0.02734,0.02216,0.05543,0.02335,0.0212,0.03102,0.02639,0.0286,0.01544,0.02837,0.01942,0.02043,0.01829,0.01909,0.01694,0.01291,0.01445,0.0371,0.01938,0.01263,0.01518,0.03197,0.01647,0.01675,0.01276,0.01943,0.01934,0.01617,0.01442,0.01818,0.01738,0.02108,0.0188,0.0247,0.01838,0.01461,0.0174,0.01921,0.01647,0.01219,0.02768,0.01938,0.01865,0.01852,0.02045,0.02015,0.01719,0.01315,0.01869,0.01191,0.01477,0.01591,0.01096,0.02632,0.0187,0.0297,0.02079,0.015,0.02669,0.01414,0.02578,0.01341,0.01718,0.01951,0.01906,0.03151,0.02258,0.03044,0.02018,0.01713,0.02694,0.01868,0.02653,0.01848,0.01581,0.031,0.01445,0.02161,0.01844,0.02009,0.0194,0.01499,0.02187,0.02451,0.02383,0.01551,0.01223,0.02223,0.02005,0.02014,0.01171,0.01516,0.01594,0.01227,0.01717,0.01295,0.02094,0.01237,0.02254,0.01394,0.01029,0.02354,0.01641,0.01745,0.02207,0.01608,0.01564,0.02475,0.01347,0.01215,0.01574,0.02045,0.01697,0.01414,0.02124,0.01093,0.01526,0.01561,0.02693,0.01673,0.01807,0.0196,0.02047,0.01148,0.03141,0.01212,0.01601,0.0161,0.01316,0.01843,0.02773,0.01454,0.01062,0.01698,0.01285,0.01175,0.03232,0.01254,0.01717,0.02152,0.01961,0.01608,0.01302,0.02897,0.02869,0.02086,0.01959,0.01759,0.01536,0.01617,0.01117,0.01055,0.02434,0.02801,0.02201,0.02542,0.02632,0.0132,0.0222,0.01344,0.02105,0.0226,0.0158,0.01705,0.01539,0.01152,0.02434,0.01559,0.01057,0.01816,0.01805,0.03997,0.01879,0.01487,0.0187,0.01824,0.01592,0.01354,0.01129,0.01715,0.01962,0.01835,0.01449,0.01054,0.02816,0.01322,0.01948,0.01451,0.0156,0.02882,0.02105,0.0184,0.02068,0.0187,0.01724,0.0149,0.02087,0.0156,0.02277,0.02203,0.02466,0.03004,0.02912,0.01897,0.03759,0.01695,0.01843,0.02572,0.03004,0.01638,0.01488,0.0208,0.01989,0.02137,0.02057,0.01114,0.01898,0.01318,0.02324,0.02676],\"coloraxis\":\"coloraxis\",\"size\":[0.03003,0.01389,0.0225,0.05963,0.01756,0.02165,0.01369,0.01486,0.02143,0.01789,0.0146,0.02008,0.04484,0.02981,0.01961,0.01857,0.0141,0.01689,0.01356,0.0198,0.01678,0.02027,0.03672,0.01083,0.01468,0.02308,0.01454,0.02293,0.01768,0.01925,0.02007,0.02273,0.02102,0.01543,0.01703,0.02789,0.02028,0.02671,0.007882,0.01377,0.0138,0.01357,0.05333,0.01719,0.01113,0.02428,0.02574,0.01743,0.01428,0.01641,0.02406,0.01325,0.01996,0.02674,0.01095,0.03218,0.01852,0.01817,0.0219,0.0209,0.04183,0.03357,0.017,0.04192,0.01635,0.019,0.02279,0.02183,0.04197,0.02254,0.01386,0.02541,0.01527,0.0122,0.01386,0.0155,0.02572,0.02591,0.07895,0.01748,0.01816,0.02134,0.01065,0.03056,0.01972,0.0237,0.02418,0.01964,0.01958,0.02427,0.02085,0.02471,0.01069,0.01884,0.01498,0.02657,0.0222,0.01801,0.01651,0.01462,0.01465,0.02659,0.01447,0.01609,0.0271,0.01547,0.01565,0.01251,0.03112,0.01568,0.03281,0.02144,0.02566,0.02287,0.01708,0.01278,0.02384,0.01602,0.01495,0.05014,0.01344,0.02045,0.04547,0.0191,0.01208,0.01247,0.01323,0.0203,0.02353,0.01578,0.02662,0.01397,0.01535,0.01669,0.01492,0.01647,0.01359,0.01501,0.05168,0.0158,0.02277,0.01875,0.02282,0.02104,0.01671,0.03127,0.05628,0.03356,0.01454,0.01329,0.02951,0.02309,0.03546,0.02388,0.02769,0.01799,0.01778,0.0152,0.01465,0.01637,0.03397,0.03156,0.01686,0.01879,0.01956,0.01924,0.01254,0.02091,0.01145,0.0135,0.01924,0.0152,0.01792,0.03082,0.03265,0.02711,0.0388,0.01682,0.01613,0.01065,0.01575,0.01798,0.01547,0.02165,0.01172,0.02538,0.01069,0.01897,0.03139,0.02025,0.05113,0.03373,0.03799,0.01878,0.02545,0.01853,0.02689,0.0214,0.01415,0.01522,0.01503,0.01594,0.02175,0.01998,0.01782,0.01523,0.0221,0.02294,0.02514,0.009539,0.03176,0.01616,0.04783,0.02175,0.04499,0.01939,0.02793,0.0256,0.01897,0.01332,0.01371,0.01842,0.02637,0.01772,0.01482,0.02266,0.01502,0.01391,0.01365,0.0168,0.01177,0.01537,0.01916,0.01298,0.02383,0.01263,0.0159,0.01341,0.01185,0.01226,0.01898,0.0172,0.01995,0.02598,0.02186,0.03476,0.01962,0.01266,0.02158,0.01677,0.02401,0.02292,0.01467,0.01394,0.01365,0.02062,0.01936,0.01884,0.02337,0.009947,0.01282,0.01411,0.02747,0.01013,0.01144,0.01367,0.03504,0.0203,0.02593,0.02728,0.01536,0.01692,0.01924,0.01798,0.01419,0.02678,0.02358,0.0193,0.01344,0.01528,0.01435,0.02921,0.01623,0.01388,0.01878,0.02571,0.01872,0.01619,0.03418,0.03416,0.04077,0.01522,0.02625,0.01792,0.01374,0.02154,0.02941,0.01575,0.01103,0.03464,0.01884,0.0274,0.02736,0.01791,0.01894,0.03194,0.01344,0.02701,0.0148,0.01422,0.02349,0.01494,0.01731,0.02032,0.06146,0.01393,0.01977,0.01275,0.03491,0.03433,0.02719,0.02193,0.01202,0.02768,0.01333,0.02057,0.01416,0.01466,0.01536,0.04022,0.01467,0.02751,0.04243,0.017,0.01939,0.01829,0.01639,0.02168,0.021,0.01479,0.01873,0.0175,0.02348,0.03756,0.01953,0.03675,0.01982,0.02163,0.01755,0.02734,0.02216,0.05543,0.02335,0.0212,0.03102,0.02639,0.0286,0.01544,0.02837,0.01942,0.02043,0.01829,0.01909,0.01694,0.01291,0.01445,0.0371,0.01938,0.01263,0.01518,0.03197,0.01647,0.01675,0.01276,0.01943,0.01934,0.01617,0.01442,0.01818,0.01738,0.02108,0.0188,0.0247,0.01838,0.01461,0.0174,0.01921,0.01647,0.01219,0.02768,0.01938,0.01865,0.01852,0.02045,0.02015,0.01719,0.01315,0.01869,0.01191,0.01477,0.01591,0.01096,0.02632,0.0187,0.0297,0.02079,0.015,0.02669,0.01414,0.02578,0.01341,0.01718,0.01951,0.01906,0.03151,0.02258,0.03044,0.02018,0.01713,0.02694,0.01868,0.02653,0.01848,0.01581,0.031,0.01445,0.02161,0.01844,0.02009,0.0194,0.01499,0.02187,0.02451,0.02383,0.01551,0.01223,0.02223,0.02005,0.02014,0.01171,0.01516,0.01594,0.01227,0.01717,0.01295,0.02094,0.01237,0.02254,0.01394,0.01029,0.02354,0.01641,0.01745,0.02207,0.01608,0.01564,0.02475,0.01347,0.01215,0.01574,0.02045,0.01697,0.01414,0.02124,0.01093,0.01526,0.01561,0.02693,0.01673,0.01807,0.0196,0.02047,0.01148,0.03141,0.01212,0.01601,0.0161,0.01316,0.01843,0.02773,0.01454,0.01062,0.01698,0.01285,0.01175,0.03232,0.01254,0.01717,0.02152,0.01961,0.01608,0.01302,0.02897,0.02869,0.02086,0.01959,0.01759,0.01536,0.01617,0.01117,0.01055,0.02434,0.02801,0.02201,0.02542,0.02632,0.0132,0.0222,0.01344,0.02105,0.0226,0.0158,0.01705,0.01539,0.01152,0.02434,0.01559,0.01057,0.01816,0.01805,0.03997,0.01879,0.01487,0.0187,0.01824,0.01592,0.01354,0.01129,0.01715,0.01962,0.01835,0.01449,0.01054,0.02816,0.01322,0.01948,0.01451,0.0156,0.02882,0.02105,0.0184,0.02068,0.0187,0.01724,0.0149,0.02087,0.0156,0.02277,0.02203,0.02466,0.03004,0.02912,0.01897,0.03759,0.01695,0.01843,0.02572,0.03004,0.01638,0.01488,0.0208,0.01989,0.02137,0.02057,0.01114,0.01898,0.01318,0.02324,0.02676],\"sizemode\":\"area\",\"sizeref\":0.000197375,\"symbol\":\"circle\"},\"mode\":\"markers\",\"name\":\"\",\"orientation\":\"h\",\"showlegend\":false,\"x\":[0.03003,0.01389,0.0225,0.05963,0.01756,0.02165,0.01369,0.01486,0.02143,0.01789,0.0146,0.02008,0.04484,0.02981,0.01961,0.01857,0.0141,0.01689,0.01356,0.0198,0.01678,0.02027,0.03672,0.01083,0.01468,0.02308,0.01454,0.02293,0.01768,0.01925,0.02007,0.02273,0.02102,0.01543,0.01703,0.02789,0.02028,0.02671,0.007882,0.01377,0.0138,0.01357,0.05333,0.01719,0.01113,0.02428,0.02574,0.01743,0.01428,0.01641,0.02406,0.01325,0.01996,0.02674,0.01095,0.03218,0.01852,0.01817,0.0219,0.0209,0.04183,0.03357,0.017,0.04192,0.01635,0.019,0.02279,0.02183,0.04197,0.02254,0.01386,0.02541,0.01527,0.0122,0.01386,0.0155,0.02572,0.02591,0.07895,0.01748,0.01816,0.02134,0.01065,0.03056,0.01972,0.0237,0.02418,0.01964,0.01958,0.02427,0.02085,0.02471,0.01069,0.01884,0.01498,0.02657,0.0222,0.01801,0.01651,0.01462,0.01465,0.02659,0.01447,0.01609,0.0271,0.01547,0.01565,0.01251,0.03112,0.01568,0.03281,0.02144,0.02566,0.02287,0.01708,0.01278,0.02384,0.01602,0.01495,0.05014,0.01344,0.02045,0.04547,0.0191,0.01208,0.01247,0.01323,0.0203,0.02353,0.01578,0.02662,0.01397,0.01535,0.01669,0.01492,0.01647,0.01359,0.01501,0.05168,0.0158,0.02277,0.01875,0.02282,0.02104,0.01671,0.03127,0.05628,0.03356,0.01454,0.01329,0.02951,0.02309,0.03546,0.02388,0.02769,0.01799,0.01778,0.0152,0.01465,0.01637,0.03397,0.03156,0.01686,0.01879,0.01956,0.01924,0.01254,0.02091,0.01145,0.0135,0.01924,0.0152,0.01792,0.03082,0.03265,0.02711,0.0388,0.01682,0.01613,0.01065,0.01575,0.01798,0.01547,0.02165,0.01172,0.02538,0.01069,0.01897,0.03139,0.02025,0.05113,0.03373,0.03799,0.01878,0.02545,0.01853,0.02689,0.0214,0.01415,0.01522,0.01503,0.01594,0.02175,0.01998,0.01782,0.01523,0.0221,0.02294,0.02514,0.009539,0.03176,0.01616,0.04783,0.02175,0.04499,0.01939,0.02793,0.0256,0.01897,0.01332,0.01371,0.01842,0.02637,0.01772,0.01482,0.02266,0.01502,0.01391,0.01365,0.0168,0.01177,0.01537,0.01916,0.01298,0.02383,0.01263,0.0159,0.01341,0.01185,0.01226,0.01898,0.0172,0.01995,0.02598,0.02186,0.03476,0.01962,0.01266,0.02158,0.01677,0.02401,0.02292,0.01467,0.01394,0.01365,0.02062,0.01936,0.01884,0.02337,0.009947,0.01282,0.01411,0.02747,0.01013,0.01144,0.01367,0.03504,0.0203,0.02593,0.02728,0.01536,0.01692,0.01924,0.01798,0.01419,0.02678,0.02358,0.0193,0.01344,0.01528,0.01435,0.02921,0.01623,0.01388,0.01878,0.02571,0.01872,0.01619,0.03418,0.03416,0.04077,0.01522,0.02625,0.01792,0.01374,0.02154,0.02941,0.01575,0.01103,0.03464,0.01884,0.0274,0.02736,0.01791,0.01894,0.03194,0.01344,0.02701,0.0148,0.01422,0.02349,0.01494,0.01731,0.02032,0.06146,0.01393,0.01977,0.01275,0.03491,0.03433,0.02719,0.02193,0.01202,0.02768,0.01333,0.02057,0.01416,0.01466,0.01536,0.04022,0.01467,0.02751,0.04243,0.017,0.01939,0.01829,0.01639,0.02168,0.021,0.01479,0.01873,0.0175,0.02348,0.03756,0.01953,0.03675,0.01982,0.02163,0.01755,0.02734,0.02216,0.05543,0.02335,0.0212,0.03102,0.02639,0.0286,0.01544,0.02837,0.01942,0.02043,0.01829,0.01909,0.01694,0.01291,0.01445,0.0371,0.01938,0.01263,0.01518,0.03197,0.01647,0.01675,0.01276,0.01943,0.01934,0.01617,0.01442,0.01818,0.01738,0.02108,0.0188,0.0247,0.01838,0.01461,0.0174,0.01921,0.01647,0.01219,0.02768,0.01938,0.01865,0.01852,0.02045,0.02015,0.01719,0.01315,0.01869,0.01191,0.01477,0.01591,0.01096,0.02632,0.0187,0.0297,0.02079,0.015,0.02669,0.01414,0.02578,0.01341,0.01718,0.01951,0.01906,0.03151,0.02258,0.03044,0.02018,0.01713,0.02694,0.01868,0.02653,0.01848,0.01581,0.031,0.01445,0.02161,0.01844,0.02009,0.0194,0.01499,0.02187,0.02451,0.02383,0.01551,0.01223,0.02223,0.02005,0.02014,0.01171,0.01516,0.01594,0.01227,0.01717,0.01295,0.02094,0.01237,0.02254,0.01394,0.01029,0.02354,0.01641,0.01745,0.02207,0.01608,0.01564,0.02475,0.01347,0.01215,0.01574,0.02045,0.01697,0.01414,0.02124,0.01093,0.01526,0.01561,0.02693,0.01673,0.01807,0.0196,0.02047,0.01148,0.03141,0.01212,0.01601,0.0161,0.01316,0.01843,0.02773,0.01454,0.01062,0.01698,0.01285,0.01175,0.03232,0.01254,0.01717,0.02152,0.01961,0.01608,0.01302,0.02897,0.02869,0.02086,0.01959,0.01759,0.01536,0.01617,0.01117,0.01055,0.02434,0.02801,0.02201,0.02542,0.02632,0.0132,0.0222,0.01344,0.02105,0.0226,0.0158,0.01705,0.01539,0.01152,0.02434,0.01559,0.01057,0.01816,0.01805,0.03997,0.01879,0.01487,0.0187,0.01824,0.01592,0.01354,0.01129,0.01715,0.01962,0.01835,0.01449,0.01054,0.02816,0.01322,0.01948,0.01451,0.0156,0.02882,0.02105,0.0184,0.02068,0.0187,0.01724,0.0149,0.02087,0.0156,0.02277,0.02203,0.02466,0.03004,0.02912,0.01897,0.03759,0.01695,0.01843,0.02572,0.03004,0.01638,0.01488,0.0208,0.01989,0.02137,0.02057,0.01114,0.01898,0.01318,0.02324,0.02676],\"xaxis\":\"x\",\"y\":[0,1,2,3,4,5,6,7,8,9,10,11,12,13,14,15,16,17,18,19,20,21,22,23,24,25,26,27,28,29,30,31,32,33,34,35,36,37,38,39,40,41,42,43,44,45,46,47,48,49,50,51,52,53,54,55,56,57,58,59,60,61,62,63,64,65,66,67,68,69,70,71,72,73,74,75,76,77,78,79,80,81,82,83,84,85,86,87,88,89,90,91,92,93,94,95,96,97,98,99,100,101,102,103,104,105,106,107,108,109,110,111,112,113,114,115,116,117,118,119,120,121,122,123,124,125,126,127,128,129,130,131,132,133,134,135,136,137,138,139,140,141,142,143,144,145,146,147,148,149,150,151,152,153,154,155,156,157,158,159,160,161,162,163,164,165,166,167,168,169,170,171,172,173,174,175,176,177,178,179,180,181,182,183,184,185,186,187,188,189,190,191,192,193,194,195,196,197,198,199,200,201,202,203,204,205,206,207,208,209,210,211,212,213,214,215,216,217,218,219,220,221,222,223,224,225,226,227,228,229,230,231,232,233,234,235,236,237,238,239,240,241,242,243,244,245,246,247,248,249,250,251,252,253,254,255,256,257,258,259,260,261,262,263,264,265,266,267,268,269,270,271,272,273,274,275,276,277,278,279,280,281,282,283,284,285,286,287,288,289,290,291,292,293,294,295,296,297,298,299,300,301,302,303,304,305,306,307,308,309,310,311,312,313,314,315,316,317,318,319,320,321,322,323,324,325,326,327,328,329,330,331,332,333,334,335,336,337,338,339,340,341,342,343,344,345,346,347,348,349,350,351,352,353,354,355,356,357,358,359,360,361,362,363,364,365,366,367,368,369,370,371,372,373,374,375,376,377,378,379,380,381,382,383,384,385,386,387,388,389,390,391,392,393,394,395,396,397,398,399,400,401,402,403,404,405,406,407,408,409,410,411,412,413,414,415,416,417,418,419,420,421,422,423,424,425,426,427,428,429,430,431,432,433,434,435,436,437,438,439,440,441,442,443,444,445,446,447,448,449,450,451,452,453,454,455,456,457,458,459,460,461,462,463,464,465,466,467,468,469,470,471,472,473,474,475,476,477,478,479,480,481,482,483,484,485,486,487,488,489,490,491,492,493,494,495,496,497,498,499,500,501,502,503,504,505,506,507,508,509,510,511,512,513,514,515,516,517,518,519,520,521,522,523,524,525,526,527,528,529,530,531,532,533,534,535,536,537,538,539,540,541,542,543,544,545,546,547,548,549,550,551,552,553,554,555,556,557,558,559,560,561,562,563,564,565,566,567,568],\"yaxis\":\"y\",\"type\":\"scatter\"}],                        {\"template\":{\"data\":{\"barpolar\":[{\"marker\":{\"line\":{\"color\":\"rgb(234,234,242)\",\"width\":0.5},\"pattern\":{\"fillmode\":\"overlay\",\"size\":10,\"solidity\":0.2}},\"type\":\"barpolar\"}],\"bar\":[{\"error_x\":{\"color\":\"rgb(36,36,36)\"},\"error_y\":{\"color\":\"rgb(36,36,36)\"},\"marker\":{\"line\":{\"color\":\"rgb(234,234,242)\",\"width\":0.5},\"pattern\":{\"fillmode\":\"overlay\",\"size\":10,\"solidity\":0.2}},\"type\":\"bar\"}],\"carpet\":[{\"aaxis\":{\"endlinecolor\":\"rgb(36,36,36)\",\"gridcolor\":\"white\",\"linecolor\":\"white\",\"minorgridcolor\":\"white\",\"startlinecolor\":\"rgb(36,36,36)\"},\"baxis\":{\"endlinecolor\":\"rgb(36,36,36)\",\"gridcolor\":\"white\",\"linecolor\":\"white\",\"minorgridcolor\":\"white\",\"startlinecolor\":\"rgb(36,36,36)\"},\"type\":\"carpet\"}],\"choropleth\":[{\"colorbar\":{\"outlinewidth\":0,\"tickcolor\":\"rgb(36,36,36)\",\"ticklen\":8,\"ticks\":\"outside\",\"tickwidth\":2},\"type\":\"choropleth\"}],\"contourcarpet\":[{\"colorbar\":{\"outlinewidth\":0,\"tickcolor\":\"rgb(36,36,36)\",\"ticklen\":8,\"ticks\":\"outside\",\"tickwidth\":2},\"type\":\"contourcarpet\"}],\"contour\":[{\"colorbar\":{\"outlinewidth\":0,\"tickcolor\":\"rgb(36,36,36)\",\"ticklen\":8,\"ticks\":\"outside\",\"tickwidth\":2},\"colorscale\":[[0.0,\"rgb(2,4,25)\"],[0.06274509803921569,\"rgb(24,15,41)\"],[0.12549019607843137,\"rgb(47,23,57)\"],[0.18823529411764706,\"rgb(71,28,72)\"],[0.25098039215686274,\"rgb(97,30,82)\"],[0.3137254901960784,\"rgb(123,30,89)\"],[0.3764705882352941,\"rgb(150,27,91)\"],[0.4392156862745098,\"rgb(177,22,88)\"],[0.5019607843137255,\"rgb(203,26,79)\"],[0.5647058823529412,\"rgb(223,47,67)\"],[0.6274509803921569,\"rgb(236,76,61)\"],[0.6901960784313725,\"rgb(242,107,73)\"],[0.7529411764705882,\"rgb(244,135,95)\"],[0.8156862745098039,\"rgb(245,162,122)\"],[0.8784313725490196,\"rgb(246,188,153)\"],[0.9411764705882353,\"rgb(247,212,187)\"],[1.0,\"rgb(250,234,220)\"]],\"type\":\"contour\"}],\"heatmapgl\":[{\"colorbar\":{\"outlinewidth\":0,\"tickcolor\":\"rgb(36,36,36)\",\"ticklen\":8,\"ticks\":\"outside\",\"tickwidth\":2},\"colorscale\":[[0.0,\"rgb(2,4,25)\"],[0.06274509803921569,\"rgb(24,15,41)\"],[0.12549019607843137,\"rgb(47,23,57)\"],[0.18823529411764706,\"rgb(71,28,72)\"],[0.25098039215686274,\"rgb(97,30,82)\"],[0.3137254901960784,\"rgb(123,30,89)\"],[0.3764705882352941,\"rgb(150,27,91)\"],[0.4392156862745098,\"rgb(177,22,88)\"],[0.5019607843137255,\"rgb(203,26,79)\"],[0.5647058823529412,\"rgb(223,47,67)\"],[0.6274509803921569,\"rgb(236,76,61)\"],[0.6901960784313725,\"rgb(242,107,73)\"],[0.7529411764705882,\"rgb(244,135,95)\"],[0.8156862745098039,\"rgb(245,162,122)\"],[0.8784313725490196,\"rgb(246,188,153)\"],[0.9411764705882353,\"rgb(247,212,187)\"],[1.0,\"rgb(250,234,220)\"]],\"type\":\"heatmapgl\"}],\"heatmap\":[{\"colorbar\":{\"outlinewidth\":0,\"tickcolor\":\"rgb(36,36,36)\",\"ticklen\":8,\"ticks\":\"outside\",\"tickwidth\":2},\"colorscale\":[[0.0,\"rgb(2,4,25)\"],[0.06274509803921569,\"rgb(24,15,41)\"],[0.12549019607843137,\"rgb(47,23,57)\"],[0.18823529411764706,\"rgb(71,28,72)\"],[0.25098039215686274,\"rgb(97,30,82)\"],[0.3137254901960784,\"rgb(123,30,89)\"],[0.3764705882352941,\"rgb(150,27,91)\"],[0.4392156862745098,\"rgb(177,22,88)\"],[0.5019607843137255,\"rgb(203,26,79)\"],[0.5647058823529412,\"rgb(223,47,67)\"],[0.6274509803921569,\"rgb(236,76,61)\"],[0.6901960784313725,\"rgb(242,107,73)\"],[0.7529411764705882,\"rgb(244,135,95)\"],[0.8156862745098039,\"rgb(245,162,122)\"],[0.8784313725490196,\"rgb(246,188,153)\"],[0.9411764705882353,\"rgb(247,212,187)\"],[1.0,\"rgb(250,234,220)\"]],\"type\":\"heatmap\"}],\"histogram2dcontour\":[{\"colorbar\":{\"outlinewidth\":0,\"tickcolor\":\"rgb(36,36,36)\",\"ticklen\":8,\"ticks\":\"outside\",\"tickwidth\":2},\"colorscale\":[[0.0,\"rgb(2,4,25)\"],[0.06274509803921569,\"rgb(24,15,41)\"],[0.12549019607843137,\"rgb(47,23,57)\"],[0.18823529411764706,\"rgb(71,28,72)\"],[0.25098039215686274,\"rgb(97,30,82)\"],[0.3137254901960784,\"rgb(123,30,89)\"],[0.3764705882352941,\"rgb(150,27,91)\"],[0.4392156862745098,\"rgb(177,22,88)\"],[0.5019607843137255,\"rgb(203,26,79)\"],[0.5647058823529412,\"rgb(223,47,67)\"],[0.6274509803921569,\"rgb(236,76,61)\"],[0.6901960784313725,\"rgb(242,107,73)\"],[0.7529411764705882,\"rgb(244,135,95)\"],[0.8156862745098039,\"rgb(245,162,122)\"],[0.8784313725490196,\"rgb(246,188,153)\"],[0.9411764705882353,\"rgb(247,212,187)\"],[1.0,\"rgb(250,234,220)\"]],\"type\":\"histogram2dcontour\"}],\"histogram2d\":[{\"colorbar\":{\"outlinewidth\":0,\"tickcolor\":\"rgb(36,36,36)\",\"ticklen\":8,\"ticks\":\"outside\",\"tickwidth\":2},\"colorscale\":[[0.0,\"rgb(2,4,25)\"],[0.06274509803921569,\"rgb(24,15,41)\"],[0.12549019607843137,\"rgb(47,23,57)\"],[0.18823529411764706,\"rgb(71,28,72)\"],[0.25098039215686274,\"rgb(97,30,82)\"],[0.3137254901960784,\"rgb(123,30,89)\"],[0.3764705882352941,\"rgb(150,27,91)\"],[0.4392156862745098,\"rgb(177,22,88)\"],[0.5019607843137255,\"rgb(203,26,79)\"],[0.5647058823529412,\"rgb(223,47,67)\"],[0.6274509803921569,\"rgb(236,76,61)\"],[0.6901960784313725,\"rgb(242,107,73)\"],[0.7529411764705882,\"rgb(244,135,95)\"],[0.8156862745098039,\"rgb(245,162,122)\"],[0.8784313725490196,\"rgb(246,188,153)\"],[0.9411764705882353,\"rgb(247,212,187)\"],[1.0,\"rgb(250,234,220)\"]],\"type\":\"histogram2d\"}],\"histogram\":[{\"marker\":{\"pattern\":{\"fillmode\":\"overlay\",\"size\":10,\"solidity\":0.2}},\"type\":\"histogram\"}],\"mesh3d\":[{\"colorbar\":{\"outlinewidth\":0,\"tickcolor\":\"rgb(36,36,36)\",\"ticklen\":8,\"ticks\":\"outside\",\"tickwidth\":2},\"type\":\"mesh3d\"}],\"parcoords\":[{\"line\":{\"colorbar\":{\"outlinewidth\":0,\"tickcolor\":\"rgb(36,36,36)\",\"ticklen\":8,\"ticks\":\"outside\",\"tickwidth\":2}},\"type\":\"parcoords\"}],\"pie\":[{\"automargin\":true,\"type\":\"pie\"}],\"scatter3d\":[{\"line\":{\"colorbar\":{\"outlinewidth\":0,\"tickcolor\":\"rgb(36,36,36)\",\"ticklen\":8,\"ticks\":\"outside\",\"tickwidth\":2}},\"marker\":{\"colorbar\":{\"outlinewidth\":0,\"tickcolor\":\"rgb(36,36,36)\",\"ticklen\":8,\"ticks\":\"outside\",\"tickwidth\":2}},\"type\":\"scatter3d\"}],\"scattercarpet\":[{\"marker\":{\"colorbar\":{\"outlinewidth\":0,\"tickcolor\":\"rgb(36,36,36)\",\"ticklen\":8,\"ticks\":\"outside\",\"tickwidth\":2}},\"type\":\"scattercarpet\"}],\"scattergeo\":[{\"marker\":{\"colorbar\":{\"outlinewidth\":0,\"tickcolor\":\"rgb(36,36,36)\",\"ticklen\":8,\"ticks\":\"outside\",\"tickwidth\":2}},\"type\":\"scattergeo\"}],\"scattergl\":[{\"marker\":{\"colorbar\":{\"outlinewidth\":0,\"tickcolor\":\"rgb(36,36,36)\",\"ticklen\":8,\"ticks\":\"outside\",\"tickwidth\":2}},\"type\":\"scattergl\"}],\"scattermapbox\":[{\"marker\":{\"colorbar\":{\"outlinewidth\":0,\"tickcolor\":\"rgb(36,36,36)\",\"ticklen\":8,\"ticks\":\"outside\",\"tickwidth\":2}},\"type\":\"scattermapbox\"}],\"scatterpolargl\":[{\"marker\":{\"colorbar\":{\"outlinewidth\":0,\"tickcolor\":\"rgb(36,36,36)\",\"ticklen\":8,\"ticks\":\"outside\",\"tickwidth\":2}},\"type\":\"scatterpolargl\"}],\"scatterpolar\":[{\"marker\":{\"colorbar\":{\"outlinewidth\":0,\"tickcolor\":\"rgb(36,36,36)\",\"ticklen\":8,\"ticks\":\"outside\",\"tickwidth\":2}},\"type\":\"scatterpolar\"}],\"scatter\":[{\"fillpattern\":{\"fillmode\":\"overlay\",\"size\":10,\"solidity\":0.2},\"type\":\"scatter\"}],\"scatterternary\":[{\"marker\":{\"colorbar\":{\"outlinewidth\":0,\"tickcolor\":\"rgb(36,36,36)\",\"ticklen\":8,\"ticks\":\"outside\",\"tickwidth\":2}},\"type\":\"scatterternary\"}],\"surface\":[{\"colorbar\":{\"outlinewidth\":0,\"tickcolor\":\"rgb(36,36,36)\",\"ticklen\":8,\"ticks\":\"outside\",\"tickwidth\":2},\"colorscale\":[[0.0,\"rgb(2,4,25)\"],[0.06274509803921569,\"rgb(24,15,41)\"],[0.12549019607843137,\"rgb(47,23,57)\"],[0.18823529411764706,\"rgb(71,28,72)\"],[0.25098039215686274,\"rgb(97,30,82)\"],[0.3137254901960784,\"rgb(123,30,89)\"],[0.3764705882352941,\"rgb(150,27,91)\"],[0.4392156862745098,\"rgb(177,22,88)\"],[0.5019607843137255,\"rgb(203,26,79)\"],[0.5647058823529412,\"rgb(223,47,67)\"],[0.6274509803921569,\"rgb(236,76,61)\"],[0.6901960784313725,\"rgb(242,107,73)\"],[0.7529411764705882,\"rgb(244,135,95)\"],[0.8156862745098039,\"rgb(245,162,122)\"],[0.8784313725490196,\"rgb(246,188,153)\"],[0.9411764705882353,\"rgb(247,212,187)\"],[1.0,\"rgb(250,234,220)\"]],\"type\":\"surface\"}],\"table\":[{\"cells\":{\"fill\":{\"color\":\"rgb(231,231,240)\"},\"line\":{\"color\":\"white\"}},\"header\":{\"fill\":{\"color\":\"rgb(183,183,191)\"},\"line\":{\"color\":\"white\"}},\"type\":\"table\"}]},\"layout\":{\"annotationdefaults\":{\"arrowcolor\":\"rgb(67,103,167)\"},\"autotypenumbers\":\"strict\",\"coloraxis\":{\"colorbar\":{\"outlinewidth\":0,\"tickcolor\":\"rgb(36,36,36)\",\"ticklen\":8,\"ticks\":\"outside\",\"tickwidth\":2}},\"colorscale\":{\"sequential\":[[0.0,\"rgb(2,4,25)\"],[0.06274509803921569,\"rgb(24,15,41)\"],[0.12549019607843137,\"rgb(47,23,57)\"],[0.18823529411764706,\"rgb(71,28,72)\"],[0.25098039215686274,\"rgb(97,30,82)\"],[0.3137254901960784,\"rgb(123,30,89)\"],[0.3764705882352941,\"rgb(150,27,91)\"],[0.4392156862745098,\"rgb(177,22,88)\"],[0.5019607843137255,\"rgb(203,26,79)\"],[0.5647058823529412,\"rgb(223,47,67)\"],[0.6274509803921569,\"rgb(236,76,61)\"],[0.6901960784313725,\"rgb(242,107,73)\"],[0.7529411764705882,\"rgb(244,135,95)\"],[0.8156862745098039,\"rgb(245,162,122)\"],[0.8784313725490196,\"rgb(246,188,153)\"],[0.9411764705882353,\"rgb(247,212,187)\"],[1.0,\"rgb(250,234,220)\"]],\"sequentialminus\":[[0.0,\"rgb(2,4,25)\"],[0.06274509803921569,\"rgb(24,15,41)\"],[0.12549019607843137,\"rgb(47,23,57)\"],[0.18823529411764706,\"rgb(71,28,72)\"],[0.25098039215686274,\"rgb(97,30,82)\"],[0.3137254901960784,\"rgb(123,30,89)\"],[0.3764705882352941,\"rgb(150,27,91)\"],[0.4392156862745098,\"rgb(177,22,88)\"],[0.5019607843137255,\"rgb(203,26,79)\"],[0.5647058823529412,\"rgb(223,47,67)\"],[0.6274509803921569,\"rgb(236,76,61)\"],[0.6901960784313725,\"rgb(242,107,73)\"],[0.7529411764705882,\"rgb(244,135,95)\"],[0.8156862745098039,\"rgb(245,162,122)\"],[0.8784313725490196,\"rgb(246,188,153)\"],[0.9411764705882353,\"rgb(247,212,187)\"],[1.0,\"rgb(250,234,220)\"]]},\"colorway\":[\"rgb(76,114,176)\",\"rgb(221,132,82)\",\"rgb(85,168,104)\",\"rgb(196,78,82)\",\"rgb(129,114,179)\",\"rgb(147,120,96)\",\"rgb(218,139,195)\",\"rgb(140,140,140)\",\"rgb(204,185,116)\",\"rgb(100,181,205)\"],\"font\":{\"color\":\"rgb(36,36,36)\"},\"geo\":{\"bgcolor\":\"white\",\"lakecolor\":\"white\",\"landcolor\":\"rgb(234,234,242)\",\"showlakes\":true,\"showland\":true,\"subunitcolor\":\"white\"},\"hoverlabel\":{\"align\":\"left\"},\"hovermode\":\"closest\",\"paper_bgcolor\":\"white\",\"plot_bgcolor\":\"rgb(234,234,242)\",\"polar\":{\"angularaxis\":{\"gridcolor\":\"white\",\"linecolor\":\"white\",\"showgrid\":true,\"ticks\":\"\"},\"bgcolor\":\"rgb(234,234,242)\",\"radialaxis\":{\"gridcolor\":\"white\",\"linecolor\":\"white\",\"showgrid\":true,\"ticks\":\"\"}},\"scene\":{\"xaxis\":{\"backgroundcolor\":\"rgb(234,234,242)\",\"gridcolor\":\"white\",\"gridwidth\":2,\"linecolor\":\"white\",\"showbackground\":true,\"showgrid\":true,\"ticks\":\"\",\"zerolinecolor\":\"white\"},\"yaxis\":{\"backgroundcolor\":\"rgb(234,234,242)\",\"gridcolor\":\"white\",\"gridwidth\":2,\"linecolor\":\"white\",\"showbackground\":true,\"showgrid\":true,\"ticks\":\"\",\"zerolinecolor\":\"white\"},\"zaxis\":{\"backgroundcolor\":\"rgb(234,234,242)\",\"gridcolor\":\"white\",\"gridwidth\":2,\"linecolor\":\"white\",\"showbackground\":true,\"showgrid\":true,\"ticks\":\"\",\"zerolinecolor\":\"white\"}},\"shapedefaults\":{\"fillcolor\":\"rgb(67,103,167)\",\"line\":{\"width\":0},\"opacity\":0.5},\"ternary\":{\"aaxis\":{\"gridcolor\":\"white\",\"linecolor\":\"white\",\"showgrid\":true,\"ticks\":\"\"},\"baxis\":{\"gridcolor\":\"white\",\"linecolor\":\"white\",\"showgrid\":true,\"ticks\":\"\"},\"bgcolor\":\"rgb(234,234,242)\",\"caxis\":{\"gridcolor\":\"white\",\"linecolor\":\"white\",\"showgrid\":true,\"ticks\":\"\"}},\"xaxis\":{\"automargin\":true,\"gridcolor\":\"white\",\"linecolor\":\"white\",\"showgrid\":true,\"ticks\":\"\",\"title\":{\"standoff\":15},\"zerolinecolor\":\"white\"},\"yaxis\":{\"automargin\":true,\"gridcolor\":\"white\",\"linecolor\":\"white\",\"showgrid\":true,\"ticks\":\"\",\"title\":{\"standoff\":15},\"zerolinecolor\":\"white\"}}},\"xaxis\":{\"anchor\":\"y\",\"domain\":[0.0,1.0],\"title\":{\"text\":\"Symmetry Error\"}},\"yaxis\":{\"anchor\":\"x\",\"domain\":[0.0,1.0],\"title\":{\"text\":\" \"}},\"coloraxis\":{\"colorbar\":{\"title\":{\"text\":\"Symmetry Error\"}},\"colorscale\":[[0.0,\"rgb(2,4,25)\"],[0.0625,\"rgb(24,15,41)\"],[0.125,\"rgb(47,23,57)\"],[0.1875,\"rgb(71,28,72)\"],[0.25,\"rgb(97,30,82)\"],[0.3125,\"rgb(123,30,89)\"],[0.375,\"rgb(150,27,91)\"],[0.4375,\"rgb(177,22,88)\"],[0.5,\"rgb(203,26,79)\"],[0.5625,\"rgb(223,47,67)\"],[0.625,\"rgb(236,76,61)\"],[0.6875,\"rgb(242,107,73)\"],[0.75,\"rgb(244,135,95)\"],[0.8125,\"rgb(245,162,122)\"],[0.875,\"rgb(246,188,153)\"],[0.9375,\"rgb(247,212,187)\"],[1.0,\"rgb(250,234,220)\"]]},\"legend\":{\"tracegroupgap\":0,\"itemsizing\":\"constant\"},\"title\":{\"text\":\"Symmetry Error Spread\"},\"plot_bgcolor\":\"rgba(0, 0, 0, 0)\",\"paper_bgcolor\":\"rgba(0, 0, 0, 0)\"},                        {\"responsive\": true}                    ).then(function(){\n",
       "                            \n",
       "var gd = document.getElementById('1b6472de-2802-420c-9c8b-8ad3945462a9');\n",
       "var x = new MutationObserver(function (mutations, observer) {{\n",
       "        var display = window.getComputedStyle(gd).display;\n",
       "        if (!display || display === 'none') {{\n",
       "            console.log([gd, 'removed!']);\n",
       "            Plotly.purge(gd);\n",
       "            observer.disconnect();\n",
       "        }}\n",
       "}});\n",
       "\n",
       "// Listen for the removal of the full notebook cells\n",
       "var notebookContainer = gd.closest('#notebook-container');\n",
       "if (notebookContainer) {{\n",
       "    x.observe(notebookContainer, {childList: true});\n",
       "}}\n",
       "\n",
       "// Listen for the clearing of the current output cell\n",
       "var outputEl = gd.closest('.output');\n",
       "if (outputEl) {{\n",
       "    x.observe(outputEl, {childList: true});\n",
       "}}\n",
       "\n",
       "                        })                };                });            </script>        </div>"
      ]
     },
     "metadata": {},
     "output_type": "display_data"
    }
   ],
   "source": [
    "fig = px.scatter(df,\n",
    "                 x=\"symmetry error\", \n",
    "                 size='symmetry error',\n",
    "                 color = 'symmetry error',\n",
    "                 hover_data=[\"target\"],\n",
    "                 template='seaborn', \n",
    "                 labels={\"symmetry error\": \"Symmetry Error\"},\n",
    "                 title=\"Symmetry Error Spread\")\n",
    "fig.update_layout(xaxis_title=\"Symmetry Error\",yaxis_title=\" \")\n",
    "fig.update_layout({'plot_bgcolor': 'rgba(0, 0, 0, 0)','paper_bgcolor': 'rgba(0, 0, 0, 0)'})\n",
    "fig.show()"
   ]
  },
  {
   "cell_type": "markdown",
   "metadata": {},
   "source": [
    "## What is the spread of Mean Concave Points??"
   ]
  },
  {
   "cell_type": "markdown",
   "metadata": {},
   "source": [
    "Concave points refer to the indented areas that can sometimes appear on the surface of a tumor. They are seen on a mammogram or other imaging and can be an indicator of malignancy, or cancer."
   ]
  },
  {
   "cell_type": "code",
   "execution_count": 13,
   "metadata": {
    "execution": {
     "iopub.execute_input": "2024-02-26T09:38:14.540734Z",
     "iopub.status.busy": "2024-02-26T09:38:14.540238Z",
     "iopub.status.idle": "2024-02-26T09:38:14.619548Z",
     "shell.execute_reply": "2024-02-26T09:38:14.618742Z",
     "shell.execute_reply.started": "2024-02-26T09:38:14.540693Z"
    },
    "trusted": true
   },
   "outputs": [
    {
     "data": {
      "text/html": [
       "<div>                            <div id=\"8dfaed95-f442-49ae-91c2-f9d8ede45f2c\" class=\"plotly-graph-div\" style=\"height:525px; width:100%;\"></div>            <script type=\"text/javascript\">                require([\"plotly\"], function(Plotly) {                    window.PLOTLYENV=window.PLOTLYENV || {};                                    if (document.getElementById(\"8dfaed95-f442-49ae-91c2-f9d8ede45f2c\")) {                    Plotly.newPlot(                        \"8dfaed95-f442-49ae-91c2-f9d8ede45f2c\",                        [{\"customdata\":[[0],[0],[0],[0],[0],[0],[0],[0],[0],[0],[0],[0],[0],[0],[0],[0],[0],[0],[0],[1],[1],[1],[0],[0],[0],[0],[0],[0],[0],[0],[0],[0],[0],[0],[0],[0],[0],[1],[0],[0],[0],[0],[0],[0],[0],[0],[1],[0],[1],[1],[1],[1],[1],[0],[0],[1],[0],[0],[1],[1],[1],[1],[0],[1],[0],[0],[1],[1],[1],[1],[0],[1],[0],[0],[1],[0],[1],[0],[0],[1],[1],[1],[0],[0],[1],[0],[0],[0],[1],[1],[1],[0],[1],[1],[0],[0],[1],[1],[1],[0],[0],[1],[1],[1],[1],[0],[1],[1],[0],[1],[1],[1],[1],[1],[1],[1],[1],[0],[0],[0],[1],[0],[0],[1],[1],[1],[0],[0],[1],[0],[1],[0],[0],[1],[0],[0],[1],[1],[0],[1],[1],[0],[1],[1],[1],[1],[0],[1],[1],[1],[1],[1],[1],[1],[1],[1],[0],[1],[1],[1],[1],[0],[0],[1],[0],[1],[1],[0],[0],[1],[1],[0],[0],[1],[1],[1],[1],[0],[1],[1],[0],[0],[0],[1],[0],[1],[0],[1],[1],[1],[0],[1],[1],[0],[0],[1],[0],[0],[0],[0],[1],[0],[0],[0],[1],[0],[1],[0],[1],[1],[0],[1],[0],[0],[0],[0],[1],[1],[0],[0],[1],[1],[1],[0],[1],[1],[1],[1],[1],[0],[0],[1],[1],[0],[1],[1],[0],[0],[1],[0],[1],[1],[1],[1],[0],[1],[1],[1],[1],[1],[0],[1],[0],[0],[0],[0],[0],[0],[0],[0],[0],[0],[0],[0],[0],[0],[1],[1],[1],[1],[1],[1],[0],[1],[0],[1],[1],[0],[1],[1],[0],[1],[0],[0],[1],[1],[1],[1],[1],[1],[1],[1],[1],[1],[1],[1],[1],[0],[1],[1],[0],[1],[0],[1],[1],[1],[1],[1],[1],[1],[1],[1],[1],[1],[1],[1],[1],[0],[1],[1],[1],[0],[1],[0],[1],[1],[1],[1],[0],[0],[0],[1],[1],[1],[1],[0],[1],[0],[1],[0],[1],[1],[1],[0],[1],[1],[1],[1],[1],[1],[1],[0],[0],[0],[1],[1],[1],[1],[1],[1],[1],[1],[1],[1],[1],[0],[0],[1],[0],[0],[0],[1],[0],[0],[1],[1],[1],[1],[1],[0],[1],[1],[1],[1],[1],[0],[1],[1],[1],[0],[1],[1],[0],[0],[1],[1],[1],[1],[1],[1],[0],[1],[1],[1],[1],[1],[1],[1],[0],[1],[1],[1],[1],[1],[0],[1],[1],[0],[1],[1],[1],[1],[1],[1],[1],[1],[1],[1],[1],[1],[0],[1],[0],[0],[1],[0],[1],[1],[1],[1],[1],[0],[1],[1],[0],[1],[0],[1],[1],[0],[1],[0],[1],[1],[1],[1],[1],[1],[1],[1],[0],[0],[1],[1],[1],[1],[1],[1],[0],[1],[1],[1],[1],[1],[1],[1],[1],[1],[1],[0],[1],[1],[1],[1],[1],[1],[1],[0],[1],[0],[1],[1],[0],[1],[1],[1],[1],[1],[0],[0],[1],[0],[1],[0],[1],[1],[1],[1],[1],[0],[1],[1],[0],[1],[0],[1],[0],[0],[1],[1],[1],[0],[1],[1],[1],[1],[1],[1],[1],[1],[1],[1],[1],[0],[1],[0],[0],[1],[1],[1],[1],[1],[1],[1],[1],[1],[1],[1],[1],[1],[1],[1],[1],[1],[1],[1],[1],[1],[1],[1],[1],[1],[0],[0],[0],[0],[0],[0],[1]],\"hovertemplate\":\"Mean Concave Points=%{marker.color}<br>index=%{y}<br>target=%{customdata[0]}<extra></extra>\",\"legendgroup\":\"\",\"marker\":{\"color\":[0.1471,0.07017,0.1279,0.1052,0.1043,0.08089,0.074,0.05985,0.09353,0.08543,0.03323,0.06606,0.1118,0.05364,0.08025,0.07364,0.05259,0.1028,0.09498,0.04781,0.0311,0.02076,0.09756,0.08632,0.0917,0.1401,0.08783,0.07731,0.08751,0.07953,0.1244,0.05182,0.1203,0.07593,0.07752,0.06018,0.05598,0.02923,0.02899,0.05439,0.02031,0.05669,0.09961,0.06158,0.05252,0.1009,0.005917,0.0734,0.02749,0.03384,0.01115,0.01723,0.01349,0.106,0.03334,0.02278,0.08994,0.08123,0.004167,0.007799,0.0129,0.009259,0.08653,0.0218,0.06873,0.09029,0.01504,0.0223,0.04375,0.02864,0.07951,0.02872,0.07944,0.05069,0.02272,0.06638,0.06556,0.108,0.1604,0.02315,0.02233,0.06987,0.1845,0.1469,0.01863,0.08795,0.04938,0.08271,0.03745,0.07064,0.02957,0.07483,0.02648,0.0278,0.08815,0.08683,0.02941,0.007937,0.0335,0.05839,0.04489,0.0,0.0177,0.03029,0.01201,0.09601,0.03485,0.01921,0.1823,0.01899,0.01778,0.06021,0.07798,0.03068,0.01924,0.02008,0.02308,0.08923,0.09479,0.05596,0.02623,0.08665,0.2012,0.05778,0.028,0.01141,0.03085,0.05627,0.08534,0.1149,0.02882,0.08087,0.05613,0.05933,0.06847,0.02704,0.026,0.02875,0.08624,0.04796,0.0,0.05943,0.01861,0.03088,0.007875,0.03003,0.07415,0.03562,0.05532,0.01329,0.02645,0.02168,0.07857,0.01786,0.03483,0.02331,0.1054,0.02771,0.01963,0.006588,0.03738,0.09667,0.1286,0.02822,0.09702,0.01939,0.01698,0.06576,0.1043,0.03781,0.037,0.03438,0.1097,0.02583,0.0,0.0,0.03716,0.08866,0.001852,0.0133,0.1878,0.1496,0.05189,0.02361,0.03263,0.002404,0.05814,0.03239,0.01553,0.01654,0.06618,0.02864,0.0,0.04562,0.08878,0.02377,0.06526,0.05778,0.06772,0.0598,0.04107,0.07488,0.162,0.09176,0.03821,0.04079,0.01952,0.0539,0.05102,0.03157,0.09561,0.01393,0.1595,0.06597,0.06462,0.05602,0.03142,0.01071,0.08691,0.06637,0.02563,0.04451,0.01915,0.06462,0.02456,0.04603,0.01216,0.0378,0.02036,0.06861,0.109,0.003125,0.006434,0.0834,0.01667,0.01896,0.1237,0.06022,0.04408,0.08811,0.03731,0.01108,0.02854,0.02344,0.08886,0.0307,0.01105,0.0398,0.01615,0.02929,0.131,0.02069,0.0974,0.08353,0.08591,0.05246,0.1144,0.1242,0.1377,0.08399,0.09333,0.02837,0.07507,0.02847,0.06527,0.08646,0.02642,0.02142,0.01615,0.02867,0.00625,0.02755,0.1088,0.01407,0.04744,0.07404,0.003333,0.05843,0.01238,0.03711,0.09664,0.02763,0.09464,0.09052,0.0339,0.002924,0.03791,0.01171,0.05588,0.02173,0.06602,0.04819,0.0337,0.0228,0.01924,0.01917,0.01369,0.03515,0.01374,0.01875,0.1062,0.03099,0.128,0.0178,0.01502,0.01313,0.003261,0.003472,0.004419,0.008829,0.01148,0.01877,0.02548,0.008907,0.0,0.006423,0.005051,0.0795,0.04908,0.01699,0.03965,0.07726,0.034,0.1504,0.01692,0.02107,0.02733,0.005592,0.08488,0.07981,0.07041,0.0295,0.007583,0.002941,0.008535,0.09934,0.02098,0.0609,0.01775,0.141,0.04223,0.02292,0.03341,0.1103,0.0325,0.02037,0.008488,0.03528,0.02322,0.01787,0.01162,0.1242,0.1913,0.06553,0.01471,0.04391,0.05603,0.02088,0.02381,0.01406,0.005449,0.02424,0.01781,0.04835,0.01473,0.07785,0.1265,0.02027,0.08465,0.1501,0.08773,0.02657,0.1255,0.08941,0.02031,0.05397,0.05941,0.01117,0.02471,0.06367,0.0555,0.02074,0.02978,0.0288,0.02864,0.05271,0.02534,0.008507,0.02757,0.1021,0.01968,0.0,0.09113,0.1562,0.03326,0.03251,0.05381,0.04083,0.007246,0.01638,0.1198,0.01796,0.01883,0.0239,0.02054,0.02932,0.04528,0.01867,0.08824,0.02653,0.021,0.0248,0.005128,0.03876,0.02739,0.02179,0.01257,0.08481,0.02402,0.01076,0.01428,0.063,0.04497,0.04812,0.01967,0.005159,0.02218,0.01404,0.0137,0.01835,0.09711,0.02799,0.1259,0.08744,0.02877,0.06463,0.0209,0.02944,0.02293,0.02652,0.03613,0.05736,0.009937,0.01111,0.06254,0.04274,0.08293,0.0226,0.02925,0.1155,0.02386,0.09063,0.01945,0.06495,0.02272,0.03264,0.02017,0.02068,0.01762,0.01043,0.06431,0.1689,0.01737,0.01777,0.0287,0.02833,0.0351,0.005769,0.1002,0.05564,0.01514,0.02377,0.03221,0.0,0.01571,0.03078,0.03058,0.01339,0.01969,0.09194,0.01527,0.0207,0.05266,0.0316,0.06211,0.04846,0.02791,0.1194,0.03132,0.02307,0.01261,0.04178,0.07762,0.01149,0.01256,0.04951,0.05074,0.02369,0.09183,0.1121,0.06142,0.06759,0.03279,0.1003,0.05252,0.07038,0.02166,0.04268,0.04563,0.0852,0.02639,0.02541,0.08172,0.04349,0.04335,0.02594,0.09451,0.09431,0.05303,0.02995,0.02421,0.1471,0.005664,0.03783,0.02416,0.0151,0.03152,0.02647,0.06615,0.02798,0.0444,0.02157,0.0188,0.1015,0.02788,0.1322,0.06139,0.04531,0.0,0.01364,0.02594,0.0389,0.03027,0.03275,0.02369,0.02443,0.005495,0.02438,0.009615,0.00816,0.0,0.02257,0.01499,0.01282,0.02343,0.02738,0.01116,0.0,0.03736,0.04105,0.04304,0.0,0.09429,0.1474,0.1389,0.09791,0.05302,0.152,0.0],\"coloraxis\":\"coloraxis\",\"size\":[0.1471,0.07017,0.1279,0.1052,0.1043,0.08089,0.074,0.05985,0.09353,0.08543,0.03323,0.06606,0.1118,0.05364,0.08025,0.07364,0.05259,0.1028,0.09498,0.04781,0.0311,0.02076,0.09756,0.08632,0.0917,0.1401,0.08783,0.07731,0.08751,0.07953,0.1244,0.05182,0.1203,0.07593,0.07752,0.06018,0.05598,0.02923,0.02899,0.05439,0.02031,0.05669,0.09961,0.06158,0.05252,0.1009,0.005917,0.0734,0.02749,0.03384,0.01115,0.01723,0.01349,0.106,0.03334,0.02278,0.08994,0.08123,0.004167,0.007799,0.0129,0.009259,0.08653,0.0218,0.06873,0.09029,0.01504,0.0223,0.04375,0.02864,0.07951,0.02872,0.07944,0.05069,0.02272,0.06638,0.06556,0.108,0.1604,0.02315,0.02233,0.06987,0.1845,0.1469,0.01863,0.08795,0.04938,0.08271,0.03745,0.07064,0.02957,0.07483,0.02648,0.0278,0.08815,0.08683,0.02941,0.007937,0.0335,0.05839,0.04489,0.0,0.0177,0.03029,0.01201,0.09601,0.03485,0.01921,0.1823,0.01899,0.01778,0.06021,0.07798,0.03068,0.01924,0.02008,0.02308,0.08923,0.09479,0.05596,0.02623,0.08665,0.2012,0.05778,0.028,0.01141,0.03085,0.05627,0.08534,0.1149,0.02882,0.08087,0.05613,0.05933,0.06847,0.02704,0.026,0.02875,0.08624,0.04796,0.0,0.05943,0.01861,0.03088,0.007875,0.03003,0.07415,0.03562,0.05532,0.01329,0.02645,0.02168,0.07857,0.01786,0.03483,0.02331,0.1054,0.02771,0.01963,0.006588,0.03738,0.09667,0.1286,0.02822,0.09702,0.01939,0.01698,0.06576,0.1043,0.03781,0.037,0.03438,0.1097,0.02583,0.0,0.0,0.03716,0.08866,0.001852,0.0133,0.1878,0.1496,0.05189,0.02361,0.03263,0.002404,0.05814,0.03239,0.01553,0.01654,0.06618,0.02864,0.0,0.04562,0.08878,0.02377,0.06526,0.05778,0.06772,0.0598,0.04107,0.07488,0.162,0.09176,0.03821,0.04079,0.01952,0.0539,0.05102,0.03157,0.09561,0.01393,0.1595,0.06597,0.06462,0.05602,0.03142,0.01071,0.08691,0.06637,0.02563,0.04451,0.01915,0.06462,0.02456,0.04603,0.01216,0.0378,0.02036,0.06861,0.109,0.003125,0.006434,0.0834,0.01667,0.01896,0.1237,0.06022,0.04408,0.08811,0.03731,0.01108,0.02854,0.02344,0.08886,0.0307,0.01105,0.0398,0.01615,0.02929,0.131,0.02069,0.0974,0.08353,0.08591,0.05246,0.1144,0.1242,0.1377,0.08399,0.09333,0.02837,0.07507,0.02847,0.06527,0.08646,0.02642,0.02142,0.01615,0.02867,0.00625,0.02755,0.1088,0.01407,0.04744,0.07404,0.003333,0.05843,0.01238,0.03711,0.09664,0.02763,0.09464,0.09052,0.0339,0.002924,0.03791,0.01171,0.05588,0.02173,0.06602,0.04819,0.0337,0.0228,0.01924,0.01917,0.01369,0.03515,0.01374,0.01875,0.1062,0.03099,0.128,0.0178,0.01502,0.01313,0.003261,0.003472,0.004419,0.008829,0.01148,0.01877,0.02548,0.008907,0.0,0.006423,0.005051,0.0795,0.04908,0.01699,0.03965,0.07726,0.034,0.1504,0.01692,0.02107,0.02733,0.005592,0.08488,0.07981,0.07041,0.0295,0.007583,0.002941,0.008535,0.09934,0.02098,0.0609,0.01775,0.141,0.04223,0.02292,0.03341,0.1103,0.0325,0.02037,0.008488,0.03528,0.02322,0.01787,0.01162,0.1242,0.1913,0.06553,0.01471,0.04391,0.05603,0.02088,0.02381,0.01406,0.005449,0.02424,0.01781,0.04835,0.01473,0.07785,0.1265,0.02027,0.08465,0.1501,0.08773,0.02657,0.1255,0.08941,0.02031,0.05397,0.05941,0.01117,0.02471,0.06367,0.0555,0.02074,0.02978,0.0288,0.02864,0.05271,0.02534,0.008507,0.02757,0.1021,0.01968,0.0,0.09113,0.1562,0.03326,0.03251,0.05381,0.04083,0.007246,0.01638,0.1198,0.01796,0.01883,0.0239,0.02054,0.02932,0.04528,0.01867,0.08824,0.02653,0.021,0.0248,0.005128,0.03876,0.02739,0.02179,0.01257,0.08481,0.02402,0.01076,0.01428,0.063,0.04497,0.04812,0.01967,0.005159,0.02218,0.01404,0.0137,0.01835,0.09711,0.02799,0.1259,0.08744,0.02877,0.06463,0.0209,0.02944,0.02293,0.02652,0.03613,0.05736,0.009937,0.01111,0.06254,0.04274,0.08293,0.0226,0.02925,0.1155,0.02386,0.09063,0.01945,0.06495,0.02272,0.03264,0.02017,0.02068,0.01762,0.01043,0.06431,0.1689,0.01737,0.01777,0.0287,0.02833,0.0351,0.005769,0.1002,0.05564,0.01514,0.02377,0.03221,0.0,0.01571,0.03078,0.03058,0.01339,0.01969,0.09194,0.01527,0.0207,0.05266,0.0316,0.06211,0.04846,0.02791,0.1194,0.03132,0.02307,0.01261,0.04178,0.07762,0.01149,0.01256,0.04951,0.05074,0.02369,0.09183,0.1121,0.06142,0.06759,0.03279,0.1003,0.05252,0.07038,0.02166,0.04268,0.04563,0.0852,0.02639,0.02541,0.08172,0.04349,0.04335,0.02594,0.09451,0.09431,0.05303,0.02995,0.02421,0.1471,0.005664,0.03783,0.02416,0.0151,0.03152,0.02647,0.06615,0.02798,0.0444,0.02157,0.0188,0.1015,0.02788,0.1322,0.06139,0.04531,0.0,0.01364,0.02594,0.0389,0.03027,0.03275,0.02369,0.02443,0.005495,0.02438,0.009615,0.00816,0.0,0.02257,0.01499,0.01282,0.02343,0.02738,0.01116,0.0,0.03736,0.04105,0.04304,0.0,0.09429,0.1474,0.1389,0.09791,0.05302,0.152,0.0],\"sizemode\":\"area\",\"sizeref\":0.000503,\"symbol\":\"circle\"},\"mode\":\"markers\",\"name\":\"\",\"orientation\":\"h\",\"showlegend\":false,\"x\":[0.1471,0.07017,0.1279,0.1052,0.1043,0.08089,0.074,0.05985,0.09353,0.08543,0.03323,0.06606,0.1118,0.05364,0.08025,0.07364,0.05259,0.1028,0.09498,0.04781,0.0311,0.02076,0.09756,0.08632,0.0917,0.1401,0.08783,0.07731,0.08751,0.07953,0.1244,0.05182,0.1203,0.07593,0.07752,0.06018,0.05598,0.02923,0.02899,0.05439,0.02031,0.05669,0.09961,0.06158,0.05252,0.1009,0.005917,0.0734,0.02749,0.03384,0.01115,0.01723,0.01349,0.106,0.03334,0.02278,0.08994,0.08123,0.004167,0.007799,0.0129,0.009259,0.08653,0.0218,0.06873,0.09029,0.01504,0.0223,0.04375,0.02864,0.07951,0.02872,0.07944,0.05069,0.02272,0.06638,0.06556,0.108,0.1604,0.02315,0.02233,0.06987,0.1845,0.1469,0.01863,0.08795,0.04938,0.08271,0.03745,0.07064,0.02957,0.07483,0.02648,0.0278,0.08815,0.08683,0.02941,0.007937,0.0335,0.05839,0.04489,0.0,0.0177,0.03029,0.01201,0.09601,0.03485,0.01921,0.1823,0.01899,0.01778,0.06021,0.07798,0.03068,0.01924,0.02008,0.02308,0.08923,0.09479,0.05596,0.02623,0.08665,0.2012,0.05778,0.028,0.01141,0.03085,0.05627,0.08534,0.1149,0.02882,0.08087,0.05613,0.05933,0.06847,0.02704,0.026,0.02875,0.08624,0.04796,0.0,0.05943,0.01861,0.03088,0.007875,0.03003,0.07415,0.03562,0.05532,0.01329,0.02645,0.02168,0.07857,0.01786,0.03483,0.02331,0.1054,0.02771,0.01963,0.006588,0.03738,0.09667,0.1286,0.02822,0.09702,0.01939,0.01698,0.06576,0.1043,0.03781,0.037,0.03438,0.1097,0.02583,0.0,0.0,0.03716,0.08866,0.001852,0.0133,0.1878,0.1496,0.05189,0.02361,0.03263,0.002404,0.05814,0.03239,0.01553,0.01654,0.06618,0.02864,0.0,0.04562,0.08878,0.02377,0.06526,0.05778,0.06772,0.0598,0.04107,0.07488,0.162,0.09176,0.03821,0.04079,0.01952,0.0539,0.05102,0.03157,0.09561,0.01393,0.1595,0.06597,0.06462,0.05602,0.03142,0.01071,0.08691,0.06637,0.02563,0.04451,0.01915,0.06462,0.02456,0.04603,0.01216,0.0378,0.02036,0.06861,0.109,0.003125,0.006434,0.0834,0.01667,0.01896,0.1237,0.06022,0.04408,0.08811,0.03731,0.01108,0.02854,0.02344,0.08886,0.0307,0.01105,0.0398,0.01615,0.02929,0.131,0.02069,0.0974,0.08353,0.08591,0.05246,0.1144,0.1242,0.1377,0.08399,0.09333,0.02837,0.07507,0.02847,0.06527,0.08646,0.02642,0.02142,0.01615,0.02867,0.00625,0.02755,0.1088,0.01407,0.04744,0.07404,0.003333,0.05843,0.01238,0.03711,0.09664,0.02763,0.09464,0.09052,0.0339,0.002924,0.03791,0.01171,0.05588,0.02173,0.06602,0.04819,0.0337,0.0228,0.01924,0.01917,0.01369,0.03515,0.01374,0.01875,0.1062,0.03099,0.128,0.0178,0.01502,0.01313,0.003261,0.003472,0.004419,0.008829,0.01148,0.01877,0.02548,0.008907,0.0,0.006423,0.005051,0.0795,0.04908,0.01699,0.03965,0.07726,0.034,0.1504,0.01692,0.02107,0.02733,0.005592,0.08488,0.07981,0.07041,0.0295,0.007583,0.002941,0.008535,0.09934,0.02098,0.0609,0.01775,0.141,0.04223,0.02292,0.03341,0.1103,0.0325,0.02037,0.008488,0.03528,0.02322,0.01787,0.01162,0.1242,0.1913,0.06553,0.01471,0.04391,0.05603,0.02088,0.02381,0.01406,0.005449,0.02424,0.01781,0.04835,0.01473,0.07785,0.1265,0.02027,0.08465,0.1501,0.08773,0.02657,0.1255,0.08941,0.02031,0.05397,0.05941,0.01117,0.02471,0.06367,0.0555,0.02074,0.02978,0.0288,0.02864,0.05271,0.02534,0.008507,0.02757,0.1021,0.01968,0.0,0.09113,0.1562,0.03326,0.03251,0.05381,0.04083,0.007246,0.01638,0.1198,0.01796,0.01883,0.0239,0.02054,0.02932,0.04528,0.01867,0.08824,0.02653,0.021,0.0248,0.005128,0.03876,0.02739,0.02179,0.01257,0.08481,0.02402,0.01076,0.01428,0.063,0.04497,0.04812,0.01967,0.005159,0.02218,0.01404,0.0137,0.01835,0.09711,0.02799,0.1259,0.08744,0.02877,0.06463,0.0209,0.02944,0.02293,0.02652,0.03613,0.05736,0.009937,0.01111,0.06254,0.04274,0.08293,0.0226,0.02925,0.1155,0.02386,0.09063,0.01945,0.06495,0.02272,0.03264,0.02017,0.02068,0.01762,0.01043,0.06431,0.1689,0.01737,0.01777,0.0287,0.02833,0.0351,0.005769,0.1002,0.05564,0.01514,0.02377,0.03221,0.0,0.01571,0.03078,0.03058,0.01339,0.01969,0.09194,0.01527,0.0207,0.05266,0.0316,0.06211,0.04846,0.02791,0.1194,0.03132,0.02307,0.01261,0.04178,0.07762,0.01149,0.01256,0.04951,0.05074,0.02369,0.09183,0.1121,0.06142,0.06759,0.03279,0.1003,0.05252,0.07038,0.02166,0.04268,0.04563,0.0852,0.02639,0.02541,0.08172,0.04349,0.04335,0.02594,0.09451,0.09431,0.05303,0.02995,0.02421,0.1471,0.005664,0.03783,0.02416,0.0151,0.03152,0.02647,0.06615,0.02798,0.0444,0.02157,0.0188,0.1015,0.02788,0.1322,0.06139,0.04531,0.0,0.01364,0.02594,0.0389,0.03027,0.03275,0.02369,0.02443,0.005495,0.02438,0.009615,0.00816,0.0,0.02257,0.01499,0.01282,0.02343,0.02738,0.01116,0.0,0.03736,0.04105,0.04304,0.0,0.09429,0.1474,0.1389,0.09791,0.05302,0.152,0.0],\"xaxis\":\"x\",\"y\":[0,1,2,3,4,5,6,7,8,9,10,11,12,13,14,15,16,17,18,19,20,21,22,23,24,25,26,27,28,29,30,31,32,33,34,35,36,37,38,39,40,41,42,43,44,45,46,47,48,49,50,51,52,53,54,55,56,57,58,59,60,61,62,63,64,65,66,67,68,69,70,71,72,73,74,75,76,77,78,79,80,81,82,83,84,85,86,87,88,89,90,91,92,93,94,95,96,97,98,99,100,101,102,103,104,105,106,107,108,109,110,111,112,113,114,115,116,117,118,119,120,121,122,123,124,125,126,127,128,129,130,131,132,133,134,135,136,137,138,139,140,141,142,143,144,145,146,147,148,149,150,151,152,153,154,155,156,157,158,159,160,161,162,163,164,165,166,167,168,169,170,171,172,173,174,175,176,177,178,179,180,181,182,183,184,185,186,187,188,189,190,191,192,193,194,195,196,197,198,199,200,201,202,203,204,205,206,207,208,209,210,211,212,213,214,215,216,217,218,219,220,221,222,223,224,225,226,227,228,229,230,231,232,233,234,235,236,237,238,239,240,241,242,243,244,245,246,247,248,249,250,251,252,253,254,255,256,257,258,259,260,261,262,263,264,265,266,267,268,269,270,271,272,273,274,275,276,277,278,279,280,281,282,283,284,285,286,287,288,289,290,291,292,293,294,295,296,297,298,299,300,301,302,303,304,305,306,307,308,309,310,311,312,313,314,315,316,317,318,319,320,321,322,323,324,325,326,327,328,329,330,331,332,333,334,335,336,337,338,339,340,341,342,343,344,345,346,347,348,349,350,351,352,353,354,355,356,357,358,359,360,361,362,363,364,365,366,367,368,369,370,371,372,373,374,375,376,377,378,379,380,381,382,383,384,385,386,387,388,389,390,391,392,393,394,395,396,397,398,399,400,401,402,403,404,405,406,407,408,409,410,411,412,413,414,415,416,417,418,419,420,421,422,423,424,425,426,427,428,429,430,431,432,433,434,435,436,437,438,439,440,441,442,443,444,445,446,447,448,449,450,451,452,453,454,455,456,457,458,459,460,461,462,463,464,465,466,467,468,469,470,471,472,473,474,475,476,477,478,479,480,481,482,483,484,485,486,487,488,489,490,491,492,493,494,495,496,497,498,499,500,501,502,503,504,505,506,507,508,509,510,511,512,513,514,515,516,517,518,519,520,521,522,523,524,525,526,527,528,529,530,531,532,533,534,535,536,537,538,539,540,541,542,543,544,545,546,547,548,549,550,551,552,553,554,555,556,557,558,559,560,561,562,563,564,565,566,567,568],\"yaxis\":\"y\",\"type\":\"scatter\"}],                        {\"template\":{\"data\":{\"barpolar\":[{\"marker\":{\"line\":{\"color\":\"white\",\"width\":0.5},\"pattern\":{\"fillmode\":\"overlay\",\"size\":10,\"solidity\":0.2}},\"type\":\"barpolar\"}],\"bar\":[{\"error_x\":{\"color\":\"rgb(36,36,36)\"},\"error_y\":{\"color\":\"rgb(36,36,36)\"},\"marker\":{\"line\":{\"color\":\"white\",\"width\":0.5},\"pattern\":{\"fillmode\":\"overlay\",\"size\":10,\"solidity\":0.2}},\"type\":\"bar\"}],\"carpet\":[{\"aaxis\":{\"endlinecolor\":\"rgb(36,36,36)\",\"gridcolor\":\"white\",\"linecolor\":\"white\",\"minorgridcolor\":\"white\",\"startlinecolor\":\"rgb(36,36,36)\"},\"baxis\":{\"endlinecolor\":\"rgb(36,36,36)\",\"gridcolor\":\"white\",\"linecolor\":\"white\",\"minorgridcolor\":\"white\",\"startlinecolor\":\"rgb(36,36,36)\"},\"type\":\"carpet\"}],\"choropleth\":[{\"colorbar\":{\"outlinewidth\":1,\"tickcolor\":\"rgb(36,36,36)\",\"ticks\":\"outside\"},\"type\":\"choropleth\"}],\"contourcarpet\":[{\"colorbar\":{\"outlinewidth\":1,\"tickcolor\":\"rgb(36,36,36)\",\"ticks\":\"outside\"},\"type\":\"contourcarpet\"}],\"contour\":[{\"colorbar\":{\"outlinewidth\":1,\"tickcolor\":\"rgb(36,36,36)\",\"ticks\":\"outside\"},\"colorscale\":[[0.0,\"#440154\"],[0.1111111111111111,\"#482878\"],[0.2222222222222222,\"#3e4989\"],[0.3333333333333333,\"#31688e\"],[0.4444444444444444,\"#26828e\"],[0.5555555555555556,\"#1f9e89\"],[0.6666666666666666,\"#35b779\"],[0.7777777777777778,\"#6ece58\"],[0.8888888888888888,\"#b5de2b\"],[1.0,\"#fde725\"]],\"type\":\"contour\"}],\"heatmapgl\":[{\"colorbar\":{\"outlinewidth\":1,\"tickcolor\":\"rgb(36,36,36)\",\"ticks\":\"outside\"},\"colorscale\":[[0.0,\"#440154\"],[0.1111111111111111,\"#482878\"],[0.2222222222222222,\"#3e4989\"],[0.3333333333333333,\"#31688e\"],[0.4444444444444444,\"#26828e\"],[0.5555555555555556,\"#1f9e89\"],[0.6666666666666666,\"#35b779\"],[0.7777777777777778,\"#6ece58\"],[0.8888888888888888,\"#b5de2b\"],[1.0,\"#fde725\"]],\"type\":\"heatmapgl\"}],\"heatmap\":[{\"colorbar\":{\"outlinewidth\":1,\"tickcolor\":\"rgb(36,36,36)\",\"ticks\":\"outside\"},\"colorscale\":[[0.0,\"#440154\"],[0.1111111111111111,\"#482878\"],[0.2222222222222222,\"#3e4989\"],[0.3333333333333333,\"#31688e\"],[0.4444444444444444,\"#26828e\"],[0.5555555555555556,\"#1f9e89\"],[0.6666666666666666,\"#35b779\"],[0.7777777777777778,\"#6ece58\"],[0.8888888888888888,\"#b5de2b\"],[1.0,\"#fde725\"]],\"type\":\"heatmap\"}],\"histogram2dcontour\":[{\"colorbar\":{\"outlinewidth\":1,\"tickcolor\":\"rgb(36,36,36)\",\"ticks\":\"outside\"},\"colorscale\":[[0.0,\"#440154\"],[0.1111111111111111,\"#482878\"],[0.2222222222222222,\"#3e4989\"],[0.3333333333333333,\"#31688e\"],[0.4444444444444444,\"#26828e\"],[0.5555555555555556,\"#1f9e89\"],[0.6666666666666666,\"#35b779\"],[0.7777777777777778,\"#6ece58\"],[0.8888888888888888,\"#b5de2b\"],[1.0,\"#fde725\"]],\"type\":\"histogram2dcontour\"}],\"histogram2d\":[{\"colorbar\":{\"outlinewidth\":1,\"tickcolor\":\"rgb(36,36,36)\",\"ticks\":\"outside\"},\"colorscale\":[[0.0,\"#440154\"],[0.1111111111111111,\"#482878\"],[0.2222222222222222,\"#3e4989\"],[0.3333333333333333,\"#31688e\"],[0.4444444444444444,\"#26828e\"],[0.5555555555555556,\"#1f9e89\"],[0.6666666666666666,\"#35b779\"],[0.7777777777777778,\"#6ece58\"],[0.8888888888888888,\"#b5de2b\"],[1.0,\"#fde725\"]],\"type\":\"histogram2d\"}],\"histogram\":[{\"marker\":{\"line\":{\"color\":\"white\",\"width\":0.6}},\"type\":\"histogram\"}],\"mesh3d\":[{\"colorbar\":{\"outlinewidth\":1,\"tickcolor\":\"rgb(36,36,36)\",\"ticks\":\"outside\"},\"type\":\"mesh3d\"}],\"parcoords\":[{\"line\":{\"colorbar\":{\"outlinewidth\":1,\"tickcolor\":\"rgb(36,36,36)\",\"ticks\":\"outside\"}},\"type\":\"parcoords\"}],\"pie\":[{\"automargin\":true,\"type\":\"pie\"}],\"scatter3d\":[{\"line\":{\"colorbar\":{\"outlinewidth\":1,\"tickcolor\":\"rgb(36,36,36)\",\"ticks\":\"outside\"}},\"marker\":{\"colorbar\":{\"outlinewidth\":1,\"tickcolor\":\"rgb(36,36,36)\",\"ticks\":\"outside\"}},\"type\":\"scatter3d\"}],\"scattercarpet\":[{\"marker\":{\"colorbar\":{\"outlinewidth\":1,\"tickcolor\":\"rgb(36,36,36)\",\"ticks\":\"outside\"}},\"type\":\"scattercarpet\"}],\"scattergeo\":[{\"marker\":{\"colorbar\":{\"outlinewidth\":1,\"tickcolor\":\"rgb(36,36,36)\",\"ticks\":\"outside\"}},\"type\":\"scattergeo\"}],\"scattergl\":[{\"marker\":{\"colorbar\":{\"outlinewidth\":1,\"tickcolor\":\"rgb(36,36,36)\",\"ticks\":\"outside\"}},\"type\":\"scattergl\"}],\"scattermapbox\":[{\"marker\":{\"colorbar\":{\"outlinewidth\":1,\"tickcolor\":\"rgb(36,36,36)\",\"ticks\":\"outside\"}},\"type\":\"scattermapbox\"}],\"scatterpolargl\":[{\"marker\":{\"colorbar\":{\"outlinewidth\":1,\"tickcolor\":\"rgb(36,36,36)\",\"ticks\":\"outside\"}},\"type\":\"scatterpolargl\"}],\"scatterpolar\":[{\"marker\":{\"colorbar\":{\"outlinewidth\":1,\"tickcolor\":\"rgb(36,36,36)\",\"ticks\":\"outside\"}},\"type\":\"scatterpolar\"}],\"scatter\":[{\"fillpattern\":{\"fillmode\":\"overlay\",\"size\":10,\"solidity\":0.2},\"type\":\"scatter\"}],\"scatterternary\":[{\"marker\":{\"colorbar\":{\"outlinewidth\":1,\"tickcolor\":\"rgb(36,36,36)\",\"ticks\":\"outside\"}},\"type\":\"scatterternary\"}],\"surface\":[{\"colorbar\":{\"outlinewidth\":1,\"tickcolor\":\"rgb(36,36,36)\",\"ticks\":\"outside\"},\"colorscale\":[[0.0,\"#440154\"],[0.1111111111111111,\"#482878\"],[0.2222222222222222,\"#3e4989\"],[0.3333333333333333,\"#31688e\"],[0.4444444444444444,\"#26828e\"],[0.5555555555555556,\"#1f9e89\"],[0.6666666666666666,\"#35b779\"],[0.7777777777777778,\"#6ece58\"],[0.8888888888888888,\"#b5de2b\"],[1.0,\"#fde725\"]],\"type\":\"surface\"}],\"table\":[{\"cells\":{\"fill\":{\"color\":\"rgb(237,237,237)\"},\"line\":{\"color\":\"white\"}},\"header\":{\"fill\":{\"color\":\"rgb(217,217,217)\"},\"line\":{\"color\":\"white\"}},\"type\":\"table\"}]},\"layout\":{\"annotationdefaults\":{\"arrowhead\":0,\"arrowwidth\":1},\"autotypenumbers\":\"strict\",\"coloraxis\":{\"colorbar\":{\"outlinewidth\":1,\"tickcolor\":\"rgb(36,36,36)\",\"ticks\":\"outside\"}},\"colorscale\":{\"diverging\":[[0.0,\"rgb(103,0,31)\"],[0.1,\"rgb(178,24,43)\"],[0.2,\"rgb(214,96,77)\"],[0.3,\"rgb(244,165,130)\"],[0.4,\"rgb(253,219,199)\"],[0.5,\"rgb(247,247,247)\"],[0.6,\"rgb(209,229,240)\"],[0.7,\"rgb(146,197,222)\"],[0.8,\"rgb(67,147,195)\"],[0.9,\"rgb(33,102,172)\"],[1.0,\"rgb(5,48,97)\"]],\"sequential\":[[0.0,\"#440154\"],[0.1111111111111111,\"#482878\"],[0.2222222222222222,\"#3e4989\"],[0.3333333333333333,\"#31688e\"],[0.4444444444444444,\"#26828e\"],[0.5555555555555556,\"#1f9e89\"],[0.6666666666666666,\"#35b779\"],[0.7777777777777778,\"#6ece58\"],[0.8888888888888888,\"#b5de2b\"],[1.0,\"#fde725\"]],\"sequentialminus\":[[0.0,\"#440154\"],[0.1111111111111111,\"#482878\"],[0.2222222222222222,\"#3e4989\"],[0.3333333333333333,\"#31688e\"],[0.4444444444444444,\"#26828e\"],[0.5555555555555556,\"#1f9e89\"],[0.6666666666666666,\"#35b779\"],[0.7777777777777778,\"#6ece58\"],[0.8888888888888888,\"#b5de2b\"],[1.0,\"#fde725\"]]},\"colorway\":[\"#1F77B4\",\"#FF7F0E\",\"#2CA02C\",\"#D62728\",\"#9467BD\",\"#8C564B\",\"#E377C2\",\"#7F7F7F\",\"#BCBD22\",\"#17BECF\"],\"font\":{\"color\":\"rgb(36,36,36)\"},\"geo\":{\"bgcolor\":\"white\",\"lakecolor\":\"white\",\"landcolor\":\"white\",\"showlakes\":true,\"showland\":true,\"subunitcolor\":\"white\"},\"hoverlabel\":{\"align\":\"left\"},\"hovermode\":\"closest\",\"mapbox\":{\"style\":\"light\"},\"paper_bgcolor\":\"white\",\"plot_bgcolor\":\"white\",\"polar\":{\"angularaxis\":{\"gridcolor\":\"rgb(232,232,232)\",\"linecolor\":\"rgb(36,36,36)\",\"showgrid\":false,\"showline\":true,\"ticks\":\"outside\"},\"bgcolor\":\"white\",\"radialaxis\":{\"gridcolor\":\"rgb(232,232,232)\",\"linecolor\":\"rgb(36,36,36)\",\"showgrid\":false,\"showline\":true,\"ticks\":\"outside\"}},\"scene\":{\"xaxis\":{\"backgroundcolor\":\"white\",\"gridcolor\":\"rgb(232,232,232)\",\"gridwidth\":2,\"linecolor\":\"rgb(36,36,36)\",\"showbackground\":true,\"showgrid\":false,\"showline\":true,\"ticks\":\"outside\",\"zeroline\":false,\"zerolinecolor\":\"rgb(36,36,36)\"},\"yaxis\":{\"backgroundcolor\":\"white\",\"gridcolor\":\"rgb(232,232,232)\",\"gridwidth\":2,\"linecolor\":\"rgb(36,36,36)\",\"showbackground\":true,\"showgrid\":false,\"showline\":true,\"ticks\":\"outside\",\"zeroline\":false,\"zerolinecolor\":\"rgb(36,36,36)\"},\"zaxis\":{\"backgroundcolor\":\"white\",\"gridcolor\":\"rgb(232,232,232)\",\"gridwidth\":2,\"linecolor\":\"rgb(36,36,36)\",\"showbackground\":true,\"showgrid\":false,\"showline\":true,\"ticks\":\"outside\",\"zeroline\":false,\"zerolinecolor\":\"rgb(36,36,36)\"}},\"shapedefaults\":{\"fillcolor\":\"black\",\"line\":{\"width\":0},\"opacity\":0.3},\"ternary\":{\"aaxis\":{\"gridcolor\":\"rgb(232,232,232)\",\"linecolor\":\"rgb(36,36,36)\",\"showgrid\":false,\"showline\":true,\"ticks\":\"outside\"},\"baxis\":{\"gridcolor\":\"rgb(232,232,232)\",\"linecolor\":\"rgb(36,36,36)\",\"showgrid\":false,\"showline\":true,\"ticks\":\"outside\"},\"bgcolor\":\"white\",\"caxis\":{\"gridcolor\":\"rgb(232,232,232)\",\"linecolor\":\"rgb(36,36,36)\",\"showgrid\":false,\"showline\":true,\"ticks\":\"outside\"}},\"title\":{\"x\":0.05},\"xaxis\":{\"automargin\":true,\"gridcolor\":\"rgb(232,232,232)\",\"linecolor\":\"rgb(36,36,36)\",\"showgrid\":false,\"showline\":true,\"ticks\":\"outside\",\"title\":{\"standoff\":15},\"zeroline\":false,\"zerolinecolor\":\"rgb(36,36,36)\"},\"yaxis\":{\"automargin\":true,\"gridcolor\":\"rgb(232,232,232)\",\"linecolor\":\"rgb(36,36,36)\",\"showgrid\":false,\"showline\":true,\"ticks\":\"outside\",\"title\":{\"standoff\":15},\"zeroline\":false,\"zerolinecolor\":\"rgb(36,36,36)\"}}},\"xaxis\":{\"anchor\":\"y\",\"domain\":[0.0,1.0],\"title\":{\"text\":\"Mean concave points\"}},\"yaxis\":{\"anchor\":\"x\",\"domain\":[0.0,1.0],\"title\":{\"text\":\" \"}},\"coloraxis\":{\"colorbar\":{\"title\":{\"text\":\"Mean Concave Points\"}},\"colorscale\":[[0.0,\"#440154\"],[0.1111111111111111,\"#482878\"],[0.2222222222222222,\"#3e4989\"],[0.3333333333333333,\"#31688e\"],[0.4444444444444444,\"#26828e\"],[0.5555555555555556,\"#1f9e89\"],[0.6666666666666666,\"#35b779\"],[0.7777777777777778,\"#6ece58\"],[0.8888888888888888,\"#b5de2b\"],[1.0,\"#fde725\"]]},\"legend\":{\"tracegroupgap\":0,\"itemsizing\":\"constant\"},\"title\":{\"text\":\"Mean Concave Points Spread\"}},                        {\"responsive\": true}                    ).then(function(){\n",
       "                            \n",
       "var gd = document.getElementById('8dfaed95-f442-49ae-91c2-f9d8ede45f2c');\n",
       "var x = new MutationObserver(function (mutations, observer) {{\n",
       "        var display = window.getComputedStyle(gd).display;\n",
       "        if (!display || display === 'none') {{\n",
       "            console.log([gd, 'removed!']);\n",
       "            Plotly.purge(gd);\n",
       "            observer.disconnect();\n",
       "        }}\n",
       "}});\n",
       "\n",
       "// Listen for the removal of the full notebook cells\n",
       "var notebookContainer = gd.closest('#notebook-container');\n",
       "if (notebookContainer) {{\n",
       "    x.observe(notebookContainer, {childList: true});\n",
       "}}\n",
       "\n",
       "// Listen for the clearing of the current output cell\n",
       "var outputEl = gd.closest('.output');\n",
       "if (outputEl) {{\n",
       "    x.observe(outputEl, {childList: true});\n",
       "}}\n",
       "\n",
       "                        })                };                });            </script>        </div>"
      ]
     },
     "metadata": {},
     "output_type": "display_data"
    }
   ],
   "source": [
    "fig = px.scatter(df,\n",
    "                 x=\"mean concave points\", \n",
    "                 size='mean concave points',\n",
    "                 color=\"mean concave points\", \n",
    "                 hover_data=[\"target\"],\n",
    "                 template=\"simple_white\", \n",
    "                 labels={\"mean concave points\": \"Mean Concave Points\"},\n",
    "                 title=\"Mean Concave Points Spread\")\n",
    "fig.update_layout(xaxis_title=\"Mean concave points\",yaxis_title=\" \")\n",
    "fig.show()"
   ]
  },
  {
   "cell_type": "markdown",
   "metadata": {},
   "source": [
    "We can definitely go more in-depth analysis but that's beyond the scope of this notebook."
   ]
  },
  {
   "cell_type": "markdown",
   "metadata": {},
   "source": [
    "\n",
    "<center>\n",
    "<div style=\"color:;\n",
    "           display:fill;\n",
    "           border-radius:5px;\n",
    "           background-color: mediumseagreen;\n",
    "           font-size:110%;\n",
    "           letter-spacing:0.5px\">\n",
    "\n",
    "<h2 style=\"padding: 10px;\n",
    "              color:white;\">Data Pre-processing\n",
    "    \n",
    "</h2>\n",
    "</div>\n",
    "    \n",
    "**Data preprocessing** is essential in machine learning because it helps to convert raw data into a more suitable form, which can then be more effectively used by a machine learning algorithm. By preprocessing data, it can be better **organized** and **structured**, which can reduce noise, simplify features, and eliminate irrelevant and redundant features. This helps **improve** the accuracy and performance of the machine learning algorithm.\n",
    "    \n",
    "Now, lets start processing our data and make sure its in line with the requirements of the machine learning ecosystem."
   ]
  },
  {
   "cell_type": "code",
   "execution_count": 14,
   "metadata": {
    "execution": {
     "iopub.execute_input": "2024-02-26T09:38:14.620987Z",
     "iopub.status.busy": "2024-02-26T09:38:14.620680Z",
     "iopub.status.idle": "2024-02-26T09:38:14.626110Z",
     "shell.execute_reply": "2024-02-26T09:38:14.625198Z",
     "shell.execute_reply.started": "2024-02-26T09:38:14.620959Z"
    },
    "trusted": true
   },
   "outputs": [],
   "source": [
    "#Dropping the unrelated cols we found out using ANOVA\n",
    "df.drop(labels=unrelated_num_cols, axis=1, inplace=True)"
   ]
  },
  {
   "cell_type": "code",
   "execution_count": 15,
   "metadata": {
    "execution": {
     "iopub.execute_input": "2024-02-26T09:38:14.627727Z",
     "iopub.status.busy": "2024-02-26T09:38:14.627265Z",
     "iopub.status.idle": "2024-02-26T09:38:14.640079Z",
     "shell.execute_reply": "2024-02-26T09:38:14.639269Z",
     "shell.execute_reply.started": "2024-02-26T09:38:14.627657Z"
    },
    "trusted": true
   },
   "outputs": [
    {
     "data": {
      "text/plain": [
       "Index(['mean radius', 'mean texture', 'mean perimeter', 'mean area',\n",
       "       'mean smoothness', 'mean compactness', 'mean concavity',\n",
       "       'mean concave points', 'mean symmetry', 'radius error',\n",
       "       'perimeter error', 'area error', 'compactness error', 'concavity error',\n",
       "       'concave points error', 'worst radius', 'worst texture',\n",
       "       'worst perimeter', 'worst area', 'worst smoothness',\n",
       "       'worst compactness', 'worst concavity', 'worst concave points',\n",
       "       'worst symmetry', 'worst fractal dimension', 'target'],\n",
       "      dtype='object')"
      ]
     },
     "execution_count": 15,
     "metadata": {},
     "output_type": "execute_result"
    }
   ],
   "source": [
    "#Columns in the dataframe after dropping columns\n",
    "df.columns"
   ]
  },
  {
   "cell_type": "code",
   "execution_count": 16,
   "metadata": {
    "execution": {
     "iopub.execute_input": "2024-02-26T09:38:14.641721Z",
     "iopub.status.busy": "2024-02-26T09:38:14.641272Z",
     "iopub.status.idle": "2024-02-26T09:38:14.650506Z",
     "shell.execute_reply": "2024-02-26T09:38:14.649758Z",
     "shell.execute_reply.started": "2024-02-26T09:38:14.641683Z"
    },
    "trusted": true
   },
   "outputs": [],
   "source": [
    "input_cols = df.columns[:-1]\n",
    "target_col =  df.columns[-1]"
   ]
  },
  {
   "cell_type": "markdown",
   "metadata": {},
   "source": [
    "We are now **seperating** our input and output values so that when are about to split the data, it is easier for us."
   ]
  },
  {
   "cell_type": "code",
   "execution_count": 17,
   "metadata": {
    "execution": {
     "iopub.execute_input": "2024-02-26T09:38:14.651782Z",
     "iopub.status.busy": "2024-02-26T09:38:14.651426Z",
     "iopub.status.idle": "2024-02-26T09:38:14.686283Z",
     "shell.execute_reply": "2024-02-26T09:38:14.685486Z",
     "shell.execute_reply.started": "2024-02-26T09:38:14.651754Z"
    },
    "trusted": true
   },
   "outputs": [
    {
     "data": {
      "text/html": [
       "<div>\n",
       "<style scoped>\n",
       "    .dataframe tbody tr th:only-of-type {\n",
       "        vertical-align: middle;\n",
       "    }\n",
       "\n",
       "    .dataframe tbody tr th {\n",
       "        vertical-align: top;\n",
       "    }\n",
       "\n",
       "    .dataframe thead th {\n",
       "        text-align: right;\n",
       "    }\n",
       "</style>\n",
       "<table border=\"1\" class=\"dataframe\">\n",
       "  <thead>\n",
       "    <tr style=\"text-align: right;\">\n",
       "      <th></th>\n",
       "      <th>mean radius</th>\n",
       "      <th>mean texture</th>\n",
       "      <th>mean perimeter</th>\n",
       "      <th>mean area</th>\n",
       "      <th>mean smoothness</th>\n",
       "      <th>mean compactness</th>\n",
       "      <th>mean concavity</th>\n",
       "      <th>mean concave points</th>\n",
       "      <th>mean symmetry</th>\n",
       "      <th>radius error</th>\n",
       "      <th>...</th>\n",
       "      <th>worst radius</th>\n",
       "      <th>worst texture</th>\n",
       "      <th>worst perimeter</th>\n",
       "      <th>worst area</th>\n",
       "      <th>worst smoothness</th>\n",
       "      <th>worst compactness</th>\n",
       "      <th>worst concavity</th>\n",
       "      <th>worst concave points</th>\n",
       "      <th>worst symmetry</th>\n",
       "      <th>worst fractal dimension</th>\n",
       "    </tr>\n",
       "  </thead>\n",
       "  <tbody>\n",
       "    <tr>\n",
       "      <th>405</th>\n",
       "      <td>10.94</td>\n",
       "      <td>18.59</td>\n",
       "      <td>70.39</td>\n",
       "      <td>370.0</td>\n",
       "      <td>0.10040</td>\n",
       "      <td>0.07460</td>\n",
       "      <td>0.04944</td>\n",
       "      <td>0.02932</td>\n",
       "      <td>0.1486</td>\n",
       "      <td>0.3796</td>\n",
       "      <td>...</td>\n",
       "      <td>12.40</td>\n",
       "      <td>25.58</td>\n",
       "      <td>82.76</td>\n",
       "      <td>472.4</td>\n",
       "      <td>0.13630</td>\n",
       "      <td>0.1644</td>\n",
       "      <td>0.1412</td>\n",
       "      <td>0.07887</td>\n",
       "      <td>0.2251</td>\n",
       "      <td>0.07732</td>\n",
       "    </tr>\n",
       "    <tr>\n",
       "      <th>336</th>\n",
       "      <td>12.99</td>\n",
       "      <td>14.23</td>\n",
       "      <td>84.08</td>\n",
       "      <td>514.3</td>\n",
       "      <td>0.09462</td>\n",
       "      <td>0.09965</td>\n",
       "      <td>0.03738</td>\n",
       "      <td>0.02098</td>\n",
       "      <td>0.1652</td>\n",
       "      <td>0.1814</td>\n",
       "      <td>...</td>\n",
       "      <td>13.72</td>\n",
       "      <td>16.91</td>\n",
       "      <td>87.38</td>\n",
       "      <td>576.0</td>\n",
       "      <td>0.11420</td>\n",
       "      <td>0.1975</td>\n",
       "      <td>0.1450</td>\n",
       "      <td>0.05850</td>\n",
       "      <td>0.2432</td>\n",
       "      <td>0.10090</td>\n",
       "    </tr>\n",
       "    <tr>\n",
       "      <th>70</th>\n",
       "      <td>18.94</td>\n",
       "      <td>21.31</td>\n",
       "      <td>123.60</td>\n",
       "      <td>1130.0</td>\n",
       "      <td>0.09009</td>\n",
       "      <td>0.10290</td>\n",
       "      <td>0.10800</td>\n",
       "      <td>0.07951</td>\n",
       "      <td>0.1582</td>\n",
       "      <td>0.7888</td>\n",
       "      <td>...</td>\n",
       "      <td>24.86</td>\n",
       "      <td>26.58</td>\n",
       "      <td>165.90</td>\n",
       "      <td>1866.0</td>\n",
       "      <td>0.11930</td>\n",
       "      <td>0.2336</td>\n",
       "      <td>0.2687</td>\n",
       "      <td>0.17890</td>\n",
       "      <td>0.2551</td>\n",
       "      <td>0.06589</td>\n",
       "    </tr>\n",
       "    <tr>\n",
       "      <th>119</th>\n",
       "      <td>17.95</td>\n",
       "      <td>20.01</td>\n",
       "      <td>114.20</td>\n",
       "      <td>982.0</td>\n",
       "      <td>0.08402</td>\n",
       "      <td>0.06722</td>\n",
       "      <td>0.07293</td>\n",
       "      <td>0.05596</td>\n",
       "      <td>0.2129</td>\n",
       "      <td>0.5506</td>\n",
       "      <td>...</td>\n",
       "      <td>20.58</td>\n",
       "      <td>27.83</td>\n",
       "      <td>129.20</td>\n",
       "      <td>1261.0</td>\n",
       "      <td>0.10720</td>\n",
       "      <td>0.1202</td>\n",
       "      <td>0.2249</td>\n",
       "      <td>0.11850</td>\n",
       "      <td>0.4882</td>\n",
       "      <td>0.06111</td>\n",
       "    </tr>\n",
       "    <tr>\n",
       "      <th>354</th>\n",
       "      <td>11.14</td>\n",
       "      <td>14.07</td>\n",
       "      <td>71.24</td>\n",
       "      <td>384.6</td>\n",
       "      <td>0.07274</td>\n",
       "      <td>0.06064</td>\n",
       "      <td>0.04505</td>\n",
       "      <td>0.01471</td>\n",
       "      <td>0.1690</td>\n",
       "      <td>0.4222</td>\n",
       "      <td>...</td>\n",
       "      <td>12.12</td>\n",
       "      <td>15.82</td>\n",
       "      <td>79.62</td>\n",
       "      <td>453.5</td>\n",
       "      <td>0.08864</td>\n",
       "      <td>0.1256</td>\n",
       "      <td>0.1201</td>\n",
       "      <td>0.03922</td>\n",
       "      <td>0.2576</td>\n",
       "      <td>0.07018</td>\n",
       "    </tr>\n",
       "  </tbody>\n",
       "</table>\n",
       "<p>5 rows × 25 columns</p>\n",
       "</div>"
      ],
      "text/plain": [
       "     mean radius  mean texture  mean perimeter  mean area  mean smoothness  \\\n",
       "405        10.94         18.59           70.39      370.0          0.10040   \n",
       "336        12.99         14.23           84.08      514.3          0.09462   \n",
       "70         18.94         21.31          123.60     1130.0          0.09009   \n",
       "119        17.95         20.01          114.20      982.0          0.08402   \n",
       "354        11.14         14.07           71.24      384.6          0.07274   \n",
       "\n",
       "     mean compactness  mean concavity  mean concave points  mean symmetry  \\\n",
       "405           0.07460         0.04944              0.02932         0.1486   \n",
       "336           0.09965         0.03738              0.02098         0.1652   \n",
       "70            0.10290         0.10800              0.07951         0.1582   \n",
       "119           0.06722         0.07293              0.05596         0.2129   \n",
       "354           0.06064         0.04505              0.01471         0.1690   \n",
       "\n",
       "     radius error  ...  worst radius  worst texture  worst perimeter  \\\n",
       "405        0.3796  ...         12.40          25.58            82.76   \n",
       "336        0.1814  ...         13.72          16.91            87.38   \n",
       "70         0.7888  ...         24.86          26.58           165.90   \n",
       "119        0.5506  ...         20.58          27.83           129.20   \n",
       "354        0.4222  ...         12.12          15.82            79.62   \n",
       "\n",
       "     worst area  worst smoothness  worst compactness  worst concavity  \\\n",
       "405       472.4           0.13630             0.1644           0.1412   \n",
       "336       576.0           0.11420             0.1975           0.1450   \n",
       "70       1866.0           0.11930             0.2336           0.2687   \n",
       "119      1261.0           0.10720             0.1202           0.2249   \n",
       "354       453.5           0.08864             0.1256           0.1201   \n",
       "\n",
       "     worst concave points  worst symmetry  worst fractal dimension  \n",
       "405               0.07887          0.2251                  0.07732  \n",
       "336               0.05850          0.2432                  0.10090  \n",
       "70                0.17890          0.2551                  0.06589  \n",
       "119               0.11850          0.4882                  0.06111  \n",
       "354               0.03922          0.2576                  0.07018  \n",
       "\n",
       "[5 rows x 25 columns]"
      ]
     },
     "execution_count": 17,
     "metadata": {},
     "output_type": "execute_result"
    }
   ],
   "source": [
    "inputs_df = df[list(input_cols)].copy()\n",
    "inputs_df.sample(5)"
   ]
  },
  {
   "cell_type": "code",
   "execution_count": 18,
   "metadata": {
    "execution": {
     "iopub.execute_input": "2024-02-26T09:38:14.687657Z",
     "iopub.status.busy": "2024-02-26T09:38:14.687336Z",
     "iopub.status.idle": "2024-02-26T09:38:14.698950Z",
     "shell.execute_reply": "2024-02-26T09:38:14.698147Z",
     "shell.execute_reply.started": "2024-02-26T09:38:14.687629Z"
    },
    "trusted": true
   },
   "outputs": [
    {
     "data": {
      "text/plain": [
       "78     0\n",
       "251    1\n",
       "216    1\n",
       "189    1\n",
       "520    1\n",
       "Name: target, dtype: int64"
      ]
     },
     "execution_count": 18,
     "metadata": {},
     "output_type": "execute_result"
    }
   ],
   "source": [
    "targets = df[(target_col)]\n",
    "targets.sample(5)"
   ]
  },
  {
   "cell_type": "markdown",
   "metadata": {},
   "source": [
    "<center>\n",
    "<div style=\"color:;\n",
    "           display:fill;\n",
    "           border-radius:5px;\n",
    "           background-color: gray;\n",
    "           font-size:110%;\n",
    "           letter-spacing:0.5px\">\n",
    "\n",
    "<h3 style=\"padding: 10px;\n",
    "              color:white;\">Data Scaling\n",
    "    \n",
    "</h3>\n",
    "</div>\n"
   ]
  },
  {
   "cell_type": "markdown",
   "metadata": {},
   "source": [
    "Normalization and standardization are two fundamental data scaling techniques extensively employed in algorithms that necessitate scaling. Both methods can be implemented using the `scikit-learn` library's preprocessing package.\n",
    "\n",
    "**Normalization**, also known as Min-Max scaling, transforms the data linearly to a specified range, typically between 0 and 1. It accomplishes this by subtracting the feature's minimum value and then dividing by the range (max - min). Mathematically, for a feature vector X, normalization transforms it as follows:\n",
    "\n",
    "$$X_{scaled} = \\frac{X - X_{min}}{X_{max} - X_{min}}$$\n",
    "\n",
    "**Standardization**, on the other hand, rescales the data to have a mean of 0 and a standard deviation of 1. It accomplishes this by subtracting the feature's mean and then dividing by the standard deviation. Mathematically, for a feature vector X, standardization transforms it as follows:\n",
    "\n",
    "$$X_{scaled} = \\frac{X - \\bar{X}}{\\sigma}$$\n",
    "\n",
    "**Comparison**\n",
    "\n",
    "The primary distinction between normalization and standardization lies in their sensitivity to outliers. Normalization is susceptible to outliers because it scales the data based on the minimum and maximum values, which can be significantly affected by outliers. Standardization, on the other hand, is less sensitive to outliers because it scales the data based on the mean and standard deviation, which are more resilient to outliers.\n",
    "\n",
    "**Applications**\n",
    "\n",
    "- Normalization is frequently used when the data has a well-defined range or when preserving relative distances between data points is critical. It is commonly used in image processing and neural networks.\n",
    "\n",
    "- Standardization is preferred when the data distribution is approximately Gaussian or when the presence of outliers is a concern. It is widely used in statistical analysis and machine learning algorithms that assume normally distributed data.\n",
    "\n",
    "Since we have a high dimensionality data, **scaling** the data will help us with the **Principal Component Analysis** which we will take a look at next."
   ]
  },
  {
   "cell_type": "code",
   "execution_count": 19,
   "metadata": {
    "execution": {
     "iopub.execute_input": "2024-02-26T09:38:14.700345Z",
     "iopub.status.busy": "2024-02-26T09:38:14.700038Z",
     "iopub.status.idle": "2024-02-26T09:38:14.736238Z",
     "shell.execute_reply": "2024-02-26T09:38:14.735442Z",
     "shell.execute_reply.started": "2024-02-26T09:38:14.700318Z"
    },
    "trusted": true
   },
   "outputs": [
    {
     "data": {
      "text/html": [
       "<div>\n",
       "<style scoped>\n",
       "    .dataframe tbody tr th:only-of-type {\n",
       "        vertical-align: middle;\n",
       "    }\n",
       "\n",
       "    .dataframe tbody tr th {\n",
       "        vertical-align: top;\n",
       "    }\n",
       "\n",
       "    .dataframe thead th {\n",
       "        text-align: right;\n",
       "    }\n",
       "</style>\n",
       "<table border=\"1\" class=\"dataframe\">\n",
       "  <thead>\n",
       "    <tr style=\"text-align: right;\">\n",
       "      <th></th>\n",
       "      <th>mean radius</th>\n",
       "      <th>mean texture</th>\n",
       "      <th>mean perimeter</th>\n",
       "      <th>mean area</th>\n",
       "      <th>mean smoothness</th>\n",
       "      <th>mean compactness</th>\n",
       "      <th>mean concavity</th>\n",
       "      <th>mean concave points</th>\n",
       "      <th>mean symmetry</th>\n",
       "      <th>radius error</th>\n",
       "      <th>...</th>\n",
       "      <th>worst radius</th>\n",
       "      <th>worst texture</th>\n",
       "      <th>worst perimeter</th>\n",
       "      <th>worst area</th>\n",
       "      <th>worst smoothness</th>\n",
       "      <th>worst compactness</th>\n",
       "      <th>worst concavity</th>\n",
       "      <th>worst concave points</th>\n",
       "      <th>worst symmetry</th>\n",
       "      <th>worst fractal dimension</th>\n",
       "    </tr>\n",
       "  </thead>\n",
       "  <tbody>\n",
       "    <tr>\n",
       "      <th>0</th>\n",
       "      <td>0.521037</td>\n",
       "      <td>0.022658</td>\n",
       "      <td>0.545989</td>\n",
       "      <td>0.363733</td>\n",
       "      <td>0.593753</td>\n",
       "      <td>0.792037</td>\n",
       "      <td>0.703140</td>\n",
       "      <td>0.731113</td>\n",
       "      <td>0.686364</td>\n",
       "      <td>0.356147</td>\n",
       "      <td>...</td>\n",
       "      <td>0.620776</td>\n",
       "      <td>0.141525</td>\n",
       "      <td>0.668310</td>\n",
       "      <td>0.450698</td>\n",
       "      <td>0.601136</td>\n",
       "      <td>0.619292</td>\n",
       "      <td>0.568610</td>\n",
       "      <td>0.912027</td>\n",
       "      <td>0.598462</td>\n",
       "      <td>0.418864</td>\n",
       "    </tr>\n",
       "    <tr>\n",
       "      <th>1</th>\n",
       "      <td>0.643144</td>\n",
       "      <td>0.272574</td>\n",
       "      <td>0.615783</td>\n",
       "      <td>0.501591</td>\n",
       "      <td>0.289880</td>\n",
       "      <td>0.181768</td>\n",
       "      <td>0.203608</td>\n",
       "      <td>0.348757</td>\n",
       "      <td>0.379798</td>\n",
       "      <td>0.156437</td>\n",
       "      <td>...</td>\n",
       "      <td>0.606901</td>\n",
       "      <td>0.303571</td>\n",
       "      <td>0.539818</td>\n",
       "      <td>0.435214</td>\n",
       "      <td>0.347553</td>\n",
       "      <td>0.154563</td>\n",
       "      <td>0.192971</td>\n",
       "      <td>0.639175</td>\n",
       "      <td>0.233590</td>\n",
       "      <td>0.222878</td>\n",
       "    </tr>\n",
       "    <tr>\n",
       "      <th>2</th>\n",
       "      <td>0.601496</td>\n",
       "      <td>0.390260</td>\n",
       "      <td>0.595743</td>\n",
       "      <td>0.449417</td>\n",
       "      <td>0.514309</td>\n",
       "      <td>0.431017</td>\n",
       "      <td>0.462512</td>\n",
       "      <td>0.635686</td>\n",
       "      <td>0.509596</td>\n",
       "      <td>0.229622</td>\n",
       "      <td>...</td>\n",
       "      <td>0.556386</td>\n",
       "      <td>0.360075</td>\n",
       "      <td>0.508442</td>\n",
       "      <td>0.374508</td>\n",
       "      <td>0.483590</td>\n",
       "      <td>0.385375</td>\n",
       "      <td>0.359744</td>\n",
       "      <td>0.835052</td>\n",
       "      <td>0.403706</td>\n",
       "      <td>0.213433</td>\n",
       "    </tr>\n",
       "    <tr>\n",
       "      <th>3</th>\n",
       "      <td>0.210090</td>\n",
       "      <td>0.360839</td>\n",
       "      <td>0.233501</td>\n",
       "      <td>0.102906</td>\n",
       "      <td>0.811321</td>\n",
       "      <td>0.811361</td>\n",
       "      <td>0.565604</td>\n",
       "      <td>0.522863</td>\n",
       "      <td>0.776263</td>\n",
       "      <td>0.139091</td>\n",
       "      <td>...</td>\n",
       "      <td>0.248310</td>\n",
       "      <td>0.385928</td>\n",
       "      <td>0.241347</td>\n",
       "      <td>0.094008</td>\n",
       "      <td>0.915472</td>\n",
       "      <td>0.814012</td>\n",
       "      <td>0.548642</td>\n",
       "      <td>0.884880</td>\n",
       "      <td>1.000000</td>\n",
       "      <td>0.773711</td>\n",
       "    </tr>\n",
       "    <tr>\n",
       "      <th>4</th>\n",
       "      <td>0.629893</td>\n",
       "      <td>0.156578</td>\n",
       "      <td>0.630986</td>\n",
       "      <td>0.489290</td>\n",
       "      <td>0.430351</td>\n",
       "      <td>0.347893</td>\n",
       "      <td>0.463918</td>\n",
       "      <td>0.518390</td>\n",
       "      <td>0.378283</td>\n",
       "      <td>0.233822</td>\n",
       "      <td>...</td>\n",
       "      <td>0.519744</td>\n",
       "      <td>0.123934</td>\n",
       "      <td>0.506948</td>\n",
       "      <td>0.341575</td>\n",
       "      <td>0.437364</td>\n",
       "      <td>0.172415</td>\n",
       "      <td>0.319489</td>\n",
       "      <td>0.558419</td>\n",
       "      <td>0.157500</td>\n",
       "      <td>0.142595</td>\n",
       "    </tr>\n",
       "  </tbody>\n",
       "</table>\n",
       "<p>5 rows × 25 columns</p>\n",
       "</div>"
      ],
      "text/plain": [
       "   mean radius  mean texture  mean perimeter  mean area  mean smoothness  \\\n",
       "0     0.521037      0.022658        0.545989   0.363733         0.593753   \n",
       "1     0.643144      0.272574        0.615783   0.501591         0.289880   \n",
       "2     0.601496      0.390260        0.595743   0.449417         0.514309   \n",
       "3     0.210090      0.360839        0.233501   0.102906         0.811321   \n",
       "4     0.629893      0.156578        0.630986   0.489290         0.430351   \n",
       "\n",
       "   mean compactness  mean concavity  mean concave points  mean symmetry  \\\n",
       "0          0.792037        0.703140             0.731113       0.686364   \n",
       "1          0.181768        0.203608             0.348757       0.379798   \n",
       "2          0.431017        0.462512             0.635686       0.509596   \n",
       "3          0.811361        0.565604             0.522863       0.776263   \n",
       "4          0.347893        0.463918             0.518390       0.378283   \n",
       "\n",
       "   radius error  ...  worst radius  worst texture  worst perimeter  \\\n",
       "0      0.356147  ...      0.620776       0.141525         0.668310   \n",
       "1      0.156437  ...      0.606901       0.303571         0.539818   \n",
       "2      0.229622  ...      0.556386       0.360075         0.508442   \n",
       "3      0.139091  ...      0.248310       0.385928         0.241347   \n",
       "4      0.233822  ...      0.519744       0.123934         0.506948   \n",
       "\n",
       "   worst area  worst smoothness  worst compactness  worst concavity  \\\n",
       "0    0.450698          0.601136           0.619292         0.568610   \n",
       "1    0.435214          0.347553           0.154563         0.192971   \n",
       "2    0.374508          0.483590           0.385375         0.359744   \n",
       "3    0.094008          0.915472           0.814012         0.548642   \n",
       "4    0.341575          0.437364           0.172415         0.319489   \n",
       "\n",
       "   worst concave points  worst symmetry  worst fractal dimension  \n",
       "0              0.912027        0.598462                 0.418864  \n",
       "1              0.639175        0.233590                 0.222878  \n",
       "2              0.835052        0.403706                 0.213433  \n",
       "3              0.884880        1.000000                 0.773711  \n",
       "4              0.558419        0.157500                 0.142595  \n",
       "\n",
       "[5 rows x 25 columns]"
      ]
     },
     "execution_count": 19,
     "metadata": {},
     "output_type": "execute_result"
    }
   ],
   "source": [
    "scaler = MinMaxScaler()\n",
    "scaler.fit(inputs_df[input_cols])\n",
    "inputs_df[input_cols] = scaler.transform(inputs_df[input_cols])\n",
    "inputs_df[input_cols].head()"
   ]
  },
  {
   "cell_type": "markdown",
   "metadata": {},
   "source": [
    "<center>\n",
    "<div style=\"color:;\n",
    "           display:fill;\n",
    "           border-radius:5px;\n",
    "           background-color: mediumseagreen;\n",
    "           font-size:110%;\n",
    "           letter-spacing:0.5px\">\n",
    "\n",
    "<h2 style=\"padding: 10px;\n",
    "              color:white;\">Principal Component Analysis (PCA)\n",
    "    \n",
    "</h2>\n",
    "</div>\n",
    "    \n",
    "</center>\n",
    "\n",
    "\n",
    "\n",
    "Principal Component Analysis (PCA) is a dimensionality reduction technique that aims to simplify complex data while retaining essential information. It transforms a set of correlated variables into a smaller number of uncorrelated variables called principal components, effectively summarizing the data's key patterns.\n",
    "\n",
    "PCA serves two primary purposes:\n",
    "\n",
    "1. **Dimensionality Reduction:** PCA reduces the number of variables, simplifying data visualization and analysis. This makes it easier to identify patterns and relationships within the data.\n",
    "\n",
    "2. **Overfitting Prevention:** By eliminating highly correlated features, PCA reduces the risk of overfitting in machine learning models. Overfitting occurs when a model becomes too closely aligned with the training data, leading to poor performance on new data.\n",
    "\n",
    "<span style=\"background-color: yellow;\"> PCA achieves these goals by **maximizing the variance** of the projected data on a given axis while **minimizing the reconstruction error** or residuals. It identifies principal components, directions that capture the most significant variations in the data.</span> Projecting data onto these principal components maximizes variance and minimizes reconstruction error, effectively reducing dimensionality without losing crucial information.\n",
    "\n",
    "The below image aptly illustrates PCA's objective. The red dots represent data points, and the arrows represent principal components. Longer arrows correspond to directions with higher variance, while shorter arrows correspond to directions with lower variance. PCA projects data onto these principal components, reducing dimensionality while preserving essential information.\n",
    "    \n",
    "    \n",
    "<center>\n",
    "<img src=\"https://alexhwilliams.info/itsneuronalblog/img/pca/pca_two_views.png\", width=800>\n",
    "</center>\n",
    "    \n"
   ]
  },
  {
   "cell_type": "markdown",
   "metadata": {},
   "source": [
    "\n",
    "<center>\n",
    "<div style=\"color:;\n",
    "           display:fill;\n",
    "           border-radius:5px;\n",
    "           background-color: royalblue;\n",
    "           font-size:110%;\n",
    "           letter-spacing:0.5px\">\n",
    "\n",
    "<h3 style=\"padding: 10px;\n",
    "              color:white;\">Creating Covariance Matrix and finding Eigenvalues and Eigen Vectors\n",
    "    \n",
    "</h3>\n",
    "</div>"
   ]
  },
  {
   "cell_type": "markdown",
   "metadata": {},
   "source": [
    "An **eigenvector** (eigen is German for \"typical\"; we could translate eigenvector to \"characteristic vector\") is a special vector $v$ such that when it is transformed by some matrix (let's say $A$), the product  has the exact same direction as $v$. An **eigenvalue** is a scalar (traditionally represented as $\\lambda$) that simply scales the eigenvector $v$ such that the following equation is satisfied: $$A\\vec{v} = \\lambda*\\vec{v}$$\n",
    "\n",
    "where,\n",
    "\n",
    "$A$ = square matrix (equal rows & columns)\n",
    "\n",
    "$\\vec{v}$ = non-zero vector\n",
    "\n",
    "$\\lambda$ = scalar value or eigenvalue\n",
    "\n",
    "<span style=\"background-color: yellow;\"> \n",
    "An eigenvector of a square matrix $A$ is a non-zero vector $\\vec{v}$ that, when multiplied by the matrix $A$, results in a scalar multiple of itself. Basically, Eigenvectors are vectors that, when transformed by the matrix $A$, only change in magnitude, not in direction.</span>\n",
    "\n",
    "**For example**, \n",
    "\n",
    "consider a 2D eigenvector [1, 1] and its corresponding matrix $A$. If $A$ scales the vector by a factor of 2, the transformed vector will be [2, 2]. The vector has doubled in length, but its direction remains the same – it still points along a 45-degree angle from the $x$-axis.\n",
    "\n",
    "---\n",
    "\n",
    "**Calculation of Eigenvalues and Eigenvectors**\n",
    "\n",
    "Let's see how we calculate the eigenvalues and the eigenvectors. To find the eigenvectors of the matrix $A$, we first need to find the eigenvalues. The eigenvalues are the values $\\lambda$ that satisfy the equation:\n",
    "\n",
    "$$det(A - \\lambda*I) = 0$$\n",
    "\n",
    "- The equation $det(A - \\lambda*I) = 0$ is the characteristic equation of a square matrix $A$, where $\\lambda$ represents the eigenvalues of the matrix and $I$ is the identity matrix. We try to satisfy this equation to find the eigenvalues of $A$, which are crucial for understanding the matrix's properties and behavior.\n",
    "\n",
    "- The reason we set the determinant of $(A - \\lambda*I)$ to zero is that the determinant of a matrix is zero if and only if the matrix is singular, meaning it has no inverse. In the context of eigenvectors, this means that there exists a non-zero vector $\\vec{v}$ such that $A\\vec{v} = \\lambda*\\vec{v}$. This equation represents the defining property of eigenvectors: when multiplied by the matrix $A$, they only change in magnitude, not in direction.\n",
    "\n",
    "- By solving the characteristic equation, we find the values of $\\lambda$ that make the matrix $(A - \\lambda*I)$ singular, and these values correspond to the eigenvalues of $A$. Once we have the eigenvalues, we can find the corresponding eigenvectors by solving the equation $A - \\lambda*I = 0$ for each eigenvalue.\n",
    "\n",
    "Consider a square matrix $A$ with 3 rows and 3 columns\n",
    "\n",
    "$$ A = \\begin{bmatrix}\n",
    "3 & 1 & 4 \\\\\n",
    "1 & 2 & 5 \\\\\n",
    "4 & 5 & 6 \\\\\n",
    "\\end{bmatrix}$$\n",
    "\n",
    "Here the $I$ is an identity matrix which is show below\n",
    "\n",
    "$$ A_{I} = \\begin{bmatrix}\n",
    "1 & 0 & 0 \\\\\n",
    "0 & 1 & 0 \\\\\n",
    "0 & 0 & 1 \\\\\n",
    "\\end{bmatrix}$$\n",
    "\n",
    "So when we perform the operation $A - \\lambda\\space I$ we get\n",
    "\n",
    "$$ A-\\lambda I = \\begin{bmatrix}\n",
    "\\color{red}3\\color{red}-\\color{red}\\lambda & 1 & 4 \\\\\n",
    "1 & \\color{red}2\\color{red}-\\color{red}\\lambda & 5 \\\\\n",
    "4 & 5 & \\color{red}6\\color{red}-\\color{red}\\lambda \\\\\n",
    "\\end{bmatrix} = 0 $$\n",
    "\n",
    "And when we apply [Gaussian Elimination](https://bit.ly/3RqRCdQ) on this matrix, we get\n",
    "\n",
    "\n",
    "$$ B = \\begin{bmatrix}\n",
    "1-\\lambda & 2-\\lambda & 5 \\\\\n",
    "0 & 1-\\lambda & -1 \\\\\n",
    "-3-\\lambda & 2-\\lambda & 1 \\\\\n",
    "\\end{bmatrix}$$\n",
    "\n",
    "Solving for $\\lambda$, we get the eigenvalues  $\\lambda_{1}$ = -2,  $\\lambda_{2}$ = 2, and  $\\lambda_{3}$ = 11. From here on out, it becomes easy as we simply have to substitute the  $\\lambda$ values in to the equation $A\\vec{v} = \\lambda*\\vec{v}$ which will give us \n",
    "\n",
    "$$\\vec{v_{1}} = [-1, 1, 1]$$ \n",
    "$$\\space \\vec{v_{2}} = [2, 1, 0]$$\n",
    "$$\\space \\vec{v_{3}} = [1, 2, 1]$$\n",
    "\n",
    "The above vectors are your eigenvectors"
   ]
  },
  {
   "cell_type": "code",
   "execution_count": 20,
   "metadata": {
    "execution": {
     "iopub.execute_input": "2024-02-26T09:38:14.738073Z",
     "iopub.status.busy": "2024-02-26T09:38:14.737425Z",
     "iopub.status.idle": "2024-02-26T09:38:14.755636Z",
     "shell.execute_reply": "2024-02-26T09:38:14.754835Z",
     "shell.execute_reply.started": "2024-02-26T09:38:14.738032Z"
    },
    "trusted": true
   },
   "outputs": [],
   "source": [
    "#Extracting input values\n",
    "column_values = []\n",
    "for i in range(len(inputs_df.columns)):\n",
    "    column_values.append(inputs_df.iloc[:,i].values)\n",
    "    \n",
    "#Making Covariance Matrix\n",
    "covariance_matrix = np.cov(column_values)\n",
    "\n",
    "#Getting the EigenVectors and the EigenValues\n",
    "eigen_values, eigen_vectors = np.linalg.eig(covariance_matrix)"
   ]
  },
  {
   "cell_type": "markdown",
   "metadata": {},
   "source": [
    "**Why do we calculate the covariance matrix**\n",
    "\n",
    "- <span style=\"background-color: yellow;\"> The covariance matrix is used to calculate eigenvectors and eigenvalues in principal component analysis (PCA) because it captures the variances and covariances between the features in a dataset.</span> PCA aims to identify the principal components, which are the directions of maximum variance in the data. These directions correspond to the eigenvectors of the covariance matrix, and the corresponding eigenvalues represent the magnitudes of variance along those directions.\n",
    "\n",
    "- <span style=\"background-color: yellow;\"> The covariance matrix is a square matrix where each element represents the covariance between two features.</span> The diagonal elements represent the variances of individual features, while the off-diagonal elements represent the covariances between different features.\n",
    "\n",
    "\n",
    "- By calculating the eigenvectors and eigenvalues of the covariance matrix, <span style=\"background-color: yellow;\"> PCA identifies the directions of maximum variance in the data. These directions are the principal components, and they represent the most significant patterns of variation in the dataset.</span> Projecting the data onto these principal components reduces dimensionality while preserving as much of the original information as possible."
   ]
  },
  {
   "cell_type": "code",
   "execution_count": 21,
   "metadata": {
    "execution": {
     "iopub.execute_input": "2024-02-26T09:38:14.756871Z",
     "iopub.status.busy": "2024-02-26T09:38:14.756592Z",
     "iopub.status.idle": "2024-02-26T09:38:14.761660Z",
     "shell.execute_reply": "2024-02-26T09:38:14.760812Z",
     "shell.execute_reply.started": "2024-02-26T09:38:14.756845Z"
    },
    "trusted": true
   },
   "outputs": [
    {
     "name": "stdout",
     "output_type": "stream",
     "text": [
      "Shape of eigenvalues: (25,)\n",
      "Shape of eigenvectors: (25, 25)\n",
      "Shape of covariance matrix: (25, 25)\n"
     ]
    }
   ],
   "source": [
    "print(\"Shape of eigenvalues:\", eigen_values.shape)\n",
    "print(\"Shape of eigenvectors:\", eigen_vectors.shape)\n",
    "print(\"Shape of covariance matrix:\", covariance_matrix.shape)"
   ]
  },
  {
   "cell_type": "code",
   "execution_count": 22,
   "metadata": {
    "execution": {
     "iopub.execute_input": "2024-02-26T09:38:14.763081Z",
     "iopub.status.busy": "2024-02-26T09:38:14.762804Z",
     "iopub.status.idle": "2024-02-26T09:38:14.772185Z",
     "shell.execute_reply": "2024-02-26T09:38:14.771426Z",
     "shell.execute_reply.started": "2024-02-26T09:38:14.763055Z"
    },
    "trusted": true
   },
   "outputs": [
    {
     "data": {
      "text/plain": [
       "array([0.027818  , 0.00785484, 0.02794603, 0.02458229, 0.00361231,\n",
       "       0.01367458, 0.02108345, 0.02645754, 0.00341174, 0.01137405,\n",
       "       0.01071215, 0.01042819, 0.00462112, 0.00246906, 0.0073333 ,\n",
       "       0.02780391, 0.00811481, 0.02693902, 0.02196388, 0.0030081 ,\n",
       "       0.0105267 , 0.01464405, 0.028038  , 0.00333488, 0.00013961])"
      ]
     },
     "execution_count": 22,
     "metadata": {},
     "output_type": "execute_result"
    }
   ],
   "source": [
    "#First Element of the Covariance Matrix\n",
    "covariance_matrix[0]"
   ]
  },
  {
   "cell_type": "code",
   "execution_count": 23,
   "metadata": {
    "execution": {
     "iopub.execute_input": "2024-02-26T09:38:14.773634Z",
     "iopub.status.busy": "2024-02-26T09:38:14.773243Z",
     "iopub.status.idle": "2024-02-26T09:38:14.784112Z",
     "shell.execute_reply": "2024-02-26T09:38:14.783187Z",
     "shell.execute_reply.started": "2024-02-26T09:38:14.773594Z"
    },
    "trusted": true
   },
   "outputs": [
    {
     "data": {
      "text/plain": [
       "array([ 0.24595212, -0.28506715, -0.05288632,  0.04299417,  0.07429854,\n",
       "        0.04581977,  0.07854236, -0.17635877, -0.03245573,  0.21481119,\n",
       "        0.00737844,  0.01610437,  0.12459388, -0.18581714, -0.24581679,\n",
       "       -0.17792538,  0.03830878,  0.13958935, -0.70693551,  0.1966754 ,\n",
       "       -0.15904637,  0.07589162,  0.07905804,  0.11604536,  0.09432928])"
      ]
     },
     "execution_count": 23,
     "metadata": {},
     "output_type": "execute_result"
    }
   ],
   "source": [
    "#First Eigenvector\n",
    "eigen_vectors[0]"
   ]
  },
  {
   "cell_type": "code",
   "execution_count": 24,
   "metadata": {
    "execution": {
     "iopub.execute_input": "2024-02-26T09:38:14.785605Z",
     "iopub.status.busy": "2024-02-26T09:38:14.785254Z",
     "iopub.status.idle": "2024-02-26T09:38:14.796470Z",
     "shell.execute_reply": "2024-02-26T09:38:14.795707Z",
     "shell.execute_reply.started": "2024-02-26T09:38:14.785576Z"
    },
    "trusted": true
   },
   "outputs": [
    {
     "name": "stdout",
     "output_type": "stream",
     "text": [
      "The first eigen value is 0.3301\n"
     ]
    }
   ],
   "source": [
    "print('The first eigen value is',round(eigen_values[0],4))"
   ]
  },
  {
   "cell_type": "markdown",
   "metadata": {},
   "source": [
    "<center>\n",
    "<div style=\"color:;\n",
    "           display:fill;\n",
    "           border-radius:5px;\n",
    "           background-color: royalblue;\n",
    "           font-size:110%;\n",
    "           letter-spacing:0.5px\">\n",
    "\n",
    "<h3 style=\"padding: 10px;\n",
    "              color:white;\">Explained Variance\n",
    "    \n",
    "</h3>\n",
    "</div>"
   ]
  },
  {
   "cell_type": "markdown",
   "metadata": {},
   "source": [
    "**Explained variance** is a measure of how much of the total variance in a dataset can be explained by a particular model. It is a measure used to evaluate how well a model fits the data. It is calculated by taking the ratio of the variance explained by the model to the total variance of the data. A higher explained variance indicates that the model is capturing more of the underlying structure of the data."
   ]
  },
  {
   "cell_type": "code",
   "execution_count": 25,
   "metadata": {
    "execution": {
     "iopub.execute_input": "2024-02-26T09:38:14.798273Z",
     "iopub.status.busy": "2024-02-26T09:38:14.797609Z",
     "iopub.status.idle": "2024-02-26T09:38:14.807254Z",
     "shell.execute_reply": "2024-02-26T09:38:14.806401Z",
     "shell.execute_reply.started": "2024-02-26T09:38:14.798221Z"
    },
    "trusted": true
   },
   "outputs": [
    {
     "name": "stdout",
     "output_type": "stream",
     "text": [
      "At 1 PC, Explained Variance is 59.5%\n",
      "At 2 PC, Explained Variance is 74.84%\n",
      "At 3 PC, Explained Variance is 82.28%\n",
      "At 4 PC, Explained Variance is 87.3%\n",
      "At 5 PC, Explained Variance is 90.78%\n"
     ]
    }
   ],
   "source": [
    "explained_variance = []\n",
    "c= 0\n",
    "for i in range(len((eigen_values/(np.sum(eigen_values))*100))): \n",
    "    c = c + np.around((eigen_values[i]/(np.sum(eigen_values))*100),3)\n",
    "    while c < 92:\n",
    "        explained_variance.append(c)\n",
    "        print(f'At {i+1} PC, Explained Variance is {round(c,2)}%')\n",
    "        break"
   ]
  },
  {
   "cell_type": "code",
   "execution_count": 26,
   "metadata": {
    "execution": {
     "iopub.execute_input": "2024-02-26T09:38:14.808445Z",
     "iopub.status.busy": "2024-02-26T09:38:14.808150Z",
     "iopub.status.idle": "2024-02-26T09:38:14.817978Z",
     "shell.execute_reply": "2024-02-26T09:38:14.817241Z",
     "shell.execute_reply.started": "2024-02-26T09:38:14.808418Z"
    },
    "trusted": true
   },
   "outputs": [
    {
     "name": "stdout",
     "output_type": "stream",
     "text": [
      "Explained Variance Achieved : 90.78% , PCs needed : 5\n"
     ]
    }
   ],
   "source": [
    "variance_percentage = np.around(explained_variance[-1], 2)\n",
    "num_principal_components = len(explained_variance)\n",
    "\n",
    "print(f\"Explained Variance Achieved : {variance_percentage}% , PCs needed : {num_principal_components}\")"
   ]
  },
  {
   "cell_type": "code",
   "execution_count": 27,
   "metadata": {
    "execution": {
     "iopub.execute_input": "2024-02-26T09:38:14.819352Z",
     "iopub.status.busy": "2024-02-26T09:38:14.819034Z",
     "iopub.status.idle": "2024-02-26T09:38:15.124325Z",
     "shell.execute_reply": "2024-02-26T09:38:15.123520Z",
     "shell.execute_reply.started": "2024-02-26T09:38:14.819325Z"
    },
    "trusted": true
   },
   "outputs": [
    {
     "data": {
      "image/png": "[encoded data removed]",
      "text/plain": [
       "<Figure size 2200x500 with 1 Axes>"
      ]
     },
     "metadata": {
      "needs_background": "light"
     },
     "output_type": "display_data"
    }
   ],
   "source": [
    "sns.lineplot(x=explained_variance,  y=range(1,len(explained_variance)+1), marker='o')\n",
    "\n",
    "plt.gca().spines['top'].set_visible(False)\n",
    "plt.gca().spines['right'].set_visible(False)\n",
    "\n",
    "plt.annotate(f'{round(explained_variance[0],2)}', (round(explained_variance[0],2)-1, 1.12), \n",
    "             fontsize=15, fontweight='bold', color='red')\n",
    "plt.annotate(f'{round(explained_variance[1],2)}', (round(explained_variance[1],2)-1, 2.12), \n",
    "             fontsize=15, fontweight='bold', color='red')\n",
    "plt.annotate(f'{round(explained_variance[4],2)}', (round(explained_variance[4],2)-1, 5.1), \n",
    "             fontsize=15, fontweight='bold', color='red')\n",
    "plt.yticks(range(1,len(explained_variance)+1,1))\n",
    "plt.title('Explained Variance Plot', fontsize=20)\n",
    "plt.xlabel('Explained Variance', fontsize=14)\n",
    "plt.ylabel('Principal Components',fontsize=14)\n",
    "plt.show()"
   ]
  },
  {
   "cell_type": "markdown",
   "metadata": {},
   "source": [
    "<center>\n",
    "<div style=\"color:;\n",
    "           display:fill;\n",
    "           border-radius:5px;\n",
    "           background-color: royalblue;\n",
    "           font-size:110%;\n",
    "           letter-spacing:0.5px\">\n",
    "\n",
    "<h3 style=\"padding: 10px;\n",
    "              color:white;\">Displaying the Linear Transformations (Before and After)\n",
    "    \n",
    "</h3>\n",
    "</div>"
   ]
  },
  {
   "cell_type": "markdown",
   "metadata": {},
   "source": [
    "Let's now transform our original data now that we have found out our principal components. The operation of transforming the original data using principal components is called **principal component projection**. It involves projecting the original data onto the principal components, which are the directions of maximum variance in the data. This projection effectively reduces the dimensionality of the data while preserving as much of the original information as possible.\n",
    "\n",
    "In this transformation, what we do is do a dot-product between the original data and the **Principal components** we just found out.\n",
    "\n",
    "$$ X_{new} =  X \\cdot PC $$\n",
    "\n",
    "The process involves multiplying the centered data matrix by the matrix of selected eigenvectors, resulting in a transformed data matrix with lower dimensionality. This transformed data captures the most significant variations in the original data while reducing the number of variables, making it easier to analyze and visualize."
   ]
  },
  {
   "cell_type": "code",
   "execution_count": 28,
   "metadata": {
    "_kg_hide-input": true,
    "execution": {
     "iopub.execute_input": "2024-02-26T09:38:15.128815Z",
     "iopub.status.busy": "2024-02-26T09:38:15.128329Z",
     "iopub.status.idle": "2024-02-26T09:38:15.137573Z",
     "shell.execute_reply": "2024-02-26T09:38:15.136790Z",
     "shell.execute_reply.started": "2024-02-26T09:38:15.128773Z"
    },
    "trusted": true
   },
   "outputs": [],
   "source": [
    "# function to convert column of matrix to 1D vector: \n",
    "def vectorfy(mtrx, clmn):\n",
    "    return np.array(mtrx[:,clmn]).reshape(-1)\n",
    "\n",
    "def plot_vectors(vectors, colors, labels):\n",
    "    \"\"\"\n",
    "    Plot one or more vectors in a 2D plane, specifying a color for each. \n",
    "\n",
    "    Arguments\n",
    "    ---------\n",
    "    vectors: list of lists or of arrays\n",
    "        Coordinates of the vectors to plot. For example, [[1, 3], [2, 2]] \n",
    "        contains two vectors to plot, [1, 3] and [2, 2].\n",
    "    colors: list\n",
    "        Colors of the vectors. For instance: ['red', 'blue'] will display the\n",
    "        first vector in red and the second in blue.\n",
    "        \n",
    "    Example\n",
    "    -------\n",
    "    plot_vectors([[1, 3], [2, 2]], ['red', 'blue'], ['Vector 1', 'Vector 2'])\n",
    "    plt.xlim(-1, 4)\n",
    "    plt.ylim(-1, 4)\n",
    "    \"\"\"\n",
    "    plt.figure()\n",
    "    plt.axvline(x=0, color='lightgray')\n",
    "    plt.axhline(y=0, color='lightgray')\n",
    "\n",
    "    for i in range(len(vectors)):\n",
    "        x = np.concatenate([[0,0],vectors[i]])\n",
    "        plt.quiver([x[0]], [x[1]], [x[2]], [x[3]],angles='xy', scale_units='xy', scale=1, color=colors[i],label=labels[i])"
   ]
  },
  {
   "cell_type": "code",
   "execution_count": 29,
   "metadata": {
    "execution": {
     "iopub.execute_input": "2024-02-26T09:38:15.138924Z",
     "iopub.status.busy": "2024-02-26T09:38:15.138593Z",
     "iopub.status.idle": "2024-02-26T09:38:15.684929Z",
     "shell.execute_reply": "2024-02-26T09:38:15.684104Z",
     "shell.execute_reply.started": "2024-02-26T09:38:15.138896Z"
    },
    "trusted": true
   },
   "outputs": [
    {
     "data": {
      "image/png": "[encoded data removed]",
      "text/plain": [
       "<Figure size 2200x500 with 1 Axes>"
      ]
     },
     "metadata": {
      "needs_background": "light"
     },
     "output_type": "display_data"
    }
   ],
   "source": [
    "plot_vectors([eigen_vectors[0], eigen_vectors[1]] , ['blue', 'orange'], ['1st Eigenvector', '2nd Eigenvector'])\n",
    "plt.gca().spines['top'].set_visible(False)\n",
    "plt.gca().spines['right'].set_visible(False)\n",
    "plt.title('1st and 2nd Eigen Vector', fontsize=18)\n",
    "plt.xlabel('X -axis')\n",
    "plt.ylabel('Y-axis')\n",
    "plt.xlim(-0.3, 0.3)\n",
    "_ = plt.ylim(-0.3, 0.1)\n",
    "plt.legend()\n",
    "plt.show()"
   ]
  },
  {
   "cell_type": "code",
   "execution_count": 30,
   "metadata": {
    "execution": {
     "iopub.execute_input": "2024-02-26T09:38:15.686339Z",
     "iopub.status.busy": "2024-02-26T09:38:15.686011Z",
     "iopub.status.idle": "2024-02-26T09:38:16.061755Z",
     "shell.execute_reply": "2024-02-26T09:38:16.060875Z",
     "shell.execute_reply.started": "2024-02-26T09:38:15.686310Z"
    },
    "trusted": true
   },
   "outputs": [
    {
     "data": {
      "image/png": "[encoded data removed]",
      "text/plain": [
       "<Figure size 2200x500 with 1 Axes>"
      ]
     },
     "metadata": {
      "needs_background": "light"
     },
     "output_type": "display_data"
    }
   ],
   "source": [
    "plot_vectors([eigen_vectors[2], eigen_vectors[3]] , ['mediumslateblue', 'green'], ['3rd Eigenvector', '4th Eigenvector'])\n",
    "plt.gca().spines['top'].set_visible(False)\n",
    "plt.gca().spines['right'].set_visible(False)\n",
    "plt.title('3rd and 4th Eigen Vector', fontsize=18)\n",
    "plt.xlabel('X -axis')\n",
    "plt.legend(['3rd Vector', '4th Vector'])\n",
    "plt.ylabel('Y-axis')\n",
    "plt.xlim(-0.1, 0.4)\n",
    "_ = plt.ylim(-0.3, 0.1)\n",
    "plt.legend()\n",
    "plt.show()"
   ]
  },
  {
   "cell_type": "markdown",
   "metadata": {},
   "source": [
    "<center>\n",
    "<div style=\"color:;\n",
    "           display:fill;\n",
    "           border-radius:5px;\n",
    "           background-color: royalblue;\n",
    "           font-size:110%;\n",
    "           letter-spacing:0.5px\">\n",
    "\n",
    "<h3 style=\"padding: 10px;\n",
    "              color:white;\">Transforming the entire data\n",
    "    \n",
    "</h3>\n",
    "</div>"
   ]
  },
  {
   "cell_type": "markdown",
   "metadata": {},
   "source": [
    "We have chosen 5 components since they explain the 90% of the explained variance in our data. The transpose is being done to enable the `matrix multiplication`. The shape of the dataframe and the Principal Components array is different and to be able to multiply the matrices, the length of the rows of one matrix should be equal to the length of the columns of another matrix\n",
    "\n",
    "\n",
    "$$ a \\space @ \\space b = a_{m*n} * b_{n*p}$$\n",
    "\n",
    "where $m$, $n$ and $p$ are dimensions of the matrices $A$ and $B$"
   ]
  },
  {
   "cell_type": "code",
   "execution_count": 31,
   "metadata": {
    "execution": {
     "iopub.execute_input": "2024-02-26T09:38:16.063202Z",
     "iopub.status.busy": "2024-02-26T09:38:16.062873Z",
     "iopub.status.idle": "2024-02-26T09:38:16.067864Z",
     "shell.execute_reply": "2024-02-26T09:38:16.067044Z",
     "shell.execute_reply.started": "2024-02-26T09:38:16.063172Z"
    },
    "trusted": true
   },
   "outputs": [
    {
     "name": "stdout",
     "output_type": "stream",
     "text": [
      "The shape of the Principal Component Matrix is (5, 25)\n"
     ]
    }
   ],
   "source": [
    "pc = eigen_vectors[0:len(explained_variance)]\n",
    "print(f'The shape of the Principal Component Matrix is {pc.shape}')"
   ]
  },
  {
   "cell_type": "code",
   "execution_count": 32,
   "metadata": {
    "execution": {
     "iopub.execute_input": "2024-02-26T09:38:16.069062Z",
     "iopub.status.busy": "2024-02-26T09:38:16.068801Z",
     "iopub.status.idle": "2024-02-26T09:38:16.080761Z",
     "shell.execute_reply": "2024-02-26T09:38:16.079940Z",
     "shell.execute_reply.started": "2024-02-26T09:38:16.069037Z"
    },
    "trusted": true
   },
   "outputs": [
    {
     "name": "stdout",
     "output_type": "stream",
     "text": [
      "The Original PC array\n"
     ]
    },
    {
     "data": {
      "text/plain": [
       "array([ 0.24595212, -0.28506715, -0.05288632,  0.04299417,  0.07429854,\n",
       "        0.04581977,  0.07854236, -0.17635877, -0.03245573,  0.21481119,\n",
       "        0.00737844,  0.01610437,  0.12459388, -0.18581714, -0.24581679,\n",
       "       -0.17792538,  0.03830878,  0.13958935, -0.70693551,  0.1966754 ,\n",
       "       -0.15904637,  0.07589162,  0.07905804,  0.11604536,  0.09432928])"
      ]
     },
     "execution_count": 32,
     "metadata": {},
     "output_type": "execute_result"
    }
   ],
   "source": [
    "print('The Original PC array')\n",
    "pc[0]"
   ]
  },
  {
   "cell_type": "code",
   "execution_count": 33,
   "metadata": {
    "execution": {
     "iopub.execute_input": "2024-02-26T09:38:16.082105Z",
     "iopub.status.busy": "2024-02-26T09:38:16.081779Z",
     "iopub.status.idle": "2024-02-26T09:38:16.092205Z",
     "shell.execute_reply": "2024-02-26T09:38:16.091355Z",
     "shell.execute_reply.started": "2024-02-26T09:38:16.082076Z"
    },
    "trusted": true
   },
   "outputs": [
    {
     "name": "stdout",
     "output_type": "stream",
     "text": [
      "The Transpose of PC array\n"
     ]
    },
    {
     "data": {
      "text/plain": [
       "array([0.24595212, 0.09735703, 0.25557267, 0.21928724, 0.10784383])"
      ]
     },
     "execution_count": 33,
     "metadata": {},
     "output_type": "execute_result"
    }
   ],
   "source": [
    "print('The Transpose of PC array')\n",
    "pc.T[0]"
   ]
  },
  {
   "cell_type": "code",
   "execution_count": 34,
   "metadata": {
    "execution": {
     "iopub.execute_input": "2024-02-26T09:38:16.093692Z",
     "iopub.status.busy": "2024-02-26T09:38:16.093311Z",
     "iopub.status.idle": "2024-02-26T09:38:16.114896Z",
     "shell.execute_reply": "2024-02-26T09:38:16.114070Z",
     "shell.execute_reply.started": "2024-02-26T09:38:16.093653Z"
    },
    "trusted": true
   },
   "outputs": [
    {
     "data": {
      "text/html": [
       "<div>\n",
       "<style scoped>\n",
       "    .dataframe tbody tr th:only-of-type {\n",
       "        vertical-align: middle;\n",
       "    }\n",
       "\n",
       "    .dataframe tbody tr th {\n",
       "        vertical-align: top;\n",
       "    }\n",
       "\n",
       "    .dataframe thead th {\n",
       "        text-align: right;\n",
       "    }\n",
       "</style>\n",
       "<table border=\"1\" class=\"dataframe\">\n",
       "  <thead>\n",
       "    <tr style=\"text-align: right;\">\n",
       "      <th></th>\n",
       "      <th>PC1</th>\n",
       "      <th>PC2</th>\n",
       "      <th>PC3</th>\n",
       "      <th>PC4</th>\n",
       "      <th>PC5</th>\n",
       "      <th>Target</th>\n",
       "    </tr>\n",
       "  </thead>\n",
       "  <tbody>\n",
       "    <tr>\n",
       "      <th>0</th>\n",
       "      <td>0.034773</td>\n",
       "      <td>0.398491</td>\n",
       "      <td>0.686401</td>\n",
       "      <td>-1.055867</td>\n",
       "      <td>-0.138927</td>\n",
       "      <td>0</td>\n",
       "    </tr>\n",
       "    <tr>\n",
       "      <th>1</th>\n",
       "      <td>-0.154531</td>\n",
       "      <td>0.489669</td>\n",
       "      <td>0.468577</td>\n",
       "      <td>-0.786602</td>\n",
       "      <td>0.111376</td>\n",
       "      <td>0</td>\n",
       "    </tr>\n",
       "    <tr>\n",
       "      <th>2</th>\n",
       "      <td>-0.119872</td>\n",
       "      <td>0.437182</td>\n",
       "      <td>0.444838</td>\n",
       "      <td>-1.045942</td>\n",
       "      <td>0.024061</td>\n",
       "      <td>0</td>\n",
       "    </tr>\n",
       "    <tr>\n",
       "      <th>3</th>\n",
       "      <td>0.240011</td>\n",
       "      <td>0.060654</td>\n",
       "      <td>0.452463</td>\n",
       "      <td>-1.322787</td>\n",
       "      <td>-0.231652</td>\n",
       "      <td>0</td>\n",
       "    </tr>\n",
       "    <tr>\n",
       "      <th>4</th>\n",
       "      <td>-0.060162</td>\n",
       "      <td>0.451352</td>\n",
       "      <td>0.439179</td>\n",
       "      <td>-0.755014</td>\n",
       "      <td>0.015844</td>\n",
       "      <td>0</td>\n",
       "    </tr>\n",
       "  </tbody>\n",
       "</table>\n",
       "</div>"
      ],
      "text/plain": [
       "        PC1       PC2       PC3       PC4       PC5  Target\n",
       "0  0.034773  0.398491  0.686401 -1.055867 -0.138927       0\n",
       "1 -0.154531  0.489669  0.468577 -0.786602  0.111376       0\n",
       "2 -0.119872  0.437182  0.444838 -1.045942  0.024061       0\n",
       "3  0.240011  0.060654  0.452463 -1.322787 -0.231652       0\n",
       "4 -0.060162  0.451352  0.439179 -0.755014  0.015844       0"
      ]
     },
     "execution_count": 34,
     "metadata": {},
     "output_type": "execute_result"
    }
   ],
   "source": [
    "transformed_df = np.dot(inputs_df.iloc[:,0:len(inputs_df.columns)],pc.T)\n",
    "new_df = pd.DataFrame(transformed_df,columns=['PC1','PC2','PC3', 'PC4', 'PC5'])\n",
    "new_df['Target'] = df['target'].values\n",
    "new_df.head()"
   ]
  },
  {
   "cell_type": "markdown",
   "metadata": {},
   "source": [
    "From all the **Eigen Vectors** we have thus received after the Linear Transformation, we have selected the one that have the tallest vectors which means the variance on the unit vector will be the highest."
   ]
  },
  {
   "cell_type": "code",
   "execution_count": 35,
   "metadata": {
    "execution": {
     "iopub.execute_input": "2024-02-26T09:38:16.116213Z",
     "iopub.status.busy": "2024-02-26T09:38:16.115909Z",
     "iopub.status.idle": "2024-02-26T09:38:16.124173Z",
     "shell.execute_reply": "2024-02-26T09:38:16.123365Z",
     "shell.execute_reply.started": "2024-02-26T09:38:16.116186Z"
    },
    "trusted": true
   },
   "outputs": [],
   "source": [
    "new_df['Target'] = new_df['Target'].astype('int')"
   ]
  },
  {
   "cell_type": "code",
   "execution_count": 36,
   "metadata": {
    "execution": {
     "iopub.execute_input": "2024-02-26T09:38:16.125558Z",
     "iopub.status.busy": "2024-02-26T09:38:16.125238Z",
     "iopub.status.idle": "2024-02-26T09:38:16.231241Z",
     "shell.execute_reply": "2024-02-26T09:38:16.230300Z",
     "shell.execute_reply.started": "2024-02-26T09:38:16.125530Z"
    },
    "trusted": true
   },
   "outputs": [
    {
     "data": {
      "text/html": [
       "<div>                            <div id=\"b855b0bb-bae3-4be6-8350-dafa470a6f29\" class=\"plotly-graph-div\" style=\"height:525px; width:100%;\"></div>            <script type=\"text/javascript\">                require([\"plotly\"], function(Plotly) {                    window.PLOTLYENV=window.PLOTLYENV || {};                                    if (document.getElementById(\"b855b0bb-bae3-4be6-8350-dafa470a6f29\")) {                    Plotly.newPlot(                        \"b855b0bb-bae3-4be6-8350-dafa470a6f29\",                        [{\"hovertemplate\":\"PC1=%{x}<br>PC2=%{y}<br>Target=%{marker.color}<extra></extra>\",\"legendgroup\":\"\",\"marker\":{\"color\":[0,0,0,0,0,0,0,0,0,0,0,0,0,0,0,0,0,0,0,1,1,1,0,0,0,0,0,0,0,0,0,0,0,0,0,0,0,1,0,0,0,0,0,0,0,0,1,0,1,1,1,1,1,0,0,1,0,0,1,1,1,1,0,1,0,0,1,1,1,1,0,1,0,0,1,0,1,0,0,1,1,1,0,0,1,0,0,0,1,1,1,0,1,1,0,0,1,1,1,0,0,1,1,1,1,0,1,1,0,1,1,1,1,1,1,1,1,0,0,0,1,0,0,1,1,1,0,0,1,0,1,0,0,1,0,0,1,1,0,1,1,0,1,1,1,1,0,1,1,1,1,1,1,1,1,1,0,1,1,1,1,0,0,1,0,1,1,0,0,1,1,0,0,1,1,1,1,0,1,1,0,0,0,1,0,1,0,1,1,1,0,1,1,0,0,1,0,0,0,0,1,0,0,0,1,0,1,0,1,1,0,1,0,0,0,0,1,1,0,0,1,1,1,0,1,1,1,1,1,0,0,1,1,0,1,1,0,0,1,0,1,1,1,1,0,1,1,1,1,1,0,1,0,0,0,0,0,0,0,0,0,0,0,0,0,0,1,1,1,1,1,1,0,1,0,1,1,0,1,1,0,1,0,0,1,1,1,1,1,1,1,1,1,1,1,1,1,0,1,1,0,1,0,1,1,1,1,1,1,1,1,1,1,1,1,1,1,0,1,1,1,0,1,0,1,1,1,1,0,0,0,1,1,1,1,0,1,0,1,0,1,1,1,0,1,1,1,1,1,1,1,0,0,0,1,1,1,1,1,1,1,1,1,1,1,0,0,1,0,0,0,1,0,0,1,1,1,1,1,0,1,1,1,1,1,0,1,1,1,0,1,1,0,0,1,1,1,1,1,1,0,1,1,1,1,1,1,1,0,1,1,1,1,1,0,1,1,0,1,1,1,1,1,1,1,1,1,1,1,1,0,1,0,0,1,0,1,1,1,1,1,0,1,1,0,1,0,1,1,0,1,0,1,1,1,1,1,1,1,1,0,0,1,1,1,1,1,1,0,1,1,1,1,1,1,1,1,1,1,0,1,1,1,1,1,1,1,0,1,0,1,1,0,1,1,1,1,1,0,0,1,0,1,0,1,1,1,1,1,0,1,1,0,1,0,1,0,0,1,1,1,0,1,1,1,1,1,1,1,1,1,1,1,0,1,0,0,1,1,1,1,1,1,1,1,1,1,1,1,1,1,1,1,1,1,1,1,1,1,1,1,1,0,0,0,0,0,0,1],\"coloraxis\":\"coloraxis\",\"symbol\":\"circle\"},\"mode\":\"markers\",\"name\":\"\",\"orientation\":\"v\",\"showlegend\":false,\"x\":[0.03477277525911629,-0.15453051985214852,-0.11987192079564764,0.24001111995665375,-0.06016211311808443,0.13404610560463465,-0.08170682186888559,0.03894285338821115,0.07159912236218689,0.12107190746297243,-0.08915506969581197,-0.03330468085461005,-0.192895281930669,-0.12943759488890302,0.06377639988779987,0.010142088758620554,-0.025929348194985626,0.016455858773323753,-0.2154060110828245,0.04039937677602576,0.052233033401044675,0.0628592697268248,0.03388804309664009,-0.2681507515250728,-0.12530254010568423,-0.01591659588975944,0.02319931097784848,-0.09016313325754764,-0.043629031978445185,-0.03243862249392918,-0.09717656883758358,0.10061925794691333,-0.0437104526222397,-0.13949406148470198,0.005504040972407109,0.01884634555680843,0.015854381687533635,-0.07390395333679527,-0.11437544231492791,0.04036582777168752,-0.05811209697090259,0.10916656410284108,-0.11200331142591373,0.018285226621956068,0.020596895149094834,-0.006215775788899432,0.05554143274535109,0.1020278091240858,0.09661576823273375,-0.05669753092189232,-0.03462153095479249,-0.00522262858305248,-0.006793239955111431,-0.018286520766909575,-0.0414141923082521,0.019902723598854446,-0.13129463660230617,-0.021004102311641647,-0.02850105592918149,0.17445085640769517,0.09408035605357579,0.09579478176020258,0.012327447889427893,0.02193138679711387,0.015034403756101917,-0.016353200086259883,0.06630478874337961,-0.00040366128858304573,0.04284278885434631,0.017849088009681966,-0.18858571938403743,0.0923086433497622,-0.09118208231875854,0.03420712087836712,0.011446079914667057,-0.06997958070282516,0.11547297798249904,-0.03714427211630171,-0.029107994028983498,0.024143421937885677,0.06264062252310557,0.07763515318826907,-0.2247913362645001,-0.10556377384595853,0.07555902392560242,-0.06818030951195357,-0.04599694627724469,-0.1316688370122336,-0.010948118365839733,0.023037074946565133,-0.08197937099352207,-0.10112277780253832,-0.055561335860730754,0.007643080539592448,-0.029706495086950384,-0.1409623417389731,-0.02646543499108223,0.04345578330319283,0.08945484570885827,-0.006870108909370989,-0.07570219594724137,0.1800270023705708,-0.024233967945449773,0.05293194656632571,0.015075379452777685,0.14139054746375407,0.08602877348557812,0.011880234309532715,-0.0771900357272489,0.07076787664725168,0.08514364515070177,-0.055169699083515614,-0.07415264353422668,0.005621351367545629,0.14183934671456086,0.019146573048534014,-0.014770320924390212,0.07763588667488268,0.013756223722718232,-0.05999916432436742,0.12471141206212964,-0.04743066826409996,0.00017311146706696742,0.06919164934384787,-0.035603910746189564,-0.005451542804221036,-0.01911089326631196,-0.13484211511744232,-0.013662149421842584,-0.13242936147433557,0.10807571106702832,-0.023349499002078052,-0.04197186986890474,-0.012331992934712535,-0.08323049874775751,-0.004936363766631555,0.010046052783416234,0.028656666626330228,0.005666859194543868,0.030186439716140306,0.11427840434878064,-0.03955592932912751,0.05789973388304236,0.049555511220459154,0.022327623915594015,0.10271009484823562,0.09040438374019234,-0.03889373213092787,0.009689047430210585,-0.04339937404051499,-0.011582221911671927,0.12091146519990784,-0.09724712568357667,0.07318058508374017,0.08973844277733534,0.016583647685234734,-0.07743127427304095,-0.09622870163943553,0.06845403711781697,0.06675720507968563,0.0321574954753757,-0.1466366083587399,-0.1377243884068108,0.008914523792549978,-0.22905509265858312,-0.05382568734460606,0.11671336459913245,-0.09954774218995195,-0.13317370260640712,-0.020842884538063773,0.05632890473483751,-0.02202266187845905,0.06091197751965739,0.0017584962516476708,0.05654666340150697,0.08343910670926018,0.028246273105853325,-0.025242389048452264,-0.09643632063122227,0.028255998369061265,-0.29909109799863864,-0.17516258186918132,-0.05497600706226926,-0.012374893929131568,-0.03579820146102832,0.12079430344894725,-0.07354468575252485,0.01880085600932234,0.055319758946679634,0.00561039902656148,0.09607192568801826,-0.08713748648114883,-0.029416194830933082,0.013347828277426654,-0.05457597450314962,-0.0012547677413796792,0.03776340685141586,-0.1484483073924521,-0.14460871798426736,0.036421629882671655,-0.0005776428416457469,-0.053349937361012685,-0.17462028826247442,0.07658462039305472,0.03147195089635136,0.03340425343544142,0.07401261360834649,-0.08877806455733774,0.020729420137574756,0.005918437034364428,-0.18942921433591225,0.014509546401255131,-0.03864371151266875,-0.20805792914018276,0.019332950566776835,0.05312872524708666,0.020316302949080253,-0.011831813248659657,-0.16905727029692802,-0.3414378133566165,0.05413632406854522,0.06692028421482876,0.07551200871385379,0.012818720236474916,0.007130133949335322,0.012968847042185646,0.07718454803613649,-0.005341631232890897,-0.03367441039015471,0.06719114610966836,0.003065201766105148,-0.09948333449239798,-0.1360861516625804,-0.21662777400222707,0.07297309731165812,-0.03144197940338981,-0.3160483595256315,-0.16609951266620682,-0.12041700257052769,-0.26178214750576356,0.007347828515664883,0.015655515955538934,0.09409568257009139,-0.09746387147002143,-0.08414038530354885,0.05768578669102263,0.004731552830203024,0.05642361725549162,0.021590388705808813,0.06220962615534808,-0.20051017602833046,0.0020781595349381172,-0.0667422223031338,-0.025679801409232417,-0.12023074911379794,0.03439180341954653,-0.2289003249818952,0.07964569019815916,-0.04543520786102901,-0.050307106273176784,-0.15851863227408164,-0.1009199836248082,-0.1215376598066916,-0.06047087698127087,-0.0660893268163135,-0.43269515823732885,0.016882435406832458,-0.06767215401274963,0.05724798445958769,0.008746382430197092,-0.05088685960062045,0.07584270043209992,-0.1855194808977799,0.06969603403379752,-0.10821364464326057,-0.0065614085977281356,0.0670726408145723,-0.10351183732388665,-0.0340686984582784,0.012157114849282447,-0.09193442696898238,-0.015569065967590973,-0.06409772769157675,-0.012825622498709967,-0.05356260055569745,-0.008786690872409821,-0.03259771135510051,0.002478434339014215,-0.12069597944659258,-0.004571498244210921,-0.05802941943725779,-0.014533591026767363,0.08342437042264472,0.03351601803209349,0.04718925133724708,0.03811617773045974,0.0027499754245062596,-0.025259105403397396,-0.05927819636168514,-0.0591817990188607,-0.09945625860354541,-0.04675779965036424,-0.11775346850576691,0.03859354233223166,0.010072287588029777,-0.0649649087242809,0.026254334779903847,0.03449124565715683,-0.00798345476006674,0.008305228342537408,0.01700318650048489,-0.040631111046311695,0.03467273535225705,0.07836328713546115,0.11024073274250762,-0.002349697869862698,-0.0001652730975057468,-0.07882121270970062,0.013193320454146758,-0.06758443582462259,0.06552327115683892,-0.16052743033556147,0.10168954129441046,-0.06854448819725316,0.043571364350578935,0.04302504611875996,0.03276317377779501,-0.017271633271188292,-0.01791570482273577,-0.01050808366421823,0.0018290823498197518,0.03236938928675975,0.06368263609868077,0.04569474140565623,-0.00009267186162520378,-0.07136417105833297,0.04181568535573003,-0.12429903492052881,0.06474100517201282,-0.2867819766677197,0.011404055392067902,0.04764079745204213,0.08924382011892645,-0.09780773928932554,0.06700537560354157,0.08329707262181811,0.026575633133714683,0.01686193104191279,0.08493302825727372,0.06642786549950339,-0.01659913913984699,0.04152696893366178,-0.24660528868001944,-0.04844419440656804,-0.02022173072402288,-0.06145850847984448,0.0032022072168303647,0.007406675485604637,-0.002033858869149037,0.04951167678433962,-0.040235568390398185,-0.03612278103084309,0.01116119640135349,-0.03304690888412746,0.007318349997026796,-0.16151076912728587,-0.20257661341413655,0.03841409090385289,-0.28253417590274,-0.18379105463196965,-0.03159848467615411,-0.013148401638255256,-0.07320430236234386,-0.0949721350694434,0.009694377838300478,0.0015307720094556122,-0.05977553834170223,-0.10168580283311454,0.055114731115222866,0.19080581387709772,0.13292294317725598,0.026495746417235774,-0.09754135664994654,0.060412472355952526,0.026068288642713218,-0.06465480732685416,0.025404902669058173,-0.057407498504787935,-0.0058987481932357075,-0.18432836648115494,0.09457245751312442,0.1308919560036305,-0.016776631522727386,-0.14077352624221173,0.04975194163256746,-0.04110465453023867,0.00610413087813363,-0.0602506010024605,0.040843528483888315,0.0383308739325818,0.06024270332884777,0.08778341510312639,-0.040594874301555624,0.03907823665511806,-0.008594990790508572,0.029096170372436295,-0.002863254536687937,-0.06506360328824226,-0.07565633037082732,0.013362267705429162,0.0713813363603203,0.06311074459877394,-0.007788307002429152,-0.0666997205954677,-0.13157222802653626,0.025217576329474894,0.05591846469223165,-0.0879924980201183,0.08258013123734533,0.020421471238215062,0.01682632468460437,0.05053828040526698,0.04771921054719796,-0.0307048135104826,0.06560417735688902,-0.01370777817245105,0.07349445548692277,-0.0074277051716121,-0.007000087310346082,-0.026975145977479197,-0.028537539317722505,0.054608077056841994,-0.05237740187889397,-0.11386140144018056,-0.004866965592678246,0.04449460560266195,0.01566454855481185,0.0037278599764824128,-0.03507195802279127,-0.04294848796931598,0.037524179108430734,-0.11603153232031911,-0.008616130588891569,-0.05058260416941785,-0.043889427985002887,-0.05967434477972013,-0.12446845564783808,0.011073637469468347,-0.04312991295552816,-0.1789464367916386,-0.06637304536190607,-0.1257156200728739,-0.07927094283344963,0.030687569179428505,0.0166588057244833,-0.12569818369497107,-0.046769957498387076,-0.05413590157214862,-0.07260616780469578,-0.08727398627284261,-0.12052127353932586,-0.41870585953442685,-0.1256448270983048,0.044071038858815394,-0.023538526444491052,0.004212378914061329,-0.01284426327188109,0.0700433309097581,-0.1161250771820939,0.07636425902145126,0.028343964082987293,-0.11275648662277318,-0.026155625402915928,-0.09521707242918456,0.07835430241950618,0.03701982445246626,-0.05467079264595663,-0.03811759712528284,0.09321426069879217,-0.03450062323107348,0.021854071589068116,-0.049677259844639304,0.0705095771368263,-0.006972422349499857,0.07647683050131551,-0.007764204521969804,-0.019408203496826176,-0.0647939639118124,0.07663514643968787,-0.049130582842334077,-0.008922110889920684,-0.06163102968096036,-0.09054064445002595,0.0034034235288587034,-0.026116931375887713,-0.052602245205800126,0.06333760722291414,0.02575069068463389,-0.08086814273132215,-0.10124122143173299,-0.03123410232639745,0.04581045325928315,0.0829508498587437,-0.2671109019027421,0.19723655395496775,0.19931597836839365,0.038182970669055884,0.09917264542815121,-0.024758197408226025,0.015282505547744525,0.01605625055413739,-0.016965360171886056,0.03788067000652472,0.020241936457276285,-0.04604036693160615,0.04356740519935563,-0.06871060047218497,-0.10369245298946302,0.032750030639745194,0.07052571566019027,0.16990838205077227,-0.21600128420801815,-0.004328994083351918,0.024082776862507795,0.0808295536010296,0.15753069588784593,0.07939050331916395,0.07688615128943661,-0.003307038698751303,0.10056861785481735,0.027875178543983498,0.06622189542222415,0.020083898965785208,-0.15239429967356108,0.03324956746704987,-0.14919203929100788,-0.01863354004916795,0.030357880073978775,0.023654260434326908,0.01922734855114359,0.047286246116255364,-0.03080562038449551,-0.11987623400296052,-0.12217530010426214,-0.020002712092125393,-0.05378804472578244,0.048565293390753744,0.06735707426850722,-0.0007941504362388147,-0.020005373365489035,-0.01642811693789445,-0.022204520536298053,-0.10734583881798564,-0.047874460935686904,-0.09441697202784789,-0.07478008348177505,0.016489671844641444,-0.03220470239156335,-0.09295118068068235,-0.03177030940692969,-0.1026236185011514,-0.10522835028685817,-0.044435410756745466,-0.15327833531546478,-0.19017403214580814,-0.22822632921113747,-0.1706891418175122,-0.11365498857001918,-0.05666655989289936],\"xaxis\":\"x\",\"y\":[0.39849133734760434,0.4896692046614347,0.4371816258470055,0.06065436122393093,0.4513515622720151,0.08206006833067328,0.3674137189344808,0.16726180321543785,0.09191012207837862,0.07511970227692849,0.27278642333834957,0.31531165062205196,0.5574609948553537,0.31026474332168597,0.17881199089871394,0.1508518545746952,0.22971611380213255,0.24230962971263176,0.46438201021562053,0.19671934515011028,0.12483980953022805,0.046777731443070625,0.30887506194583986,0.4839247444519028,0.31827397958902215,0.3691929645369679,0.21123239526088497,0.40092724618338094,0.22327815520367536,0.3482546463415714,0.31977060751093034,0.09976093938827965,0.23000951261866603,0.3931175643442355,0.2649554619613329,0.3034858808637983,0.17982826484164768,0.15959873824408558,0.2550774235231293,0.1765376195196891,0.18726223558706917,0.0006076549384726719,0.5197379100450741,0.15616957615059718,0.13825410911984584,0.3916378317177737,-0.02815062037319732,0.1223690355677723,0.08885936839577849,0.18817235355420603,0.10831400972728222,0.2166748198989928,0.13120689671761818,0.2958638833552222,0.2431314238699206,0.08824851332503096,0.43105656174777823,0.18879556110978188,0.16699213421671696,-0.033352820328302786,0.006476179306519048,-0.08276610649307807,0.25411344056655,0.0923105307333432,0.1237146419789403,0.1607156035345371,-0.01875565989011488,0.10391517454078776,-0.11149236961480126,0.12442731799890663,0.436347625967053,0.10589000580734846,0.3316715491017061,0.1949312035936593,0.14301482688675277,0.333317265828033,0.11925955113834573,0.4215184368665297,0.40586036172965084,0.13206570491653624,0.030884384699698827,0.16435190848487322,0.6313090632247796,0.3781759594399434,0.10853452504877738,0.3765372100320668,0.2343318064559967,0.3847684435951701,0.1511971502308921,0.22630093386758565,0.21341074485016284,0.25414684144091854,0.2525613432520734,0.15735337051113363,0.27621778824338894,0.43306980016923974,0.13483393832101276,-0.002431907080240134,0.10804530957328787,0.22198185344634092,0.1671819914996961,-0.16161851660238616,0.12212347210123525,0.019724028498301654,0.0347382524849388,0.07373881945992662,0.08384136303034298,0.12385775246856692,0.5355589605573053,0.07700671580623326,0.031447777678260305,0.18595200581681182,0.25621595429865945,0.0408695702389202,-0.04755394094122475,0.10463446949656362,0.07670842592759601,0.21190370755496574,0.22955052009953508,0.33291866449680496,0.10626191369994464,0.3801941306670026,0.4591147139552501,0.1924590911100968,0.21896931334201572,0.18438730451528762,0.1606241506076634,0.431112043127907,0.2773678025898458,0.3554319143979079,0.12101407199888611,0.22515406055400916,0.2602382119742933,0.28774231507246123,0.3441465560067068,0.12688285580982742,0.10292012748442605,0.09539848441826296,0.2783857462318457,0.13273578188514115,0.0030332422253804736,0.28520603002214545,0.07527617545841817,0.16929607931254928,0.09913143228211888,0.11565942815822396,0.12408334886847017,0.2914614690953159,0.23865761826927406,0.20625398577382317,0.11005188751844545,-0.06576527806417547,-0.08232788208807072,0.08531507857986477,0.16891661926384585,0.13029242149794443,0.3449633438421348,0.34832968088035715,0.12287169453261786,0.10770987197257244,0.0632762713153619,0.5167642346706944,0.4090095286509518,0.11790657105586642,0.591130103584425,0.22684339752252988,0.07289549200679081,0.3595045898709166,0.34523509375823447,0.22400154524338442,0.14307875161656472,0.19644359015908044,0.20919784504694203,0.12338973951337337,0.0490149036418155,-0.04118948531705041,0.09548286691880085,0.30805876101918056,0.16750638564433923,0.16995705023416202,0.6359582661668368,0.4470081114803556,0.27099144231172084,0.1470474793715834,0.22141097866344708,0.034333557259045244,0.35811313881121676,0.1098257093929926,0.06590717801480406,0.15767648838059672,0.21677889340707224,0.20003633713662114,0.03338438263341604,0.12267460792558471,0.24588318092339234,0.17672791414022548,0.18355731125012853,0.40482484529416074,0.44573228921610025,0.19471600064105543,0.13620961224456468,0.36640798389494267,0.5140836211185801,0.12058562450848269,0.13331292599442113,0.260784863334428,-0.005505949388701655,0.32786044315054375,0.12542683825517414,0.28382234706705056,0.5318267106116011,0.10852505564176923,0.6295003365018157,0.4067575379490245,0.2242152464674436,0.19721765304058786,0.14800752268416612,0.06552740149028763,0.47532361091601777,0.4466533309415813,0.18435021827109965,0.1615790328916377,0.014654890454763958,0.23783032649867708,0.18434486023685442,0.23452712272817997,0.021801730300620506,0.2790101834401888,0.15419016997119978,0.1399180807723489,0.2817210336135203,0.07986106862524715,0.037847871637903846,0.4163081415628447,0.05209970888681035,0.2042294073640615,0.5739057284081216,0.4990149525326838,0.19153310936761894,0.2995770713870438,0.1935414616170449,0.13752794827088918,0.08873977685020257,0.2020172571280596,0.39901100427837194,0.026156711974843684,0.1689154272402637,0.19936382633771366,0.016845020460882192,0.08867976005399987,0.4306639279871742,0.10460364962070597,0.46104404488465556,0.3159785991591535,0.41694557415270955,0.19780840657606635,0.4489670930051698,0.2241907471649344,0.3403075325750596,0.17637115051958469,0.3747261045151786,0.3136127155607674,0.4196598676367832,0.25871299954041993,0.31259516533257237,0.47337111428098666,0.09795640203595804,0.19448917711575553,0.13465899023764824,0.05620773358727986,0.23531837603213066,0.09313186808944734,0.5458157294642406,0.047480856529219385,0.3233868182502543,0.09825815599103661,0.08050615732702143,0.38418204955991725,0.18850936682416367,0.19922289052377912,0.36238327066283044,0.21475878516073488,0.41351321213993464,0.26903111158763926,0.2157556494381503,0.131864369161344,0.18374930472486423,0.20231756514335522,0.2697904749513671,0.10576820298248918,0.347260809343641,0.252517715145895,0.15020535827014322,0.1322012574918695,0.1524107796590236,0.193156440846017,0.11757024329419102,0.12726047983172892,0.2542497065242279,0.04364111572421668,0.4141996885862593,0.16645407913408491,0.40213481744943086,0.01737123690352375,0.11746632518004613,0.11794132530617586,0.15682757330173386,0.026036563931247425,0.21133675509510894,0.18137773734226215,0.10188127922564141,0.25251395960150996,0.1885052002826358,0.12078306300768696,-0.09100074251453906,0.13115536165929476,0.14653427588000692,0.3557228825470018,0.05221064344344122,0.1895725490637279,0.0693164843710997,0.45571650277451214,0.12990531632668628,0.3843910149465768,0.13395289881579947,0.10824564985034406,0.2070598029632712,0.13481899662375352,0.24102334749623108,0.20955258275258243,0.3191675457434223,0.1475407879816903,0.03948243418061875,0.09602740963629908,0.13193839877754981,0.28815692350755057,0.14000307038527612,0.4575856733798806,0.018588581301145025,0.5292860277701994,0.23394379097550652,0.03193316969029407,0.06364041542220152,0.425346130860372,0.07797532245224177,0.09992762893867327,0.12471133450533668,0.26467730884570306,0.08626081687246719,0.10453751388559844,0.1400741237247709,0.23120420002599762,0.6444235536749691,0.2289557689122819,0.17585118554905274,0.1981942140875751,0.1651998142301999,0.1881844984736818,0.06888671789969447,-0.013896105895992099,0.16069935903684318,0.15547007715322822,0.1469623273023744,0.284318944131549,0.18517812393184183,0.47044559805352004,0.4695102472390747,0.1251525419974084,0.5488390204448834,0.4981773675907093,0.2921642714195562,0.2862471096383871,0.4496559205414439,0.4777130847630291,0.20007022302354355,0.2737622269153511,0.09815363939841269,0.16505720049978498,0.21516016362022777,0.047568620658866655,0.04677099805876809,0.11057419905645281,0.21462104604272503,0.11263196231114013,0.19490088691156154,0.23239408523500388,0.16741787287844737,0.23898515879582605,0.16338071576576924,0.4745987112375645,0.05217505825551148,-0.05690801562918772,0.2555902525812292,0.42533147525200476,0.08753367082727669,0.21928111164856376,0.1576674784084902,0.1993618785458924,0.10242546290837654,0.0987449667572139,0.2704078489258518,0.13549191312279457,0.21815838912528634,0.12979052772497088,0.16106020812439997,0.08641015391498941,0.27261886646129263,0.20769500702524132,0.35502579271676177,0.15810592596873332,0.07900940516447766,0.041510031926888215,-0.0001634032202190985,0.24944900415904436,0.21532835140725742,0.11571493779261761,-0.01718265786580393,0.33425836613223847,0.16796111033085967,0.04344413644321176,0.09240199104407743,0.2645132945112703,0.09426733664246405,0.20326625545597865,0.019493858888442458,0.026721913156438785,0.07439954107167679,0.08089620500840185,0.09173256225122195,0.1687595813708645,0.28784862714851683,0.10595510474058986,0.3907446674523044,0.39743208418441517,0.2388158435473914,0.16735011878205241,0.144816848343241,0.21892782402190164,0.19293397225132203,0.24218710228759252,0.13741535142197325,0.38032840232786963,0.2016503336769518,0.0864453902529209,0.34971058022603363,0.11540101326073594,0.30278381208392996,0.2159428439550846,0.23038235236501156,0.46836380135233413,0.2007017329199948,0.3537496600702909,0.10132146816917388,0.18909832481272765,0.15161213092648063,0.13514430130596458,0.05573055598846326,0.12540167042040049,0.14307066825701845,0.007171178073981571,0.3330612728887219,0.7770457993281179,0.21480942109100848,0.10994332710042565,0.20934144627197185,0.22529382329789388,0.19392880983239416,0.024893827593619446,0.4324663246752987,0.09045122176577988,0.033718215893534305,0.123434462073636,0.27185895171657865,0.07993126444196123,0.06475480196367374,0.1485125123327353,0.25632084427966695,0.23130313735092126,0.05501364055690988,0.31142377956182343,0.11207870884720315,0.20771582475033573,0.14716569692257006,0.1625330540881429,0.25076678912750405,0.22314839683236332,0.22414663682382302,0.36963878263160166,0.08617445116212138,0.31110276497432565,0.11935942653673559,0.3742978811620655,0.36703168750687104,0.19023114114910014,0.18576991231533058,0.21619749962660456,0.12000513416879752,0.14495462904245685,0.38652127225508565,0.4261304509010403,0.22523779837447172,0.16459564747379204,0.09915448319127941,0.6544481507523754,-0.0414707622191688,-0.025124974470989513,0.07872289156710484,0.03905493838803302,0.3004663656348012,0.2397850518079791,0.1902192961752318,0.26302755503480807,0.1450891087386502,0.21503362526114042,0.23222238040293192,0.0780147901455889,0.32261865964371705,0.39854877109672515,0.11980084123768783,0.10640005460044882,-0.02158580357423051,0.6013101167092575,0.06990639066899222,0.1976629717563609,0.034894271052803794,-0.03357063971427505,0.13768583915073596,0.1376384390459936,0.23607408210335848,0.09066955293276559,0.10489059398551501,0.0601139008546354,0.17778440024185396,0.46040931222818976,0.08426466997774075,0.4243682239723413,0.16310674908954678,0.08361570688790469,-0.09477572945192375,-0.06606452479672226,0.11816649506012272,0.2412149279588342,0.2406840449603802,0.13977560679375525,0.1726051448044273,0.1723105954083893,0.03233592774363051,0.07900083908330359,0.03555859088335022,0.07582212918393202,0.0647580178324611,0.06759638446985888,0.13886009967851462,0.002749907627050664,0.1163415720401226,0.049885620111946465,0.03694415979410192,-0.02772650639852857,0.2537416749294072,0.06797340493396409,0.20317925817023827,0.04866979384475909,0.20157309351322847,0.47879852277396423,0.4998263622822765,0.40955901870412603,0.32139066608504974,0.4092631070199357,-0.026934412049333462],\"yaxis\":\"y\",\"type\":\"scatter\"}],                        {\"template\":{\"data\":{\"barpolar\":[{\"marker\":{\"line\":{\"color\":\"white\",\"width\":0.5},\"pattern\":{\"fillmode\":\"overlay\",\"size\":10,\"solidity\":0.2}},\"type\":\"barpolar\"}],\"bar\":[{\"error_x\":{\"color\":\"rgb(36,36,36)\"},\"error_y\":{\"color\":\"rgb(36,36,36)\"},\"marker\":{\"line\":{\"color\":\"white\",\"width\":0.5},\"pattern\":{\"fillmode\":\"overlay\",\"size\":10,\"solidity\":0.2}},\"type\":\"bar\"}],\"carpet\":[{\"aaxis\":{\"endlinecolor\":\"rgb(36,36,36)\",\"gridcolor\":\"white\",\"linecolor\":\"white\",\"minorgridcolor\":\"white\",\"startlinecolor\":\"rgb(36,36,36)\"},\"baxis\":{\"endlinecolor\":\"rgb(36,36,36)\",\"gridcolor\":\"white\",\"linecolor\":\"white\",\"minorgridcolor\":\"white\",\"startlinecolor\":\"rgb(36,36,36)\"},\"type\":\"carpet\"}],\"choropleth\":[{\"colorbar\":{\"outlinewidth\":1,\"tickcolor\":\"rgb(36,36,36)\",\"ticks\":\"outside\"},\"type\":\"choropleth\"}],\"contourcarpet\":[{\"colorbar\":{\"outlinewidth\":1,\"tickcolor\":\"rgb(36,36,36)\",\"ticks\":\"outside\"},\"type\":\"contourcarpet\"}],\"contour\":[{\"colorbar\":{\"outlinewidth\":1,\"tickcolor\":\"rgb(36,36,36)\",\"ticks\":\"outside\"},\"colorscale\":[[0.0,\"#440154\"],[0.1111111111111111,\"#482878\"],[0.2222222222222222,\"#3e4989\"],[0.3333333333333333,\"#31688e\"],[0.4444444444444444,\"#26828e\"],[0.5555555555555556,\"#1f9e89\"],[0.6666666666666666,\"#35b779\"],[0.7777777777777778,\"#6ece58\"],[0.8888888888888888,\"#b5de2b\"],[1.0,\"#fde725\"]],\"type\":\"contour\"}],\"heatmapgl\":[{\"colorbar\":{\"outlinewidth\":1,\"tickcolor\":\"rgb(36,36,36)\",\"ticks\":\"outside\"},\"colorscale\":[[0.0,\"#440154\"],[0.1111111111111111,\"#482878\"],[0.2222222222222222,\"#3e4989\"],[0.3333333333333333,\"#31688e\"],[0.4444444444444444,\"#26828e\"],[0.5555555555555556,\"#1f9e89\"],[0.6666666666666666,\"#35b779\"],[0.7777777777777778,\"#6ece58\"],[0.8888888888888888,\"#b5de2b\"],[1.0,\"#fde725\"]],\"type\":\"heatmapgl\"}],\"heatmap\":[{\"colorbar\":{\"outlinewidth\":1,\"tickcolor\":\"rgb(36,36,36)\",\"ticks\":\"outside\"},\"colorscale\":[[0.0,\"#440154\"],[0.1111111111111111,\"#482878\"],[0.2222222222222222,\"#3e4989\"],[0.3333333333333333,\"#31688e\"],[0.4444444444444444,\"#26828e\"],[0.5555555555555556,\"#1f9e89\"],[0.6666666666666666,\"#35b779\"],[0.7777777777777778,\"#6ece58\"],[0.8888888888888888,\"#b5de2b\"],[1.0,\"#fde725\"]],\"type\":\"heatmap\"}],\"histogram2dcontour\":[{\"colorbar\":{\"outlinewidth\":1,\"tickcolor\":\"rgb(36,36,36)\",\"ticks\":\"outside\"},\"colorscale\":[[0.0,\"#440154\"],[0.1111111111111111,\"#482878\"],[0.2222222222222222,\"#3e4989\"],[0.3333333333333333,\"#31688e\"],[0.4444444444444444,\"#26828e\"],[0.5555555555555556,\"#1f9e89\"],[0.6666666666666666,\"#35b779\"],[0.7777777777777778,\"#6ece58\"],[0.8888888888888888,\"#b5de2b\"],[1.0,\"#fde725\"]],\"type\":\"histogram2dcontour\"}],\"histogram2d\":[{\"colorbar\":{\"outlinewidth\":1,\"tickcolor\":\"rgb(36,36,36)\",\"ticks\":\"outside\"},\"colorscale\":[[0.0,\"#440154\"],[0.1111111111111111,\"#482878\"],[0.2222222222222222,\"#3e4989\"],[0.3333333333333333,\"#31688e\"],[0.4444444444444444,\"#26828e\"],[0.5555555555555556,\"#1f9e89\"],[0.6666666666666666,\"#35b779\"],[0.7777777777777778,\"#6ece58\"],[0.8888888888888888,\"#b5de2b\"],[1.0,\"#fde725\"]],\"type\":\"histogram2d\"}],\"histogram\":[{\"marker\":{\"line\":{\"color\":\"white\",\"width\":0.6}},\"type\":\"histogram\"}],\"mesh3d\":[{\"colorbar\":{\"outlinewidth\":1,\"tickcolor\":\"rgb(36,36,36)\",\"ticks\":\"outside\"},\"type\":\"mesh3d\"}],\"parcoords\":[{\"line\":{\"colorbar\":{\"outlinewidth\":1,\"tickcolor\":\"rgb(36,36,36)\",\"ticks\":\"outside\"}},\"type\":\"parcoords\"}],\"pie\":[{\"automargin\":true,\"type\":\"pie\"}],\"scatter3d\":[{\"line\":{\"colorbar\":{\"outlinewidth\":1,\"tickcolor\":\"rgb(36,36,36)\",\"ticks\":\"outside\"}},\"marker\":{\"colorbar\":{\"outlinewidth\":1,\"tickcolor\":\"rgb(36,36,36)\",\"ticks\":\"outside\"}},\"type\":\"scatter3d\"}],\"scattercarpet\":[{\"marker\":{\"colorbar\":{\"outlinewidth\":1,\"tickcolor\":\"rgb(36,36,36)\",\"ticks\":\"outside\"}},\"type\":\"scattercarpet\"}],\"scattergeo\":[{\"marker\":{\"colorbar\":{\"outlinewidth\":1,\"tickcolor\":\"rgb(36,36,36)\",\"ticks\":\"outside\"}},\"type\":\"scattergeo\"}],\"scattergl\":[{\"marker\":{\"colorbar\":{\"outlinewidth\":1,\"tickcolor\":\"rgb(36,36,36)\",\"ticks\":\"outside\"}},\"type\":\"scattergl\"}],\"scattermapbox\":[{\"marker\":{\"colorbar\":{\"outlinewidth\":1,\"tickcolor\":\"rgb(36,36,36)\",\"ticks\":\"outside\"}},\"type\":\"scattermapbox\"}],\"scatterpolargl\":[{\"marker\":{\"colorbar\":{\"outlinewidth\":1,\"tickcolor\":\"rgb(36,36,36)\",\"ticks\":\"outside\"}},\"type\":\"scatterpolargl\"}],\"scatterpolar\":[{\"marker\":{\"colorbar\":{\"outlinewidth\":1,\"tickcolor\":\"rgb(36,36,36)\",\"ticks\":\"outside\"}},\"type\":\"scatterpolar\"}],\"scatter\":[{\"fillpattern\":{\"fillmode\":\"overlay\",\"size\":10,\"solidity\":0.2},\"type\":\"scatter\"}],\"scatterternary\":[{\"marker\":{\"colorbar\":{\"outlinewidth\":1,\"tickcolor\":\"rgb(36,36,36)\",\"ticks\":\"outside\"}},\"type\":\"scatterternary\"}],\"surface\":[{\"colorbar\":{\"outlinewidth\":1,\"tickcolor\":\"rgb(36,36,36)\",\"ticks\":\"outside\"},\"colorscale\":[[0.0,\"#440154\"],[0.1111111111111111,\"#482878\"],[0.2222222222222222,\"#3e4989\"],[0.3333333333333333,\"#31688e\"],[0.4444444444444444,\"#26828e\"],[0.5555555555555556,\"#1f9e89\"],[0.6666666666666666,\"#35b779\"],[0.7777777777777778,\"#6ece58\"],[0.8888888888888888,\"#b5de2b\"],[1.0,\"#fde725\"]],\"type\":\"surface\"}],\"table\":[{\"cells\":{\"fill\":{\"color\":\"rgb(237,237,237)\"},\"line\":{\"color\":\"white\"}},\"header\":{\"fill\":{\"color\":\"rgb(217,217,217)\"},\"line\":{\"color\":\"white\"}},\"type\":\"table\"}]},\"layout\":{\"annotationdefaults\":{\"arrowhead\":0,\"arrowwidth\":1},\"autotypenumbers\":\"strict\",\"coloraxis\":{\"colorbar\":{\"outlinewidth\":1,\"tickcolor\":\"rgb(36,36,36)\",\"ticks\":\"outside\"}},\"colorscale\":{\"diverging\":[[0.0,\"rgb(103,0,31)\"],[0.1,\"rgb(178,24,43)\"],[0.2,\"rgb(214,96,77)\"],[0.3,\"rgb(244,165,130)\"],[0.4,\"rgb(253,219,199)\"],[0.5,\"rgb(247,247,247)\"],[0.6,\"rgb(209,229,240)\"],[0.7,\"rgb(146,197,222)\"],[0.8,\"rgb(67,147,195)\"],[0.9,\"rgb(33,102,172)\"],[1.0,\"rgb(5,48,97)\"]],\"sequential\":[[0.0,\"#440154\"],[0.1111111111111111,\"#482878\"],[0.2222222222222222,\"#3e4989\"],[0.3333333333333333,\"#31688e\"],[0.4444444444444444,\"#26828e\"],[0.5555555555555556,\"#1f9e89\"],[0.6666666666666666,\"#35b779\"],[0.7777777777777778,\"#6ece58\"],[0.8888888888888888,\"#b5de2b\"],[1.0,\"#fde725\"]],\"sequentialminus\":[[0.0,\"#440154\"],[0.1111111111111111,\"#482878\"],[0.2222222222222222,\"#3e4989\"],[0.3333333333333333,\"#31688e\"],[0.4444444444444444,\"#26828e\"],[0.5555555555555556,\"#1f9e89\"],[0.6666666666666666,\"#35b779\"],[0.7777777777777778,\"#6ece58\"],[0.8888888888888888,\"#b5de2b\"],[1.0,\"#fde725\"]]},\"colorway\":[\"#1F77B4\",\"#FF7F0E\",\"#2CA02C\",\"#D62728\",\"#9467BD\",\"#8C564B\",\"#E377C2\",\"#7F7F7F\",\"#BCBD22\",\"#17BECF\"],\"font\":{\"color\":\"rgb(36,36,36)\"},\"geo\":{\"bgcolor\":\"white\",\"lakecolor\":\"white\",\"landcolor\":\"white\",\"showlakes\":true,\"showland\":true,\"subunitcolor\":\"white\"},\"hoverlabel\":{\"align\":\"left\"},\"hovermode\":\"closest\",\"mapbox\":{\"style\":\"light\"},\"paper_bgcolor\":\"white\",\"plot_bgcolor\":\"white\",\"polar\":{\"angularaxis\":{\"gridcolor\":\"rgb(232,232,232)\",\"linecolor\":\"rgb(36,36,36)\",\"showgrid\":false,\"showline\":true,\"ticks\":\"outside\"},\"bgcolor\":\"white\",\"radialaxis\":{\"gridcolor\":\"rgb(232,232,232)\",\"linecolor\":\"rgb(36,36,36)\",\"showgrid\":false,\"showline\":true,\"ticks\":\"outside\"}},\"scene\":{\"xaxis\":{\"backgroundcolor\":\"white\",\"gridcolor\":\"rgb(232,232,232)\",\"gridwidth\":2,\"linecolor\":\"rgb(36,36,36)\",\"showbackground\":true,\"showgrid\":false,\"showline\":true,\"ticks\":\"outside\",\"zeroline\":false,\"zerolinecolor\":\"rgb(36,36,36)\"},\"yaxis\":{\"backgroundcolor\":\"white\",\"gridcolor\":\"rgb(232,232,232)\",\"gridwidth\":2,\"linecolor\":\"rgb(36,36,36)\",\"showbackground\":true,\"showgrid\":false,\"showline\":true,\"ticks\":\"outside\",\"zeroline\":false,\"zerolinecolor\":\"rgb(36,36,36)\"},\"zaxis\":{\"backgroundcolor\":\"white\",\"gridcolor\":\"rgb(232,232,232)\",\"gridwidth\":2,\"linecolor\":\"rgb(36,36,36)\",\"showbackground\":true,\"showgrid\":false,\"showline\":true,\"ticks\":\"outside\",\"zeroline\":false,\"zerolinecolor\":\"rgb(36,36,36)\"}},\"shapedefaults\":{\"fillcolor\":\"black\",\"line\":{\"width\":0},\"opacity\":0.3},\"ternary\":{\"aaxis\":{\"gridcolor\":\"rgb(232,232,232)\",\"linecolor\":\"rgb(36,36,36)\",\"showgrid\":false,\"showline\":true,\"ticks\":\"outside\"},\"baxis\":{\"gridcolor\":\"rgb(232,232,232)\",\"linecolor\":\"rgb(36,36,36)\",\"showgrid\":false,\"showline\":true,\"ticks\":\"outside\"},\"bgcolor\":\"white\",\"caxis\":{\"gridcolor\":\"rgb(232,232,232)\",\"linecolor\":\"rgb(36,36,36)\",\"showgrid\":false,\"showline\":true,\"ticks\":\"outside\"}},\"title\":{\"x\":0.05},\"xaxis\":{\"automargin\":true,\"gridcolor\":\"rgb(232,232,232)\",\"linecolor\":\"rgb(36,36,36)\",\"showgrid\":false,\"showline\":true,\"ticks\":\"outside\",\"title\":{\"standoff\":15},\"zeroline\":false,\"zerolinecolor\":\"rgb(36,36,36)\"},\"yaxis\":{\"automargin\":true,\"gridcolor\":\"rgb(232,232,232)\",\"linecolor\":\"rgb(36,36,36)\",\"showgrid\":false,\"showline\":true,\"ticks\":\"outside\",\"title\":{\"standoff\":15},\"zeroline\":false,\"zerolinecolor\":\"rgb(36,36,36)\"}}},\"xaxis\":{\"anchor\":\"y\",\"domain\":[0.0,1.0],\"title\":{\"text\":\"PC1\"},\"showgrid\":false,\"zeroline\":true,\"zerolinewidth\":3,\"zerolinecolor\":\"lightgray\"},\"yaxis\":{\"anchor\":\"x\",\"domain\":[0.0,1.0],\"title\":{\"text\":\"PC2\"},\"showgrid\":false,\"zeroline\":true,\"zerolinewidth\":3,\"zerolinecolor\":\"lightgray\"},\"coloraxis\":{\"colorbar\":{\"title\":{\"text\":\"Target\"}},\"colorscale\":[[0.0,\"#440154\"],[0.1111111111111111,\"#482878\"],[0.2222222222222222,\"#3e4989\"],[0.3333333333333333,\"#31688e\"],[0.4444444444444444,\"#26828e\"],[0.5555555555555556,\"#1f9e89\"],[0.6666666666666666,\"#35b779\"],[0.7777777777777778,\"#6ece58\"],[0.8888888888888888,\"#b5de2b\"],[1.0,\"#fde725\"]]},\"legend\":{\"tracegroupgap\":0},\"margin\":{\"t\":60},\"title\":{\"text\":\"Top 2 PCs Scatterplot\",\"font\":{\"size\":18}},\"annotations\":[{\"font\":{\"color\":\"red\",\"size\":14},\"text\":\"Quadrant 2\",\"x\":-0.45,\"y\":0.1},{\"font\":{\"color\":\"red\",\"size\":14},\"text\":\"Quadrant 1\",\"x\":0.23,\"y\":0.1}]},                        {\"responsive\": true}                    ).then(function(){\n",
       "                            \n",
       "var gd = document.getElementById('b855b0bb-bae3-4be6-8350-dafa470a6f29');\n",
       "var x = new MutationObserver(function (mutations, observer) {{\n",
       "        var display = window.getComputedStyle(gd).display;\n",
       "        if (!display || display === 'none') {{\n",
       "            console.log([gd, 'removed!']);\n",
       "            Plotly.purge(gd);\n",
       "            observer.disconnect();\n",
       "        }}\n",
       "}});\n",
       "\n",
       "// Listen for the removal of the full notebook cells\n",
       "var notebookContainer = gd.closest('#notebook-container');\n",
       "if (notebookContainer) {{\n",
       "    x.observe(notebookContainer, {childList: true});\n",
       "}}\n",
       "\n",
       "// Listen for the clearing of the current output cell\n",
       "var outputEl = gd.closest('.output');\n",
       "if (outputEl) {{\n",
       "    x.observe(outputEl, {childList: true});\n",
       "}}\n",
       "\n",
       "                        })                };                });            </script>        </div>"
      ]
     },
     "metadata": {},
     "output_type": "display_data"
    }
   ],
   "source": [
    "fig = px.scatter(new_df, x='PC1', y='PC2', color='Target', template=\"simple_white\")\n",
    "fig.update_layout(title='Top 2 PCs Scatterplot', title_font_size=18)\n",
    "fig.update_xaxes(showgrid=False, zeroline=True, zerolinewidth=3, zerolinecolor='lightgray')\n",
    "fig.update_yaxes(showgrid=False, zeroline=True, zerolinewidth=3, zerolinecolor='lightgray')\n",
    "\n",
    "# Add annotations for quadrants\n",
    "fig.add_annotation(x=-0.45, y=0.1, text='Quadrant 2', font_size=14, font_color='red')\n",
    "fig.add_annotation(x=0.23, y=0.1, text='Quadrant 1', font_size=14, font_color='red')\n",
    "\n",
    "fig.update_xaxes(title='PC1')\n",
    "fig.update_yaxes(title='PC2')\n",
    "\n",
    "fig.show()"
   ]
  },
  {
   "cell_type": "code",
   "execution_count": 37,
   "metadata": {
    "execution": {
     "iopub.execute_input": "2024-02-26T09:38:16.232713Z",
     "iopub.status.busy": "2024-02-26T09:38:16.232367Z",
     "iopub.status.idle": "2024-02-26T09:38:16.249089Z",
     "shell.execute_reply": "2024-02-26T09:38:16.248076Z",
     "shell.execute_reply.started": "2024-02-26T09:38:16.232683Z"
    },
    "trusted": true
   },
   "outputs": [
    {
     "data": {
      "text/html": [
       "<div>\n",
       "<style scoped>\n",
       "    .dataframe tbody tr th:only-of-type {\n",
       "        vertical-align: middle;\n",
       "    }\n",
       "\n",
       "    .dataframe tbody tr th {\n",
       "        vertical-align: top;\n",
       "    }\n",
       "\n",
       "    .dataframe thead th {\n",
       "        text-align: right;\n",
       "    }\n",
       "</style>\n",
       "<table border=\"1\" class=\"dataframe\">\n",
       "  <thead>\n",
       "    <tr style=\"text-align: right;\">\n",
       "      <th></th>\n",
       "      <th>PC1</th>\n",
       "      <th>PC2</th>\n",
       "      <th>PC3</th>\n",
       "      <th>PC4</th>\n",
       "      <th>PC5</th>\n",
       "      <th>Target</th>\n",
       "    </tr>\n",
       "  </thead>\n",
       "  <tbody>\n",
       "    <tr>\n",
       "      <th>73</th>\n",
       "      <td>0.034207</td>\n",
       "      <td>0.194931</td>\n",
       "      <td>0.298891</td>\n",
       "      <td>-0.652356</td>\n",
       "      <td>-0.115410</td>\n",
       "      <td>0</td>\n",
       "    </tr>\n",
       "    <tr>\n",
       "      <th>86</th>\n",
       "      <td>-0.045997</td>\n",
       "      <td>0.234332</td>\n",
       "      <td>0.207711</td>\n",
       "      <td>-0.781591</td>\n",
       "      <td>0.050768</td>\n",
       "      <td>0</td>\n",
       "    </tr>\n",
       "    <tr>\n",
       "      <th>172</th>\n",
       "      <td>0.060912</td>\n",
       "      <td>0.209198</td>\n",
       "      <td>0.409055</td>\n",
       "      <td>-0.827566</td>\n",
       "      <td>-0.229767</td>\n",
       "      <td>0</td>\n",
       "    </tr>\n",
       "    <tr>\n",
       "      <th>259</th>\n",
       "      <td>-0.050307</td>\n",
       "      <td>0.176371</td>\n",
       "      <td>0.326988</td>\n",
       "      <td>-1.294492</td>\n",
       "      <td>-0.056955</td>\n",
       "      <td>0</td>\n",
       "    </tr>\n",
       "    <tr>\n",
       "      <th>38</th>\n",
       "      <td>-0.114375</td>\n",
       "      <td>0.255077</td>\n",
       "      <td>0.069924</td>\n",
       "      <td>-0.371671</td>\n",
       "      <td>0.054325</td>\n",
       "      <td>0</td>\n",
       "    </tr>\n",
       "  </tbody>\n",
       "</table>\n",
       "</div>"
      ],
      "text/plain": [
       "          PC1       PC2       PC3       PC4       PC5  Target\n",
       "73   0.034207  0.194931  0.298891 -0.652356 -0.115410       0\n",
       "86  -0.045997  0.234332  0.207711 -0.781591  0.050768       0\n",
       "172  0.060912  0.209198  0.409055 -0.827566 -0.229767       0\n",
       "259 -0.050307  0.176371  0.326988 -1.294492 -0.056955       0\n",
       "38  -0.114375  0.255077  0.069924 -0.371671  0.054325       0"
      ]
     },
     "execution_count": 37,
     "metadata": {},
     "output_type": "execute_result"
    }
   ],
   "source": [
    "# Class 0 Individuals\n",
    "new_df[new_df.Target==0].sample(5)"
   ]
  },
  {
   "cell_type": "code",
   "execution_count": 38,
   "metadata": {
    "execution": {
     "iopub.execute_input": "2024-02-26T09:38:16.251348Z",
     "iopub.status.busy": "2024-02-26T09:38:16.250521Z",
     "iopub.status.idle": "2024-02-26T09:38:16.269371Z",
     "shell.execute_reply": "2024-02-26T09:38:16.268527Z",
     "shell.execute_reply.started": "2024-02-26T09:38:16.251313Z"
    },
    "trusted": true
   },
   "outputs": [
    {
     "data": {
      "text/html": [
       "<div>\n",
       "<style scoped>\n",
       "    .dataframe tbody tr th:only-of-type {\n",
       "        vertical-align: middle;\n",
       "    }\n",
       "\n",
       "    .dataframe tbody tr th {\n",
       "        vertical-align: top;\n",
       "    }\n",
       "\n",
       "    .dataframe thead th {\n",
       "        text-align: right;\n",
       "    }\n",
       "</style>\n",
       "<table border=\"1\" class=\"dataframe\">\n",
       "  <thead>\n",
       "    <tr style=\"text-align: right;\">\n",
       "      <th></th>\n",
       "      <th>PC1</th>\n",
       "      <th>PC2</th>\n",
       "      <th>PC3</th>\n",
       "      <th>PC4</th>\n",
       "      <th>PC5</th>\n",
       "      <th>Target</th>\n",
       "    </tr>\n",
       "  </thead>\n",
       "  <tbody>\n",
       "    <tr>\n",
       "      <th>496</th>\n",
       "      <td>0.063338</td>\n",
       "      <td>0.120005</td>\n",
       "      <td>0.279613</td>\n",
       "      <td>-0.751885</td>\n",
       "      <td>-0.132080</td>\n",
       "      <td>1</td>\n",
       "    </tr>\n",
       "    <tr>\n",
       "      <th>459</th>\n",
       "      <td>-0.087274</td>\n",
       "      <td>0.007171</td>\n",
       "      <td>0.003097</td>\n",
       "      <td>-0.567937</td>\n",
       "      <td>0.045162</td>\n",
       "      <td>1</td>\n",
       "    </tr>\n",
       "    <tr>\n",
       "      <th>298</th>\n",
       "      <td>-0.059278</td>\n",
       "      <td>0.254250</td>\n",
       "      <td>0.166587</td>\n",
       "      <td>-0.423956</td>\n",
       "      <td>0.119634</td>\n",
       "      <td>1</td>\n",
       "    </tr>\n",
       "    <tr>\n",
       "      <th>354</th>\n",
       "      <td>-0.020222</td>\n",
       "      <td>0.175851</td>\n",
       "      <td>0.072149</td>\n",
       "      <td>-0.297606</td>\n",
       "      <td>0.109234</td>\n",
       "      <td>1</td>\n",
       "    </tr>\n",
       "    <tr>\n",
       "      <th>269</th>\n",
       "      <td>0.008746</td>\n",
       "      <td>0.056208</td>\n",
       "      <td>0.131529</td>\n",
       "      <td>-0.647854</td>\n",
       "      <td>-0.003954</td>\n",
       "      <td>1</td>\n",
       "    </tr>\n",
       "  </tbody>\n",
       "</table>\n",
       "</div>"
      ],
      "text/plain": [
       "          PC1       PC2       PC3       PC4       PC5  Target\n",
       "496  0.063338  0.120005  0.279613 -0.751885 -0.132080       1\n",
       "459 -0.087274  0.007171  0.003097 -0.567937  0.045162       1\n",
       "298 -0.059278  0.254250  0.166587 -0.423956  0.119634       1\n",
       "354 -0.020222  0.175851  0.072149 -0.297606  0.109234       1\n",
       "269  0.008746  0.056208  0.131529 -0.647854 -0.003954       1"
      ]
     },
     "execution_count": 38,
     "metadata": {},
     "output_type": "execute_result"
    }
   ],
   "source": [
    "#Class 1 Individuals\n",
    "new_df[new_df.Target==1].sample(5)"
   ]
  },
  {
   "cell_type": "markdown",
   "metadata": {},
   "source": [
    "<center>\n",
    "<div style=\"color:;\n",
    "           display:fill;\n",
    "           border-radius:5px;\n",
    "           background-color: mediumseagreen;\n",
    "           font-size:110%;\n",
    "           letter-spacing:0.5px\">\n",
    "\n",
    "<h2 style=\"padding: 10px;\n",
    "              color:white;\">Handling Class Imbalance\n",
    "    \n",
    "</h2>\n",
    "</div>\n",
    "\n",
    "<span style=\"background-color: yellow;\"> To make the model pay more attention to the classes where there are fewer occurence of a given class in the entire data, class weights can be used.</span> Almost all the classifiers will have the argument which will essentially take a dictionary to be passed when training the model.\n",
    "\n",
    "In the code cell just below, we are creating just a dictionary containing the classes and the class weights that will be used while training a model."
   ]
  },
  {
   "cell_type": "code",
   "execution_count": 39,
   "metadata": {
    "execution": {
     "iopub.execute_input": "2024-02-26T09:38:16.270795Z",
     "iopub.status.busy": "2024-02-26T09:38:16.270451Z",
     "iopub.status.idle": "2024-02-26T09:38:16.279360Z",
     "shell.execute_reply": "2024-02-26T09:38:16.278527Z",
     "shell.execute_reply.started": "2024-02-26T09:38:16.270766Z"
    },
    "trusted": true
   },
   "outputs": [
    {
     "name": "stdout",
     "output_type": "stream",
     "text": [
      "=== CLASS WEIGHTS ===\n",
      "{0: 1.6839622641509433, 1: 1.0}\n"
     ]
    }
   ],
   "source": [
    "label, counts = np.unique(targets, return_counts=True)\n",
    "# compute the class weights\n",
    "counts = max(counts) / counts\n",
    "class_weights = dict(zip(label, counts))\n",
    "\n",
    "print('=== CLASS WEIGHTS ===')\n",
    "print(class_weights)"
   ]
  },
  {
   "cell_type": "markdown",
   "metadata": {},
   "source": [
    "<center>\n",
    "<div style=\"color:;\n",
    "           display:fill;\n",
    "           border-radius:5px;\n",
    "           background-color: mediumseagreen;\n",
    "           font-size:110%;\n",
    "           letter-spacing:0.5px\">\n",
    "\n",
    "<h2 style=\"padding: 10px;\n",
    "              color:white;\">Splitting Data and Training Models\n",
    "    \n",
    "</h2>\n",
    "</div>\n",
    "\n",
    "\n",
    "We start the process of training our data now that we are done with preprocessing of the data. Lets go ahead and split the data into 2 splits i.e. training and validation data. Training data will be used to train our model and we will validate the score on the validation data."
   ]
  },
  {
   "cell_type": "code",
   "execution_count": 40,
   "metadata": {
    "execution": {
     "iopub.execute_input": "2024-02-26T09:38:16.280730Z",
     "iopub.status.busy": "2024-02-26T09:38:16.280406Z",
     "iopub.status.idle": "2024-02-26T09:38:16.290746Z",
     "shell.execute_reply": "2024-02-26T09:38:16.289919Z",
     "shell.execute_reply.started": "2024-02-26T09:38:16.280703Z"
    },
    "trusted": true
   },
   "outputs": [],
   "source": [
    "#Splitting the data into train and validation set\n",
    "train_inputs, val_inputs, train_targets, val_targets = train_test_split(new_df, targets, test_size=0.25, random_state=42)"
   ]
  },
  {
   "cell_type": "code",
   "execution_count": 41,
   "metadata": {
    "execution": {
     "iopub.execute_input": "2024-02-26T09:38:16.292127Z",
     "iopub.status.busy": "2024-02-26T09:38:16.291807Z",
     "iopub.status.idle": "2024-02-26T09:38:16.302183Z",
     "shell.execute_reply": "2024-02-26T09:38:16.301313Z",
     "shell.execute_reply.started": "2024-02-26T09:38:16.292099Z"
    },
    "trusted": true
   },
   "outputs": [
    {
     "name": "stdout",
     "output_type": "stream",
     "text": [
      "X_train Shape - (426, 6) , y_train Shape - (426,)\n",
      "X_test shape - (143, 6) , y_test shape - (143,)\n"
     ]
    }
   ],
   "source": [
    "print('X_train Shape -',train_inputs.shape,',', 'y_train Shape -', train_targets.shape)\n",
    "print('X_test shape -', val_inputs.shape,',','y_test shape -', val_targets.shape)"
   ]
  },
  {
   "cell_type": "markdown",
   "metadata": {},
   "source": [
    "We have used the `class_weights` parameter while defining the models in the cell below."
   ]
  },
  {
   "cell_type": "code",
   "execution_count": 42,
   "metadata": {
    "execution": {
     "iopub.execute_input": "2024-02-26T09:38:16.303667Z",
     "iopub.status.busy": "2024-02-26T09:38:16.303298Z",
     "iopub.status.idle": "2024-02-26T09:38:16.312329Z",
     "shell.execute_reply": "2024-02-26T09:38:16.311639Z",
     "shell.execute_reply.started": "2024-02-26T09:38:16.303638Z"
    },
    "trusted": true
   },
   "outputs": [],
   "source": [
    "#Creating a list of classifier models\n",
    "names = ['Logistic Regression', \"KNN\", \"Linear SVM\",\"Gradient Boosting\", \"Decision Tree\", \"Random Forest\"]\n",
    "classifiers = [\n",
    "    LogisticRegression(solver='liblinear', class_weight=class_weights, random_state=42),\n",
    "    KNeighborsClassifier(n_neighbors=3, weights= 'distance'),\n",
    "    SVC(kernel=\"linear\", C=0.025, class_weight=class_weights, random_state=42),\n",
    "    GradientBoostingClassifier(n_estimators=100, random_state=42),\n",
    "    DecisionTreeClassifier(max_depth=5, class_weight=class_weights, random_state=42),\n",
    "    RandomForestClassifier(max_depth=5, n_estimators=100, class_weight=class_weights, random_state=42)]"
   ]
  },
  {
   "cell_type": "code",
   "execution_count": 43,
   "metadata": {
    "execution": {
     "iopub.execute_input": "2024-02-26T09:38:16.313969Z",
     "iopub.status.busy": "2024-02-26T09:38:16.313348Z",
     "iopub.status.idle": "2024-02-26T09:38:17.645369Z",
     "shell.execute_reply": "2024-02-26T09:38:17.644522Z",
     "shell.execute_reply.started": "2024-02-26T09:38:16.313929Z"
    },
    "trusted": true
   },
   "outputs": [
    {
     "data": {
      "text/html": [
       "<div>\n",
       "<style scoped>\n",
       "    .dataframe tbody tr th:only-of-type {\n",
       "        vertical-align: middle;\n",
       "    }\n",
       "\n",
       "    .dataframe tbody tr th {\n",
       "        vertical-align: top;\n",
       "    }\n",
       "\n",
       "    .dataframe thead th {\n",
       "        text-align: right;\n",
       "    }\n",
       "</style>\n",
       "<table border=\"1\" class=\"dataframe\">\n",
       "  <thead>\n",
       "    <tr style=\"text-align: right;\">\n",
       "      <th></th>\n",
       "      <th>Name</th>\n",
       "      <th>CV Mean score</th>\n",
       "    </tr>\n",
       "  </thead>\n",
       "  <tbody>\n",
       "    <tr>\n",
       "      <th>0</th>\n",
       "      <td>Logistic Regression</td>\n",
       "      <td>1.0</td>\n",
       "    </tr>\n",
       "    <tr>\n",
       "      <th>1</th>\n",
       "      <td>KNN</td>\n",
       "      <td>1.0</td>\n",
       "    </tr>\n",
       "    <tr>\n",
       "      <th>2</th>\n",
       "      <td>Linear SVM</td>\n",
       "      <td>1.0</td>\n",
       "    </tr>\n",
       "    <tr>\n",
       "      <th>3</th>\n",
       "      <td>Gradient Boosting</td>\n",
       "      <td>1.0</td>\n",
       "    </tr>\n",
       "    <tr>\n",
       "      <th>4</th>\n",
       "      <td>Decision Tree</td>\n",
       "      <td>1.0</td>\n",
       "    </tr>\n",
       "    <tr>\n",
       "      <th>5</th>\n",
       "      <td>Random Forest</td>\n",
       "      <td>1.0</td>\n",
       "    </tr>\n",
       "  </tbody>\n",
       "</table>\n",
       "</div>"
      ],
      "text/plain": [
       "                  Name  CV Mean score\n",
       "0  Logistic Regression            1.0\n",
       "1                  KNN            1.0\n",
       "2           Linear SVM            1.0\n",
       "3    Gradient Boosting            1.0\n",
       "4        Decision Tree            1.0\n",
       "5        Random Forest            1.0"
      ]
     },
     "execution_count": 43,
     "metadata": {},
     "output_type": "execute_result"
    }
   ],
   "source": [
    "# Define the number of folds for cross-validation\n",
    "num_folds = 5  # You can adjust this as needed\n",
    "\n",
    "# Initialize an empty list to store scores\n",
    "scores = []\n",
    "\n",
    "for name, clf in zip(names, classifiers):\n",
    "    # Perform k-fold cross-validation and calculate the mean score\n",
    "    cv_scores = cross_val_score(clf, train_inputs, train_targets, cv=num_folds)\n",
    "    mean_score = np.mean(cv_scores)\n",
    "    scores.append(mean_score)\n",
    "\n",
    "# Create a DataFrame to store the results\n",
    "scores_df = pd.DataFrame()\n",
    "scores_df['Name'] = names\n",
    "scores_df['CV Mean score'] = np.around(scores, 3)\n",
    "\n",
    "# Sort the DataFrame by score in descending order\n",
    "sorted_scores_df = scores_df.sort_values('CV Mean score', ascending=False)\n",
    "sorted_scores_df"
   ]
  },
  {
   "cell_type": "markdown",
   "metadata": {},
   "source": [
    "<center>\n",
    "<div style=\"color:;\n",
    "           display:fill;\n",
    "           border-radius:5px;\n",
    "           background-color: mediumseagreen;\n",
    "           font-size:110%;\n",
    "           letter-spacing:0.5px\">\n",
    "\n",
    "<h2 style=\"padding: 10px;\n",
    "              color:white;\">Model Accuracy and Performance Check\n",
    "    \n",
    "</h2>\n",
    "</div>\n",
    "</center>\n",
    "\n",
    "When it comes to checking the model accuracy, you can use the below techniques to see how well the model is performing.\n",
    "\n",
    "1. **Confusion Matrix:** A confusion matrix is a table that is used to evaluate the performance of a classification model. It is a table of the true positive, true negative, false positive, and false negative values for a classification problem. It is also used to calculate various metrics such as precision, recall, accuracy, and f1-score.\n",
    "\n",
    "2. **Accuracy Score:** The accuracy score is the ratio of correctly predicted observations to the total observations. It is a primary evaluation metric for classification problems.\n",
    "\n",
    "3. **F1 Score:** F1 score is the harmonic mean of precision and recall. It is usually used to compare two or more classifiers.\n",
    "\n",
    "4. **ROC Curve:** A ROC curve is a graphical representation of the performance of a classification model. It is a plot of the true positive rate against the false positive rate. The higher the area under the curve, the better the model is at predicting the positive class.\n",
    "\n",
    "\n",
    "<center><img src=\"https://i.imgur.com/UM28BCN.png%22%20width=%22480\", width=700> </center>\n",
    "    \n",
    " We will achieve this by using `sklearn` Confusion Matrix."
   ]
  },
  {
   "cell_type": "code",
   "execution_count": 44,
   "metadata": {
    "execution": {
     "iopub.execute_input": "2024-02-26T09:38:17.646713Z",
     "iopub.status.busy": "2024-02-26T09:38:17.646392Z",
     "iopub.status.idle": "2024-02-26T09:38:17.725360Z",
     "shell.execute_reply": "2024-02-26T09:38:17.724541Z",
     "shell.execute_reply.started": "2024-02-26T09:38:17.646687Z"
    },
    "trusted": true
   },
   "outputs": [
    {
     "data": {
      "text/html": [
       "<div>                            <div id=\"60a87573-a46f-4fe4-ab79-f69c710d25d5\" class=\"plotly-graph-div\" style=\"height:525px; width:100%;\"></div>            <script type=\"text/javascript\">                require([\"plotly\"], function(Plotly) {                    window.PLOTLYENV=window.PLOTLYENV || {};                                    if (document.getElementById(\"60a87573-a46f-4fe4-ab79-f69c710d25d5\")) {                    Plotly.newPlot(                        \"60a87573-a46f-4fe4-ab79-f69c710d25d5\",                        [{\"coloraxis\":\"coloraxis\",\"name\":\"0\",\"texttemplate\":\"%{z}\",\"z\":[[1.0,0.0],[0.0,1.0]],\"type\":\"heatmap\",\"xaxis\":\"x\",\"yaxis\":\"y\",\"hovertemplate\":\"Predicted Label: %{x}<br>Correct Label: %{y}<br>Value: %{z}<extra></extra>\"}],                        {\"template\":{\"data\":{\"barpolar\":[{\"marker\":{\"line\":{\"color\":\"rgb(237,237,237)\",\"width\":0.5},\"pattern\":{\"fillmode\":\"overlay\",\"size\":10,\"solidity\":0.2}},\"type\":\"barpolar\"}],\"bar\":[{\"error_x\":{\"color\":\"rgb(51,51,51)\"},\"error_y\":{\"color\":\"rgb(51,51,51)\"},\"marker\":{\"line\":{\"color\":\"rgb(237,237,237)\",\"width\":0.5},\"pattern\":{\"fillmode\":\"overlay\",\"size\":10,\"solidity\":0.2}},\"type\":\"bar\"}],\"carpet\":[{\"aaxis\":{\"endlinecolor\":\"rgb(51,51,51)\",\"gridcolor\":\"white\",\"linecolor\":\"white\",\"minorgridcolor\":\"white\",\"startlinecolor\":\"rgb(51,51,51)\"},\"baxis\":{\"endlinecolor\":\"rgb(51,51,51)\",\"gridcolor\":\"white\",\"linecolor\":\"white\",\"minorgridcolor\":\"white\",\"startlinecolor\":\"rgb(51,51,51)\"},\"type\":\"carpet\"}],\"choropleth\":[{\"colorbar\":{\"outlinewidth\":0,\"tickcolor\":\"rgb(237,237,237)\",\"ticklen\":6,\"ticks\":\"inside\"},\"type\":\"choropleth\"}],\"contourcarpet\":[{\"colorbar\":{\"outlinewidth\":0,\"tickcolor\":\"rgb(237,237,237)\",\"ticklen\":6,\"ticks\":\"inside\"},\"type\":\"contourcarpet\"}],\"contour\":[{\"colorbar\":{\"outlinewidth\":0,\"tickcolor\":\"rgb(237,237,237)\",\"ticklen\":6,\"ticks\":\"inside\"},\"colorscale\":[[0,\"rgb(20,44,66)\"],[1,\"rgb(90,179,244)\"]],\"type\":\"contour\"}],\"heatmapgl\":[{\"colorbar\":{\"outlinewidth\":0,\"tickcolor\":\"rgb(237,237,237)\",\"ticklen\":6,\"ticks\":\"inside\"},\"colorscale\":[[0,\"rgb(20,44,66)\"],[1,\"rgb(90,179,244)\"]],\"type\":\"heatmapgl\"}],\"heatmap\":[{\"colorbar\":{\"outlinewidth\":0,\"tickcolor\":\"rgb(237,237,237)\",\"ticklen\":6,\"ticks\":\"inside\"},\"colorscale\":[[0,\"rgb(20,44,66)\"],[1,\"rgb(90,179,244)\"]],\"type\":\"heatmap\"}],\"histogram2dcontour\":[{\"colorbar\":{\"outlinewidth\":0,\"tickcolor\":\"rgb(237,237,237)\",\"ticklen\":6,\"ticks\":\"inside\"},\"colorscale\":[[0,\"rgb(20,44,66)\"],[1,\"rgb(90,179,244)\"]],\"type\":\"histogram2dcontour\"}],\"histogram2d\":[{\"colorbar\":{\"outlinewidth\":0,\"tickcolor\":\"rgb(237,237,237)\",\"ticklen\":6,\"ticks\":\"inside\"},\"colorscale\":[[0,\"rgb(20,44,66)\"],[1,\"rgb(90,179,244)\"]],\"type\":\"histogram2d\"}],\"histogram\":[{\"marker\":{\"pattern\":{\"fillmode\":\"overlay\",\"size\":10,\"solidity\":0.2}},\"type\":\"histogram\"}],\"mesh3d\":[{\"colorbar\":{\"outlinewidth\":0,\"tickcolor\":\"rgb(237,237,237)\",\"ticklen\":6,\"ticks\":\"inside\"},\"type\":\"mesh3d\"}],\"parcoords\":[{\"line\":{\"colorbar\":{\"outlinewidth\":0,\"tickcolor\":\"rgb(237,237,237)\",\"ticklen\":6,\"ticks\":\"inside\"}},\"type\":\"parcoords\"}],\"pie\":[{\"automargin\":true,\"type\":\"pie\"}],\"scatter3d\":[{\"line\":{\"colorbar\":{\"outlinewidth\":0,\"tickcolor\":\"rgb(237,237,237)\",\"ticklen\":6,\"ticks\":\"inside\"}},\"marker\":{\"colorbar\":{\"outlinewidth\":0,\"tickcolor\":\"rgb(237,237,237)\",\"ticklen\":6,\"ticks\":\"inside\"}},\"type\":\"scatter3d\"}],\"scattercarpet\":[{\"marker\":{\"colorbar\":{\"outlinewidth\":0,\"tickcolor\":\"rgb(237,237,237)\",\"ticklen\":6,\"ticks\":\"inside\"}},\"type\":\"scattercarpet\"}],\"scattergeo\":[{\"marker\":{\"colorbar\":{\"outlinewidth\":0,\"tickcolor\":\"rgb(237,237,237)\",\"ticklen\":6,\"ticks\":\"inside\"}},\"type\":\"scattergeo\"}],\"scattergl\":[{\"marker\":{\"colorbar\":{\"outlinewidth\":0,\"tickcolor\":\"rgb(237,237,237)\",\"ticklen\":6,\"ticks\":\"inside\"}},\"type\":\"scattergl\"}],\"scattermapbox\":[{\"marker\":{\"colorbar\":{\"outlinewidth\":0,\"tickcolor\":\"rgb(237,237,237)\",\"ticklen\":6,\"ticks\":\"inside\"}},\"type\":\"scattermapbox\"}],\"scatterpolargl\":[{\"marker\":{\"colorbar\":{\"outlinewidth\":0,\"tickcolor\":\"rgb(237,237,237)\",\"ticklen\":6,\"ticks\":\"inside\"}},\"type\":\"scatterpolargl\"}],\"scatterpolar\":[{\"marker\":{\"colorbar\":{\"outlinewidth\":0,\"tickcolor\":\"rgb(237,237,237)\",\"ticklen\":6,\"ticks\":\"inside\"}},\"type\":\"scatterpolar\"}],\"scatter\":[{\"fillpattern\":{\"fillmode\":\"overlay\",\"size\":10,\"solidity\":0.2},\"type\":\"scatter\"}],\"scatterternary\":[{\"marker\":{\"colorbar\":{\"outlinewidth\":0,\"tickcolor\":\"rgb(237,237,237)\",\"ticklen\":6,\"ticks\":\"inside\"}},\"type\":\"scatterternary\"}],\"surface\":[{\"colorbar\":{\"outlinewidth\":0,\"tickcolor\":\"rgb(237,237,237)\",\"ticklen\":6,\"ticks\":\"inside\"},\"colorscale\":[[0,\"rgb(20,44,66)\"],[1,\"rgb(90,179,244)\"]],\"type\":\"surface\"}],\"table\":[{\"cells\":{\"fill\":{\"color\":\"rgb(237,237,237)\"},\"line\":{\"color\":\"white\"}},\"header\":{\"fill\":{\"color\":\"rgb(217,217,217)\"},\"line\":{\"color\":\"white\"}},\"type\":\"table\"}]},\"layout\":{\"annotationdefaults\":{\"arrowhead\":0,\"arrowwidth\":1},\"autotypenumbers\":\"strict\",\"coloraxis\":{\"colorbar\":{\"outlinewidth\":0,\"tickcolor\":\"rgb(237,237,237)\",\"ticklen\":6,\"ticks\":\"inside\"}},\"colorscale\":{\"sequential\":[[0,\"rgb(20,44,66)\"],[1,\"rgb(90,179,244)\"]],\"sequentialminus\":[[0,\"rgb(20,44,66)\"],[1,\"rgb(90,179,244)\"]]},\"colorway\":[\"#F8766D\",\"#A3A500\",\"#00BF7D\",\"#00B0F6\",\"#E76BF3\"],\"font\":{\"color\":\"rgb(51,51,51)\"},\"geo\":{\"bgcolor\":\"white\",\"lakecolor\":\"white\",\"landcolor\":\"rgb(237,237,237)\",\"showlakes\":true,\"showland\":true,\"subunitcolor\":\"white\"},\"hoverlabel\":{\"align\":\"left\"},\"hovermode\":\"closest\",\"paper_bgcolor\":\"white\",\"plot_bgcolor\":\"rgb(237,237,237)\",\"polar\":{\"angularaxis\":{\"gridcolor\":\"white\",\"linecolor\":\"white\",\"showgrid\":true,\"tickcolor\":\"rgb(51,51,51)\",\"ticks\":\"outside\"},\"bgcolor\":\"rgb(237,237,237)\",\"radialaxis\":{\"gridcolor\":\"white\",\"linecolor\":\"white\",\"showgrid\":true,\"tickcolor\":\"rgb(51,51,51)\",\"ticks\":\"outside\"}},\"scene\":{\"xaxis\":{\"backgroundcolor\":\"rgb(237,237,237)\",\"gridcolor\":\"white\",\"gridwidth\":2,\"linecolor\":\"white\",\"showbackground\":true,\"showgrid\":true,\"tickcolor\":\"rgb(51,51,51)\",\"ticks\":\"outside\",\"zerolinecolor\":\"white\"},\"yaxis\":{\"backgroundcolor\":\"rgb(237,237,237)\",\"gridcolor\":\"white\",\"gridwidth\":2,\"linecolor\":\"white\",\"showbackground\":true,\"showgrid\":true,\"tickcolor\":\"rgb(51,51,51)\",\"ticks\":\"outside\",\"zerolinecolor\":\"white\"},\"zaxis\":{\"backgroundcolor\":\"rgb(237,237,237)\",\"gridcolor\":\"white\",\"gridwidth\":2,\"linecolor\":\"white\",\"showbackground\":true,\"showgrid\":true,\"tickcolor\":\"rgb(51,51,51)\",\"ticks\":\"outside\",\"zerolinecolor\":\"white\"}},\"shapedefaults\":{\"fillcolor\":\"black\",\"line\":{\"width\":0},\"opacity\":0.3},\"ternary\":{\"aaxis\":{\"gridcolor\":\"white\",\"linecolor\":\"white\",\"showgrid\":true,\"tickcolor\":\"rgb(51,51,51)\",\"ticks\":\"outside\"},\"baxis\":{\"gridcolor\":\"white\",\"linecolor\":\"white\",\"showgrid\":true,\"tickcolor\":\"rgb(51,51,51)\",\"ticks\":\"outside\"},\"bgcolor\":\"rgb(237,237,237)\",\"caxis\":{\"gridcolor\":\"white\",\"linecolor\":\"white\",\"showgrid\":true,\"tickcolor\":\"rgb(51,51,51)\",\"ticks\":\"outside\"}},\"xaxis\":{\"automargin\":true,\"gridcolor\":\"white\",\"linecolor\":\"white\",\"showgrid\":true,\"tickcolor\":\"rgb(51,51,51)\",\"ticks\":\"outside\",\"title\":{\"standoff\":15},\"zerolinecolor\":\"white\"},\"yaxis\":{\"automargin\":true,\"gridcolor\":\"white\",\"linecolor\":\"white\",\"showgrid\":true,\"tickcolor\":\"rgb(51,51,51)\",\"ticks\":\"outside\",\"title\":{\"standoff\":15},\"zerolinecolor\":\"white\"}}},\"xaxis\":{\"anchor\":\"y\",\"domain\":[0.0,1.0],\"title\":{\"text\":\"Predicted Label\"},\"side\":\"bottom\"},\"yaxis\":{\"anchor\":\"x\",\"domain\":[0.0,1.0],\"autorange\":\"reversed\",\"title\":{\"text\":\"Correct Label\"}},\"coloraxis\":{\"colorbar\":{\"title\":{\"text\":\"Value\"}},\"colorscale\":[[0.0,\"rgb(20,44,66)\"],[1.0,\"rgb(90,179,244)\"]]},\"margin\":{\"t\":60}},                        {\"responsive\": true}                    ).then(function(){\n",
       "                            \n",
       "var gd = document.getElementById('60a87573-a46f-4fe4-ab79-f69c710d25d5');\n",
       "var x = new MutationObserver(function (mutations, observer) {{\n",
       "        var display = window.getComputedStyle(gd).display;\n",
       "        if (!display || display === 'none') {{\n",
       "            console.log([gd, 'removed!']);\n",
       "            Plotly.purge(gd);\n",
       "            observer.disconnect();\n",
       "        }}\n",
       "}});\n",
       "\n",
       "// Listen for the removal of the full notebook cells\n",
       "var notebookContainer = gd.closest('#notebook-container');\n",
       "if (notebookContainer) {{\n",
       "    x.observe(notebookContainer, {childList: true});\n",
       "}}\n",
       "\n",
       "// Listen for the clearing of the current output cell\n",
       "var outputEl = gd.closest('.output');\n",
       "if (outputEl) {{\n",
       "    x.observe(outputEl, {childList: true});\n",
       "}}\n",
       "\n",
       "                        })                };                });            </script>        </div>"
      ]
     },
     "metadata": {},
     "output_type": "display_data"
    }
   ],
   "source": [
    "#Initiating the model\n",
    "model = LogisticRegression(solver='liblinear', random_state=42,  n_jobs=-1, class_weight=class_weights)\n",
    "\n",
    "#fitting the model\n",
    "model.fit(train_inputs, train_targets)\n",
    "\n",
    "#making the predictions\n",
    "LRtrain_preds = model.predict(val_inputs)\n",
    "\n",
    "#Creating the confusion matrix\n",
    "confusionmatrix = np.around(confusion_matrix(val_targets, LRtrain_preds, normalize='true'),3)\n",
    "\n",
    "#Plotting the Confusion Matrix\n",
    "fig = px.imshow(confusionmatrix, template='ggplot2',text_auto=True, aspect=\"auto\", \n",
    "                labels=dict(x=\"Predicted Label\", y=\"Correct Label\", color='Value'))\n",
    "fig.update_xaxes(side=\"bottom\")\n",
    "fig.show()"
   ]
  },
  {
   "cell_type": "code",
   "execution_count": 45,
   "metadata": {
    "execution": {
     "iopub.execute_input": "2024-02-26T09:38:17.726844Z",
     "iopub.status.busy": "2024-02-26T09:38:17.726504Z",
     "iopub.status.idle": "2024-02-26T09:38:17.996671Z",
     "shell.execute_reply": "2024-02-26T09:38:17.995792Z",
     "shell.execute_reply.started": "2024-02-26T09:38:17.726815Z"
    },
    "trusted": true
   },
   "outputs": [
    {
     "data": {
      "image/png": "[encoded data removed]",
      "text/plain": [
       "<Figure size 2200x500 with 1 Axes>"
      ]
     },
     "metadata": {
      "needs_background": "light"
     },
     "output_type": "display_data"
    }
   ],
   "source": [
    "# Assuming you have your model predictions and true labels\n",
    "y_pred = model.predict(val_inputs)  # Replace with your model's predictions\n",
    "fpr, tpr, thresholds = roc_curve(val_targets, y_pred)\n",
    "\n",
    "# Calculate AUC (Area Under the ROC Curve)\n",
    "auc = roc_auc_score(val_targets, y_pred)\n",
    "\n",
    "# Plot the ROC curve\n",
    "plt.figure()\n",
    "plt.plot(fpr, tpr, label='ROC curve (AUC = {:.2f})'.format(auc))\n",
    "plt.plot([0, 1], [0, 1], 'k--')  # Random guessing line\n",
    "plt.xlim([0.0, 1.0])\n",
    "plt.ylim([0.0, 1.05])\n",
    "\n",
    "plt.gca().spines['top'].set_visible(False)\n",
    "plt.gca().spines['right'].set_visible(False)\n",
    "plt.xlabel('False Positive Rate')\n",
    "plt.ylabel('True Positive Rate')\n",
    "plt.title('Test Set ROC Curve')\n",
    "plt.legend(loc=\"lower right\")\n",
    "plt.show()"
   ]
  },
  {
   "cell_type": "markdown",
   "metadata": {},
   "source": [
    "We can see that the model is making pretty good classification."
   ]
  },
  {
   "cell_type": "markdown",
   "metadata": {},
   "source": [
    "<center>\n",
    "<div style=\"color:;\n",
    "           display:fill;\n",
    "           border-radius:5px;\n",
    "           background-color: royalblue;\n",
    "           font-size:110%;\n",
    "           letter-spacing:0.5px\">\n",
    "\n",
    "<h3 style=\"padding: 10px;\n",
    "              color:white;\">Logistic Regression Classification Report\n",
    "    \n",
    "</h3>\n",
    "</div>"
   ]
  },
  {
   "cell_type": "code",
   "execution_count": 46,
   "metadata": {
    "execution": {
     "iopub.execute_input": "2024-02-26T09:38:17.998060Z",
     "iopub.status.busy": "2024-02-26T09:38:17.997744Z",
     "iopub.status.idle": "2024-02-26T09:38:18.008882Z",
     "shell.execute_reply": "2024-02-26T09:38:18.007793Z",
     "shell.execute_reply.started": "2024-02-26T09:38:17.998031Z"
    },
    "trusted": true
   },
   "outputs": [
    {
     "name": "stdout",
     "output_type": "stream",
     "text": [
      "              precision    recall  f1-score   support\n",
      "\n",
      "           0       1.00      1.00      1.00        54\n",
      "           1       1.00      1.00      1.00        89\n",
      "\n",
      "    accuracy                           1.00       143\n",
      "   macro avg       1.00      1.00      1.00       143\n",
      "weighted avg       1.00      1.00      1.00       143\n",
      "\n"
     ]
    }
   ],
   "source": [
    "print(classification_report(val_targets, LRtrain_preds))"
   ]
  },
  {
   "cell_type": "code",
   "execution_count": 47,
   "metadata": {
    "execution": {
     "iopub.execute_input": "2024-02-26T09:38:18.010423Z",
     "iopub.status.busy": "2024-02-26T09:38:18.010012Z",
     "iopub.status.idle": "2024-02-26T09:38:18.017619Z",
     "shell.execute_reply": "2024-02-26T09:38:18.016717Z",
     "shell.execute_reply.started": "2024-02-26T09:38:18.010385Z"
    },
    "trusted": true
   },
   "outputs": [
    {
     "name": "stdout",
     "output_type": "stream",
     "text": [
      "0 / 143 cases misclassified by LR model, Error rate : 0.0%.\n"
     ]
    }
   ],
   "source": [
    "misclassified_count = np.sum(val_targets != LRtrain_preds)\n",
    "total_cases = len(val_targets)\n",
    "error_rate = np.around((misclassified_count / total_cases) * 100, 3)\n",
    "\n",
    "print(f\"{misclassified_count} / {total_cases} cases misclassified by LR model, Error rate : {error_rate}%.\")"
   ]
  },
  {
   "cell_type": "markdown",
   "metadata": {},
   "source": [
    "<center>\n",
    "<div style=\"color:;\n",
    "           display:fill;\n",
    "           border-radius:5px;\n",
    "           background-color: mediumseagreen;\n",
    "           font-size:110%;\n",
    "           letter-spacing:0.5px\">\n",
    "\n",
    "<h2 style=\"padding: 10px;\n",
    "              color:white;\">Linear Discriminant Analysis (LDA)\n",
    "    \n",
    "</h2>\n",
    "</div>\n",
    "</center>\n",
    "\n",
    "<span style=\"background-color: yellow;\"> **Linear Discriminant Analysis (LDA)** is a supervised learning algorithm used to classify a data set into multiple classes. It is a linear transformation technique which seeks to find a set of linear combinations of variables that best separate classes of data. LDA is a classification technique that looks at the data set and finds a linear combination of variables that will best separate the data.</span> It is often used to reduce the number of variables in a data set while still retaining the important information for classification. \n",
    "\n",
    "The basic idea behind LDA is to maximize the ratio of the between-class variance to the within-class variance. The goal of LDA is to find a linear combination of variables that separates the classes as much as possible. This is accomplished by finding the direction that maximizes the ratio of the between-class variance to the within-class variance.\n",
    "\n",
    "- The first step in LDA is to calculate the means and the covariance matrix of the data set. The means are the average values of each variable across all the classes. The covariance matrix is a measure of the variance between the variables. \n",
    "- Once the means and the covariance matrix are calculated, a linear combination of the variables is calculated that maximizes the ratio of between-class variance to within\n",
    "    \n",
    "**Why LDA?**\n",
    "- LDA is particularly useful when dealing with a high-dimensional dataset as it provides a way to reduce the number of dimensions while preserving as much of the variation in the original data as possible. \n",
    "- It also helps identify the most important variables in a dataset, which is useful for further analysis. LDA can be used for exploratory data analysis and for predictive modeling.\n",
    "- LDA is also used in face detection algorithms. In Fisherfaces, LDA is used to extract useful data from different faces. Coupled with eigenfaces, it produces effective results.\n",
    "    \n",
    "**Drawbacks of Linear Discriminant Analysis (LDA)**\n",
    "\n",
    "1. It assumes that the data is normally distributed, which may not always be the case in real-world data sets. \n",
    "2. It assumes that the variables are statistically independent, which is also not always the case in real-world data sets. \n",
    "3. It is sensitive to outliers, which can affect the accuracy of the model. \n",
    "4. It can only be used for two-class classification problems, and does not work well with multi-class problems. \n",
    "5. It is not suitable for data sets with a large number of features, as it can become computationally expensive.\n",
    "\n",
    "\n",
    "**Difference between Linear Discriminant Analysis and Principal Component Analysis**\n",
    "\n",
    "| Feature                                      | Linear Discriminant Analysis (LDA)                        | Principal Component Analysis (PCA)                       |\n",
    "|----------------------------------------------|-----------------------------------------------------------|----------------------------------------------------------|\n",
    "| **Nature**                                   | Supervised learning technique                               | Unsupervised dimensionality reduction technique          |\n",
    "| **Objective**                                | Classify objects into categories based on predictor variables | Reduce dimensionality and retain most data variability    |\n",
    "| **Applicability**                            | Commonly used in classification problems, especially for binary classification | Widely used for simplifying datasets with many variables  |\n",
    "| **Linear Combination**                       | Finds the linear combination of features that best separates classes | Extracts uncorrelated components capturing data variability |\n",
    "| **Classes Separation**                       | Maximizes the separation between classes                    | Maximizes variance along principal components              |\n",
    "| **Data Requirement**                         | Requires labeled data for training                          | Works well with unlabeled data                             |\n",
    "| **Complexity Reduction**                     | Focuses on separating classes, less emphasis on reducing complexity | Primarily used to reduce the complexity of a dataset       |\n",
    "| **Ordered Components**                       | Components are ordered based on their contribution to class separation | Components are ordered by the amount of total variance they explain |\n",
    "| **Use Case Example**                         | Face recognition, medical diagnosis                         | Image compression, feature extraction                      |\n",
    "\n"
   ]
  },
  {
   "cell_type": "code",
   "execution_count": 48,
   "metadata": {
    "execution": {
     "iopub.execute_input": "2024-02-26T09:38:18.018962Z",
     "iopub.status.busy": "2024-02-26T09:38:18.018665Z",
     "iopub.status.idle": "2024-02-26T09:38:18.028558Z",
     "shell.execute_reply": "2024-02-26T09:38:18.027798Z",
     "shell.execute_reply.started": "2024-02-26T09:38:18.018936Z"
    },
    "trusted": true
   },
   "outputs": [],
   "source": [
    "X = df.iloc[:,:-1].values\n",
    "y = df.iloc[:,-1].values"
   ]
  },
  {
   "cell_type": "code",
   "execution_count": 49,
   "metadata": {
    "execution": {
     "iopub.execute_input": "2024-02-26T09:38:18.029809Z",
     "iopub.status.busy": "2024-02-26T09:38:18.029519Z",
     "iopub.status.idle": "2024-02-26T09:38:18.061192Z",
     "shell.execute_reply": "2024-02-26T09:38:18.060065Z",
     "shell.execute_reply.started": "2024-02-26T09:38:18.029783Z"
    },
    "trusted": true
   },
   "outputs": [
    {
     "name": "stdout",
     "output_type": "stream",
     "text": [
      "Original Data shape: (569, 25) \n",
      "Modified Data shape: (569, 1)\n"
     ]
    }
   ],
   "source": [
    "# Create an instance of LinearDiscriminantAnalysis\n",
    "lda = LinearDiscriminantAnalysis()\n",
    "# Fit the model to the data and transform the data using the fit\n",
    "X_lda = lda.fit_transform(X, y)\n",
    "# Print the shape of the original data and the transformed data\n",
    "print(\"Original Data shape:\",X.shape, \"\\nModified Data shape:\", X_lda.shape)"
   ]
  },
  {
   "cell_type": "code",
   "execution_count": 50,
   "metadata": {
    "execution": {
     "iopub.execute_input": "2024-02-26T09:38:18.062854Z",
     "iopub.status.busy": "2024-02-26T09:38:18.062346Z",
     "iopub.status.idle": "2024-02-26T09:38:18.070382Z",
     "shell.execute_reply": "2024-02-26T09:38:18.069525Z",
     "shell.execute_reply.started": "2024-02-26T09:38:18.062799Z"
    },
    "trusted": true
   },
   "outputs": [],
   "source": [
    "X_train, X_test, y_train, y_test = train_test_split(X_lda, y, test_size=0.2, random_state=42)"
   ]
  },
  {
   "cell_type": "code",
   "execution_count": 51,
   "metadata": {
    "execution": {
     "iopub.execute_input": "2024-02-26T09:38:18.072241Z",
     "iopub.status.busy": "2024-02-26T09:38:18.071686Z",
     "iopub.status.idle": "2024-02-26T09:38:18.086412Z",
     "shell.execute_reply": "2024-02-26T09:38:18.085242Z",
     "shell.execute_reply.started": "2024-02-26T09:38:18.072202Z"
    },
    "trusted": true
   },
   "outputs": [
    {
     "data": {
      "text/plain": [
       "LinearDiscriminantAnalysis()"
      ]
     },
     "execution_count": 51,
     "metadata": {},
     "output_type": "execute_result"
    }
   ],
   "source": [
    "lda.fit(X_train, y_train)"
   ]
  },
  {
   "cell_type": "markdown",
   "metadata": {},
   "source": [
    "<center>\n",
    "<div style=\"color:;\n",
    "           display:fill;\n",
    "           border-radius:5px;\n",
    "           background-color: royalblue;\n",
    "           font-size:110%;\n",
    "           letter-spacing:0.5px\">\n",
    "\n",
    "<h2 style=\"padding: 10px;\n",
    "              color:white;\">LDA Predictions and Performance\n",
    "    \n",
    "</h2>\n",
    "</div>\n",
    "</center>"
   ]
  },
  {
   "cell_type": "code",
   "execution_count": 52,
   "metadata": {
    "execution": {
     "iopub.execute_input": "2024-02-26T09:38:18.088335Z",
     "iopub.status.busy": "2024-02-26T09:38:18.087824Z",
     "iopub.status.idle": "2024-02-26T09:38:18.215035Z",
     "shell.execute_reply": "2024-02-26T09:38:18.214157Z",
     "shell.execute_reply.started": "2024-02-26T09:38:18.088282Z"
    },
    "trusted": true
   },
   "outputs": [
    {
     "data": {
      "text/html": [
       "<div>                            <div id=\"a88935e7-77cb-4209-88df-08f174faf7c3\" class=\"plotly-graph-div\" style=\"height:525px; width:100%;\"></div>            <script type=\"text/javascript\">                require([\"plotly\"], function(Plotly) {                    window.PLOTLYENV=window.PLOTLYENV || {};                                    if (document.getElementById(\"a88935e7-77cb-4209-88df-08f174faf7c3\")) {                    Plotly.newPlot(                        \"a88935e7-77cb-4209-88df-08f174faf7c3\",                        [{\"coloraxis\":\"coloraxis\",\"name\":\"0\",\"texttemplate\":\"%{z}\",\"z\":[[0.899,0.101],[0.003,0.997]],\"type\":\"heatmap\",\"xaxis\":\"x\",\"yaxis\":\"y\",\"hovertemplate\":\"Predicted Label: %{x}<br>Correct Label: %{y}<br>Value: %{z}<extra></extra>\"}],                        {\"template\":{\"data\":{\"barpolar\":[{\"marker\":{\"line\":{\"color\":\"white\",\"width\":0.5},\"pattern\":{\"fillmode\":\"overlay\",\"size\":10,\"solidity\":0.2}},\"type\":\"barpolar\"}],\"bar\":[{\"error_x\":{\"color\":\"rgb(36,36,36)\"},\"error_y\":{\"color\":\"rgb(36,36,36)\"},\"marker\":{\"line\":{\"color\":\"white\",\"width\":0.5},\"pattern\":{\"fillmode\":\"overlay\",\"size\":10,\"solidity\":0.2}},\"type\":\"bar\"}],\"carpet\":[{\"aaxis\":{\"endlinecolor\":\"rgb(36,36,36)\",\"gridcolor\":\"white\",\"linecolor\":\"white\",\"minorgridcolor\":\"white\",\"startlinecolor\":\"rgb(36,36,36)\"},\"baxis\":{\"endlinecolor\":\"rgb(36,36,36)\",\"gridcolor\":\"white\",\"linecolor\":\"white\",\"minorgridcolor\":\"white\",\"startlinecolor\":\"rgb(36,36,36)\"},\"type\":\"carpet\"}],\"choropleth\":[{\"colorbar\":{\"outlinewidth\":1,\"tickcolor\":\"rgb(36,36,36)\",\"ticks\":\"outside\"},\"type\":\"choropleth\"}],\"contourcarpet\":[{\"colorbar\":{\"outlinewidth\":1,\"tickcolor\":\"rgb(36,36,36)\",\"ticks\":\"outside\"},\"type\":\"contourcarpet\"}],\"contour\":[{\"colorbar\":{\"outlinewidth\":1,\"tickcolor\":\"rgb(36,36,36)\",\"ticks\":\"outside\"},\"colorscale\":[[0.0,\"#440154\"],[0.1111111111111111,\"#482878\"],[0.2222222222222222,\"#3e4989\"],[0.3333333333333333,\"#31688e\"],[0.4444444444444444,\"#26828e\"],[0.5555555555555556,\"#1f9e89\"],[0.6666666666666666,\"#35b779\"],[0.7777777777777778,\"#6ece58\"],[0.8888888888888888,\"#b5de2b\"],[1.0,\"#fde725\"]],\"type\":\"contour\"}],\"heatmapgl\":[{\"colorbar\":{\"outlinewidth\":1,\"tickcolor\":\"rgb(36,36,36)\",\"ticks\":\"outside\"},\"colorscale\":[[0.0,\"#440154\"],[0.1111111111111111,\"#482878\"],[0.2222222222222222,\"#3e4989\"],[0.3333333333333333,\"#31688e\"],[0.4444444444444444,\"#26828e\"],[0.5555555555555556,\"#1f9e89\"],[0.6666666666666666,\"#35b779\"],[0.7777777777777778,\"#6ece58\"],[0.8888888888888888,\"#b5de2b\"],[1.0,\"#fde725\"]],\"type\":\"heatmapgl\"}],\"heatmap\":[{\"colorbar\":{\"outlinewidth\":1,\"tickcolor\":\"rgb(36,36,36)\",\"ticks\":\"outside\"},\"colorscale\":[[0.0,\"#440154\"],[0.1111111111111111,\"#482878\"],[0.2222222222222222,\"#3e4989\"],[0.3333333333333333,\"#31688e\"],[0.4444444444444444,\"#26828e\"],[0.5555555555555556,\"#1f9e89\"],[0.6666666666666666,\"#35b779\"],[0.7777777777777778,\"#6ece58\"],[0.8888888888888888,\"#b5de2b\"],[1.0,\"#fde725\"]],\"type\":\"heatmap\"}],\"histogram2dcontour\":[{\"colorbar\":{\"outlinewidth\":1,\"tickcolor\":\"rgb(36,36,36)\",\"ticks\":\"outside\"},\"colorscale\":[[0.0,\"#440154\"],[0.1111111111111111,\"#482878\"],[0.2222222222222222,\"#3e4989\"],[0.3333333333333333,\"#31688e\"],[0.4444444444444444,\"#26828e\"],[0.5555555555555556,\"#1f9e89\"],[0.6666666666666666,\"#35b779\"],[0.7777777777777778,\"#6ece58\"],[0.8888888888888888,\"#b5de2b\"],[1.0,\"#fde725\"]],\"type\":\"histogram2dcontour\"}],\"histogram2d\":[{\"colorbar\":{\"outlinewidth\":1,\"tickcolor\":\"rgb(36,36,36)\",\"ticks\":\"outside\"},\"colorscale\":[[0.0,\"#440154\"],[0.1111111111111111,\"#482878\"],[0.2222222222222222,\"#3e4989\"],[0.3333333333333333,\"#31688e\"],[0.4444444444444444,\"#26828e\"],[0.5555555555555556,\"#1f9e89\"],[0.6666666666666666,\"#35b779\"],[0.7777777777777778,\"#6ece58\"],[0.8888888888888888,\"#b5de2b\"],[1.0,\"#fde725\"]],\"type\":\"histogram2d\"}],\"histogram\":[{\"marker\":{\"line\":{\"color\":\"white\",\"width\":0.6}},\"type\":\"histogram\"}],\"mesh3d\":[{\"colorbar\":{\"outlinewidth\":1,\"tickcolor\":\"rgb(36,36,36)\",\"ticks\":\"outside\"},\"type\":\"mesh3d\"}],\"parcoords\":[{\"line\":{\"colorbar\":{\"outlinewidth\":1,\"tickcolor\":\"rgb(36,36,36)\",\"ticks\":\"outside\"}},\"type\":\"parcoords\"}],\"pie\":[{\"automargin\":true,\"type\":\"pie\"}],\"scatter3d\":[{\"line\":{\"colorbar\":{\"outlinewidth\":1,\"tickcolor\":\"rgb(36,36,36)\",\"ticks\":\"outside\"}},\"marker\":{\"colorbar\":{\"outlinewidth\":1,\"tickcolor\":\"rgb(36,36,36)\",\"ticks\":\"outside\"}},\"type\":\"scatter3d\"}],\"scattercarpet\":[{\"marker\":{\"colorbar\":{\"outlinewidth\":1,\"tickcolor\":\"rgb(36,36,36)\",\"ticks\":\"outside\"}},\"type\":\"scattercarpet\"}],\"scattergeo\":[{\"marker\":{\"colorbar\":{\"outlinewidth\":1,\"tickcolor\":\"rgb(36,36,36)\",\"ticks\":\"outside\"}},\"type\":\"scattergeo\"}],\"scattergl\":[{\"marker\":{\"colorbar\":{\"outlinewidth\":1,\"tickcolor\":\"rgb(36,36,36)\",\"ticks\":\"outside\"}},\"type\":\"scattergl\"}],\"scattermapbox\":[{\"marker\":{\"colorbar\":{\"outlinewidth\":1,\"tickcolor\":\"rgb(36,36,36)\",\"ticks\":\"outside\"}},\"type\":\"scattermapbox\"}],\"scatterpolargl\":[{\"marker\":{\"colorbar\":{\"outlinewidth\":1,\"tickcolor\":\"rgb(36,36,36)\",\"ticks\":\"outside\"}},\"type\":\"scatterpolargl\"}],\"scatterpolar\":[{\"marker\":{\"colorbar\":{\"outlinewidth\":1,\"tickcolor\":\"rgb(36,36,36)\",\"ticks\":\"outside\"}},\"type\":\"scatterpolar\"}],\"scatter\":[{\"fillpattern\":{\"fillmode\":\"overlay\",\"size\":10,\"solidity\":0.2},\"type\":\"scatter\"}],\"scatterternary\":[{\"marker\":{\"colorbar\":{\"outlinewidth\":1,\"tickcolor\":\"rgb(36,36,36)\",\"ticks\":\"outside\"}},\"type\":\"scatterternary\"}],\"surface\":[{\"colorbar\":{\"outlinewidth\":1,\"tickcolor\":\"rgb(36,36,36)\",\"ticks\":\"outside\"},\"colorscale\":[[0.0,\"#440154\"],[0.1111111111111111,\"#482878\"],[0.2222222222222222,\"#3e4989\"],[0.3333333333333333,\"#31688e\"],[0.4444444444444444,\"#26828e\"],[0.5555555555555556,\"#1f9e89\"],[0.6666666666666666,\"#35b779\"],[0.7777777777777778,\"#6ece58\"],[0.8888888888888888,\"#b5de2b\"],[1.0,\"#fde725\"]],\"type\":\"surface\"}],\"table\":[{\"cells\":{\"fill\":{\"color\":\"rgb(237,237,237)\"},\"line\":{\"color\":\"white\"}},\"header\":{\"fill\":{\"color\":\"rgb(217,217,217)\"},\"line\":{\"color\":\"white\"}},\"type\":\"table\"}]},\"layout\":{\"annotationdefaults\":{\"arrowhead\":0,\"arrowwidth\":1},\"autotypenumbers\":\"strict\",\"coloraxis\":{\"colorbar\":{\"outlinewidth\":1,\"tickcolor\":\"rgb(36,36,36)\",\"ticks\":\"outside\"}},\"colorscale\":{\"diverging\":[[0.0,\"rgb(103,0,31)\"],[0.1,\"rgb(178,24,43)\"],[0.2,\"rgb(214,96,77)\"],[0.3,\"rgb(244,165,130)\"],[0.4,\"rgb(253,219,199)\"],[0.5,\"rgb(247,247,247)\"],[0.6,\"rgb(209,229,240)\"],[0.7,\"rgb(146,197,222)\"],[0.8,\"rgb(67,147,195)\"],[0.9,\"rgb(33,102,172)\"],[1.0,\"rgb(5,48,97)\"]],\"sequential\":[[0.0,\"#440154\"],[0.1111111111111111,\"#482878\"],[0.2222222222222222,\"#3e4989\"],[0.3333333333333333,\"#31688e\"],[0.4444444444444444,\"#26828e\"],[0.5555555555555556,\"#1f9e89\"],[0.6666666666666666,\"#35b779\"],[0.7777777777777778,\"#6ece58\"],[0.8888888888888888,\"#b5de2b\"],[1.0,\"#fde725\"]],\"sequentialminus\":[[0.0,\"#440154\"],[0.1111111111111111,\"#482878\"],[0.2222222222222222,\"#3e4989\"],[0.3333333333333333,\"#31688e\"],[0.4444444444444444,\"#26828e\"],[0.5555555555555556,\"#1f9e89\"],[0.6666666666666666,\"#35b779\"],[0.7777777777777778,\"#6ece58\"],[0.8888888888888888,\"#b5de2b\"],[1.0,\"#fde725\"]]},\"colorway\":[\"#1F77B4\",\"#FF7F0E\",\"#2CA02C\",\"#D62728\",\"#9467BD\",\"#8C564B\",\"#E377C2\",\"#7F7F7F\",\"#BCBD22\",\"#17BECF\"],\"font\":{\"color\":\"rgb(36,36,36)\"},\"geo\":{\"bgcolor\":\"white\",\"lakecolor\":\"white\",\"landcolor\":\"white\",\"showlakes\":true,\"showland\":true,\"subunitcolor\":\"white\"},\"hoverlabel\":{\"align\":\"left\"},\"hovermode\":\"closest\",\"mapbox\":{\"style\":\"light\"},\"paper_bgcolor\":\"white\",\"plot_bgcolor\":\"white\",\"polar\":{\"angularaxis\":{\"gridcolor\":\"rgb(232,232,232)\",\"linecolor\":\"rgb(36,36,36)\",\"showgrid\":false,\"showline\":true,\"ticks\":\"outside\"},\"bgcolor\":\"white\",\"radialaxis\":{\"gridcolor\":\"rgb(232,232,232)\",\"linecolor\":\"rgb(36,36,36)\",\"showgrid\":false,\"showline\":true,\"ticks\":\"outside\"}},\"scene\":{\"xaxis\":{\"backgroundcolor\":\"white\",\"gridcolor\":\"rgb(232,232,232)\",\"gridwidth\":2,\"linecolor\":\"rgb(36,36,36)\",\"showbackground\":true,\"showgrid\":false,\"showline\":true,\"ticks\":\"outside\",\"zeroline\":false,\"zerolinecolor\":\"rgb(36,36,36)\"},\"yaxis\":{\"backgroundcolor\":\"white\",\"gridcolor\":\"rgb(232,232,232)\",\"gridwidth\":2,\"linecolor\":\"rgb(36,36,36)\",\"showbackground\":true,\"showgrid\":false,\"showline\":true,\"ticks\":\"outside\",\"zeroline\":false,\"zerolinecolor\":\"rgb(36,36,36)\"},\"zaxis\":{\"backgroundcolor\":\"white\",\"gridcolor\":\"rgb(232,232,232)\",\"gridwidth\":2,\"linecolor\":\"rgb(36,36,36)\",\"showbackground\":true,\"showgrid\":false,\"showline\":true,\"ticks\":\"outside\",\"zeroline\":false,\"zerolinecolor\":\"rgb(36,36,36)\"}},\"shapedefaults\":{\"fillcolor\":\"black\",\"line\":{\"width\":0},\"opacity\":0.3},\"ternary\":{\"aaxis\":{\"gridcolor\":\"rgb(232,232,232)\",\"linecolor\":\"rgb(36,36,36)\",\"showgrid\":false,\"showline\":true,\"ticks\":\"outside\"},\"baxis\":{\"gridcolor\":\"rgb(232,232,232)\",\"linecolor\":\"rgb(36,36,36)\",\"showgrid\":false,\"showline\":true,\"ticks\":\"outside\"},\"bgcolor\":\"white\",\"caxis\":{\"gridcolor\":\"rgb(232,232,232)\",\"linecolor\":\"rgb(36,36,36)\",\"showgrid\":false,\"showline\":true,\"ticks\":\"outside\"}},\"title\":{\"x\":0.05},\"xaxis\":{\"automargin\":true,\"gridcolor\":\"rgb(232,232,232)\",\"linecolor\":\"rgb(36,36,36)\",\"showgrid\":false,\"showline\":true,\"ticks\":\"outside\",\"title\":{\"standoff\":15},\"zeroline\":false,\"zerolinecolor\":\"rgb(36,36,36)\"},\"yaxis\":{\"automargin\":true,\"gridcolor\":\"rgb(232,232,232)\",\"linecolor\":\"rgb(36,36,36)\",\"showgrid\":false,\"showline\":true,\"ticks\":\"outside\",\"title\":{\"standoff\":15},\"zeroline\":false,\"zerolinecolor\":\"rgb(36,36,36)\"}}},\"xaxis\":{\"anchor\":\"y\",\"domain\":[0.0,1.0],\"title\":{\"text\":\"Predicted Label\"},\"side\":\"bottom\"},\"yaxis\":{\"anchor\":\"x\",\"domain\":[0.0,1.0],\"autorange\":\"reversed\",\"title\":{\"text\":\"Correct Label\"}},\"coloraxis\":{\"colorbar\":{\"title\":{\"text\":\"Value\"}},\"colorscale\":[[0.0,\"#440154\"],[0.1111111111111111,\"#482878\"],[0.2222222222222222,\"#3e4989\"],[0.3333333333333333,\"#31688e\"],[0.4444444444444444,\"#26828e\"],[0.5555555555555556,\"#1f9e89\"],[0.6666666666666666,\"#35b779\"],[0.7777777777777778,\"#6ece58\"],[0.8888888888888888,\"#b5de2b\"],[1.0,\"#fde725\"]]},\"margin\":{\"t\":60}},                        {\"responsive\": true}                    ).then(function(){\n",
       "                            \n",
       "var gd = document.getElementById('a88935e7-77cb-4209-88df-08f174faf7c3');\n",
       "var x = new MutationObserver(function (mutations, observer) {{\n",
       "        var display = window.getComputedStyle(gd).display;\n",
       "        if (!display || display === 'none') {{\n",
       "            console.log([gd, 'removed!']);\n",
       "            Plotly.purge(gd);\n",
       "            observer.disconnect();\n",
       "        }}\n",
       "}});\n",
       "\n",
       "// Listen for the removal of the full notebook cells\n",
       "var notebookContainer = gd.closest('#notebook-container');\n",
       "if (notebookContainer) {{\n",
       "    x.observe(notebookContainer, {childList: true});\n",
       "}}\n",
       "\n",
       "// Listen for the clearing of the current output cell\n",
       "var outputEl = gd.closest('.output');\n",
       "if (outputEl) {{\n",
       "    x.observe(outputEl, {childList: true});\n",
       "}}\n",
       "\n",
       "                        })                };                });            </script>        </div>"
      ]
     },
     "metadata": {},
     "output_type": "display_data"
    }
   ],
   "source": [
    "LDAtrain_preds = lda.predict(X_train)\n",
    "confusionmatrix = np.around(confusion_matrix(y_train, LDAtrain_preds, normalize='true'),3)\n",
    "\n",
    "#Plotting the Confusion Matrix\n",
    "fig = px.imshow(confusionmatrix, \n",
    "                template='simple_white',\n",
    "                text_auto=True, \n",
    "                aspect=\"auto\", \n",
    "                labels=dict(x=\"Predicted Label\", y=\"Correct Label\", color='Value'))\n",
    "fig.update_xaxes(side=\"bottom\")\n",
    "fig.show()"
   ]
  },
  {
   "cell_type": "code",
   "execution_count": 53,
   "metadata": {
    "execution": {
     "iopub.execute_input": "2024-02-26T09:38:18.216443Z",
     "iopub.status.busy": "2024-02-26T09:38:18.216115Z",
     "iopub.status.idle": "2024-02-26T09:38:18.482109Z",
     "shell.execute_reply": "2024-02-26T09:38:18.481260Z",
     "shell.execute_reply.started": "2024-02-26T09:38:18.216413Z"
    },
    "trusted": true
   },
   "outputs": [
    {
     "data": {
      "image/png": "[encoded data removed]",
      "text/plain": [
       "<Figure size 2200x500 with 1 Axes>"
      ]
     },
     "metadata": {
      "needs_background": "light"
     },
     "output_type": "display_data"
    }
   ],
   "source": [
    "# Assuming you have your model predictions and true labels\n",
    "y_pred = lda.predict(X_train)  # Replace with your model's predictions\n",
    "fpr, tpr, thresholds = roc_curve(y_train, y_pred)\n",
    "\n",
    "# Calculate AUC (Area Under the ROC Curve)\n",
    "auc = roc_auc_score(y_train, y_pred)\n",
    "\n",
    "# Plot the ROC curve\n",
    "plt.figure()\n",
    "plt.plot(fpr, tpr, label='LDA ROC curve (AUC = {:.2f})'.format(auc))\n",
    "plt.plot([0, 1], [0, 1], 'k--')  # Random guessing line\n",
    "plt.xlim([0.0, 1.0])\n",
    "plt.ylim([0.0, 1.05])\n",
    "\n",
    "plt.gca().spines['top'].set_visible(False)\n",
    "plt.gca().spines['right'].set_visible(False)\n",
    "plt.xlabel('False Positive Rate')\n",
    "plt.ylabel('True Positive Rate')\n",
    "plt.title('LDA ROC Curve')\n",
    "plt.legend(loc=\"lower right\")\n",
    "plt.show()"
   ]
  },
  {
   "cell_type": "code",
   "execution_count": 54,
   "metadata": {
    "execution": {
     "iopub.execute_input": "2024-02-26T09:38:18.483459Z",
     "iopub.status.busy": "2024-02-26T09:38:18.483168Z",
     "iopub.status.idle": "2024-02-26T09:38:18.488670Z",
     "shell.execute_reply": "2024-02-26T09:38:18.487913Z",
     "shell.execute_reply.started": "2024-02-26T09:38:18.483433Z"
    },
    "trusted": true
   },
   "outputs": [
    {
     "name": "stdout",
     "output_type": "stream",
     "text": [
      "18 / 455 cases misclassified by LDA, Error rate : 3.956%.\n"
     ]
    }
   ],
   "source": [
    "misclassified_count = len(y_train[y_train != LDAtrain_preds])\n",
    "total_cases = len(y_train)\n",
    "error_rate = np.around((misclassified_count / total_cases) * 100, 3)\n",
    "\n",
    "print(f\"{misclassified_count} / {total_cases} cases misclassified by LDA, Error rate : {error_rate}%.\")"
   ]
  },
  {
   "cell_type": "markdown",
   "metadata": {},
   "source": [
    "There are bunch of models that we can use however with **Logistic Regression** its easier to explain to the relevant stakeholders, especially when we are in a setting where the stakeholder is a patient hanging between life & death.\n",
    "\n",
    "<center>\n",
    "<div style=\"color:;\n",
    "           display:fill;\n",
    "           border-radius:5px;\n",
    "           background-color: mediumseagreen;\n",
    "           font-size:110%;\n",
    "           letter-spacing:0.5px\">\n",
    "\n",
    "<h2 style=\"padding: 10px;\n",
    "              color:white;\">Summary of the notebook\n",
    "    \n",
    "</h2>\n",
    "</div>\n",
    "</center>\n",
    "\n",
    "1. The notebook began with an introduction to the breast cancer dataset, highlighting its significance in cancer research. It emphasized the need for effective feature extraction techniques to uncover meaningful patterns within the data.\n",
    "\n",
    "2. Comprehensive explanation of PCA was provided, outlining its core principles and application in reducing the dimensionality of a dataset while preserving its essential variance. The emphasis was on transforming the original features into a new set of uncorrelated variables, known as principal components. We also learnt that you can create the `class weight` dictionary and ensure each class weightage comes out the same and then this parameter can be given to the model to make better predictions for cases where there is a class imbalance.\n",
    "\n",
    "3. The notebook demonstrated the step-by-step implementation of PCA on the breast cancer dataset using a popular Python library, likely scikit-learn. This involved standardizing the data, computing the covariance matrix, obtaining eigenvalues and eigenvectors, and finally, selecting the principal components. We also delved into how Eigenvalues and Eigenvectors get calculated.\n",
    "\n",
    "4. Visualizations, such as scree plots and cumulative explained variance plots, were included to illustrate the contribution of each principal component to the overall variance. These visuals aided in determining the optimal number of principal components to retain.\n",
    "\n",
    "5. While the notebook briefly touched upon Linear Discriminant Analysis (LDA), the primary focus remained on contrasting PCA's unsupervised nature with LDA's supervised approach. The key distinction was likely highlighted in terms of maximizing variance (PCA) versus maximizing class separability (LDA).\n",
    "\n",
    "6. Metrics, such as explained variance ratio, cumulative explained variance, and possibly reconstruction error, were discussed to evaluate the performance of PCA in capturing and retaining the essential information present in the breast cancer dataset.\n",
    "\n",
    "7. The notebook concluded with an interpretation of the results, emphasizing the utility of PCA in reducing the dimensionality of the higher dimension dataset while retaining a significant portion of the original information. We also found that Linear Discriminant Analysis (LDA) can be applied to multiclass classification problems however it fails to create a new axis that makes the classes linearly seperable.\n",
    "\n",
    "<center>\n",
    "<div style=\"color:;\n",
    "           display:fill;\n",
    "           border-radius:5px;\n",
    "           background-color: mediumseagreen;\n",
    "           font-size:110%;\n",
    "           letter-spacing:0.5px\">\n",
    "\n",
    "<h2 style=\"padding: 10px;\n",
    "              color:white;\">Resources\n",
    "    \n",
    "</h2>\n",
    "</div>\n",
    "</center>\n",
    "\n",
    "\n",
    "- Support Vector Machine — Introduction to Machine Learning Algorithms - [Link](https://bit.ly/3RrTXFB)\n",
    "- Linear Algebra II: Matrix Operations - [Link](https://github.com/jonkrohn/ML-foundations/blob/master/notebooks/2-linear-algebra-ii.ipynb)\n",
    "- Linear Discriminant Analysis (LDA) in Machine Learning - [Link](https://bit.ly/49XBMPf)\n",
    "\n",
    "I HOPE THIS HELPED YOU IN SOME WAY. THANKS FOR TAKING OUT THE TIME TO GO THROUGH THE NOTEBOOK!!"
   ]
  }
 ],
 "metadata": {
  "kaggle": {
   "accelerator": "gpu",
   "dataSources": [
    {
     "datasetId": 180,
     "sourceId": 408,
     "sourceType": "datasetVersion"
    },
    {
     "datasetId": 3681,
     "sourceId": 5854,
     "sourceType": "datasetVersion"
    },
    {
     "datasetId": 56485,
     "sourceId": 108594,
     "sourceType": "datasetVersion"
    },
    {
     "datasetId": 59,
     "sourceId": 793476,
     "sourceType": "datasetVersion"
    },
    {
     "datasetId": 1514897,
     "sourceId": 2501723,
     "sourceType": "datasetVersion"
    },
    {
     "datasetId": 1829286,
     "sourceId": 2984728,
     "sourceType": "datasetVersion"
    },
    {
     "datasetId": 2158143,
     "sourceId": 3819198,
     "sourceType": "datasetVersion"
    },
    {
     "datasetId": 2396275,
     "sourceId": 4045493,
     "sourceType": "datasetVersion"
    }
   ],
   "dockerImageVersionId": 30198,
   "isGpuEnabled": true,
   "isInternetEnabled": true,
   "language": "python",
   "sourceType": "notebook"
  },
  "kernelspec": {
   "display_name": "conda-python",
   "language": "python",
   "name": "python3"
  },
  "language_info": {
   "codemirror_mode": {
    "name": "ipython",
    "version": 3
   },
   "file_extension": ".py",
   "mimetype": "text/x-python",
   "name": "python",
   "nbconvert_exporter": "python",
   "pygments_lexer": "ipython3",
   "version": "3.11.8"
  }
 },
 "nbformat": 4,
 "nbformat_minor": 4
}
